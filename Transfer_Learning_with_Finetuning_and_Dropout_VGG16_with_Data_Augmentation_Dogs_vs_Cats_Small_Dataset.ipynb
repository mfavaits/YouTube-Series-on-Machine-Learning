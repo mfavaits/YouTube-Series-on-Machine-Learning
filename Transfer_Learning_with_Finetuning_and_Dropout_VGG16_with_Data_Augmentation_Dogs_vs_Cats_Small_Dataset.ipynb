{
  "nbformat": 4,
  "nbformat_minor": 0,
  "metadata": {
    "colab": {
      "name": "Transfer Learning with Finetuning and Dropout - VGG16 with Data Augmentation - Dogs vs. Cats - Small Dataset.ipynb",
      "provenance": [],
      "collapsed_sections": [],
      "include_colab_link": true
    },
    "kernelspec": {
      "name": "python3",
      "display_name": "Python 3"
    },
    "accelerator": "TPU"
  },
  "cells": [
    {
      "cell_type": "markdown",
      "metadata": {
        "id": "view-in-github",
        "colab_type": "text"
      },
      "source": [
        "<a href=\"https://colab.research.google.com/github/mfavaits/YouTube-Series-on-Machine-Learning/blob/master/Transfer_Learning_with_Finetuning_and_Dropout_VGG16_with_Data_Augmentation_Dogs_vs_Cats_Small_Dataset.ipynb\" target=\"_parent\"><img src=\"https://colab.research.google.com/assets/colab-badge.svg\" alt=\"Open In Colab\"/></a>"
      ]
    },
    {
      "cell_type": "code",
      "metadata": {
        "id": "wCv4aeLxA1Xr",
        "colab_type": "code",
        "colab": {}
      },
      "source": [
        "import numpy as np\n",
        "import matplotlib.pyplot as plt\n",
        "\n",
        "import os\n",
        "import shutil"
      ],
      "execution_count": 0,
      "outputs": []
    },
    {
      "cell_type": "code",
      "metadata": {
        "id": "JD7vGwSixv_w",
        "colab_type": "code",
        "outputId": "78be7b6b-0bb7-4b5e-e2a0-52c2f6ae3449",
        "colab": {
          "base_uri": "https://localhost:8080/",
          "height": 34
        }
      },
      "source": [
        "from google.colab import drive\n",
        "drive.mount('/content/drive')"
      ],
      "execution_count": 12,
      "outputs": [
        {
          "output_type": "stream",
          "text": [
            "Mounted at /content/drive\n"
          ],
          "name": "stdout"
        }
      ]
    },
    {
      "cell_type": "code",
      "metadata": {
        "id": "nwHsoXL-F0g2",
        "colab_type": "code",
        "colab": {}
      },
      "source": [
        "from keras.applications import VGG16\n",
        "from keras.preprocessing.image import ImageDataGenerator\n",
        "conv_base = VGG16(weights= 'imagenet', include_top=False, input_shape=(150,150,3))"
      ],
      "execution_count": 0,
      "outputs": []
    },
    {
      "cell_type": "markdown",
      "metadata": {
        "id": "e9qcaRMhIV7c",
        "colab_type": "text"
      },
      "source": [
        "The final feature map has shape (4, 4, 512).\n",
        "We extract features from by calling the predict method on the conv_base model"
      ]
    },
    {
      "cell_type": "code",
      "metadata": {
        "id": "BY2SBTzqGgPR",
        "colab_type": "code",
        "colab": {}
      },
      "source": [
        "train_datagen=ImageDataGenerator(rescale=1./255, rotation_range=40, width_shift_range=0.2, height_shift_range=0.2, shear_range=0.2, zoom_range=0.2, horizontal_flip=True, fill_mode='nearest')\n",
        "validation_datagen=ImageDataGenerator(rescale=1./255)\n",
        "batch_size=20"
      ],
      "execution_count": 0,
      "outputs": []
    },
    {
      "cell_type": "code",
      "metadata": {
        "id": "3eayI5diU32l",
        "colab_type": "code",
        "outputId": "e2b844cc-285e-4e85-f227-b2829d0afe09",
        "colab": {
          "base_uri": "https://localhost:8080/",
          "height": 51
        }
      },
      "source": [
        "train_generator=train_datagen.flow_from_directory('/content/drive/My Drive/Colab Notebooks/training_2000', target_size=(150,150), batch_size=20, class_mode='binary')\n",
        "validation_generator=validation_datagen.flow_from_directory('/content/drive/My Drive/Colab Notebooks/val_1000', target_size=(150,150), batch_size=20, class_mode='binary')"
      ],
      "execution_count": 15,
      "outputs": [
        {
          "output_type": "stream",
          "text": [
            "Found 2000 images belonging to 2 classes.\n",
            "Found 1000 images belonging to 2 classes.\n"
          ],
          "name": "stdout"
        }
      ]
    },
    {
      "cell_type": "markdown",
      "metadata": {
        "id": "fI5IINhnI-ct",
        "colab_type": "text"
      },
      "source": [
        "The extracted features are currently of shape (samples, 4 , 4, 512) and we need to flatten before pushing them through a densely connected layer"
      ]
    },
    {
      "cell_type": "markdown",
      "metadata": {
        "id": "3ug6nsnhHXAF",
        "colab_type": "text"
      },
      "source": [
        "In Keras, each layer has a parameter called 'trainable'. For freezing the weights of a particular layer, we should set this parameter to False, indicating that this layer should not be trained."
      ]
    },
    {
      "cell_type": "code",
      "metadata": {
        "id": "10mhjDGSPQee",
        "colab_type": "code",
        "outputId": "d0e0bfc4-e699-422a-94bf-e15f371ea1ce",
        "colab": {
          "base_uri": "https://localhost:8080/",
          "height": 323
        }
      },
      "source": [
        "from keras import models\n",
        "from keras import layers\n",
        "from keras import optimizers\n",
        "\n",
        "model=models.Sequential()\n",
        "model.add(conv_base)\n",
        "model.add(layers.Flatten())\n",
        "model.add(layers.Dense(256, activation='relu'))\n",
        "model.add(layers.Dropout(0.5))\n",
        "model.add(layers.Dense(1, activation='sigmoid'))\n",
        "model.summary ()\n",
        "\n",
        "conv_base.trainable=True\n",
        "for layer in conv_base.layers[:-4]: #all layers but last 4 layers\n",
        "    layer.trainable=False"
      ],
      "execution_count": 16,
      "outputs": [
        {
          "output_type": "stream",
          "text": [
            "Model: \"sequential_2\"\n",
            "_________________________________________________________________\n",
            "Layer (type)                 Output Shape              Param #   \n",
            "=================================================================\n",
            "vgg16 (Model)                (None, 4, 4, 512)         14714688  \n",
            "_________________________________________________________________\n",
            "flatten_2 (Flatten)          (None, 8192)              0         \n",
            "_________________________________________________________________\n",
            "dense_3 (Dense)              (None, 256)               2097408   \n",
            "_________________________________________________________________\n",
            "dropout_2 (Dropout)          (None, 256)               0         \n",
            "_________________________________________________________________\n",
            "dense_4 (Dense)              (None, 1)                 257       \n",
            "=================================================================\n",
            "Total params: 16,812,353\n",
            "Trainable params: 16,812,353\n",
            "Non-trainable params: 0\n",
            "_________________________________________________________________\n"
          ],
          "name": "stdout"
        }
      ]
    },
    {
      "cell_type": "code",
      "metadata": {
        "id": "8fS9kmK0PQZh",
        "colab_type": "code",
        "colab": {}
      },
      "source": [
        "model.compile(loss='binary_crossentropy', optimizer=optimizers.RMSprop(lr=2e-5), metrics=['acc'])"
      ],
      "execution_count": 0,
      "outputs": []
    },
    {
      "cell_type": "code",
      "metadata": {
        "id": "Lu-KKjHzXRix",
        "colab_type": "code",
        "outputId": "7e970ab9-a708-4ed2-c64c-83b372713fe9",
        "colab": {
          "base_uri": "https://localhost:8080/",
          "height": 697
        }
      },
      "source": [
        "history = model.fit(train_generator, steps_per_epoch=100, epochs=20, validation_data=validation_generator, validation_steps=50)"
      ],
      "execution_count": 18,
      "outputs": [
        {
          "output_type": "stream",
          "text": [
            "Epoch 1/20\n",
            "100/100 [==============================] - 823s 8s/step - loss: 0.5834 - acc: 0.6760 - val_loss: 0.3130 - val_acc: 0.8540\n",
            "Epoch 2/20\n",
            "100/100 [==============================] - 820s 8s/step - loss: 0.4168 - acc: 0.8125 - val_loss: 0.2674 - val_acc: 0.8790\n",
            "Epoch 3/20\n",
            "100/100 [==============================] - 833s 8s/step - loss: 0.3537 - acc: 0.8375 - val_loss: 0.2310 - val_acc: 0.9000\n",
            "Epoch 4/20\n",
            "100/100 [==============================] - 849s 8s/step - loss: 0.3154 - acc: 0.8680 - val_loss: 0.2346 - val_acc: 0.8990\n",
            "Epoch 5/20\n",
            "100/100 [==============================] - 851s 9s/step - loss: 0.2743 - acc: 0.8800 - val_loss: 0.2153 - val_acc: 0.9080\n",
            "Epoch 6/20\n",
            "100/100 [==============================] - 847s 8s/step - loss: 0.2613 - acc: 0.8885 - val_loss: 0.2675 - val_acc: 0.9040\n",
            "Epoch 7/20\n",
            "100/100 [==============================] - 849s 8s/step - loss: 0.2367 - acc: 0.9115 - val_loss: 0.1952 - val_acc: 0.9260\n",
            "Epoch 8/20\n",
            "100/100 [==============================] - 848s 8s/step - loss: 0.2240 - acc: 0.9075 - val_loss: 0.2077 - val_acc: 0.9260\n",
            "Epoch 9/20\n",
            "100/100 [==============================] - 851s 9s/step - loss: 0.2190 - acc: 0.9115 - val_loss: 0.2272 - val_acc: 0.9100\n",
            "Epoch 10/20\n",
            "100/100 [==============================] - 851s 9s/step - loss: 0.2103 - acc: 0.9220 - val_loss: 0.2146 - val_acc: 0.9250\n",
            "Epoch 11/20\n",
            "100/100 [==============================] - 851s 9s/step - loss: 0.2066 - acc: 0.9175 - val_loss: 0.2607 - val_acc: 0.9130\n",
            "Epoch 12/20\n",
            "100/100 [==============================] - 849s 8s/step - loss: 0.1858 - acc: 0.9215 - val_loss: 0.2130 - val_acc: 0.9270\n",
            "Epoch 13/20\n",
            "100/100 [==============================] - 849s 8s/step - loss: 0.1906 - acc: 0.9205 - val_loss: 0.2065 - val_acc: 0.9330\n",
            "Epoch 14/20\n",
            "100/100 [==============================] - 847s 8s/step - loss: 0.1611 - acc: 0.9355 - val_loss: 0.2035 - val_acc: 0.9310\n",
            "Epoch 15/20\n",
            "100/100 [==============================] - 848s 8s/step - loss: 0.1675 - acc: 0.9345 - val_loss: 0.2413 - val_acc: 0.9300\n",
            "Epoch 16/20\n",
            "100/100 [==============================] - 853s 9s/step - loss: 0.1564 - acc: 0.9425 - val_loss: 0.2415 - val_acc: 0.9340\n",
            "Epoch 17/20\n",
            "100/100 [==============================] - 851s 9s/step - loss: 0.1474 - acc: 0.9440 - val_loss: 0.2903 - val_acc: 0.9200\n",
            "Epoch 18/20\n",
            "100/100 [==============================] - 852s 9s/step - loss: 0.1554 - acc: 0.9400 - val_loss: 0.2403 - val_acc: 0.9310\n",
            "Epoch 19/20\n",
            "100/100 [==============================] - 854s 9s/step - loss: 0.1426 - acc: 0.9450 - val_loss: 0.2521 - val_acc: 0.9380\n",
            "Epoch 20/20\n",
            "100/100 [==============================] - 859s 9s/step - loss: 0.1311 - acc: 0.9500 - val_loss: 0.3468 - val_acc: 0.9160\n"
          ],
          "name": "stdout"
        }
      ]
    },
    {
      "cell_type": "code",
      "metadata": {
        "id": "uxBFfQjwXRVG",
        "colab_type": "code",
        "colab": {}
      },
      "source": [
        "acc=history.history['acc']\n",
        "val_acc=history.history['val_acc']\n",
        "loss=history.history['loss']\n",
        "val_loss=history.history['val_loss']"
      ],
      "execution_count": 0,
      "outputs": []
    },
    {
      "cell_type": "code",
      "metadata": {
        "id": "N7MVm5FeXRLR",
        "colab_type": "code",
        "colab": {}
      },
      "source": [
        "epochs=range(1, len(acc)+1)"
      ],
      "execution_count": 0,
      "outputs": []
    },
    {
      "cell_type": "code",
      "metadata": {
        "id": "3sAK6k2LXRDm",
        "colab_type": "code",
        "outputId": "faf40fbc-b98b-4470-c9f7-04e75940d5f9",
        "colab": {
          "base_uri": "https://localhost:8080/",
          "height": 545
        }
      },
      "source": [
        "plt.plot(epochs, acc, 'bo', label='training acc')\n",
        "plt.plot(epochs, val_acc, 'b', label='validation acc')\n",
        "plt.title('training and validation accuracy')\n",
        "plt.legend()\n",
        "plt.figure()\n",
        "\n",
        "plt.plot(epochs, loss, 'bo', label='training loss')\n",
        "plt.plot(epochs, val_loss, 'b', label='validation loss')\n",
        "plt.title('training and validation loss')\n",
        "plt.legend()\n",
        "plt.show()"
      ],
      "execution_count": 21,
      "outputs": [
        {
          "output_type": "display_data",
          "data": {
            "image/png": "[encoded data removed]",
            "text/plain": [
              "<Figure size 432x288 with 1 Axes>"
            ]
          },
          "metadata": {
            "tags": []
          }
        },
        {
          "output_type": "display_data",
          "data": {
            "image/png": "[encoded data removed]",
            "text/plain": [
              "<Figure size 432x288 with 1 Axes>"
            ]
          },
          "metadata": {
            "tags": []
          }
        }
      ]
    }
  ]
}