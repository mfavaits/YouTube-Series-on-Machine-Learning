{
  "nbformat": 4,
  "nbformat_minor": 0,
  "metadata": {
    "colab": {
      "name": "VGG16 - Dropout - 30 Epochs - Dogs vs. Cats - Small Dataset.ipynb",
      "provenance": [],
      "collapsed_sections": [],
      "include_colab_link": true
    },
    "kernelspec": {
      "name": "python3",
      "display_name": "Python 3"
    },
    "accelerator": "TPU"
  },
  "cells": [
    {
      "cell_type": "markdown",
      "metadata": {
        "id": "view-in-github",
        "colab_type": "text"
      },
      "source": [
        "<a href=\"https://colab.research.google.com/github/mfavaits/YouTube-Series-on-Machine-Learning/blob/master/VGG16_Dropout_30_Epochs_Dogs_vs_Cats_Small_Dataset.ipynb\" target=\"_parent\"><img src=\"https://colab.research.google.com/assets/colab-badge.svg\" alt=\"Open In Colab\"/></a>"
      ]
    },
    {
      "cell_type": "code",
      "metadata": {
        "id": "wCv4aeLxA1Xr",
        "colab_type": "code",
        "colab": {}
      },
      "source": [
        "import numpy as np\n",
        "import matplotlib.pyplot as plt\n",
        "\n",
        "import os\n",
        "import shutil"
      ],
      "execution_count": 0,
      "outputs": []
    },
    {
      "cell_type": "code",
      "metadata": {
        "id": "JD7vGwSixv_w",
        "colab_type": "code",
        "outputId": "8c5c9d8c-5384-42fe-8442-b48848f607c1",
        "colab": {
          "base_uri": "https://localhost:8080/",
          "height": 122
        }
      },
      "source": [
        "from google.colab import drive\n",
        "drive.mount('/content/drive')"
      ],
      "execution_count": 3,
      "outputs": [
        {
          "output_type": "stream",
          "text": [
            "Go to this URL in a browser: https://accounts.google.com/o/oauth2/auth?client_id=947318989803-6bn6qk8qdgf4n4g3pfee6491hc0brc4i.apps.googleusercontent.com&redirect_uri=urn%3Aietf%3Awg%3Aoauth%3A2.0%3Aoob&scope=email%20https%3A%2F%2Fwww.googleapis.com%2Fauth%2Fdocs.test%20https%3A%2F%2Fwww.googleapis.com%2Fauth%2Fdrive%20https%3A%2F%2Fwww.googleapis.com%2Fauth%2Fdrive.photos.readonly%20https%3A%2F%2Fwww.googleapis.com%2Fauth%2Fpeopleapi.readonly&response_type=code\n",
            "\n",
            "Enter your authorization code:\n",
            "··········\n",
            "Mounted at /content/drive\n"
          ],
          "name": "stdout"
        }
      ]
    },
    {
      "cell_type": "code",
      "metadata": {
        "id": "jFc0NOGoXixY",
        "colab_type": "code",
        "outputId": "c399e31f-da26-49f3-d9fb-729f9ea000a5",
        "colab": {
          "base_uri": "https://localhost:8080/",
          "height": 1000
        }
      },
      "source": [
        "from keras.applications import VGG16\n",
        "from keras.preprocessing.image import ImageDataGenerator\n",
        "conv_base = VGG16(weights= 'imagenet', include_top=False, input_shape= (150,150,3))\n",
        "conv_base.summary ()"
      ],
      "execution_count": 4,
      "outputs": [
        {
          "output_type": "stream",
          "text": [
            "Using TensorFlow backend.\n"
          ],
          "name": "stderr"
        },
        {
          "output_type": "stream",
          "text": [
            "WARNING:tensorflow:From /usr/local/lib/python3.6/dist-packages/keras/backend/tensorflow_backend.py:66: The name tf.get_default_graph is deprecated. Please use tf.compat.v1.get_default_graph instead.\n",
            "\n",
            "WARNING:tensorflow:From /usr/local/lib/python3.6/dist-packages/keras/backend/tensorflow_backend.py:541: The name tf.placeholder is deprecated. Please use tf.compat.v1.placeholder instead.\n",
            "\n",
            "WARNING:tensorflow:From /usr/local/lib/python3.6/dist-packages/keras/backend/tensorflow_backend.py:4432: The name tf.random_uniform is deprecated. Please use tf.random.uniform instead.\n",
            "\n",
            "WARNING:tensorflow:From /usr/local/lib/python3.6/dist-packages/keras/backend/tensorflow_backend.py:4267: The name tf.nn.max_pool is deprecated. Please use tf.nn.max_pool2d instead.\n",
            "\n",
            "Downloading data from https://github.com/fchollet/deep-learning-models/releases/download/v0.1/vgg16_weights_tf_dim_ordering_tf_kernels_notop.h5\n",
            "58892288/58889256 [==============================] - 1s 0us/step\n",
            "WARNING:tensorflow:From /usr/local/lib/python3.6/dist-packages/keras/backend/tensorflow_backend.py:190: The name tf.get_default_session is deprecated. Please use tf.compat.v1.get_default_session instead.\n",
            "\n",
            "WARNING:tensorflow:From /usr/local/lib/python3.6/dist-packages/keras/backend/tensorflow_backend.py:197: The name tf.ConfigProto is deprecated. Please use tf.compat.v1.ConfigProto instead.\n",
            "\n",
            "WARNING:tensorflow:From /usr/local/lib/python3.6/dist-packages/keras/backend/tensorflow_backend.py:203: The name tf.Session is deprecated. Please use tf.compat.v1.Session instead.\n",
            "\n",
            "WARNING:tensorflow:From /usr/local/lib/python3.6/dist-packages/keras/backend/tensorflow_backend.py:207: The name tf.global_variables is deprecated. Please use tf.compat.v1.global_variables instead.\n",
            "\n",
            "WARNING:tensorflow:From /usr/local/lib/python3.6/dist-packages/keras/backend/tensorflow_backend.py:216: The name tf.is_variable_initialized is deprecated. Please use tf.compat.v1.is_variable_initialized instead.\n",
            "\n",
            "WARNING:tensorflow:From /usr/local/lib/python3.6/dist-packages/keras/backend/tensorflow_backend.py:223: The name tf.variables_initializer is deprecated. Please use tf.compat.v1.variables_initializer instead.\n",
            "\n",
            "Model: \"vgg16\"\n",
            "_________________________________________________________________\n",
            "Layer (type)                 Output Shape              Param #   \n",
            "=================================================================\n",
            "input_1 (InputLayer)         (None, 150, 150, 3)       0         \n",
            "_________________________________________________________________\n",
            "block1_conv1 (Conv2D)        (None, 150, 150, 64)      1792      \n",
            "_________________________________________________________________\n",
            "block1_conv2 (Conv2D)        (None, 150, 150, 64)      36928     \n",
            "_________________________________________________________________\n",
            "block1_pool (MaxPooling2D)   (None, 75, 75, 64)        0         \n",
            "_________________________________________________________________\n",
            "block2_conv1 (Conv2D)        (None, 75, 75, 128)       73856     \n",
            "_________________________________________________________________\n",
            "block2_conv2 (Conv2D)        (None, 75, 75, 128)       147584    \n",
            "_________________________________________________________________\n",
            "block2_pool (MaxPooling2D)   (None, 37, 37, 128)       0         \n",
            "_________________________________________________________________\n",
            "block3_conv1 (Conv2D)        (None, 37, 37, 256)       295168    \n",
            "_________________________________________________________________\n",
            "block3_conv2 (Conv2D)        (None, 37, 37, 256)       590080    \n",
            "_________________________________________________________________\n",
            "block3_conv3 (Conv2D)        (None, 37, 37, 256)       590080    \n",
            "_________________________________________________________________\n",
            "block3_pool (MaxPooling2D)   (None, 18, 18, 256)       0         \n",
            "_________________________________________________________________\n",
            "block4_conv1 (Conv2D)        (None, 18, 18, 512)       1180160   \n",
            "_________________________________________________________________\n",
            "block4_conv2 (Conv2D)        (None, 18, 18, 512)       2359808   \n",
            "_________________________________________________________________\n",
            "block4_conv3 (Conv2D)        (None, 18, 18, 512)       2359808   \n",
            "_________________________________________________________________\n",
            "block4_pool (MaxPooling2D)   (None, 9, 9, 512)         0         \n",
            "_________________________________________________________________\n",
            "block5_conv1 (Conv2D)        (None, 9, 9, 512)         2359808   \n",
            "_________________________________________________________________\n",
            "block5_conv2 (Conv2D)        (None, 9, 9, 512)         2359808   \n",
            "_________________________________________________________________\n",
            "block5_conv3 (Conv2D)        (None, 9, 9, 512)         2359808   \n",
            "_________________________________________________________________\n",
            "block5_pool (MaxPooling2D)   (None, 4, 4, 512)         0         \n",
            "=================================================================\n",
            "Total params: 14,714,688\n",
            "Trainable params: 14,714,688\n",
            "Non-trainable params: 0\n",
            "_________________________________________________________________\n"
          ],
          "name": "stdout"
        }
      ]
    },
    {
      "cell_type": "markdown",
      "metadata": {
        "id": "RyVMWiyed3PD",
        "colab_type": "text"
      },
      "source": [
        "The final feature map has shape (5, 5, 2048).\n",
        "We extract features from by calling the predict method on the conv_base model"
      ]
    },
    {
      "cell_type": "code",
      "metadata": {
        "id": "H-cgipz6eGsb",
        "colab_type": "code",
        "colab": {}
      },
      "source": [
        "datagen=ImageDataGenerator(rescale=1./255)\n",
        "batch_size=20"
      ],
      "execution_count": 0,
      "outputs": []
    },
    {
      "cell_type": "code",
      "metadata": {
        "id": "-zyKuCt6eIlh",
        "colab_type": "code",
        "colab": {}
      },
      "source": [
        "def extract_features(directory, sample_count): #extract features from a directory with JPEG files and sample_count is # files in dir\n",
        "    features=np.zeros(shape=(sample_count, 4, 4, 512)) # empty array\n",
        "    labels=np.zeros(shape=(sample_count)) # empty array\n",
        "    generator=datagen.flow_from_directory(directory, target_size=(150, 150), batch_size=batch_size, class_mode='binary')\n",
        "    \n",
        "    i=0\n",
        "    for inputs_batch, labels_batch in generator: \n",
        "      features_batch=conv_base.predict(inputs_batch) # extract features from conv_base\n",
        "      features[i*batch_size:(i+1)*batch_size]=features_batch # for i=0 we have features[0:20], for i=2 features[20:40]\n",
        "      labels[i*batch_size:(i+1)*batch_size]=labels_batch\n",
        "      i+=1\n",
        "      if i*batch_size>=sample_count:\n",
        "        break #break when every image has been seen once\n",
        "      return features, labels"
      ],
      "execution_count": 0,
      "outputs": []
    },
    {
      "cell_type": "code",
      "metadata": {
        "id": "NBPJY_l4eRcj",
        "colab_type": "code",
        "outputId": "32b933b8-7982-45e4-9035-daf3a84ba61f",
        "colab": {
          "base_uri": "https://localhost:8080/",
          "height": 51
        }
      },
      "source": [
        "train_features, train_labels = extract_features('/content/drive/My Drive/Colab Notebooks/training_2000', 2000)\n",
        "validation_features, validation_labels = extract_features('/content/drive/My Drive/Colab Notebooks/val_1000', 1000)"
      ],
      "execution_count": 7,
      "outputs": [
        {
          "output_type": "stream",
          "text": [
            "Found 2000 images belonging to 2 classes.\n",
            "Found 1000 images belonging to 2 classes.\n"
          ],
          "name": "stdout"
        }
      ]
    },
    {
      "cell_type": "markdown",
      "metadata": {
        "id": "MA1zXLtSeV_B",
        "colab_type": "text"
      },
      "source": [
        "The extracted features are currently of shape (samples, 5 , 5, 2048) and we need to flatten before pushing them through a densely connected layer"
      ]
    },
    {
      "cell_type": "code",
      "metadata": {
        "id": "czajseiOeXC3",
        "colab_type": "code",
        "colab": {}
      },
      "source": [
        "train_features=np.reshape(train_features, (2000, 4*4*512))\n",
        "validation_features=np.reshape(validation_features, (1000, 4*4*512))"
      ],
      "execution_count": 0,
      "outputs": []
    },
    {
      "cell_type": "code",
      "metadata": {
        "id": "sMMCxy7tecQm",
        "colab_type": "code",
        "colab": {}
      },
      "source": [
        "from keras import models\n",
        "from keras import layers\n",
        "from keras import optimizers"
      ],
      "execution_count": 0,
      "outputs": []
    },
    {
      "cell_type": "code",
      "metadata": {
        "id": "LEkx4cZ9eit1",
        "colab_type": "code",
        "colab": {
          "base_uri": "https://localhost:8080/",
          "height": 122
        },
        "outputId": "e8671ce4-7f2c-41a9-90c0-e915ff2a04ba"
      },
      "source": [
        "model=models.Sequential()\n",
        "model.add(layers.Dense(256, activation='relu', input_dim=4*4*512))\n",
        "model.add(layers.Dropout(0.5))\n",
        "model.add(layers.Dense(1, activation='sigmoid'))"
      ],
      "execution_count": 10,
      "outputs": [
        {
          "output_type": "stream",
          "text": [
            "WARNING:tensorflow:From /usr/local/lib/python3.6/dist-packages/keras/backend/tensorflow_backend.py:148: The name tf.placeholder_with_default is deprecated. Please use tf.compat.v1.placeholder_with_default instead.\n",
            "\n",
            "WARNING:tensorflow:From /usr/local/lib/python3.6/dist-packages/keras/backend/tensorflow_backend.py:3733: calling dropout (from tensorflow.python.ops.nn_ops) with keep_prob is deprecated and will be removed in a future version.\n",
            "Instructions for updating:\n",
            "Please use `rate` instead of `keep_prob`. Rate should be set to `rate = 1 - keep_prob`.\n"
          ],
          "name": "stdout"
        }
      ]
    },
    {
      "cell_type": "code",
      "metadata": {
        "id": "Bqt8jSKDen1x",
        "colab_type": "code",
        "outputId": "d1d20f52-9b3c-426e-b715-b8e2cb4dd3fa",
        "colab": {
          "base_uri": "https://localhost:8080/",
          "height": 1000
        }
      },
      "source": [
        "model.compile(loss='binary_crossentropy', optimizer=optimizers.RMSprop(lr=1e-4), metrics=['acc'])\n",
        "history=model.fit(train_features, train_labels, epochs=30, batch_size=20, validation_data=(validation_features, validation_labels))"
      ],
      "execution_count": 11,
      "outputs": [
        {
          "output_type": "stream",
          "text": [
            "WARNING:tensorflow:From /usr/local/lib/python3.6/dist-packages/keras/optimizers.py:793: The name tf.train.Optimizer is deprecated. Please use tf.compat.v1.train.Optimizer instead.\n",
            "\n",
            "WARNING:tensorflow:From /usr/local/lib/python3.6/dist-packages/keras/backend/tensorflow_backend.py:3657: The name tf.log is deprecated. Please use tf.math.log instead.\n",
            "\n",
            "WARNING:tensorflow:From /usr/local/lib/python3.6/dist-packages/tensorflow_core/python/ops/nn_impl.py:183: where (from tensorflow.python.ops.array_ops) is deprecated and will be removed in a future version.\n",
            "Instructions for updating:\n",
            "Use tf.where in 2.0, which has the same broadcast rule as np.where\n",
            "WARNING:tensorflow:From /usr/local/lib/python3.6/dist-packages/keras/backend/tensorflow_backend.py:1033: The name tf.assign_add is deprecated. Please use tf.compat.v1.assign_add instead.\n",
            "\n",
            "WARNING:tensorflow:From /usr/local/lib/python3.6/dist-packages/keras/backend/tensorflow_backend.py:1020: The name tf.assign is deprecated. Please use tf.compat.v1.assign instead.\n",
            "\n",
            "Train on 2000 samples, validate on 1000 samples\n",
            "Epoch 1/30\n",
            "2000/2000 [==============================] - 3s 2ms/step - loss: 0.6914 - acc: 0.9960 - val_loss: 0.6779 - val_acc: 0.9910\n",
            "Epoch 2/30\n",
            "2000/2000 [==============================] - 3s 1ms/step - loss: 0.6629 - acc: 0.9960 - val_loss: 0.6463 - val_acc: 0.9920\n",
            "Epoch 3/30\n",
            "2000/2000 [==============================] - 3s 1ms/step - loss: 0.6273 - acc: 0.9985 - val_loss: 0.6116 - val_acc: 0.9930\n",
            "Epoch 4/30\n",
            "2000/2000 [==============================] - 3s 1ms/step - loss: 0.5864 - acc: 0.9995 - val_loss: 0.5722 - val_acc: 0.9900\n",
            "Epoch 5/30\n",
            "2000/2000 [==============================] - 3s 1ms/step - loss: 0.5425 - acc: 0.9995 - val_loss: 0.5327 - val_acc: 0.9890\n",
            "Epoch 6/30\n",
            "2000/2000 [==============================] - 3s 1ms/step - loss: 0.4961 - acc: 1.0000 - val_loss: 0.4836 - val_acc: 0.9940\n",
            "Epoch 7/30\n",
            "2000/2000 [==============================] - 3s 1ms/step - loss: 0.4484 - acc: 1.0000 - val_loss: 0.4363 - val_acc: 0.9920\n",
            "Epoch 8/30\n",
            "2000/2000 [==============================] - 3s 1ms/step - loss: 0.4004 - acc: 1.0000 - val_loss: 0.3988 - val_acc: 0.9890\n",
            "Epoch 9/30\n",
            "2000/2000 [==============================] - 3s 1ms/step - loss: 0.3525 - acc: 1.0000 - val_loss: 0.3430 - val_acc: 0.9900\n",
            "Epoch 10/30\n",
            "2000/2000 [==============================] - 3s 1ms/step - loss: 0.3037 - acc: 1.0000 - val_loss: 0.2977 - val_acc: 0.9920\n",
            "Epoch 11/30\n",
            "2000/2000 [==============================] - 3s 1ms/step - loss: 0.2593 - acc: 1.0000 - val_loss: 0.2622 - val_acc: 0.9940\n",
            "Epoch 12/30\n",
            "2000/2000 [==============================] - 3s 1ms/step - loss: 0.2196 - acc: 1.0000 - val_loss: 0.2213 - val_acc: 0.9930\n",
            "Epoch 13/30\n",
            "2000/2000 [==============================] - 3s 1ms/step - loss: 0.1814 - acc: 1.0000 - val_loss: 0.1897 - val_acc: 0.9890\n",
            "Epoch 14/30\n",
            "2000/2000 [==============================] - 3s 1ms/step - loss: 0.1470 - acc: 1.0000 - val_loss: 0.1587 - val_acc: 0.9900\n",
            "Epoch 15/30\n",
            "2000/2000 [==============================] - 3s 1ms/step - loss: 0.1195 - acc: 1.0000 - val_loss: 0.1333 - val_acc: 0.9940\n",
            "Epoch 16/30\n",
            "2000/2000 [==============================] - 3s 1ms/step - loss: 0.0946 - acc: 1.0000 - val_loss: 0.1103 - val_acc: 0.9910\n",
            "Epoch 17/30\n",
            "2000/2000 [==============================] - 3s 1ms/step - loss: 0.0749 - acc: 1.0000 - val_loss: 0.0928 - val_acc: 0.9900\n",
            "Epoch 18/30\n",
            "2000/2000 [==============================] - 3s 1ms/step - loss: 0.0579 - acc: 1.0000 - val_loss: 0.0786 - val_acc: 0.9910\n",
            "Epoch 19/30\n",
            "2000/2000 [==============================] - 3s 1ms/step - loss: 0.0443 - acc: 1.0000 - val_loss: 0.0734 - val_acc: 0.9950\n",
            "Epoch 20/30\n",
            "2000/2000 [==============================] - 3s 1ms/step - loss: 0.0332 - acc: 1.0000 - val_loss: 0.0584 - val_acc: 0.9910\n",
            "Epoch 21/30\n",
            "2000/2000 [==============================] - 3s 1ms/step - loss: 0.0251 - acc: 1.0000 - val_loss: 0.0521 - val_acc: 0.9910\n",
            "Epoch 22/30\n",
            "2000/2000 [==============================] - 3s 1ms/step - loss: 0.0182 - acc: 1.0000 - val_loss: 0.0488 - val_acc: 0.9900\n",
            "Epoch 23/30\n",
            "2000/2000 [==============================] - 3s 1ms/step - loss: 0.0136 - acc: 1.0000 - val_loss: 0.0442 - val_acc: 0.9910\n",
            "Epoch 24/30\n",
            "2000/2000 [==============================] - 3s 1ms/step - loss: 0.0097 - acc: 1.0000 - val_loss: 0.0420 - val_acc: 0.9910\n",
            "Epoch 25/30\n",
            "2000/2000 [==============================] - 3s 1ms/step - loss: 0.0069 - acc: 1.0000 - val_loss: 0.0406 - val_acc: 0.9920\n",
            "Epoch 26/30\n",
            "2000/2000 [==============================] - 3s 1ms/step - loss: 0.0050 - acc: 1.0000 - val_loss: 0.0411 - val_acc: 0.9930\n",
            "Epoch 27/30\n",
            "2000/2000 [==============================] - 3s 1ms/step - loss: 0.0035 - acc: 1.0000 - val_loss: 0.0400 - val_acc: 0.9920\n",
            "Epoch 28/30\n",
            "2000/2000 [==============================] - 3s 1ms/step - loss: 0.0025 - acc: 1.0000 - val_loss: 0.0404 - val_acc: 0.9920\n",
            "Epoch 29/30\n",
            "2000/2000 [==============================] - 3s 1ms/step - loss: 0.0016 - acc: 1.0000 - val_loss: 0.0401 - val_acc: 0.9920\n",
            "Epoch 30/30\n",
            "2000/2000 [==============================] - 3s 1ms/step - loss: 0.0012 - acc: 1.0000 - val_loss: 0.0411 - val_acc: 0.9920\n"
          ],
          "name": "stdout"
        }
      ]
    },
    {
      "cell_type": "code",
      "metadata": {
        "id": "haAIiXnHetpI",
        "colab_type": "code",
        "colab": {}
      },
      "source": [
        "acc=history.history['acc']\n",
        "val_acc=history.history['val_acc']\n",
        "loss=history.history['loss']\n",
        "val_loss=history.history['val_loss']"
      ],
      "execution_count": 0,
      "outputs": []
    },
    {
      "cell_type": "code",
      "metadata": {
        "id": "SwWm6h61exnY",
        "colab_type": "code",
        "colab": {}
      },
      "source": [
        "epochs=range(1, len(acc)+1)"
      ],
      "execution_count": 0,
      "outputs": []
    },
    {
      "cell_type": "code",
      "metadata": {
        "id": "PzwBsRIwe0w0",
        "colab_type": "code",
        "outputId": "d9dc2910-9b96-4da6-b74d-b19ffd7735a4",
        "colab": {
          "base_uri": "https://localhost:8080/",
          "height": 545
        }
      },
      "source": [
        "plt.plot(epochs, acc, 'bo', label='training acc')\n",
        "plt.plot(epochs, val_acc, 'b', label='validation acc')\n",
        "plt.title('training and validation accuracy')\n",
        "plt.legend()\n",
        "plt.figure()\n",
        "\n",
        "plt.plot(epochs, loss, 'bo', label='training loss')\n",
        "plt.plot(epochs, val_loss, 'b', label='validation loss')\n",
        "plt.title('training and validation loss')\n",
        "plt.legend()\n",
        "plt.show()"
      ],
      "execution_count": 14,
      "outputs": [
        {
          "output_type": "display_data",
          "data": {
            "image/png": "[encoded data removed]",
            "text/plain": [
              "<Figure size 432x288 with 1 Axes>"
            ]
          },
          "metadata": {
            "tags": []
          }
        },
        {
          "output_type": "display_data",
          "data": {
            "image/png": "[encoded data removed]",
            "text/plain": [
              "<Figure size 432x288 with 1 Axes>"
            ]
          },
          "metadata": {
            "tags": []
          }
        }
      ]
    }
  ]
}