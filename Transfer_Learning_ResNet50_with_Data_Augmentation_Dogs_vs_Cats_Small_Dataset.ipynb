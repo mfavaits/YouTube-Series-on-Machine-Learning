{
  "nbformat": 4,
  "nbformat_minor": 0,
  "metadata": {
    "colab": {
      "name": "Transfer Learning - ResNet50 with Data Augmentation - Dogs vs. Cats - Small Dataset.ipynb",
      "provenance": [],
      "collapsed_sections": [],
      "include_colab_link": true
    },
    "kernelspec": {
      "name": "python3",
      "display_name": "Python 3"
    },
    "accelerator": "TPU"
  },
  "cells": [
    {
      "cell_type": "markdown",
      "metadata": {
        "id": "view-in-github",
        "colab_type": "text"
      },
      "source": [
        "<a href=\"https://colab.research.google.com/github/mfavaits/YouTube-Series-on-Machine-Learning/blob/master/Transfer_Learning_ResNet50_with_Data_Augmentation_Dogs_vs_Cats_Small_Dataset.ipynb\" target=\"_parent\"><img src=\"https://colab.research.google.com/assets/colab-badge.svg\" alt=\"Open In Colab\"/></a>"
      ]
    },
    {
      "cell_type": "code",
      "metadata": {
        "id": "wCv4aeLxA1Xr",
        "colab_type": "code",
        "colab": {}
      },
      "source": [
        "import numpy as np\n",
        "import matplotlib.pyplot as plt\n",
        "\n",
        "import os\n",
        "import shutil"
      ],
      "execution_count": 0,
      "outputs": []
    },
    {
      "cell_type": "code",
      "metadata": {
        "id": "JD7vGwSixv_w",
        "colab_type": "code",
        "outputId": "7f3aea9a-9fa0-4982-b4e5-44cf71b7f3d1",
        "colab": {
          "base_uri": "https://localhost:8080/",
          "height": 122
        }
      },
      "source": [
        "from google.colab import drive\n",
        "drive.mount('/content/drive')"
      ],
      "execution_count": 2,
      "outputs": [
        {
          "output_type": "stream",
          "text": [
            "Go to this URL in a browser: https://accounts.google.com/o/oauth2/auth?client_id=947318989803-6bn6qk8qdgf4n4g3pfee6491hc0brc4i.apps.googleusercontent.com&redirect_uri=urn%3Aietf%3Awg%3Aoauth%3A2.0%3Aoob&scope=email%20https%3A%2F%2Fwww.googleapis.com%2Fauth%2Fdocs.test%20https%3A%2F%2Fwww.googleapis.com%2Fauth%2Fdrive%20https%3A%2F%2Fwww.googleapis.com%2Fauth%2Fdrive.photos.readonly%20https%3A%2F%2Fwww.googleapis.com%2Fauth%2Fpeopleapi.readonly&response_type=code\n",
            "\n",
            "Enter your authorization code:\n",
            "··········\n",
            "Mounted at /content/drive\n"
          ],
          "name": "stdout"
        }
      ]
    },
    {
      "cell_type": "code",
      "metadata": {
        "id": "nwHsoXL-F0g2",
        "colab_type": "code",
        "outputId": "a55cc297-4c29-49a1-a6b3-289ae4d47c5e",
        "colab": {
          "base_uri": "https://localhost:8080/",
          "height": 530
        }
      },
      "source": [
        "from keras.applications import ResNet50\n",
        "from keras.preprocessing.image import ImageDataGenerator\n",
        "conv_base = ResNet50(weights= 'imagenet', include_top=False, input_shape=(150,150,3))"
      ],
      "execution_count": 3,
      "outputs": [
        {
          "output_type": "stream",
          "text": [
            "Using TensorFlow backend.\n"
          ],
          "name": "stderr"
        },
        {
          "output_type": "stream",
          "text": [
            "WARNING:tensorflow:From /usr/local/lib/python3.6/dist-packages/keras/backend/tensorflow_backend.py:66: The name tf.get_default_graph is deprecated. Please use tf.compat.v1.get_default_graph instead.\n",
            "\n",
            "WARNING:tensorflow:From /usr/local/lib/python3.6/dist-packages/keras/backend/tensorflow_backend.py:541: The name tf.placeholder is deprecated. Please use tf.compat.v1.placeholder instead.\n",
            "\n",
            "WARNING:tensorflow:From /usr/local/lib/python3.6/dist-packages/keras/backend/tensorflow_backend.py:4479: The name tf.truncated_normal is deprecated. Please use tf.random.truncated_normal instead.\n",
            "\n",
            "WARNING:tensorflow:From /usr/local/lib/python3.6/dist-packages/keras/backend/tensorflow_backend.py:190: The name tf.get_default_session is deprecated. Please use tf.compat.v1.get_default_session instead.\n",
            "\n",
            "WARNING:tensorflow:From /usr/local/lib/python3.6/dist-packages/keras/backend/tensorflow_backend.py:197: The name tf.ConfigProto is deprecated. Please use tf.compat.v1.ConfigProto instead.\n",
            "\n",
            "WARNING:tensorflow:From /usr/local/lib/python3.6/dist-packages/keras/backend/tensorflow_backend.py:203: The name tf.Session is deprecated. Please use tf.compat.v1.Session instead.\n",
            "\n",
            "WARNING:tensorflow:From /usr/local/lib/python3.6/dist-packages/keras/backend/tensorflow_backend.py:207: The name tf.global_variables is deprecated. Please use tf.compat.v1.global_variables instead.\n",
            "\n",
            "WARNING:tensorflow:From /usr/local/lib/python3.6/dist-packages/keras/backend/tensorflow_backend.py:216: The name tf.is_variable_initialized is deprecated. Please use tf.compat.v1.is_variable_initialized instead.\n",
            "\n",
            "WARNING:tensorflow:From /usr/local/lib/python3.6/dist-packages/keras/backend/tensorflow_backend.py:223: The name tf.variables_initializer is deprecated. Please use tf.compat.v1.variables_initializer instead.\n",
            "\n",
            "WARNING:tensorflow:From /usr/local/lib/python3.6/dist-packages/keras/backend/tensorflow_backend.py:2041: The name tf.nn.fused_batch_norm is deprecated. Please use tf.compat.v1.nn.fused_batch_norm instead.\n",
            "\n",
            "WARNING:tensorflow:From /usr/local/lib/python3.6/dist-packages/keras/backend/tensorflow_backend.py:148: The name tf.placeholder_with_default is deprecated. Please use tf.compat.v1.placeholder_with_default instead.\n",
            "\n",
            "WARNING:tensorflow:From /usr/local/lib/python3.6/dist-packages/keras/backend/tensorflow_backend.py:4267: The name tf.nn.max_pool is deprecated. Please use tf.nn.max_pool2d instead.\n",
            "\n"
          ],
          "name": "stdout"
        },
        {
          "output_type": "stream",
          "text": [
            "/usr/local/lib/python3.6/dist-packages/keras_applications/resnet50.py:265: UserWarning: The output shape of `ResNet50(include_top=False)` has been changed since Keras 2.2.0.\n",
            "  warnings.warn('The output shape of `ResNet50(include_top=False)` '\n"
          ],
          "name": "stderr"
        },
        {
          "output_type": "stream",
          "text": [
            "Downloading data from https://github.com/fchollet/deep-learning-models/releases/download/v0.2/resnet50_weights_tf_dim_ordering_tf_kernels_notop.h5\n",
            "94658560/94653016 [==============================] - 1s 0us/step\n"
          ],
          "name": "stdout"
        }
      ]
    },
    {
      "cell_type": "code",
      "metadata": {
        "id": "BY2SBTzqGgPR",
        "colab_type": "code",
        "colab": {}
      },
      "source": [
        "train_datagen=ImageDataGenerator(rescale=1./255, rotation_range=40, width_shift_range=0.2, height_shift_range=0.2, shear_range=0.2, zoom_range=0.2, horizontal_flip=True, fill_mode='nearest')\n",
        "validation_datagen=ImageDataGenerator(rescale=1./255)\n",
        "batch_size=20"
      ],
      "execution_count": 0,
      "outputs": []
    },
    {
      "cell_type": "code",
      "metadata": {
        "id": "3eayI5diU32l",
        "colab_type": "code",
        "outputId": "9f4d343c-7b27-412e-c489-815aa4f63797",
        "colab": {
          "base_uri": "https://localhost:8080/",
          "height": 51
        }
      },
      "source": [
        "train_generator=train_datagen.flow_from_directory('/content/drive/My Drive/Colab Notebooks/training_2000', target_size=(150,150), batch_size=20, class_mode='binary')\n",
        "validation_generator=validation_datagen.flow_from_directory('/content/drive/My Drive/Colab Notebooks/val_1000', target_size=(150,150), batch_size=20, class_mode='binary')"
      ],
      "execution_count": 5,
      "outputs": [
        {
          "output_type": "stream",
          "text": [
            "Found 2000 images belonging to 2 classes.\n",
            "Found 1000 images belonging to 2 classes.\n"
          ],
          "name": "stdout"
        }
      ]
    },
    {
      "cell_type": "markdown",
      "metadata": {
        "id": "fI5IINhnI-ct",
        "colab_type": "text"
      },
      "source": [
        "The extracted features are currently of shape (samples, 5 , 5, 2048) and we need to flatten before pushing them through a densely connected layer"
      ]
    },
    {
      "cell_type": "code",
      "metadata": {
        "id": "10mhjDGSPQee",
        "colab_type": "code",
        "outputId": "f6483119-1e09-474b-c358-0e8e1b0fd032",
        "colab": {
          "base_uri": "https://localhost:8080/",
          "height": 343
        }
      },
      "source": [
        "from keras import models\n",
        "from keras import layers\n",
        "from keras import optimizers\n",
        "\n",
        "model=models.Sequential()\n",
        "model.add(conv_base)\n",
        "model.add(layers.Flatten())\n",
        "model.add(layers.Dense(256, activation='relu'))\n",
        "model.add(layers.Dense(1, activation='sigmoid'))\n",
        "model.summary ()\n",
        "conv_base.trainable=False"
      ],
      "execution_count": 7,
      "outputs": [
        {
          "output_type": "stream",
          "text": [
            "WARNING:tensorflow:From /usr/local/lib/python3.6/dist-packages/keras/backend/tensorflow_backend.py:4432: The name tf.random_uniform is deprecated. Please use tf.random.uniform instead.\n",
            "\n",
            "Model: \"sequential_1\"\n",
            "_________________________________________________________________\n",
            "Layer (type)                 Output Shape              Param #   \n",
            "=================================================================\n",
            "resnet50 (Model)             (None, 5, 5, 2048)        23587712  \n",
            "_________________________________________________________________\n",
            "flatten_1 (Flatten)          (None, 51200)             0         \n",
            "_________________________________________________________________\n",
            "dense_1 (Dense)              (None, 256)               13107456  \n",
            "_________________________________________________________________\n",
            "dense_2 (Dense)              (None, 1)                 257       \n",
            "=================================================================\n",
            "Total params: 36,695,425\n",
            "Trainable params: 36,642,305\n",
            "Non-trainable params: 53,120\n",
            "_________________________________________________________________\n"
          ],
          "name": "stdout"
        }
      ]
    },
    {
      "cell_type": "code",
      "metadata": {
        "id": "8fS9kmK0PQZh",
        "colab_type": "code",
        "outputId": "aafcf5a3-2b8e-4b49-b50e-b1938fc523de",
        "colab": {
          "base_uri": "https://localhost:8080/",
          "height": 156
        }
      },
      "source": [
        "model.compile(loss='binary_crossentropy', optimizer=optimizers.RMSprop(lr=2e-5), metrics=['acc'])"
      ],
      "execution_count": 8,
      "outputs": [
        {
          "output_type": "stream",
          "text": [
            "WARNING:tensorflow:From /usr/local/lib/python3.6/dist-packages/keras/optimizers.py:793: The name tf.train.Optimizer is deprecated. Please use tf.compat.v1.train.Optimizer instead.\n",
            "\n",
            "WARNING:tensorflow:From /usr/local/lib/python3.6/dist-packages/keras/backend/tensorflow_backend.py:3657: The name tf.log is deprecated. Please use tf.math.log instead.\n",
            "\n",
            "WARNING:tensorflow:From /usr/local/lib/python3.6/dist-packages/tensorflow_core/python/ops/nn_impl.py:183: where (from tensorflow.python.ops.array_ops) is deprecated and will be removed in a future version.\n",
            "Instructions for updating:\n",
            "Use tf.where in 2.0, which has the same broadcast rule as np.where\n"
          ],
          "name": "stdout"
        }
      ]
    },
    {
      "cell_type": "code",
      "metadata": {
        "id": "Lu-KKjHzXRix",
        "colab_type": "code",
        "outputId": "577c50a1-f055-46e9-ae65-ebd1914db24c",
        "colab": {
          "base_uri": "https://localhost:8080/",
          "height": 1000
        }
      },
      "source": [
        "history = model.fit(train_generator, steps_per_epoch=100, epochs=30, validation_data=validation_generator, validation_steps=50)"
      ],
      "execution_count": 9,
      "outputs": [
        {
          "output_type": "stream",
          "text": [
            "WARNING:tensorflow:From /usr/local/lib/python3.6/dist-packages/keras/backend/tensorflow_backend.py:1033: The name tf.assign_add is deprecated. Please use tf.compat.v1.assign_add instead.\n",
            "\n",
            "WARNING:tensorflow:From /usr/local/lib/python3.6/dist-packages/keras/backend/tensorflow_backend.py:1020: The name tf.assign is deprecated. Please use tf.compat.v1.assign instead.\n",
            "\n",
            "Epoch 1/30\n",
            "100/100 [==============================] - 831s 8s/step - loss: 0.4533 - acc: 0.8095 - val_loss: 1.0845 - val_acc: 0.5000\n",
            "Epoch 2/30\n",
            "100/100 [==============================] - 411s 4s/step - loss: 0.2890 - acc: 0.8830 - val_loss: 1.0973 - val_acc: 0.5000\n",
            "Epoch 3/30\n",
            "100/100 [==============================] - 403s 4s/step - loss: 0.2847 - acc: 0.8865 - val_loss: 1.1094 - val_acc: 0.5000\n",
            "Epoch 4/30\n",
            "100/100 [==============================] - 405s 4s/step - loss: 0.2462 - acc: 0.9025 - val_loss: 1.2622 - val_acc: 0.5000\n",
            "Epoch 5/30\n",
            "100/100 [==============================] - 408s 4s/step - loss: 0.2326 - acc: 0.9075 - val_loss: 1.2415 - val_acc: 0.5000\n",
            "Epoch 6/30\n",
            "100/100 [==============================] - 402s 4s/step - loss: 0.1966 - acc: 0.9240 - val_loss: 1.3086 - val_acc: 0.5000\n",
            "Epoch 7/30\n",
            "100/100 [==============================] - 401s 4s/step - loss: 0.2132 - acc: 0.9175 - val_loss: 1.3332 - val_acc: 0.5000\n",
            "Epoch 8/30\n",
            "100/100 [==============================] - 407s 4s/step - loss: 0.2027 - acc: 0.9205 - val_loss: 1.4111 - val_acc: 0.5000\n",
            "Epoch 9/30\n",
            "100/100 [==============================] - 407s 4s/step - loss: 0.1998 - acc: 0.9250 - val_loss: 1.3357 - val_acc: 0.5000\n",
            "Epoch 10/30\n",
            "100/100 [==============================] - 409s 4s/step - loss: 0.1918 - acc: 0.9240 - val_loss: 1.2587 - val_acc: 0.5000\n",
            "Epoch 11/30\n",
            "100/100 [==============================] - 413s 4s/step - loss: 0.1697 - acc: 0.9305 - val_loss: 1.3555 - val_acc: 0.5000\n",
            "Epoch 12/30\n",
            "100/100 [==============================] - 422s 4s/step - loss: 0.1846 - acc: 0.9320 - val_loss: 1.2380 - val_acc: 0.5000\n",
            "Epoch 13/30\n",
            "100/100 [==============================] - 418s 4s/step - loss: 0.1872 - acc: 0.9275 - val_loss: 1.3239 - val_acc: 0.5000\n",
            "Epoch 14/30\n",
            "100/100 [==============================] - 411s 4s/step - loss: 0.1565 - acc: 0.9410 - val_loss: 1.3939 - val_acc: 0.5000\n",
            "Epoch 15/30\n",
            "100/100 [==============================] - 413s 4s/step - loss: 0.1560 - acc: 0.9375 - val_loss: 1.5024 - val_acc: 0.5000\n",
            "Epoch 16/30\n",
            "100/100 [==============================] - 414s 4s/step - loss: 0.1805 - acc: 0.9395 - val_loss: 1.6568 - val_acc: 0.5000\n",
            "Epoch 17/30\n",
            "100/100 [==============================] - 416s 4s/step - loss: 0.1523 - acc: 0.9445 - val_loss: 1.7728 - val_acc: 0.5000\n",
            "Epoch 18/30\n",
            "100/100 [==============================] - 412s 4s/step - loss: 0.1511 - acc: 0.9390 - val_loss: 1.6632 - val_acc: 0.5000\n",
            "Epoch 19/30\n",
            "100/100 [==============================] - 410s 4s/step - loss: 0.1519 - acc: 0.9480 - val_loss: 1.6798 - val_acc: 0.5000\n",
            "Epoch 20/30\n",
            "100/100 [==============================] - 406s 4s/step - loss: 0.1438 - acc: 0.9465 - val_loss: 1.7626 - val_acc: 0.5000\n",
            "Epoch 21/30\n",
            "100/100 [==============================] - 413s 4s/step - loss: 0.1466 - acc: 0.9440 - val_loss: 1.6715 - val_acc: 0.5000\n",
            "Epoch 22/30\n",
            "100/100 [==============================] - 413s 4s/step - loss: 0.1369 - acc: 0.9475 - val_loss: 1.7964 - val_acc: 0.5000\n",
            "Epoch 23/30\n",
            "100/100 [==============================] - 403s 4s/step - loss: 0.1242 - acc: 0.9525 - val_loss: 1.9463 - val_acc: 0.5000\n",
            "Epoch 24/30\n",
            "100/100 [==============================] - 401s 4s/step - loss: 0.1256 - acc: 0.9495 - val_loss: 2.2703 - val_acc: 0.5000\n",
            "Epoch 25/30\n",
            "100/100 [==============================] - 402s 4s/step - loss: 0.1478 - acc: 0.9430 - val_loss: 2.3086 - val_acc: 0.5000\n",
            "Epoch 26/30\n",
            "100/100 [==============================] - 409s 4s/step - loss: 0.1150 - acc: 0.9535 - val_loss: 2.3417 - val_acc: 0.5000\n",
            "Epoch 27/30\n",
            "100/100 [==============================] - 407s 4s/step - loss: 0.1459 - acc: 0.9505 - val_loss: 2.4368 - val_acc: 0.5000\n",
            "Epoch 28/30\n",
            "100/100 [==============================] - 403s 4s/step - loss: 0.1188 - acc: 0.9600 - val_loss: 2.1496 - val_acc: 0.5000\n",
            "Epoch 29/30\n",
            "100/100 [==============================] - 403s 4s/step - loss: 0.1336 - acc: 0.9490 - val_loss: 2.4318 - val_acc: 0.5000\n",
            "Epoch 30/30\n",
            "100/100 [==============================] - 402s 4s/step - loss: 0.1237 - acc: 0.9500 - val_loss: 2.4748 - val_acc: 0.5000\n"
          ],
          "name": "stdout"
        }
      ]
    },
    {
      "cell_type": "code",
      "metadata": {
        "id": "uxBFfQjwXRVG",
        "colab_type": "code",
        "colab": {}
      },
      "source": [
        "acc=history.history['acc']\n",
        "val_acc=history.history['val_acc']\n",
        "loss=history.history['loss']\n",
        "val_loss=history.history['val_loss']"
      ],
      "execution_count": 0,
      "outputs": []
    },
    {
      "cell_type": "code",
      "metadata": {
        "id": "N7MVm5FeXRLR",
        "colab_type": "code",
        "colab": {}
      },
      "source": [
        "epochs=range(1, len(acc)+1)"
      ],
      "execution_count": 0,
      "outputs": []
    },
    {
      "cell_type": "code",
      "metadata": {
        "id": "3sAK6k2LXRDm",
        "colab_type": "code",
        "colab": {
          "base_uri": "https://localhost:8080/",
          "height": 545
        },
        "outputId": "f5d420fb-aab2-4b13-b254-c4cd2bda59a3"
      },
      "source": [
        "plt.plot(epochs, acc, 'bo', label='training acc')\n",
        "plt.plot(epochs, val_acc, 'b', label='validation acc')\n",
        "plt.title('training and validation accuracy')\n",
        "plt.legend()\n",
        "plt.figure()\n",
        "\n",
        "plt.plot(epochs, loss, 'bo', label='training loss')\n",
        "plt.plot(epochs, val_loss, 'b', label='validation loss')\n",
        "plt.title('training and validation loss')\n",
        "plt.legend()\n",
        "plt.show()"
      ],
      "execution_count": 15,
      "outputs": [
        {
          "output_type": "display_data",
          "data": {
            "image/png": "[encoded data removed]",
            "text/plain": [
              "<Figure size 432x288 with 1 Axes>"
            ]
          },
          "metadata": {
            "tags": []
          }
        },
        {
          "output_type": "display_data",
          "data": {
            "image/png": "[encoded data removed]",
            "text/plain": [
              "<Figure size 432x288 with 1 Axes>"
            ]
          },
          "metadata": {
            "tags": []
          }
        }
      ]
    }
  ]
}