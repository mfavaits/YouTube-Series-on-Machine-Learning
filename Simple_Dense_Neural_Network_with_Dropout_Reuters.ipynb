{
  "nbformat": 4,
  "nbformat_minor": 0,
  "metadata": {
    "colab": {
      "name": "Simple Dense Neural Network with Dropout - Reuters.ipynb",
      "provenance": [],
      "collapsed_sections": [],
      "include_colab_link": true
    },
    "kernelspec": {
      "name": "python3",
      "display_name": "Python 3"
    },
    "accelerator": "TPU"
  },
  "cells": [
    {
      "cell_type": "markdown",
      "metadata": {
        "id": "view-in-github",
        "colab_type": "text"
      },
      "source": [
        "<a href=\"https://colab.research.google.com/github/mfavaits/YouTube-Series-on-Machine-Learning/blob/master/Simple_Dense_Neural_Network_with_Dropout_Reuters.ipynb\" target=\"_parent\"><img src=\"https://colab.research.google.com/assets/colab-badge.svg\" alt=\"Open In Colab\"/></a>"
      ]
    },
    {
      "cell_type": "code",
      "metadata": {
        "id": "de3MGD6O72TY",
        "colab_type": "code",
        "colab": {}
      },
      "source": [
        "import numpy as np\n",
        "from keras.datasets import reuters"
      ],
      "execution_count": 0,
      "outputs": []
    },
    {
      "cell_type": "code",
      "metadata": {
        "id": "cOhLB6msAMlx",
        "colab_type": "code",
        "colab": {}
      },
      "source": [
        "vocabulary=7500 # we will only use the 7500 most frequently used words"
      ],
      "execution_count": 0,
      "outputs": []
    },
    {
      "cell_type": "markdown",
      "metadata": {
        "id": "Jh095fN7RVV9",
        "colab_type": "text"
      },
      "source": [
        "Next block of code block has been commented out because it does not work anymore"
      ]
    },
    {
      "cell_type": "code",
      "metadata": {
        "id": "shqvBezp-M7R",
        "colab_type": "code",
        "colab": {}
      },
      "source": [
        "# save np.load\n",
        "#np_load_old = np.load\n",
        "\n",
        "# modify the default parameters of np.load\n",
        "#np.load = lambda *a,**k: np_load_old(*a, allow_pickle=True, **k)\n",
        "\n",
        "# call load_data with allow_pickle implicitly set to true\n",
        "#(train_data, train_labels), (test_data, test_labels) = imdb.load_data(num_words=vocabulary)\n",
        "\n",
        "# restore np.load for future normal usage\n",
        "#np.load = np_load_old"
      ],
      "execution_count": 0,
      "outputs": []
    },
    {
      "cell_type": "code",
      "metadata": {
        "id": "XIPxi_2jSlCe",
        "colab_type": "code",
        "colab": {}
      },
      "source": [
        "np.load.__defaults__=(None, True, True, 'ASCII')\n",
        "(train_data, train_labels), (test_data, test_labels) = reuters.load_data(num_words=vocabulary)\n",
        "np.load.__defaults__=(None, False, True, 'ASCII')"
      ],
      "execution_count": 0,
      "outputs": []
    },
    {
      "cell_type": "markdown",
      "metadata": {
        "id": "iG560c2_CYN6",
        "colab_type": "text"
      },
      "source": [
        "In the next line of code we will print the lists that contain sequences of words represented by a word index. If the text has not been converted to a sequence of indices we would need to add one pre-processing step using Tokenizer"
      ]
    },
    {
      "cell_type": "code",
      "metadata": {
        "id": "o5qZFmD4Wx6l",
        "colab_type": "code",
        "outputId": "3ecccdd9-ed72-4afc-85a3-50df50668033",
        "colab": {
          "base_uri": "https://localhost:8080/",
          "height": 74
        }
      },
      "source": [
        "print(train_data[1]) # train_data is a list of word sequences"
      ],
      "execution_count": 21,
      "outputs": [
        {
          "output_type": "stream",
          "text": [
            "[1, 3267, 699, 3434, 2295, 56, 2, 2, 9, 56, 3906, 1073, 81, 5, 1198, 57, 366, 737, 132, 20, 4093, 7, 2, 49, 2295, 2, 1037, 3267, 699, 3434, 8, 7, 10, 241, 16, 855, 129, 231, 783, 5, 4, 587, 2295, 2, 2, 775, 7, 48, 34, 191, 44, 35, 1795, 505, 17, 12]\n"
          ],
          "name": "stdout"
        }
      ]
    },
    {
      "cell_type": "markdown",
      "metadata": {
        "id": "lwgfRMAj2Hip",
        "colab_type": "text"
      },
      "source": [
        "Now we will vectorize the training and test data. Basically we will create a matrix where the rows are the reviews and where the columns represent the vocabulary (7500 columns). We will set a 1 in the correct column if the word of the review matches a word of the vocabulary. This means that matrix will be rather sparse."
      ]
    },
    {
      "cell_type": "code",
      "metadata": {
        "id": "QELAzmk-03TM",
        "colab_type": "code",
        "colab": {}
      },
      "source": [
        "def vectorize_sequences(sequences, dimension=vocabulary):\n",
        "    results=np.zeros((len(sequences), dimension))\n",
        "    for i, sequence in enumerate(sequences):\n",
        "        results[i, sequence]=1\n",
        "    return results"
      ],
      "execution_count": 0,
      "outputs": []
    },
    {
      "cell_type": "markdown",
      "metadata": {
        "id": "J-YwrSZEoyOs",
        "colab_type": "text"
      },
      "source": [
        "Now we apply the function to our training and test data as well as the labels. "
      ]
    },
    {
      "cell_type": "code",
      "metadata": {
        "id": "ZRbl4N4d13te",
        "colab_type": "code",
        "colab": {}
      },
      "source": [
        "x_train=vectorize_sequences(train_data)\n",
        "x_test=vectorize_sequences(test_data)\n",
        "\n",
        "from keras.utils.np_utils import to_categorical\n",
        "one_hot_train_labels=to_categorical(train_labels)\n",
        "one_hot_test_labels=to_categorical(test_labels)"
      ],
      "execution_count": 0,
      "outputs": []
    },
    {
      "cell_type": "code",
      "metadata": {
        "id": "8pc4wDYTZAm4",
        "colab_type": "code",
        "colab": {}
      },
      "source": [
        "from keras import models\n",
        "from keras import layers\n",
        "from keras import optimizers\n",
        "from keras import losses\n",
        "from keras import metrics\n",
        "\n",
        "model=models.Sequential()\n",
        "model.add(layers.Dense(64, activation='relu', input_shape=(vocabulary,)))\n",
        "model.add(layers.Dropout(0.2))\n",
        "model.add(layers.Dense(64, activation='relu'))\n",
        "model.add(layers.Dropout(0.2))\n",
        "model.add(layers.Dense(46, activation='softmax'))"
      ],
      "execution_count": 0,
      "outputs": []
    },
    {
      "cell_type": "markdown",
      "metadata": {
        "id": "EcFfGPZ9cPnq",
        "colab_type": "text"
      },
      "source": [
        "Validation Set"
      ]
    },
    {
      "cell_type": "code",
      "metadata": {
        "id": "D3wjF9cgcSPN",
        "colab_type": "code",
        "colab": {}
      },
      "source": [
        "x_val=x_train[:1000]\n",
        "partial_x_train=x_train[1000:]\n",
        "\n",
        "y_val=one_hot_train_labels[:1000]\n",
        "partial_y_train=one_hot_train_labels[1000:]"
      ],
      "execution_count": 0,
      "outputs": []
    },
    {
      "cell_type": "code",
      "metadata": {
        "id": "_Lc3MI-kfxqV",
        "colab_type": "code",
        "colab": {}
      },
      "source": [
        "model.compile(optimizer='rmsprop', loss='categorical_crossentropy', metrics=['acc'])"
      ],
      "execution_count": 0,
      "outputs": []
    },
    {
      "cell_type": "code",
      "metadata": {
        "id": "aIyH1Xxpn9hO",
        "colab_type": "code",
        "outputId": "8f6282c6-31b7-42cd-bb9c-4ae55fa9f2ba",
        "colab": {
          "base_uri": "https://localhost:8080/",
          "height": 714
        }
      },
      "source": [
        "history = model.fit(partial_x_train, partial_y_train, epochs=20, batch_size=512, validation_data=(x_val, y_val)) #history object contains training details - object has a member dictionary"
      ],
      "execution_count": 27,
      "outputs": [
        {
          "output_type": "stream",
          "text": [
            "Train on 7982 samples, validate on 1000 samples\n",
            "Epoch 1/20\n",
            "7982/7982 [==============================] - 1s 133us/step - loss: 2.7100 - acc: 0.4932 - val_loss: 1.7607 - val_acc: 0.6230\n",
            "Epoch 2/20\n",
            "7982/7982 [==============================] - 1s 94us/step - loss: 1.5923 - acc: 0.6512 - val_loss: 1.3629 - val_acc: 0.6880\n",
            "Epoch 3/20\n",
            "7982/7982 [==============================] - 1s 96us/step - loss: 1.2733 - acc: 0.7131 - val_loss: 1.2072 - val_acc: 0.7150\n",
            "Epoch 4/20\n",
            "7982/7982 [==============================] - 1s 96us/step - loss: 1.0882 - acc: 0.7472 - val_loss: 1.1102 - val_acc: 0.7480\n",
            "Epoch 5/20\n",
            "7982/7982 [==============================] - 1s 96us/step - loss: 0.9494 - acc: 0.7774 - val_loss: 1.0336 - val_acc: 0.7760\n",
            "Epoch 6/20\n",
            "7982/7982 [==============================] - 1s 97us/step - loss: 0.8233 - acc: 0.8120 - val_loss: 0.9991 - val_acc: 0.7770\n",
            "Epoch 7/20\n",
            "7982/7982 [==============================] - 1s 94us/step - loss: 0.7068 - acc: 0.8354 - val_loss: 0.9455 - val_acc: 0.8000\n",
            "Epoch 8/20\n",
            "7982/7982 [==============================] - 1s 96us/step - loss: 0.6300 - acc: 0.8500 - val_loss: 0.9127 - val_acc: 0.8110\n",
            "Epoch 9/20\n",
            "7982/7982 [==============================] - 1s 94us/step - loss: 0.5509 - acc: 0.8703 - val_loss: 0.9090 - val_acc: 0.8030\n",
            "Epoch 10/20\n",
            "7982/7982 [==============================] - 1s 95us/step - loss: 0.4854 - acc: 0.8865 - val_loss: 0.8881 - val_acc: 0.8130\n",
            "Epoch 11/20\n",
            "7982/7982 [==============================] - 1s 95us/step - loss: 0.4369 - acc: 0.9002 - val_loss: 0.8983 - val_acc: 0.8080\n",
            "Epoch 12/20\n",
            "7982/7982 [==============================] - 1s 96us/step - loss: 0.3931 - acc: 0.9077 - val_loss: 0.8804 - val_acc: 0.8190\n",
            "Epoch 13/20\n",
            "7982/7982 [==============================] - 1s 94us/step - loss: 0.3458 - acc: 0.9176 - val_loss: 0.8825 - val_acc: 0.8140\n",
            "Epoch 14/20\n",
            "7982/7982 [==============================] - 1s 93us/step - loss: 0.3145 - acc: 0.9270 - val_loss: 0.9126 - val_acc: 0.8110\n",
            "Epoch 15/20\n",
            "7982/7982 [==============================] - 1s 99us/step - loss: 0.2862 - acc: 0.9302 - val_loss: 0.9117 - val_acc: 0.8210\n",
            "Epoch 16/20\n",
            "7982/7982 [==============================] - 1s 101us/step - loss: 0.2635 - acc: 0.9346 - val_loss: 0.9212 - val_acc: 0.8180\n",
            "Epoch 17/20\n",
            "7982/7982 [==============================] - 1s 96us/step - loss: 0.2521 - acc: 0.9382 - val_loss: 0.9177 - val_acc: 0.8160\n",
            "Epoch 18/20\n",
            "7982/7982 [==============================] - 1s 94us/step - loss: 0.2253 - acc: 0.9434 - val_loss: 0.9291 - val_acc: 0.8080\n",
            "Epoch 19/20\n",
            "7982/7982 [==============================] - 1s 96us/step - loss: 0.2168 - acc: 0.9449 - val_loss: 0.9532 - val_acc: 0.8170\n",
            "Epoch 20/20\n",
            "7982/7982 [==============================] - 1s 96us/step - loss: 0.1964 - acc: 0.9470 - val_loss: 0.9850 - val_acc: 0.8200\n"
          ],
          "name": "stdout"
        }
      ]
    },
    {
      "cell_type": "code",
      "metadata": {
        "id": "PMeo8lUNoyid",
        "colab_type": "code",
        "colab": {}
      },
      "source": [
        "import matplotlib.pyplot as plt\n",
        "history_dict=history.history\n",
        "loss_values=history_dict['loss']\n",
        "val_loss_values=history_dict['val_loss']\n",
        "epochs=range(1, 21)"
      ],
      "execution_count": 0,
      "outputs": []
    },
    {
      "cell_type": "code",
      "metadata": {
        "id": "RysfGkRrqGoG",
        "colab_type": "code",
        "outputId": "44e0caa8-6d80-48e6-f3f0-ad14c35dab74",
        "colab": {
          "base_uri": "https://localhost:8080/",
          "height": 312
        }
      },
      "source": [
        "plt.plot(epochs, loss_values, 'bo', label='Training Loss') #bo is for blue dotted line\n",
        "plt.plot(epochs, val_loss_values, 'b', label='Validation Loss') #b is for blue line\n",
        "plt.title('Training and Validation Loss')\n",
        "plt.xlabel('Epochs')\n",
        "plt.ylabel('Loss')\n",
        "plt.legend()\n",
        "plt.show"
      ],
      "execution_count": 29,
      "outputs": [
        {
          "output_type": "execute_result",
          "data": {
            "text/plain": [
              "<function matplotlib.pyplot.show>"
            ]
          },
          "metadata": {
            "tags": []
          },
          "execution_count": 29
        },
        {
          "output_type": "display_data",
          "data": {
            "image/png": "[encoded data removed]",
            "text/plain": [
              "<Figure size 432x288 with 1 Axes>"
            ]
          },
          "metadata": {
            "tags": []
          }
        }
      ]
    },
    {
      "cell_type": "code",
      "metadata": {
        "id": "5U8qL2GgtfeC",
        "colab_type": "code",
        "outputId": "1accc482-aa1a-474a-bace-d3e2ba597e1b",
        "colab": {
          "base_uri": "https://localhost:8080/",
          "height": 459
        }
      },
      "source": [
        "model=models.Sequential()\n",
        "model.add(layers.Dense(64, activation='relu', input_shape=(vocabulary,)))\n",
        "model.add(layers.Dropout(0.2))\n",
        "model.add(layers.Dense(64, activation='relu'))\n",
        "model.add(layers.Dropout(0.2))\n",
        "model.add(layers.Dense(46, activation='softmax'))\n",
        "\n",
        "model.compile(optimizer='rmsprop', loss='categorical_crossentropy', metrics=['acc'])\n",
        "model.fit(partial_x_train, partial_y_train, epochs=12, batch_size=512, validation_data=(x_val, y_val))\n",
        "results=model.evaluate(x_test, one_hot_test_labels)"
      ],
      "execution_count": 30,
      "outputs": [
        {
          "output_type": "stream",
          "text": [
            "Train on 7982 samples, validate on 1000 samples\n",
            "Epoch 1/12\n",
            "7982/7982 [==============================] - 1s 132us/step - loss: 2.6736 - acc: 0.4882 - val_loss: 1.7398 - val_acc: 0.6030\n",
            "Epoch 2/12\n",
            "7982/7982 [==============================] - 1s 95us/step - loss: 1.5830 - acc: 0.6505 - val_loss: 1.3491 - val_acc: 0.6890\n",
            "Epoch 3/12\n",
            "7982/7982 [==============================] - 1s 94us/step - loss: 1.2691 - acc: 0.7083 - val_loss: 1.1892 - val_acc: 0.7230\n",
            "Epoch 4/12\n",
            "7982/7982 [==============================] - 1s 95us/step - loss: 1.0773 - acc: 0.7576 - val_loss: 1.0893 - val_acc: 0.7530\n",
            "Epoch 5/12\n",
            "7982/7982 [==============================] - 1s 95us/step - loss: 0.9321 - acc: 0.7865 - val_loss: 1.0199 - val_acc: 0.7760\n",
            "Epoch 6/12\n",
            "7982/7982 [==============================] - 1s 98us/step - loss: 0.8083 - acc: 0.8142 - val_loss: 0.9686 - val_acc: 0.7930\n",
            "Epoch 7/12\n",
            "7982/7982 [==============================] - 1s 96us/step - loss: 0.7106 - acc: 0.8350 - val_loss: 0.9354 - val_acc: 0.8050\n",
            "Epoch 8/12\n",
            "7982/7982 [==============================] - 1s 95us/step - loss: 0.6248 - acc: 0.8573 - val_loss: 0.9157 - val_acc: 0.7980\n",
            "Epoch 9/12\n",
            "7982/7982 [==============================] - 1s 94us/step - loss: 0.5465 - acc: 0.8742 - val_loss: 0.9260 - val_acc: 0.8020\n",
            "Epoch 10/12\n",
            "7982/7982 [==============================] - 1s 95us/step - loss: 0.4914 - acc: 0.8872 - val_loss: 0.8887 - val_acc: 0.8140\n",
            "Epoch 11/12\n",
            "7982/7982 [==============================] - 1s 95us/step - loss: 0.4306 - acc: 0.8991 - val_loss: 0.8954 - val_acc: 0.8090\n",
            "Epoch 12/12\n",
            "7982/7982 [==============================] - 1s 96us/step - loss: 0.3862 - acc: 0.9050 - val_loss: 0.8857 - val_acc: 0.8100\n",
            "2246/2246 [==============================] - 0s 70us/step\n"
          ],
          "name": "stdout"
        }
      ]
    },
    {
      "cell_type": "code",
      "metadata": {
        "id": "nEkxKnNWHj8b",
        "colab_type": "code",
        "outputId": "64eb177e-8210-42ae-f8a1-9fdc643754f6",
        "colab": {
          "base_uri": "https://localhost:8080/",
          "height": 34
        }
      },
      "source": [
        "print(results)"
      ],
      "execution_count": 31,
      "outputs": [
        {
          "output_type": "stream",
          "text": [
            "[0.9867612772081329, 0.7858414959928762]\n"
          ],
          "name": "stdout"
        }
      ]
    }
  ]
}