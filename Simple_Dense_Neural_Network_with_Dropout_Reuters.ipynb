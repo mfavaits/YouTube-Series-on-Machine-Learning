{
  "nbformat": 4,
  "nbformat_minor": 0,
  "metadata": {
    "colab": {
      "name": "Simple Dense Neural Network with Dropout - Reuters.ipynb",
      "version": "0.3.2",
      "provenance": [],
      "collapsed_sections": [],
      "include_colab_link": true
    },
    "kernelspec": {
      "name": "python3",
      "display_name": "Python 3"
    },
    "accelerator": "TPU"
  },
  "cells": [
    {
      "cell_type": "markdown",
      "metadata": {
        "id": "view-in-github",
        "colab_type": "text"
      },
      "source": [
        "<a href=\"https://colab.research.google.com/github/mfavaits/YouTube-Series-on-Machine-Learning/blob/master/Simple_Dense_Neural_Network_with_Dropout_Reuters.ipynb\" target=\"_parent\"><img src=\"https://colab.research.google.com/assets/colab-badge.svg\" alt=\"Open In Colab\"/></a>"
      ]
    },
    {
      "cell_type": "code",
      "metadata": {
        "id": "de3MGD6O72TY",
        "colab_type": "code",
        "colab": {
          "base_uri": "https://localhost:8080/",
          "height": 34
        },
        "outputId": "829d6a28-66c8-487e-c077-8eb50e66109c"
      },
      "source": [
        "import numpy as np\n",
        "from keras.datasets import reuters"
      ],
      "execution_count": 1,
      "outputs": [
        {
          "output_type": "stream",
          "text": [
            "Using TensorFlow backend.\n"
          ],
          "name": "stderr"
        }
      ]
    },
    {
      "cell_type": "code",
      "metadata": {
        "id": "cOhLB6msAMlx",
        "colab_type": "code",
        "colab": {}
      },
      "source": [
        "vocabulary=7500 # we will only use the 7500 most frequently used words"
      ],
      "execution_count": 0,
      "outputs": []
    },
    {
      "cell_type": "markdown",
      "metadata": {
        "id": "Jh095fN7RVV9",
        "colab_type": "text"
      },
      "source": [
        "Next block of code block has been commented out because it does not work anymore"
      ]
    },
    {
      "cell_type": "code",
      "metadata": {
        "id": "shqvBezp-M7R",
        "colab_type": "code",
        "colab": {}
      },
      "source": [
        "# save np.load\n",
        "#np_load_old = np.load\n",
        "\n",
        "# modify the default parameters of np.load\n",
        "#np.load = lambda *a,**k: np_load_old(*a, allow_pickle=True, **k)\n",
        "\n",
        "# call load_data with allow_pickle implicitly set to true\n",
        "#(train_data, train_labels), (test_data, test_labels) = imdb.load_data(num_words=vocabulary)\n",
        "\n",
        "# restore np.load for future normal usage\n",
        "#np.load = np_load_old"
      ],
      "execution_count": 0,
      "outputs": []
    },
    {
      "cell_type": "code",
      "metadata": {
        "id": "XIPxi_2jSlCe",
        "colab_type": "code",
        "outputId": "f3537f33-975e-4e94-94ec-555078518a41",
        "colab": {
          "base_uri": "https://localhost:8080/",
          "height": 51
        }
      },
      "source": [
        "np.load.__defaults__=(None, True, True, 'ASCII')\n",
        "(train_data, train_labels), (test_data, test_labels) = reuters.load_data(num_words=vocabulary)\n",
        "np.load.__defaults__=(None, False, True, 'ASCII')"
      ],
      "execution_count": 4,
      "outputs": [
        {
          "output_type": "stream",
          "text": [
            "Downloading data from https://s3.amazonaws.com/text-datasets/reuters.npz\n",
            "2113536/2110848 [==============================] - 0s 0us/step\n"
          ],
          "name": "stdout"
        }
      ]
    },
    {
      "cell_type": "markdown",
      "metadata": {
        "id": "iG560c2_CYN6",
        "colab_type": "text"
      },
      "source": [
        "In the next line of code we will print the lists that contain sequences of words represented by a word index. If the text has not been converted to a sequence of indices we would need to add one pre-processing step using Tokenizer"
      ]
    },
    {
      "cell_type": "code",
      "metadata": {
        "id": "o5qZFmD4Wx6l",
        "colab_type": "code",
        "outputId": "5dbe6037-3fe4-45d3-a54d-66d91eafe441",
        "colab": {
          "base_uri": "https://localhost:8080/",
          "height": 74
        }
      },
      "source": [
        "print(train_data[1]) # train_data is a list of word sequences"
      ],
      "execution_count": 5,
      "outputs": [
        {
          "output_type": "stream",
          "text": [
            "[1, 3267, 699, 3434, 2295, 56, 2, 2, 9, 56, 3906, 1073, 81, 5, 1198, 57, 366, 737, 132, 20, 4093, 7, 2, 49, 2295, 2, 1037, 3267, 699, 3434, 8, 7, 10, 241, 16, 855, 129, 231, 783, 5, 4, 587, 2295, 2, 2, 775, 7, 48, 34, 191, 44, 35, 1795, 505, 17, 12]\n"
          ],
          "name": "stdout"
        }
      ]
    },
    {
      "cell_type": "markdown",
      "metadata": {
        "id": "lwgfRMAj2Hip",
        "colab_type": "text"
      },
      "source": [
        "Now we will vectorize the training and test data. Basically we will create a matrix where the rows are the reviews and where the columns represent the vocabulary (7500 columns). We will set a 1 in the correct column if the word of the review matches a word of the vocabulary. This means that matrix will be rather sparse."
      ]
    },
    {
      "cell_type": "code",
      "metadata": {
        "id": "QELAzmk-03TM",
        "colab_type": "code",
        "colab": {}
      },
      "source": [
        "def vectorize_sequences(sequences, dimension=vocabulary):\n",
        "    results=np.zeros((len(sequences), dimension))\n",
        "    for i, sequence in enumerate(sequences):\n",
        "        results[i, sequence]=1\n",
        "    return results"
      ],
      "execution_count": 0,
      "outputs": []
    },
    {
      "cell_type": "markdown",
      "metadata": {
        "id": "J-YwrSZEoyOs",
        "colab_type": "text"
      },
      "source": [
        "Now we apply the function to our training and test data as well as the labels. "
      ]
    },
    {
      "cell_type": "code",
      "metadata": {
        "id": "ZRbl4N4d13te",
        "colab_type": "code",
        "colab": {}
      },
      "source": [
        "x_train=vectorize_sequences(train_data)\n",
        "x_test=vectorize_sequences(test_data)\n",
        "\n",
        "from keras.utils.np_utils import to_categorical\n",
        "one_hot_train_labels=to_categorical(train_labels)\n",
        "one_hot_test_labels=to_categorical(test_labels)"
      ],
      "execution_count": 0,
      "outputs": []
    },
    {
      "cell_type": "code",
      "metadata": {
        "id": "8pc4wDYTZAm4",
        "colab_type": "code",
        "colab": {}
      },
      "source": [
        "from keras import models\n",
        "from keras import layers\n",
        "from keras import optimizers\n",
        "from keras import losses\n",
        "from keras import metrics\n",
        "\n",
        "model=models.Sequential()\n",
        "model.add(layers.Dense(64, activation='relu', input_shape=(vocabulary,)))\n",
        "model.add(layers.Dropout(0.2))\n",
        "model.add(layers.Dense(64, activation='relu'))\n",
        "model.add(layers.Dropout(0.2))\n",
        "model.add(layers.Dense(46, activation='softmax'))"
      ],
      "execution_count": 0,
      "outputs": []
    },
    {
      "cell_type": "markdown",
      "metadata": {
        "id": "EcFfGPZ9cPnq",
        "colab_type": "text"
      },
      "source": [
        "Validation Set"
      ]
    },
    {
      "cell_type": "code",
      "metadata": {
        "id": "D3wjF9cgcSPN",
        "colab_type": "code",
        "colab": {}
      },
      "source": [
        "x_val=x_train[:1000]\n",
        "partial_x_train=x_train[1000:]\n",
        "\n",
        "y_val=one_hot_train_labels[:1000]\n",
        "partial_y_train=one_hot_train_labels[1000:]"
      ],
      "execution_count": 0,
      "outputs": []
    },
    {
      "cell_type": "code",
      "metadata": {
        "id": "_Lc3MI-kfxqV",
        "colab_type": "code",
        "colab": {}
      },
      "source": [
        "model.compile(optimizer='rmsprop', loss='categorical_crossentropy', metrics=['acc'])"
      ],
      "execution_count": 0,
      "outputs": []
    },
    {
      "cell_type": "code",
      "metadata": {
        "id": "aIyH1Xxpn9hO",
        "colab_type": "code",
        "outputId": "6b955f44-ee51-4341-9e19-7415c0a8c63e",
        "colab": {
          "base_uri": "https://localhost:8080/",
          "height": 714
        }
      },
      "source": [
        "history = model.fit(partial_x_train, partial_y_train, epochs=20, batch_size=512, validation_data=(x_val, y_val)) #history object contains training details - object has a member dictionary"
      ],
      "execution_count": 26,
      "outputs": [
        {
          "output_type": "stream",
          "text": [
            "Train on 7982 samples, validate on 1000 samples\n",
            "Epoch 1/20\n",
            "7982/7982 [==============================] - 1s 182us/step - loss: 2.7688 - acc: 0.4780 - val_loss: 1.8128 - val_acc: 0.5930\n",
            "Epoch 2/20\n",
            "7982/7982 [==============================] - 1s 124us/step - loss: 1.6375 - acc: 0.6428 - val_loss: 1.3739 - val_acc: 0.6850\n",
            "Epoch 3/20\n",
            "7982/7982 [==============================] - 1s 121us/step - loss: 1.2901 - acc: 0.7098 - val_loss: 1.2027 - val_acc: 0.7170\n",
            "Epoch 4/20\n",
            "7982/7982 [==============================] - 1s 124us/step - loss: 1.0974 - acc: 0.7473 - val_loss: 1.0921 - val_acc: 0.7490\n",
            "Epoch 5/20\n",
            "7982/7982 [==============================] - 1s 125us/step - loss: 0.9508 - acc: 0.7830 - val_loss: 1.0343 - val_acc: 0.7640\n",
            "Epoch 6/20\n",
            "7982/7982 [==============================] - 1s 124us/step - loss: 0.8257 - acc: 0.8094 - val_loss: 0.9723 - val_acc: 0.7930\n",
            "Epoch 7/20\n",
            "7982/7982 [==============================] - 1s 123us/step - loss: 0.7322 - acc: 0.8311 - val_loss: 0.9506 - val_acc: 0.7940\n",
            "Epoch 8/20\n",
            "7982/7982 [==============================] - 1s 123us/step - loss: 0.6474 - acc: 0.8503 - val_loss: 0.9224 - val_acc: 0.8020\n",
            "Epoch 9/20\n",
            "7982/7982 [==============================] - 1s 123us/step - loss: 0.5705 - acc: 0.8667 - val_loss: 0.8953 - val_acc: 0.8090\n",
            "Epoch 10/20\n",
            "7982/7982 [==============================] - 1s 123us/step - loss: 0.4994 - acc: 0.8849 - val_loss: 0.8817 - val_acc: 0.8160\n",
            "Epoch 11/20\n",
            "7982/7982 [==============================] - 1s 126us/step - loss: 0.4562 - acc: 0.8941 - val_loss: 0.8894 - val_acc: 0.8130\n",
            "Epoch 12/20\n",
            "7982/7982 [==============================] - 1s 124us/step - loss: 0.4039 - acc: 0.9079 - val_loss: 0.8911 - val_acc: 0.8100\n",
            "Epoch 13/20\n",
            "7982/7982 [==============================] - 1s 128us/step - loss: 0.3647 - acc: 0.9154 - val_loss: 0.8780 - val_acc: 0.8160\n",
            "Epoch 14/20\n",
            "7982/7982 [==============================] - 1s 125us/step - loss: 0.3338 - acc: 0.9201 - val_loss: 0.8894 - val_acc: 0.8150\n",
            "Epoch 15/20\n",
            "7982/7982 [==============================] - 1s 125us/step - loss: 0.2980 - acc: 0.9322 - val_loss: 0.8912 - val_acc: 0.8190\n",
            "Epoch 16/20\n",
            "7982/7982 [==============================] - 1s 126us/step - loss: 0.2790 - acc: 0.9316 - val_loss: 0.9178 - val_acc: 0.8170\n",
            "Epoch 17/20\n",
            "7982/7982 [==============================] - 1s 125us/step - loss: 0.2576 - acc: 0.9351 - val_loss: 0.9229 - val_acc: 0.8190\n",
            "Epoch 18/20\n",
            "7982/7982 [==============================] - 1s 125us/step - loss: 0.2398 - acc: 0.9399 - val_loss: 0.9540 - val_acc: 0.8120\n",
            "Epoch 19/20\n",
            "7982/7982 [==============================] - 1s 128us/step - loss: 0.2180 - acc: 0.9427 - val_loss: 0.9511 - val_acc: 0.8170\n",
            "Epoch 20/20\n",
            "7982/7982 [==============================] - 1s 124us/step - loss: 0.2055 - acc: 0.9465 - val_loss: 0.9544 - val_acc: 0.8190\n"
          ],
          "name": "stdout"
        }
      ]
    },
    {
      "cell_type": "code",
      "metadata": {
        "id": "PMeo8lUNoyid",
        "colab_type": "code",
        "colab": {}
      },
      "source": [
        "import matplotlib.pyplot as plt\n",
        "history_dict=history.history\n",
        "loss_values=history_dict['loss']\n",
        "val_loss_values=history_dict['val_loss']\n",
        "epochs=range(1, 21)"
      ],
      "execution_count": 0,
      "outputs": []
    },
    {
      "cell_type": "code",
      "metadata": {
        "id": "RysfGkRrqGoG",
        "colab_type": "code",
        "outputId": "fbd4fc05-6253-4ee6-db7b-dba9736ce3a8",
        "colab": {
          "base_uri": "https://localhost:8080/",
          "height": 312
        }
      },
      "source": [
        "plt.plot(epochs, loss_values, 'bo', label='Training Loss') #bo is for blue dotted line\n",
        "plt.plot(epochs, val_loss_values, 'b', label='Validation Loss') #b is for blue line\n",
        "plt.title('Training and Validation Loss')\n",
        "plt.xlabel('Epochs')\n",
        "plt.ylabel('Loss')\n",
        "plt.legend()\n",
        "plt.show"
      ],
      "execution_count": 20,
      "outputs": [
        {
          "output_type": "execute_result",
          "data": {
            "text/plain": [
              "<function matplotlib.pyplot.show>"
            ]
          },
          "metadata": {
            "tags": []
          },
          "execution_count": 20
        },
        {
          "output_type": "display_data",
          "data": {
            "image/png": "[encoded data removed]",
            "text/plain": [
              "<Figure size 432x288 with 1 Axes>"
            ]
          },
          "metadata": {
            "tags": []
          }
        }
      ]
    },
    {
      "cell_type": "code",
      "metadata": {
        "id": "5U8qL2GgtfeC",
        "colab_type": "code",
        "outputId": "e3cdb9d4-aacc-4e2c-d8ce-dc4b53f313f9",
        "colab": {
          "base_uri": "https://localhost:8080/",
          "height": 493
        }
      },
      "source": [
        "model=models.Sequential()\n",
        "model.add(layers.Dense(64, activation='relu', input_shape=(vocabulary,)))\n",
        "model.add(layers.Dropout(0.2))\n",
        "model.add(layers.Dense(64, activation='relu'))\n",
        "model.add(layers.Dropout(0.2))\n",
        "model.add(layers.Dense(46, activation='softmax'))\n",
        "\n",
        "model.compile(optimizer='rmsprop', loss='categorical_crossentropy', metrics=['acc'])\n",
        "model.fit(partial_x_train, partial_y_train, epochs=13, batch_size=512, validation_data=(x_val, y_val))\n",
        "results=model.evaluate(x_test, one_hot_test_labels)"
      ],
      "execution_count": 27,
      "outputs": [
        {
          "output_type": "stream",
          "text": [
            "Train on 7982 samples, validate on 1000 samples\n",
            "Epoch 1/13\n",
            "7982/7982 [==============================] - 2s 195us/step - loss: 2.6711 - acc: 0.4699 - val_loss: 1.7832 - val_acc: 0.6210\n",
            "Epoch 2/13\n",
            "7982/7982 [==============================] - 1s 124us/step - loss: 1.6141 - acc: 0.6432 - val_loss: 1.3525 - val_acc: 0.6970\n",
            "Epoch 3/13\n",
            "7982/7982 [==============================] - 1s 126us/step - loss: 1.2817 - acc: 0.7112 - val_loss: 1.1702 - val_acc: 0.7370\n",
            "Epoch 4/13\n",
            "7982/7982 [==============================] - 1s 129us/step - loss: 1.0807 - acc: 0.7552 - val_loss: 1.0753 - val_acc: 0.7510\n",
            "Epoch 5/13\n",
            "7982/7982 [==============================] - 1s 126us/step - loss: 0.9372 - acc: 0.7909 - val_loss: 1.0149 - val_acc: 0.7820\n",
            "Epoch 6/13\n",
            "7982/7982 [==============================] - 1s 129us/step - loss: 0.8206 - acc: 0.8143 - val_loss: 0.9761 - val_acc: 0.7850\n",
            "Epoch 7/13\n",
            "7982/7982 [==============================] - 1s 125us/step - loss: 0.7169 - acc: 0.8381 - val_loss: 0.9325 - val_acc: 0.7930\n",
            "Epoch 8/13\n",
            "7982/7982 [==============================] - 1s 126us/step - loss: 0.6269 - acc: 0.8591 - val_loss: 0.9030 - val_acc: 0.8050\n",
            "Epoch 9/13\n",
            "7982/7982 [==============================] - 1s 128us/step - loss: 0.5582 - acc: 0.8718 - val_loss: 0.8981 - val_acc: 0.8020\n",
            "Epoch 10/13\n",
            "7982/7982 [==============================] - 1s 126us/step - loss: 0.4910 - acc: 0.8886 - val_loss: 0.8963 - val_acc: 0.8090\n",
            "Epoch 11/13\n",
            "7982/7982 [==============================] - 1s 125us/step - loss: 0.4360 - acc: 0.8998 - val_loss: 0.8744 - val_acc: 0.8190\n",
            "Epoch 12/13\n",
            "7982/7982 [==============================] - 1s 125us/step - loss: 0.3862 - acc: 0.9102 - val_loss: 0.8777 - val_acc: 0.8160\n",
            "Epoch 13/13\n",
            "7982/7982 [==============================] - 1s 125us/step - loss: 0.3536 - acc: 0.9206 - val_loss: 0.8951 - val_acc: 0.8200\n",
            "2246/2246 [==============================] - 0s 84us/step\n"
          ],
          "name": "stdout"
        }
      ]
    },
    {
      "cell_type": "code",
      "metadata": {
        "id": "nEkxKnNWHj8b",
        "colab_type": "code",
        "outputId": "81d29de6-ecc3-481b-8ce4-858ac9aa9052",
        "colab": {
          "base_uri": "https://localhost:8080/",
          "height": 34
        }
      },
      "source": [
        "print(results)"
      ],
      "execution_count": 28,
      "outputs": [
        {
          "output_type": "stream",
          "text": [
            "[0.9970912672214389, 0.7867319679430098]\n"
          ],
          "name": "stdout"
        }
      ]
    }
  ]
}