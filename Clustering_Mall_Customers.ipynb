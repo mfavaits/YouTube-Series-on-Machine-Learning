{
  "nbformat": 4,
  "nbformat_minor": 0,
  "metadata": {
    "colab": {
      "name": "Clustering - Mall Customers.ipynb",
      "version": "0.3.2",
      "provenance": [],
      "collapsed_sections": [],
      "include_colab_link": true
    },
    "kernelspec": {
      "name": "python3",
      "display_name": "Python 3"
    },
    "accelerator": "TPU"
  },
  "cells": [
    {
      "cell_type": "markdown",
      "metadata": {
        "id": "view-in-github",
        "colab_type": "text"
      },
      "source": [
        "<a href=\"https://colab.research.google.com/github/mfavaits/YouTube-Series-on-Machine-Learning/blob/master/Clustering_Mall_Customers.ipynb\" target=\"_parent\"><img src=\"https://colab.research.google.com/assets/colab-badge.svg\" alt=\"Open In Colab\"/></a>"
      ]
    },
    {
      "cell_type": "markdown",
      "metadata": {
        "id": "2EuHnkEcicPx",
        "colab_type": "text"
      },
      "source": [
        "You are owing a supermarket mall and through membership cards, you have some basic data about your customers like Customer ID, age, gender, annual income and spending score. Spending Score is something you assign to the customer based on your defined parameters like customer behavior and purchasing data."
      ]
    },
    {
      "cell_type": "code",
      "metadata": {
        "id": "yeHM1o2KVaG4",
        "colab_type": "code",
        "colab": {}
      },
      "source": [
        "import numpy as np #linear algebra library of Python\n",
        "import pandas as pd # build on top of numpy for data analysis, data manipulation and data visualization\n",
        "import matplotlib.pyplot as plt #plotting library of Python"
      ],
      "execution_count": 0,
      "outputs": []
    },
    {
      "cell_type": "markdown",
      "metadata": {
        "id": "h9VDKOcHxjiS",
        "colab_type": "text"
      },
      "source": [
        "Now let's mount Google drive so that we can upload the diabetes.csv file. You can find the code in the 'Code snippets' tab of Colab"
      ]
    },
    {
      "cell_type": "code",
      "metadata": {
        "id": "rZAb8UyBZOyk",
        "colab_type": "code",
        "outputId": "3217ec20-1e7f-4a33-dd80-107ff1a0308e",
        "colab": {
          "base_uri": "https://localhost:8080/",
          "height": 34
        }
      },
      "source": [
        "from google.colab import drive\n",
        "drive.mount('/content/gdrive')"
      ],
      "execution_count": 21,
      "outputs": [
        {
          "output_type": "stream",
          "text": [
            "Drive already mounted at /content/gdrive; to attempt to forcibly remount, call drive.mount(\"/content/gdrive\", force_remount=True).\n"
          ],
          "name": "stdout"
        }
      ]
    },
    {
      "cell_type": "markdown",
      "metadata": {
        "id": "NJBkAU_OyxNG",
        "colab_type": "text"
      },
      "source": [
        "First thing that we do is take a look at the shape of the dataframe (df.shape) and take a look at first 5 lines through df.head()"
      ]
    },
    {
      "cell_type": "code",
      "metadata": {
        "id": "TPjSc1H1XGhq",
        "colab_type": "code",
        "outputId": "0612f91d-2002-4ba6-a16f-532b8476282e",
        "colab": {
          "base_uri": "https://localhost:8080/",
          "height": 204
        }
      },
      "source": [
        "df=pd.read_csv('/content/gdrive/My Drive/Colab Notebooks/Mall_Customers.csv') #import file from Google Drive and create a pandas dataframe df\n",
        "df.head() #shows first 5 lines including column namesdf.shape # number of rows and columns of dataframe"
      ],
      "execution_count": 22,
      "outputs": [
        {
          "output_type": "execute_result",
          "data": {
            "text/html": [
              "<div>\n",
              "<style scoped>\n",
              "    .dataframe tbody tr th:only-of-type {\n",
              "        vertical-align: middle;\n",
              "    }\n",
              "\n",
              "    .dataframe tbody tr th {\n",
              "        vertical-align: top;\n",
              "    }\n",
              "\n",
              "    .dataframe thead th {\n",
              "        text-align: right;\n",
              "    }\n",
              "</style>\n",
              "<table border=\"1\" class=\"dataframe\">\n",
              "  <thead>\n",
              "    <tr style=\"text-align: right;\">\n",
              "      <th></th>\n",
              "      <th>CustomerID</th>\n",
              "      <th>Gender</th>\n",
              "      <th>Age</th>\n",
              "      <th>Annual Income (k$)</th>\n",
              "      <th>Spending Score (1-100)</th>\n",
              "    </tr>\n",
              "  </thead>\n",
              "  <tbody>\n",
              "    <tr>\n",
              "      <th>0</th>\n",
              "      <td>1</td>\n",
              "      <td>Male</td>\n",
              "      <td>19</td>\n",
              "      <td>15</td>\n",
              "      <td>39</td>\n",
              "    </tr>\n",
              "    <tr>\n",
              "      <th>1</th>\n",
              "      <td>2</td>\n",
              "      <td>Male</td>\n",
              "      <td>21</td>\n",
              "      <td>15</td>\n",
              "      <td>81</td>\n",
              "    </tr>\n",
              "    <tr>\n",
              "      <th>2</th>\n",
              "      <td>3</td>\n",
              "      <td>Female</td>\n",
              "      <td>20</td>\n",
              "      <td>16</td>\n",
              "      <td>6</td>\n",
              "    </tr>\n",
              "    <tr>\n",
              "      <th>3</th>\n",
              "      <td>4</td>\n",
              "      <td>Female</td>\n",
              "      <td>23</td>\n",
              "      <td>16</td>\n",
              "      <td>77</td>\n",
              "    </tr>\n",
              "    <tr>\n",
              "      <th>4</th>\n",
              "      <td>5</td>\n",
              "      <td>Female</td>\n",
              "      <td>31</td>\n",
              "      <td>17</td>\n",
              "      <td>40</td>\n",
              "    </tr>\n",
              "  </tbody>\n",
              "</table>\n",
              "</div>"
            ],
            "text/plain": [
              "   CustomerID  Gender  Age  Annual Income (k$)  Spending Score (1-100)\n",
              "0           1    Male   19                  15                      39\n",
              "1           2    Male   21                  15                      81\n",
              "2           3  Female   20                  16                       6\n",
              "3           4  Female   23                  16                      77\n",
              "4           5  Female   31                  17                      40"
            ]
          },
          "metadata": {
            "tags": []
          },
          "execution_count": 22
        }
      ]
    },
    {
      "cell_type": "code",
      "metadata": {
        "id": "moM92WI71Y7J",
        "colab_type": "code",
        "outputId": "e4e7d66d-79c4-481b-f933-c128ba4af25b",
        "colab": {
          "base_uri": "https://localhost:8080/",
          "height": 34
        }
      },
      "source": [
        "df.shape # provides # rows and # columns of the dataframe df - 200 rows and 5 columns"
      ],
      "execution_count": 23,
      "outputs": [
        {
          "output_type": "execute_result",
          "data": {
            "text/plain": [
              "(200, 5)"
            ]
          },
          "metadata": {
            "tags": []
          },
          "execution_count": 23
        }
      ]
    },
    {
      "cell_type": "code",
      "metadata": {
        "id": "10ws5u4aDKiI",
        "colab_type": "code",
        "colab": {}
      },
      "source": [
        "X=df.iloc[:, [3,4]].values # selects columns 3 and 4 of the dataframe (2 last colums) - it means that we want to cluster with respect to income and spending score"
      ],
      "execution_count": 0,
      "outputs": []
    },
    {
      "cell_type": "markdown",
      "metadata": {
        "id": "ge4b9NSZChGp",
        "colab_type": "text"
      },
      "source": [
        "Now we are ready for K-means and we will start by finding the best k. This is the so-called elbow method. Basically we will calculate the cost for different values of k. As k increases the cost will decrease. The for loop will fit the kmeans algorithm to our data and will compute the within cluster sum of squares (wcss) and appended to our wcss list\n"
      ]
    },
    {
      "cell_type": "markdown",
      "metadata": {
        "id": "Fy4TUnfoj7tQ",
        "colab_type": "text"
      },
      "source": [
        "Parameters kmeans:\n",
        "\n",
        "init: 'random': random initiualization method - choose k observations (rows) at random from data for the initial centroids (overlap data with centroids)\n",
        "\n",
        "max_iter: maximum number of iterations of the k-means algorithm for a single run to converge\n",
        "\n",
        "n_init: number of time the k-means algorithm will be run with different centroid seeds. The final results will be the best output of n_init consecutive runs in terms of inertia."
      ]
    },
    {
      "cell_type": "code",
      "metadata": {
        "id": "IXuJdy0ej6g-",
        "colab_type": "code",
        "colab": {
          "base_uri": "https://localhost:8080/",
          "height": 295
        },
        "outputId": "ad3bee83-2629-4b65-ecf7-366edf2fbe5b"
      },
      "source": [
        "from sklearn.cluster import KMeans\n",
        "wcss=[] # wccs is 'within cluster sum of squares'\n",
        "for i in range(1,11):\n",
        "    kmeans=KMeans(n_clusters=i, init='random', max_iter=300, n_init=10, random_state=42) #random_state makes sure that we always get same numbers everytime we rerun the code\n",
        "    kmeans.fit(X) # fits the modelcompute k-means clustering\n",
        "    wcss.append(kmeans.inertia_) # sum of squared distances of samples to their closest cluster center.\n",
        "\n",
        "plt.plot(range(1,11),wcss)\n",
        "plt.title('The Elbow Method Graph')\n",
        "plt.xlabel('Number of clusters')\n",
        "plt.ylabel('WCSS')\n",
        "plt.show()\n"
      ],
      "execution_count": 36,
      "outputs": [
        {
          "output_type": "display_data",
          "data": {
            "image/png": "[encoded data removed]",
            "text/plain": [
              "<Figure size 432x288 with 1 Axes>"
            ]
          },
          "metadata": {
            "tags": []
          }
        }
      ]
    },
    {
      "cell_type": "markdown",
      "metadata": {
        "id": "ODDge7I9osCK",
        "colab_type": "text"
      },
      "source": [
        "Based on above graph (k vs. Cost) we suggest to take k=5 (5 centroids meaning 5 clusters)"
      ]
    },
    {
      "cell_type": "code",
      "metadata": {
        "id": "s4yEbF4epC-T",
        "colab_type": "code",
        "colab": {}
      },
      "source": [
        "model=KMeans(n_clusters=5,init='random', max_iter=300, n_init=10, random_state=42)\n",
        "y_kmeans=model.fit_predict(X) # output is a vector with all samples and their cluster index"
      ],
      "execution_count": 0,
      "outputs": []
    },
    {
      "cell_type": "code",
      "metadata": {
        "id": "8xkWULIPpwoJ",
        "colab_type": "code",
        "colab": {
          "base_uri": "https://localhost:8080/",
          "height": 350
        },
        "outputId": "e22bd75d-cda0-4ad2-d1ce-710a16d2f41e"
      },
      "source": [
        "plt.figure(figsize=(8,5))\n",
        "plt.scatter(X[y_kmeans == 0, 0], X[y_kmeans == 0, 1], s = 100, c = 'red', label = 'Low Income/Low Spending') #s is size of point\n",
        "plt.scatter(X[y_kmeans == 1, 0], X[y_kmeans == 1, 1], s = 100, c = 'blue', label = 'High Income/Low Spending')\n",
        "plt.scatter(X[y_kmeans == 2, 0], X[y_kmeans == 2, 1], s = 100, c = 'green', label = 'Low Average Income/Average Spending')\n",
        "plt.scatter(X[y_kmeans == 3, 0], X[y_kmeans == 3, 1], s = 100, c = 'cyan', label = 'Low Income/High Spending')\n",
        "plt.scatter(X[y_kmeans == 4, 0], X[y_kmeans == 4, 1], s = 100, c = 'magenta', label = 'High Income/High Spending')\n",
        "\n",
        "plt.title('Clusters of customers')\n",
        "plt.xlabel('Annual Income (k$)')\n",
        "plt.ylabel('Spending Score (1-100)')\n",
        "plt.legend(loc=0)\n",
        "plt.show()"
      ],
      "execution_count": 50,
      "outputs": [
        {
          "output_type": "display_data",
          "data": {
            "image/png": "[encoded data removed]",
            "text/plain": [
              "<Figure size 576x360 with 1 Axes>"
            ]
          },
          "metadata": {
            "tags": []
          }
        }
      ]
    },
    {
      "cell_type": "markdown",
      "metadata": {
        "id": "Xs3F3arhWCtA",
        "colab_type": "text"
      },
      "source": [
        "X[y_kmeans == 0, 0] means outcome is cluster index 0 for column 0"
      ]
    }
  ]
}