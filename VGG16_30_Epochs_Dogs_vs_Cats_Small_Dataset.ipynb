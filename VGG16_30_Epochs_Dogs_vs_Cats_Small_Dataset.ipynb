{
  "nbformat": 4,
  "nbformat_minor": 0,
  "metadata": {
    "colab": {
      "name": "VGG16 - 30 Epochs - Dogs vs. Cats - Small Dataset.ipynb",
      "provenance": [],
      "collapsed_sections": [],
      "include_colab_link": true
    },
    "kernelspec": {
      "name": "python3",
      "display_name": "Python 3"
    },
    "accelerator": "TPU"
  },
  "cells": [
    {
      "cell_type": "markdown",
      "metadata": {
        "id": "view-in-github",
        "colab_type": "text"
      },
      "source": [
        "<a href=\"https://colab.research.google.com/github/mfavaits/YouTube-Series-on-Machine-Learning/blob/master/VGG16_30_Epochs_Dogs_vs_Cats_Small_Dataset.ipynb\" target=\"_parent\"><img src=\"https://colab.research.google.com/assets/colab-badge.svg\" alt=\"Open In Colab\"/></a>"
      ]
    },
    {
      "cell_type": "code",
      "metadata": {
        "id": "wCv4aeLxA1Xr",
        "colab_type": "code",
        "colab": {}
      },
      "source": [
        "import numpy as np\n",
        "import matplotlib.pyplot as plt\n",
        "\n",
        "import os\n",
        "import shutil"
      ],
      "execution_count": 0,
      "outputs": []
    },
    {
      "cell_type": "code",
      "metadata": {
        "id": "JD7vGwSixv_w",
        "colab_type": "code",
        "colab": {}
      },
      "source": [
        "from google.colab import drive\n",
        "drive.mount('/content/drive')"
      ],
      "execution_count": 0,
      "outputs": []
    },
    {
      "cell_type": "code",
      "metadata": {
        "id": "jFc0NOGoXixY",
        "colab_type": "code",
        "outputId": "d25aef07-6b0a-4068-d020-0b807fbe82cd",
        "colab": {
          "base_uri": "https://localhost:8080/",
          "height": 938
        }
      },
      "source": [
        "from keras.applications import VGG16\n",
        "from keras.preprocessing.image import ImageDataGenerator\n",
        "conv_base = VGG16(weights= 'imagenet', include_top=False, input_shape= (150,150,3))\n",
        "conv_base.summary ()"
      ],
      "execution_count": 0,
      "outputs": [
        {
          "output_type": "stream",
          "text": [
            "Using TensorFlow backend.\n"
          ],
          "name": "stderr"
        },
        {
          "output_type": "stream",
          "text": [
            "WARNING:tensorflow:From /usr/local/lib/python3.6/dist-packages/keras/backend/tensorflow_backend.py:66: The name tf.get_default_graph is deprecated. Please use tf.compat.v1.get_default_graph instead.\n",
            "\n",
            "WARNING:tensorflow:From /usr/local/lib/python3.6/dist-packages/keras/backend/tensorflow_backend.py:4267: The name tf.nn.max_pool is deprecated. Please use tf.nn.max_pool2d instead.\n",
            "\n",
            "Downloading data from https://github.com/fchollet/deep-learning-models/releases/download/v0.1/vgg16_weights_tf_dim_ordering_tf_kernels_notop.h5\n",
            "58892288/58889256 [==============================] - 1s 0us/step\n",
            "Model: \"vgg16\"\n",
            "_________________________________________________________________\n",
            "Layer (type)                 Output Shape              Param #   \n",
            "=================================================================\n",
            "input_1 (InputLayer)         (None, 150, 150, 3)       0         \n",
            "_________________________________________________________________\n",
            "block1_conv1 (Conv2D)        (None, 150, 150, 64)      1792      \n",
            "_________________________________________________________________\n",
            "block1_conv2 (Conv2D)        (None, 150, 150, 64)      36928     \n",
            "_________________________________________________________________\n",
            "block1_pool (MaxPooling2D)   (None, 75, 75, 64)        0         \n",
            "_________________________________________________________________\n",
            "block2_conv1 (Conv2D)        (None, 75, 75, 128)       73856     \n",
            "_________________________________________________________________\n",
            "block2_conv2 (Conv2D)        (None, 75, 75, 128)       147584    \n",
            "_________________________________________________________________\n",
            "block2_pool (MaxPooling2D)   (None, 37, 37, 128)       0         \n",
            "_________________________________________________________________\n",
            "block3_conv1 (Conv2D)        (None, 37, 37, 256)       295168    \n",
            "_________________________________________________________________\n",
            "block3_conv2 (Conv2D)        (None, 37, 37, 256)       590080    \n",
            "_________________________________________________________________\n",
            "block3_conv3 (Conv2D)        (None, 37, 37, 256)       590080    \n",
            "_________________________________________________________________\n",
            "block3_pool (MaxPooling2D)   (None, 18, 18, 256)       0         \n",
            "_________________________________________________________________\n",
            "block4_conv1 (Conv2D)        (None, 18, 18, 512)       1180160   \n",
            "_________________________________________________________________\n",
            "block4_conv2 (Conv2D)        (None, 18, 18, 512)       2359808   \n",
            "_________________________________________________________________\n",
            "block4_conv3 (Conv2D)        (None, 18, 18, 512)       2359808   \n",
            "_________________________________________________________________\n",
            "block4_pool (MaxPooling2D)   (None, 9, 9, 512)         0         \n",
            "_________________________________________________________________\n",
            "block5_conv1 (Conv2D)        (None, 9, 9, 512)         2359808   \n",
            "_________________________________________________________________\n",
            "block5_conv2 (Conv2D)        (None, 9, 9, 512)         2359808   \n",
            "_________________________________________________________________\n",
            "block5_conv3 (Conv2D)        (None, 9, 9, 512)         2359808   \n",
            "_________________________________________________________________\n",
            "block5_pool (MaxPooling2D)   (None, 4, 4, 512)         0         \n",
            "=================================================================\n",
            "Total params: 14,714,688\n",
            "Trainable params: 14,714,688\n",
            "Non-trainable params: 0\n",
            "_________________________________________________________________\n"
          ],
          "name": "stdout"
        }
      ]
    },
    {
      "cell_type": "markdown",
      "metadata": {
        "id": "RyVMWiyed3PD",
        "colab_type": "text"
      },
      "source": [
        "The final feature map has shape (5, 5, 2048).\n",
        "We extract features from by calling the predict method on the conv_base model"
      ]
    },
    {
      "cell_type": "code",
      "metadata": {
        "id": "H-cgipz6eGsb",
        "colab_type": "code",
        "colab": {}
      },
      "source": [
        "datagen=ImageDataGenerator(rescale=1./255)\n",
        "batch_size=20"
      ],
      "execution_count": 0,
      "outputs": []
    },
    {
      "cell_type": "code",
      "metadata": {
        "id": "-zyKuCt6eIlh",
        "colab_type": "code",
        "colab": {}
      },
      "source": [
        "def extract_features(directory, sample_count): #extract features from a directory with JPEG files and sample_count is # files in dir\n",
        "    features=np.zeros(shape=(sample_count, 4, 4, 512)) # empty array\n",
        "    labels=np.zeros(shape=(sample_count)) # empty array\n",
        "    generator=datagen.flow_from_directory(directory, target_size=(150, 150), batch_size=batch_size, class_mode='binary')\n",
        "    \n",
        "    i=0\n",
        "    for inputs_batch, labels_batch in generator: \n",
        "      features_batch=conv_base.predict(inputs_batch) # extract features from conv_base\n",
        "      features[i*batch_size:(i+1)*batch_size]=features_batch # for i=0 we have features[0:20], for i=2 features[20:40]\n",
        "      labels[i*batch_size:(i+1)*batch_size]=labels_batch\n",
        "      i+=1\n",
        "      if i*batch_size>=sample_count:\n",
        "        break #break when every image has been seen once\n",
        "      return features, labels"
      ],
      "execution_count": 0,
      "outputs": []
    },
    {
      "cell_type": "code",
      "metadata": {
        "id": "NBPJY_l4eRcj",
        "colab_type": "code",
        "outputId": "d256f72d-7c37-4fdb-fede-e62847f0e24c",
        "colab": {
          "base_uri": "https://localhost:8080/",
          "height": 51
        }
      },
      "source": [
        "train_features, train_labels = extract_features('/content/drive/My Drive/Colab Notebooks/training_2000', 2000)\n",
        "validation_features, validation_labels = extract_features('/content/drive/My Drive/Colab Notebooks/val_1000', 1000)"
      ],
      "execution_count": 0,
      "outputs": [
        {
          "output_type": "stream",
          "text": [
            "Found 2000 images belonging to 2 classes.\n",
            "Found 1000 images belonging to 2 classes.\n"
          ],
          "name": "stdout"
        }
      ]
    },
    {
      "cell_type": "markdown",
      "metadata": {
        "id": "MA1zXLtSeV_B",
        "colab_type": "text"
      },
      "source": [
        "The extracted features are currently of shape (samples, 5 , 5, 2048) and we need to flatten before pushing them through a densely connected layer"
      ]
    },
    {
      "cell_type": "code",
      "metadata": {
        "id": "czajseiOeXC3",
        "colab_type": "code",
        "colab": {}
      },
      "source": [
        "train_features=np.reshape(train_features, (2000, 4*4*512))\n",
        "validation_features=np.reshape(validation_features, (1000, 4*4*512))"
      ],
      "execution_count": 0,
      "outputs": []
    },
    {
      "cell_type": "code",
      "metadata": {
        "id": "sMMCxy7tecQm",
        "colab_type": "code",
        "colab": {}
      },
      "source": [
        "from keras import models\n",
        "from keras import layers\n",
        "from keras import optimizers"
      ],
      "execution_count": 0,
      "outputs": []
    },
    {
      "cell_type": "code",
      "metadata": {
        "id": "LEkx4cZ9eit1",
        "colab_type": "code",
        "colab": {}
      },
      "source": [
        "model=models.Sequential()\n",
        "model.add(layers.Dense(256, activation='relu', input_dim=4*4*512))\n",
        "#model.add(layers.Dropout(0.5))\n",
        "model.add(layers.Dense(1, activation='sigmoid'))"
      ],
      "execution_count": 0,
      "outputs": []
    },
    {
      "cell_type": "code",
      "metadata": {
        "id": "Bqt8jSKDen1x",
        "colab_type": "code",
        "outputId": "5687f85f-1dc4-4b93-d159-bc13b513f76e",
        "colab": {
          "base_uri": "https://localhost:8080/",
          "height": 1000
        }
      },
      "source": [
        "model.compile(loss='binary_crossentropy', optimizer=optimizers.RMSprop(lr=1e-4), metrics=['acc'])\n",
        "history=model.fit(train_features, train_labels, epochs=30, batch_size=20, validation_data=(validation_features, validation_labels))"
      ],
      "execution_count": 0,
      "outputs": [
        {
          "output_type": "stream",
          "text": [
            "WARNING:tensorflow:From /usr/local/lib/python3.6/dist-packages/keras/optimizers.py:793: The name tf.train.Optimizer is deprecated. Please use tf.compat.v1.train.Optimizer instead.\n",
            "\n",
            "WARNING:tensorflow:From /usr/local/lib/python3.6/dist-packages/tensorflow_core/python/ops/nn_impl.py:183: where (from tensorflow.python.ops.array_ops) is deprecated and will be removed in a future version.\n",
            "Instructions for updating:\n",
            "Use tf.where in 2.0, which has the same broadcast rule as np.where\n",
            "Train on 2000 samples, validate on 1000 samples\n",
            "Epoch 1/30\n",
            "2000/2000 [==============================] - 3s 2ms/step - loss: 0.6782 - acc: 0.9940 - val_loss: 0.6526 - val_acc: 0.9930\n",
            "Epoch 2/30\n",
            "2000/2000 [==============================] - 3s 1ms/step - loss: 0.6295 - acc: 0.9975 - val_loss: 0.6063 - val_acc: 0.9950\n",
            "Epoch 3/30\n",
            "2000/2000 [==============================] - 3s 1ms/step - loss: 0.5788 - acc: 0.9995 - val_loss: 0.5718 - val_acc: 0.9900\n",
            "Epoch 4/30\n",
            "2000/2000 [==============================] - 3s 1ms/step - loss: 0.5252 - acc: 1.0000 - val_loss: 0.5175 - val_acc: 0.9900\n",
            "Epoch 5/30\n",
            "2000/2000 [==============================] - 3s 1ms/step - loss: 0.4689 - acc: 1.0000 - val_loss: 0.4575 - val_acc: 0.9920\n",
            "Epoch 6/30\n",
            "2000/2000 [==============================] - 3s 1ms/step - loss: 0.4111 - acc: 1.0000 - val_loss: 0.3963 - val_acc: 0.9940\n",
            "Epoch 7/30\n",
            "2000/2000 [==============================] - 3s 1ms/step - loss: 0.3542 - acc: 1.0000 - val_loss: 0.3441 - val_acc: 0.9940\n",
            "Epoch 8/30\n",
            "2000/2000 [==============================] - 3s 1ms/step - loss: 0.2995 - acc: 1.0000 - val_loss: 0.2994 - val_acc: 0.9930\n",
            "Epoch 9/30\n",
            "2000/2000 [==============================] - 3s 2ms/step - loss: 0.2483 - acc: 1.0000 - val_loss: 0.2473 - val_acc: 0.9940\n",
            "Epoch 10/30\n",
            "2000/2000 [==============================] - 3s 2ms/step - loss: 0.2019 - acc: 1.0000 - val_loss: 0.2122 - val_acc: 0.9930\n",
            "Epoch 11/30\n",
            "2000/2000 [==============================] - 3s 1ms/step - loss: 0.1610 - acc: 1.0000 - val_loss: 0.1723 - val_acc: 0.9940\n",
            "Epoch 12/30\n",
            "2000/2000 [==============================] - 3s 1ms/step - loss: 0.1257 - acc: 1.0000 - val_loss: 0.1428 - val_acc: 0.9930\n",
            "Epoch 13/30\n",
            "2000/2000 [==============================] - 3s 1ms/step - loss: 0.0963 - acc: 1.0000 - val_loss: 0.1187 - val_acc: 0.9930\n",
            "Epoch 14/30\n",
            "2000/2000 [==============================] - 3s 1ms/step - loss: 0.0723 - acc: 1.0000 - val_loss: 0.0981 - val_acc: 0.9930\n",
            "Epoch 15/30\n",
            "2000/2000 [==============================] - 3s 1ms/step - loss: 0.0533 - acc: 1.0000 - val_loss: 0.0846 - val_acc: 0.9930\n",
            "Epoch 16/30\n",
            "2000/2000 [==============================] - 3s 1ms/step - loss: 0.0385 - acc: 1.0000 - val_loss: 0.0734 - val_acc: 0.9930\n",
            "Epoch 17/30\n",
            "2000/2000 [==============================] - 3s 2ms/step - loss: 0.0274 - acc: 1.0000 - val_loss: 0.0661 - val_acc: 0.9930\n",
            "Epoch 18/30\n",
            "2000/2000 [==============================] - 4s 2ms/step - loss: 0.0191 - acc: 1.0000 - val_loss: 0.0611 - val_acc: 0.9930\n",
            "Epoch 19/30\n",
            "2000/2000 [==============================] - 3s 1ms/step - loss: 0.0131 - acc: 1.0000 - val_loss: 0.0585 - val_acc: 0.9930\n",
            "Epoch 20/30\n",
            "2000/2000 [==============================] - 3s 1ms/step - loss: 0.0088 - acc: 1.0000 - val_loss: 0.0574 - val_acc: 0.9930\n",
            "Epoch 21/30\n",
            "2000/2000 [==============================] - 3s 1ms/step - loss: 0.0059 - acc: 1.0000 - val_loss: 0.0575 - val_acc: 0.9930\n",
            "Epoch 22/30\n",
            "2000/2000 [==============================] - 3s 2ms/step - loss: 0.0038 - acc: 1.0000 - val_loss: 0.0585 - val_acc: 0.9930\n",
            "Epoch 23/30\n",
            "2000/2000 [==============================] - 4s 2ms/step - loss: 0.0025 - acc: 1.0000 - val_loss: 0.0604 - val_acc: 0.9920\n",
            "Epoch 24/30\n",
            "2000/2000 [==============================] - 4s 2ms/step - loss: 0.0015 - acc: 1.0000 - val_loss: 0.0621 - val_acc: 0.9920\n",
            "Epoch 25/30\n",
            "2000/2000 [==============================] - 4s 2ms/step - loss: 9.6195e-04 - acc: 1.0000 - val_loss: 0.0643 - val_acc: 0.9930\n",
            "Epoch 26/30\n",
            "2000/2000 [==============================] - 3s 2ms/step - loss: 5.8871e-04 - acc: 1.0000 - val_loss: 0.0665 - val_acc: 0.9920\n",
            "Epoch 27/30\n",
            "2000/2000 [==============================] - 3s 1ms/step - loss: 3.5479e-04 - acc: 1.0000 - val_loss: 0.0683 - val_acc: 0.9920\n",
            "Epoch 28/30\n",
            "2000/2000 [==============================] - 3s 1ms/step - loss: 2.1050e-04 - acc: 1.0000 - val_loss: 0.0696 - val_acc: 0.9920\n",
            "Epoch 29/30\n",
            "2000/2000 [==============================] - 3s 1ms/step - loss: 1.2290e-04 - acc: 1.0000 - val_loss: 0.0711 - val_acc: 0.9920\n",
            "Epoch 30/30\n",
            "2000/2000 [==============================] - 3s 1ms/step - loss: 7.0794e-05 - acc: 1.0000 - val_loss: 0.0724 - val_acc: 0.9920\n"
          ],
          "name": "stdout"
        }
      ]
    },
    {
      "cell_type": "code",
      "metadata": {
        "id": "haAIiXnHetpI",
        "colab_type": "code",
        "colab": {}
      },
      "source": [
        "acc=history.history['acc']\n",
        "val_acc=history.history['val_acc']\n",
        "loss=history.history['loss']\n",
        "val_loss=history.history['val_loss']"
      ],
      "execution_count": 0,
      "outputs": []
    },
    {
      "cell_type": "code",
      "metadata": {
        "id": "SwWm6h61exnY",
        "colab_type": "code",
        "colab": {}
      },
      "source": [
        "epochs=range(1, len(acc)+1)"
      ],
      "execution_count": 0,
      "outputs": []
    },
    {
      "cell_type": "code",
      "metadata": {
        "id": "PzwBsRIwe0w0",
        "colab_type": "code",
        "outputId": "6c6ba4f6-6c02-4d4b-f98a-f003f6828ca0",
        "colab": {
          "base_uri": "https://localhost:8080/",
          "height": 545
        }
      },
      "source": [
        "plt.plot(epochs, acc, 'bo', label='training acc')\n",
        "plt.plot(epochs, val_acc, 'b', label='validation acc')\n",
        "plt.title('training and validation accuracy')\n",
        "plt.legend()\n",
        "plt.figure()\n",
        "\n",
        "plt.plot(epochs, loss, 'bo', label='training loss')\n",
        "plt.plot(epochs, val_loss, 'b', label='validation loss')\n",
        "plt.title('training and validation loss')\n",
        "plt.legend()\n",
        "plt.show()"
      ],
      "execution_count": 0,
      "outputs": [
        {
          "output_type": "display_data",
          "data": {
            "image/png": "[encoded data removed]",
            "text/plain": [
              "<Figure size 432x288 with 1 Axes>"
            ]
          },
          "metadata": {
            "tags": []
          }
        },
        {
          "output_type": "display_data",
          "data": {
            "image/png": "[encoded data removed]",
            "text/plain": [
              "<Figure size 432x288 with 1 Axes>"
            ]
          },
          "metadata": {
            "tags": []
          }
        }
      ]
    }
  ]
}