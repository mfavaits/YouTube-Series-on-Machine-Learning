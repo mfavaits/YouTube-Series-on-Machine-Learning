{
  "nbformat": 4,
  "nbformat_minor": 0,
  "metadata": {
    "colab": {
      "name": "Transfer Learning - VGG16 with Data Augmentation - Dogs vs. Cats - Small Dataset.ipynb",
      "provenance": [],
      "collapsed_sections": [],
      "include_colab_link": true
    },
    "kernelspec": {
      "name": "python3",
      "display_name": "Python 3"
    },
    "accelerator": "TPU"
  },
  "cells": [
    {
      "cell_type": "markdown",
      "metadata": {
        "id": "view-in-github",
        "colab_type": "text"
      },
      "source": [
        "<a href=\"https://colab.research.google.com/github/mfavaits/YouTube-Series-on-Machine-Learning/blob/master/Transfer_Learning_VGG16_with_Data_Augmentation_Dogs_vs_Cats_Small_Dataset.ipynb\" target=\"_parent\"><img src=\"https://colab.research.google.com/assets/colab-badge.svg\" alt=\"Open In Colab\"/></a>"
      ]
    },
    {
      "cell_type": "code",
      "metadata": {
        "id": "wCv4aeLxA1Xr",
        "colab_type": "code",
        "colab": {}
      },
      "source": [
        "import numpy as np\n",
        "import matplotlib.pyplot as plt\n",
        "\n",
        "import os\n",
        "import shutil"
      ],
      "execution_count": 0,
      "outputs": []
    },
    {
      "cell_type": "code",
      "metadata": {
        "id": "JD7vGwSixv_w",
        "colab_type": "code",
        "outputId": "e9ae1fc7-f9c5-4e1e-eefd-1ed681171e6f",
        "colab": {
          "base_uri": "https://localhost:8080/",
          "height": 34
        }
      },
      "source": [
        "from google.colab import drive\n",
        "drive.mount('/content/drive')"
      ],
      "execution_count": 13,
      "outputs": [
        {
          "output_type": "stream",
          "text": [
            "Mounted at /content/drive\n"
          ],
          "name": "stdout"
        }
      ]
    },
    {
      "cell_type": "code",
      "metadata": {
        "id": "nwHsoXL-F0g2",
        "colab_type": "code",
        "colab": {}
      },
      "source": [
        "from keras.applications import VGG16\n",
        "from keras.preprocessing.image import ImageDataGenerator\n",
        "conv_base = VGG16(weights= 'imagenet', include_top=False, input_shape=(150,150,3))"
      ],
      "execution_count": 0,
      "outputs": []
    },
    {
      "cell_type": "markdown",
      "metadata": {
        "id": "e9qcaRMhIV7c",
        "colab_type": "text"
      },
      "source": [
        "The final feature map has shape (4, 4, 512).\n",
        "We extract features from by calling the predict method on the conv_base model"
      ]
    },
    {
      "cell_type": "code",
      "metadata": {
        "id": "BY2SBTzqGgPR",
        "colab_type": "code",
        "colab": {}
      },
      "source": [
        "train_datagen=ImageDataGenerator(rescale=1./255, rotation_range=40, width_shift_range=0.2, height_shift_range=0.2, shear_range=0.2, zoom_range=0.2, horizontal_flip=True, fill_mode='nearest')\n",
        "validation_datagen=ImageDataGenerator(rescale=1./255)\n",
        "batch_size=20"
      ],
      "execution_count": 0,
      "outputs": []
    },
    {
      "cell_type": "code",
      "metadata": {
        "id": "3eayI5diU32l",
        "colab_type": "code",
        "colab": {
          "base_uri": "https://localhost:8080/",
          "height": 51
        },
        "outputId": "5b1db238-81d9-4b82-9149-ad4898a26f42"
      },
      "source": [
        "train_generator=train_datagen.flow_from_directory('/content/drive/My Drive/Colab Notebooks/training_2000', target_size=(150,150), batch_size=20, class_mode='binary')\n",
        "validation_generator=validation_datagen.flow_from_directory('/content/drive/My Drive/Colab Notebooks/val_1000', target_size=(150,150), batch_size=20, class_mode='binary')"
      ],
      "execution_count": 16,
      "outputs": [
        {
          "output_type": "stream",
          "text": [
            "Found 2000 images belonging to 2 classes.\n",
            "Found 1000 images belonging to 2 classes.\n"
          ],
          "name": "stdout"
        }
      ]
    },
    {
      "cell_type": "markdown",
      "metadata": {
        "id": "fI5IINhnI-ct",
        "colab_type": "text"
      },
      "source": [
        "The extracted features are currently of shape (samples, 4 , 4, 512) and we need to flatten before pushing them through a densely connected layer"
      ]
    },
    {
      "cell_type": "code",
      "metadata": {
        "id": "10mhjDGSPQee",
        "colab_type": "code",
        "outputId": "b4163930-9aa7-4094-b157-1857e4b68601",
        "colab": {
          "base_uri": "https://localhost:8080/",
          "height": 289
        }
      },
      "source": [
        "from keras import models\n",
        "from keras import layers\n",
        "from keras import optimizers\n",
        "\n",
        "model=models.Sequential()\n",
        "model.add(conv_base)\n",
        "model.add(layers.Flatten())\n",
        "model.add(layers.Dense(256, activation='relu'))\n",
        "model.add(layers.Dense(1, activation='sigmoid'))\n",
        "model.summary ()\n",
        "conv_base.trainable=False"
      ],
      "execution_count": 19,
      "outputs": [
        {
          "output_type": "stream",
          "text": [
            "Model: \"sequential_2\"\n",
            "_________________________________________________________________\n",
            "Layer (type)                 Output Shape              Param #   \n",
            "=================================================================\n",
            "vgg16 (Model)                (None, 4, 4, 512)         14714688  \n",
            "_________________________________________________________________\n",
            "flatten_2 (Flatten)          (None, 8192)              0         \n",
            "_________________________________________________________________\n",
            "dense_3 (Dense)              (None, 256)               2097408   \n",
            "_________________________________________________________________\n",
            "dense_4 (Dense)              (None, 1)                 257       \n",
            "=================================================================\n",
            "Total params: 16,812,353\n",
            "Trainable params: 16,812,353\n",
            "Non-trainable params: 0\n",
            "_________________________________________________________________\n"
          ],
          "name": "stdout"
        }
      ]
    },
    {
      "cell_type": "code",
      "metadata": {
        "id": "8fS9kmK0PQZh",
        "colab_type": "code",
        "colab": {}
      },
      "source": [
        "model.compile(loss='binary_crossentropy', optimizer=optimizers.RMSprop(lr=2e-5), metrics=['acc'])"
      ],
      "execution_count": 0,
      "outputs": []
    },
    {
      "cell_type": "code",
      "metadata": {
        "id": "Lu-KKjHzXRix",
        "colab_type": "code",
        "outputId": "84a33740-3d85-47d5-ad89-893cd7d1cce7",
        "colab": {
          "base_uri": "https://localhost:8080/",
          "height": 1000
        }
      },
      "source": [
        "history = model.fit(train_generator, steps_per_epoch=100, epochs=30, validation_data=validation_generator, validation_steps=50)"
      ],
      "execution_count": 21,
      "outputs": [
        {
          "output_type": "stream",
          "text": [
            "Epoch 1/30\n",
            "100/100 [==============================] - 726s 7s/step - loss: 0.6255 - acc: 0.6495 - val_loss: 0.4883 - val_acc: 0.7900\n",
            "Epoch 2/30\n",
            "100/100 [==============================] - 725s 7s/step - loss: 0.5183 - acc: 0.7630 - val_loss: 0.4070 - val_acc: 0.8250\n",
            "Epoch 3/30\n",
            "100/100 [==============================] - 724s 7s/step - loss: 0.4619 - acc: 0.7920 - val_loss: 0.3652 - val_acc: 0.8410\n",
            "Epoch 4/30\n",
            "100/100 [==============================] - 723s 7s/step - loss: 0.4252 - acc: 0.8180 - val_loss: 0.3342 - val_acc: 0.8560\n",
            "Epoch 5/30\n",
            "100/100 [==============================] - 725s 7s/step - loss: 0.3953 - acc: 0.8270 - val_loss: 0.3347 - val_acc: 0.8470\n",
            "Epoch 6/30\n",
            "100/100 [==============================] - 727s 7s/step - loss: 0.3893 - acc: 0.8260 - val_loss: 0.3065 - val_acc: 0.8640\n",
            "Epoch 7/30\n",
            "100/100 [==============================] - 725s 7s/step - loss: 0.3857 - acc: 0.8220 - val_loss: 0.2978 - val_acc: 0.8680\n",
            "Epoch 8/30\n",
            "100/100 [==============================] - 724s 7s/step - loss: 0.3710 - acc: 0.8325 - val_loss: 0.2938 - val_acc: 0.8730\n",
            "Epoch 9/30\n",
            "100/100 [==============================] - 727s 7s/step - loss: 0.3609 - acc: 0.8440 - val_loss: 0.2902 - val_acc: 0.8710\n",
            "Epoch 10/30\n",
            " 99/100 [============================>.] - ETA: 4s - loss: 0.3524 - acc: 0.8429Epoch 1/30\n",
            "100/100 [==============================] - 726s 7s/step - loss: 0.6255 - acc: 0.6495 - val_loss: 0.4883 - val_acc: 0.7900\n",
            "Epoch 2/30\n",
            "100/100 [==============================] - 725s 7s/step - loss: 0.5183 - acc: 0.7630 - val_loss: 0.4070 - val_acc: 0.8250\n",
            "Epoch 3/30\n",
            "100/100 [==============================] - 724s 7s/step - loss: 0.4619 - acc: 0.7920 - val_loss: 0.3652 - val_acc: 0.8410\n",
            "Epoch 4/30\n",
            "100/100 [==============================] - 723s 7s/step - loss: 0.4252 - acc: 0.8180 - val_loss: 0.3342 - val_acc: 0.8560\n",
            "Epoch 5/30\n",
            "100/100 [==============================] - 725s 7s/step - loss: 0.3953 - acc: 0.8270 - val_loss: 0.3347 - val_acc: 0.8470\n",
            "Epoch 6/30\n",
            "100/100 [==============================] - 727s 7s/step - loss: 0.3893 - acc: 0.8260 - val_loss: 0.3065 - val_acc: 0.8640\n",
            "Epoch 7/30\n",
            "100/100 [==============================] - 725s 7s/step - loss: 0.3857 - acc: 0.8220 - val_loss: 0.2978 - val_acc: 0.8680\n",
            "Epoch 8/30\n",
            "100/100 [==============================] - 724s 7s/step - loss: 0.3710 - acc: 0.8325 - val_loss: 0.2938 - val_acc: 0.8730\n",
            "Epoch 9/30\n",
            "100/100 [==============================] - 727s 7s/step - loss: 0.3609 - acc: 0.8440 - val_loss: 0.2902 - val_acc: 0.8710\n",
            "Epoch 10/30\n",
            "100/100 [==============================] - 730s 7s/step - loss: 0.3530 - acc: 0.8430 - val_loss: 0.2921 - val_acc: 0.8730\n",
            "100/100 [==============================] - 730s 7s/step - loss: 0.3530 - acc: 0.8430 - val_loss: 0.2921 - val_acc: 0.8730\n",
            "Epoch 11/30\n",
            "Epoch 11/30\n",
            "100/100 [==============================] - 734s 7s/step - loss: 0.3536 - acc: 0.8495 - val_loss: 0.2783 - val_acc: 0.8760\n",
            "100/100 [==============================] - 734s 7s/step - loss: 0.3536 - acc: 0.8495 - val_loss: 0.2783 - val_acc: 0.8760\n",
            "Epoch 12/30\n",
            "Epoch 12/30\n",
            "100/100 [==============================] - 731s 7s/step - loss: 0.3481 - acc: 0.8475 - val_loss: 0.2841 - val_acc: 0.8740\n",
            "100/100 [==============================] - 731s 7s/step - loss: 0.3481 - acc: 0.8475 - val_loss: 0.2841 - val_acc: 0.8740\n",
            "Epoch 13/30\n",
            "Epoch 13/30\n",
            "100/100 [==============================] - 727s 7s/step - loss: 0.3535 - acc: 0.8425 - val_loss: 0.2705 - val_acc: 0.8880\n",
            "100/100 [==============================] - 727s 7s/step - loss: 0.3535 - acc: 0.8425 - val_loss: 0.2705 - val_acc: 0.8880\n",
            "Epoch 14/30\n",
            "Epoch 14/30\n",
            "100/100 [==============================] - 730s 7s/step - loss: 0.3405 - acc: 0.8455 - val_loss: 0.2752 - val_acc: 0.8790\n",
            "100/100 [==============================] - 730s 7s/step - loss: 0.3405 - acc: 0.8455 - val_loss: 0.2752 - val_acc: 0.8790\n",
            "Epoch 15/30\n",
            "Epoch 15/30\n",
            "100/100 [==============================] - 729s 7s/step - loss: 0.3273 - acc: 0.8595 - val_loss: 0.2847 - val_acc: 0.8740\n",
            "100/100 [==============================] - 729s 7s/step - loss: 0.3273 - acc: 0.8595 - val_loss: 0.2847 - val_acc: 0.8740\n",
            "Epoch 16/30\n",
            "Epoch 16/30\n",
            "100/100 [==============================] - 730s 7s/step - loss: 0.3297 - acc: 0.8580 - val_loss: 0.2628 - val_acc: 0.8910\n",
            "100/100 [==============================] - 730s 7s/step - loss: 0.3297 - acc: 0.8580 - val_loss: 0.2628 - val_acc: 0.8910\n",
            "Epoch 17/30\n",
            "Epoch 17/30\n",
            "100/100 [==============================] - 729s 7s/step - loss: 0.3355 - acc: 0.8540 - val_loss: 0.2649 - val_acc: 0.8850\n",
            "100/100 [==============================] - 729s 7s/step - loss: 0.3355 - acc: 0.8540 - val_loss: 0.2649 - val_acc: 0.8850\n",
            "Epoch 18/30\n",
            "Epoch 18/30\n",
            "100/100 [==============================] - 730s 7s/step - loss: 0.3231 - acc: 0.8600 - val_loss: 0.2803 - val_acc: 0.8880\n",
            "100/100 [==============================] - 730s 7s/step - loss: 0.3231 - acc: 0.8600 - val_loss: 0.2803 - val_acc: 0.8880\n",
            "Epoch 19/30\n",
            "Epoch 19/30\n",
            "100/100 [==============================] - 729s 7s/step - loss: 0.3235 - acc: 0.8630 - val_loss: 0.2637 - val_acc: 0.8960\n",
            "100/100 [==============================] - 729s 7s/step - loss: 0.3235 - acc: 0.8630 - val_loss: 0.2637 - val_acc: 0.8960\n",
            "Epoch 20/30\n",
            "Epoch 20/30\n",
            "100/100 [==============================] - 731s 7s/step - loss: 0.3126 - acc: 0.8605 - val_loss: 0.2573 - val_acc: 0.8950\n",
            "100/100 [==============================] - 731s 7s/step - loss: 0.3126 - acc: 0.8605 - val_loss: 0.2573 - val_acc: 0.8950\n",
            "Epoch 21/30\n",
            "Epoch 21/30\n",
            "100/100 [==============================] - 730s 7s/step - loss: 0.3164 - acc: 0.8630 - val_loss: 0.2681 - val_acc: 0.8910\n",
            "100/100 [==============================] - 730s 7s/step - loss: 0.3164 - acc: 0.8630 - val_loss: 0.2681 - val_acc: 0.8910\n",
            "Epoch 22/30\n",
            "Epoch 22/30\n",
            "100/100 [==============================] - 727s 7s/step - loss: 0.3143 - acc: 0.8640 - val_loss: 0.2590 - val_acc: 0.8950\n",
            "100/100 [==============================] - 727s 7s/step - loss: 0.3143 - acc: 0.8640 - val_loss: 0.2590 - val_acc: 0.8950\n",
            "Epoch 23/30\n",
            "Epoch 23/30\n",
            "100/100 [==============================] - 727s 7s/step - loss: 0.3152 - acc: 0.8625 - val_loss: 0.2579 - val_acc: 0.8950\n",
            "100/100 [==============================] - 727s 7s/step - loss: 0.3152 - acc: 0.8625 - val_loss: 0.2579 - val_acc: 0.8950\n",
            "Epoch 24/30\n",
            "Epoch 24/30\n",
            "100/100 [==============================] - 729s 7s/step - loss: 0.3060 - acc: 0.8710 - val_loss: 0.2757 - val_acc: 0.8870\n",
            "100/100 [==============================] - 729s 7s/step - loss: 0.3060 - acc: 0.8710 - val_loss: 0.2757 - val_acc: 0.8870\n",
            "Epoch 25/30\n",
            "Epoch 25/30\n",
            "100/100 [==============================] - 730s 7s/step - loss: 0.3077 - acc: 0.8680 - val_loss: 0.2551 - val_acc: 0.8940\n",
            "100/100 [==============================] - 730s 7s/step - loss: 0.3077 - acc: 0.8680 - val_loss: 0.2551 - val_acc: 0.8940\n",
            "Epoch 26/30\n",
            "Epoch 26/30\n",
            "100/100 [==============================] - 726s 7s/step - loss: 0.3202 - acc: 0.8600 - val_loss: 0.2606 - val_acc: 0.8900\n",
            "100/100 [==============================] - 726s 7s/step - loss: 0.3202 - acc: 0.8600 - val_loss: 0.2606 - val_acc: 0.8900\n",
            "Epoch 27/30\n",
            "Epoch 27/30\n",
            "100/100 [==============================] - 726s 7s/step - loss: 0.3045 - acc: 0.8670 - val_loss: 0.2610 - val_acc: 0.8960\n",
            "100/100 [==============================] - 726s 7s/step - loss: 0.3045 - acc: 0.8670 - val_loss: 0.2610 - val_acc: 0.8960\n",
            "Epoch 28/30\n",
            "Epoch 28/30\n",
            "100/100 [==============================] - 728s 7s/step - loss: 0.2978 - acc: 0.8750 - val_loss: 0.2504 - val_acc: 0.8960\n",
            "100/100 [==============================] - 728s 7s/step - loss: 0.2978 - acc: 0.8750 - val_loss: 0.2504 - val_acc: 0.8960\n",
            "Epoch 29/30\n",
            "Epoch 29/30\n",
            "100/100 [==============================] - 729s 7s/step - loss: 0.2992 - acc: 0.8680 - val_loss: 0.2485 - val_acc: 0.9010\n",
            "100/100 [==============================] - 729s 7s/step - loss: 0.2992 - acc: 0.8680 - val_loss: 0.2485 - val_acc: 0.9010\n",
            "Epoch 30/30\n",
            "Epoch 30/30\n",
            "100/100 [==============================] - 727s 7s/step - loss: 0.2983 - acc: 0.8675 - val_loss: 0.2750 - val_acc: 0.8870\n",
            "100/100 [==============================] - 727s 7s/step - loss: 0.2983 - acc: 0.8675 - val_loss: 0.2750 - val_acc: 0.8870\n"
          ],
          "name": "stdout"
        }
      ]
    },
    {
      "cell_type": "code",
      "metadata": {
        "id": "uxBFfQjwXRVG",
        "colab_type": "code",
        "colab": {}
      },
      "source": [
        "acc=history.history['acc']\n",
        "val_acc=history.history['val_acc']\n",
        "loss=history.history['loss']\n",
        "val_loss=history.history['val_loss']"
      ],
      "execution_count": 0,
      "outputs": []
    },
    {
      "cell_type": "code",
      "metadata": {
        "id": "N7MVm5FeXRLR",
        "colab_type": "code",
        "colab": {}
      },
      "source": [
        "epochs=range(1, len(acc)+1)"
      ],
      "execution_count": 0,
      "outputs": []
    },
    {
      "cell_type": "code",
      "metadata": {
        "id": "3sAK6k2LXRDm",
        "colab_type": "code",
        "outputId": "35fd3236-fc40-4467-ca57-35403483abec",
        "colab": {
          "base_uri": "https://localhost:8080/",
          "height": 545
        }
      },
      "source": [
        "plt.plot(epochs, acc, 'bo', label='training acc')\n",
        "plt.plot(epochs, val_acc, 'b', label='validation acc')\n",
        "plt.title('training and validation accuracy')\n",
        "plt.legend()\n",
        "plt.figure()\n",
        "\n",
        "plt.plot(epochs, loss, 'bo', label='training loss')\n",
        "plt.plot(epochs, val_loss, 'b', label='validation loss')\n",
        "plt.title('training and validation loss')\n",
        "plt.legend()\n",
        "plt.show()"
      ],
      "execution_count": 27,
      "outputs": [
        {
          "output_type": "display_data",
          "data": {
            "image/png": "[encoded data removed]",
            "text/plain": [
              "<Figure size 432x288 with 1 Axes>"
            ]
          },
          "metadata": {
            "tags": []
          }
        },
        {
          "output_type": "display_data",
          "data": {
            "image/png": "[encoded data removed]",
            "text/plain": [
              "<Figure size 432x288 with 1 Axes>"
            ]
          },
          "metadata": {
            "tags": []
          }
        }
      ]
    }
  ]
}