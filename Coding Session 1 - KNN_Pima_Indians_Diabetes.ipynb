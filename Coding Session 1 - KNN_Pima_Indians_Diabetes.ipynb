{
  "nbformat": 4,
  "nbformat_minor": 0,
  "metadata": {
    "colab": {
      "name": "KNN Pima Indians Diabetes.ipynb",
      "version": "0.3.2",
      "provenance": [],
      "collapsed_sections": [],
      "toc_visible": true
    },
    "kernelspec": {
      "name": "python3",
      "display_name": "Python 3"
    },
    "accelerator": "TPU"
  },
  "cells": [
    {
      "cell_type": "markdown",
      "metadata": {
        "id": "Iv8yBQ_7ZpRA",
        "colab_type": "text"
      },
      "source": [
        "The Pima are a group of Native Americans living in Arizona. A genetic predisposition allowed this group to survive normally to a diet poor of carbohydrates for years. In the recent years, because of a sudden shift from traditional agricultural crops to processed foods, together with a decline in physical activity, made them develop the highest prevalence of type 2 diabetes and for this reason they have been subject of many studies.\n",
        "\n",
        "The dataset includes data from 768 women with 8 features:\n",
        "\n",
        "\n",
        "Number of times pregnant\n",
        "\n",
        "Plasma glucose concentration a 2 hours in an oral glucose tolerance test\n",
        "\n",
        "Diastolic blood pressure (mm Hg)\n",
        "\n",
        "Triceps skin fold thickness (mm)\n",
        "\n",
        "2-Hour serum insulin (mu U/ml)\n",
        "\n",
        "Body mass index (weight in kg/(height in m)^2)\n",
        "\n",
        "Diabetes pedigree function\n",
        "\n",
        "Age (years)\n",
        "\n",
        "\n",
        "The last column of the dataset indicates if the person has been diagnosed with diabetes (1) or not (0)\n"
      ]
    },
    {
      "cell_type": "markdown",
      "metadata": {
        "id": "_nhrkWv3yFPs",
        "colab_type": "text"
      },
      "source": [
        "We will start with importing a few key libraries"
      ]
    },
    {
      "cell_type": "code",
      "metadata": {
        "id": "yeHM1o2KVaG4",
        "colab_type": "code",
        "colab": {}
      },
      "source": [
        "import numpy as np #linear algebra library of Python\n",
        "import pandas as pd # build on top of numpy for data analysis, data manipulation and data visualization\n",
        "import matplotlib.pyplot as plt #plotting library of Python"
      ],
      "execution_count": 0,
      "outputs": []
    },
    {
      "cell_type": "markdown",
      "metadata": {
        "id": "h9VDKOcHxjiS",
        "colab_type": "text"
      },
      "source": [
        "Now let's mount Google drive so that we can upload the diabetes.csv file. You can find the code in the 'Code snippets' tab of Colab"
      ]
    },
    {
      "cell_type": "code",
      "metadata": {
        "id": "rZAb8UyBZOyk",
        "colab_type": "code",
        "outputId": "796908db-1550-42c0-be2b-e9b5079afd1f",
        "colab": {
          "base_uri": "https://localhost:8080/",
          "height": 74
        }
      },
      "source": [
        "from google.colab import drive\n",
        "drive.mount('/content/gdrive')"
      ],
      "execution_count": 2,
      "outputs": [
        {
          "output_type": "stream",
          "text": [
            "Drive already mounted at /content/gdrive; to attempt to forcibly remount, call drive.mount(\"/content/gdrive\", force_remount=True).\n"
          ],
          "name": "stdout"
        }
      ]
    },
    {
      "cell_type": "markdown",
      "metadata": {
        "id": "NJBkAU_OyxNG",
        "colab_type": "text"
      },
      "source": [
        "First thing that we do is take a look at the shape of the dataframe (df.shape) and take a look at first 5 lines through df.head()"
      ]
    },
    {
      "cell_type": "code",
      "metadata": {
        "id": "TPjSc1H1XGhq",
        "colab_type": "code",
        "outputId": "e8c67d9b-48b6-43e2-c860-bed4bc465e9e",
        "colab": {
          "base_uri": "https://localhost:8080/",
          "height": 204
        }
      },
      "source": [
        "df=pd.read_csv('/content/gdrive/My Drive/Colab Notebooks/diabetes.csv') #import file from Google Drive and create a pandas dataframe df\n",
        "df.head() #shows first 5 lines including column namesdf.shape # number of rows and columns of dataframe"
      ],
      "execution_count": 3,
      "outputs": [
        {
          "output_type": "execute_result",
          "data": {
            "text/html": [
              "<div>\n",
              "<style scoped>\n",
              "    .dataframe tbody tr th:only-of-type {\n",
              "        vertical-align: middle;\n",
              "    }\n",
              "\n",
              "    .dataframe tbody tr th {\n",
              "        vertical-align: top;\n",
              "    }\n",
              "\n",
              "    .dataframe thead th {\n",
              "        text-align: right;\n",
              "    }\n",
              "</style>\n",
              "<table border=\"1\" class=\"dataframe\">\n",
              "  <thead>\n",
              "    <tr style=\"text-align: right;\">\n",
              "      <th></th>\n",
              "      <th>Pregnancies</th>\n",
              "      <th>Glucose</th>\n",
              "      <th>BloodPressure</th>\n",
              "      <th>SkinThickness</th>\n",
              "      <th>Insulin</th>\n",
              "      <th>BMI</th>\n",
              "      <th>DiabetesPedigreeFunction</th>\n",
              "      <th>Age</th>\n",
              "      <th>Outcome</th>\n",
              "    </tr>\n",
              "  </thead>\n",
              "  <tbody>\n",
              "    <tr>\n",
              "      <th>0</th>\n",
              "      <td>6</td>\n",
              "      <td>148</td>\n",
              "      <td>72</td>\n",
              "      <td>35</td>\n",
              "      <td>0</td>\n",
              "      <td>33.6</td>\n",
              "      <td>0.627</td>\n",
              "      <td>50</td>\n",
              "      <td>1</td>\n",
              "    </tr>\n",
              "    <tr>\n",
              "      <th>1</th>\n",
              "      <td>1</td>\n",
              "      <td>85</td>\n",
              "      <td>66</td>\n",
              "      <td>29</td>\n",
              "      <td>0</td>\n",
              "      <td>26.6</td>\n",
              "      <td>0.351</td>\n",
              "      <td>31</td>\n",
              "      <td>0</td>\n",
              "    </tr>\n",
              "    <tr>\n",
              "      <th>2</th>\n",
              "      <td>8</td>\n",
              "      <td>183</td>\n",
              "      <td>64</td>\n",
              "      <td>0</td>\n",
              "      <td>0</td>\n",
              "      <td>23.3</td>\n",
              "      <td>0.672</td>\n",
              "      <td>32</td>\n",
              "      <td>1</td>\n",
              "    </tr>\n",
              "    <tr>\n",
              "      <th>3</th>\n",
              "      <td>1</td>\n",
              "      <td>89</td>\n",
              "      <td>66</td>\n",
              "      <td>23</td>\n",
              "      <td>94</td>\n",
              "      <td>28.1</td>\n",
              "      <td>0.167</td>\n",
              "      <td>21</td>\n",
              "      <td>0</td>\n",
              "    </tr>\n",
              "    <tr>\n",
              "      <th>4</th>\n",
              "      <td>0</td>\n",
              "      <td>137</td>\n",
              "      <td>40</td>\n",
              "      <td>35</td>\n",
              "      <td>168</td>\n",
              "      <td>43.1</td>\n",
              "      <td>2.288</td>\n",
              "      <td>33</td>\n",
              "      <td>1</td>\n",
              "    </tr>\n",
              "  </tbody>\n",
              "</table>\n",
              "</div>"
            ],
            "text/plain": [
              "   Pregnancies  Glucose  BloodPressure  ...  DiabetesPedigreeFunction  Age  Outcome\n",
              "0            6      148             72  ...                     0.627   50        1\n",
              "1            1       85             66  ...                     0.351   31        0\n",
              "2            8      183             64  ...                     0.672   32        1\n",
              "3            1       89             66  ...                     0.167   21        0\n",
              "4            0      137             40  ...                     2.288   33        1\n",
              "\n",
              "[5 rows x 9 columns]"
            ]
          },
          "metadata": {
            "tags": []
          },
          "execution_count": 3
        }
      ]
    },
    {
      "cell_type": "code",
      "metadata": {
        "id": "moM92WI71Y7J",
        "colab_type": "code",
        "outputId": "404928e6-23f2-4e39-a16c-3834aba9966b",
        "colab": {
          "base_uri": "https://localhost:8080/",
          "height": 34
        }
      },
      "source": [
        "df.shape # provides # rows and # columns of the dataframe df - 768 rows and 9 columns"
      ],
      "execution_count": 4,
      "outputs": [
        {
          "output_type": "execute_result",
          "data": {
            "text/plain": [
              "(768, 9)"
            ]
          },
          "metadata": {
            "tags": []
          },
          "execution_count": 4
        }
      ]
    },
    {
      "cell_type": "markdown",
      "metadata": {
        "id": "yLVfErfLcx1s",
        "colab_type": "text"
      },
      "source": [
        "Now we will assess if the dataset has the same proportion of diabetes vs. non-diabetes cases.\n",
        "At the same time we will look if there are missing values. In our dataset we note that woman #2 has a skin thickness of zero and this is not realistic. It leads us to believe that there are a few zero entries that signal that no data was available. This does not apply to columns columns 1 and 9 for obvious reasons.\n",
        "\n",
        "We use a trick to count the non-zero values of the columns. We convert the data type of the dataframe df to to Boolean using df.astype(bool) coverting all zero values to false=0 and all other entries to true=1 . We subsequently add up all True entries per column."
      ]
    },
    {
      "cell_type": "code",
      "metadata": {
        "id": "rqAIFwa6QoJG",
        "colab_type": "code",
        "outputId": "902dc80a-f658-441a-fed8-8a78a92cb9de",
        "colab": {
          "base_uri": "https://localhost:8080/",
          "height": 187
        }
      },
      "source": [
        "df.astype(bool).sum(axis=0) # counts the number of non-zeros for each column while acting on all rows - default value is True(1) so all 1s are added per column"
      ],
      "execution_count": 5,
      "outputs": [
        {
          "output_type": "execute_result",
          "data": {
            "text/plain": [
              "Pregnancies                 657\n",
              "Glucose                     763\n",
              "BloodPressure               733\n",
              "SkinThickness               541\n",
              "Insulin                     394\n",
              "BMI                         757\n",
              "DiabetesPedigreeFunction    768\n",
              "Age                         768\n",
              "Outcome                     268\n",
              "dtype: int64"
            ]
          },
          "metadata": {
            "tags": []
          },
          "execution_count": 5
        }
      ]
    },
    {
      "cell_type": "markdown",
      "metadata": {
        "id": "B1XMcuxORy4F",
        "colab_type": "text"
      },
      "source": [
        "The dataframe is unbalanced as we have 268 ones (diabetes) and thus 500 zeros (no diabetes). \n",
        "\n",
        "The easiest option could be to eliminate all those patients with zero values, but in this way we would eliminate a lot of important data.\n",
        "\n",
        "Another option is to calculate the median value for a specific column and substitute the zero values for the columns by that median value."
      ]
    },
    {
      "cell_type": "code",
      "metadata": {
        "id": "bneQ8C3OZFvZ",
        "colab_type": "code",
        "colab": {}
      },
      "source": [
        "median_BMI=df['BMI'].median()\n",
        "df['BMI']=df['BMI'].replace(to_replace=0, value=median_BMI)\n",
        "\n",
        "median_BloodPressure=df['BloodPressure'].median()\n",
        "df['BloodPressure']=df['BloodPressure'].replace(to_replace=0, value=median_BloodPressure)\n",
        "\n",
        "median_Glucose=df['Glucose'].median()\n",
        "df['Glucose']=df['Glucose'].replace(to_replace=0, value=median_Glucose)\n",
        "\n",
        "median_SkinThickness=df['SkinThickness'].median()\n",
        "df['SkinThickness']=df['SkinThickness'].replace(to_replace=0, value=median_SkinThickness)\n",
        "\n",
        "median_Insulin=df['Insulin'].median()\n",
        "df['Insulin']=df['Insulin'].replace(to_replace=0, value=median_Insulin)"
      ],
      "execution_count": 0,
      "outputs": []
    },
    {
      "cell_type": "code",
      "metadata": {
        "id": "cU7TvqKEpPCc",
        "colab_type": "code",
        "outputId": "b947f134-3f2b-49b6-de15-4ef6d6dc508d",
        "colab": {
          "base_uri": "https://localhost:8080/",
          "height": 204
        }
      },
      "source": [
        "df.head() #shows first 5 lines including column names"
      ],
      "execution_count": 7,
      "outputs": [
        {
          "output_type": "execute_result",
          "data": {
            "text/html": [
              "<div>\n",
              "<style scoped>\n",
              "    .dataframe tbody tr th:only-of-type {\n",
              "        vertical-align: middle;\n",
              "    }\n",
              "\n",
              "    .dataframe tbody tr th {\n",
              "        vertical-align: top;\n",
              "    }\n",
              "\n",
              "    .dataframe thead th {\n",
              "        text-align: right;\n",
              "    }\n",
              "</style>\n",
              "<table border=\"1\" class=\"dataframe\">\n",
              "  <thead>\n",
              "    <tr style=\"text-align: right;\">\n",
              "      <th></th>\n",
              "      <th>Pregnancies</th>\n",
              "      <th>Glucose</th>\n",
              "      <th>BloodPressure</th>\n",
              "      <th>SkinThickness</th>\n",
              "      <th>Insulin</th>\n",
              "      <th>BMI</th>\n",
              "      <th>DiabetesPedigreeFunction</th>\n",
              "      <th>Age</th>\n",
              "      <th>Outcome</th>\n",
              "    </tr>\n",
              "  </thead>\n",
              "  <tbody>\n",
              "    <tr>\n",
              "      <th>0</th>\n",
              "      <td>6</td>\n",
              "      <td>148</td>\n",
              "      <td>72</td>\n",
              "      <td>35</td>\n",
              "      <td>30.5</td>\n",
              "      <td>33.6</td>\n",
              "      <td>0.627</td>\n",
              "      <td>50</td>\n",
              "      <td>1</td>\n",
              "    </tr>\n",
              "    <tr>\n",
              "      <th>1</th>\n",
              "      <td>1</td>\n",
              "      <td>85</td>\n",
              "      <td>66</td>\n",
              "      <td>29</td>\n",
              "      <td>30.5</td>\n",
              "      <td>26.6</td>\n",
              "      <td>0.351</td>\n",
              "      <td>31</td>\n",
              "      <td>0</td>\n",
              "    </tr>\n",
              "    <tr>\n",
              "      <th>2</th>\n",
              "      <td>8</td>\n",
              "      <td>183</td>\n",
              "      <td>64</td>\n",
              "      <td>23</td>\n",
              "      <td>30.5</td>\n",
              "      <td>23.3</td>\n",
              "      <td>0.672</td>\n",
              "      <td>32</td>\n",
              "      <td>1</td>\n",
              "    </tr>\n",
              "    <tr>\n",
              "      <th>3</th>\n",
              "      <td>1</td>\n",
              "      <td>89</td>\n",
              "      <td>66</td>\n",
              "      <td>23</td>\n",
              "      <td>94.0</td>\n",
              "      <td>28.1</td>\n",
              "      <td>0.167</td>\n",
              "      <td>21</td>\n",
              "      <td>0</td>\n",
              "    </tr>\n",
              "    <tr>\n",
              "      <th>4</th>\n",
              "      <td>0</td>\n",
              "      <td>137</td>\n",
              "      <td>40</td>\n",
              "      <td>35</td>\n",
              "      <td>168.0</td>\n",
              "      <td>43.1</td>\n",
              "      <td>2.288</td>\n",
              "      <td>33</td>\n",
              "      <td>1</td>\n",
              "    </tr>\n",
              "  </tbody>\n",
              "</table>\n",
              "</div>"
            ],
            "text/plain": [
              "   Pregnancies  Glucose  BloodPressure  ...  DiabetesPedigreeFunction  Age  Outcome\n",
              "0            6      148             72  ...                     0.627   50        1\n",
              "1            1       85             66  ...                     0.351   31        0\n",
              "2            8      183             64  ...                     0.672   32        1\n",
              "3            1       89             66  ...                     0.167   21        0\n",
              "4            0      137             40  ...                     2.288   33        1\n",
              "\n",
              "[5 rows x 9 columns]"
            ]
          },
          "metadata": {
            "tags": []
          },
          "execution_count": 7
        }
      ]
    },
    {
      "cell_type": "markdown",
      "metadata": {
        "id": "aFB37VWzpf5y",
        "colab_type": "text"
      },
      "source": [
        "The skin thickness of woman #2 is now 23 (median of that column)"
      ]
    },
    {
      "cell_type": "markdown",
      "metadata": {
        "id": "YxB7h1y7bSNP",
        "colab_type": "text"
      },
      "source": [
        "Let's create numpy arrays, one for the features (X) and one for the label (y)\n",
        "\n"
      ]
    },
    {
      "cell_type": "code",
      "metadata": {
        "id": "qUygFiYQaw3N",
        "colab_type": "code",
        "colab": {}
      },
      "source": [
        "X=df.drop('Outcome', axis=1).values #drop 'Outcome' column but you keep the index column\n",
        "y=df['Outcome'].values"
      ],
      "execution_count": 0,
      "outputs": []
    },
    {
      "cell_type": "markdown",
      "metadata": {
        "id": "10WLT2xwiB67",
        "colab_type": "text"
      },
      "source": [
        "We import the train_test_split function from sklearn to split the arrays or matrices into random train and test subsets>\n",
        "\n",
        "Parameters:\t\n",
        "test_size : in our case 20% (default=0.25)\n",
        "\n",
        "random_state: is basically used for reproducing your problem the same every time it is run. If you do not use a random_state in train_test_split, every time you make the split you might get a different set of train and test data points and will not help you in debugging in case you get an issue. We used random_state=42 but number does not matter\n",
        "\n",
        "stratify : array-like or None (default=None)\n",
        "If the number of values belonging to each class are unbalanced, using stratified sampling is a good thing. You are basically asking the model to take the training and test set such that the class proportion is same as of the whole dataset, which is the right thing to do."
      ]
    },
    {
      "cell_type": "code",
      "metadata": {
        "id": "12_ydvVxekDA",
        "colab_type": "code",
        "colab": {}
      },
      "source": [
        "from sklearn.model_selection import train_test_split #method to split training and testing data sets\n",
        "X_train, X_test, y_train, y_test=train_test_split(X, y, test_size=0.2, random_state=42, stratify=y)"
      ],
      "execution_count": 0,
      "outputs": []
    },
    {
      "cell_type": "markdown",
      "metadata": {
        "id": "uJ4tahSOx4ZH",
        "colab_type": "text"
      },
      "source": [
        "The last preprocessing step is feature normalization transforming the data to have mean=0 and standard deviation=1. It is good practice and since we use distance as the similarity measure in KNN we should not forget this step."
      ]
    },
    {
      "cell_type": "code",
      "metadata": {
        "id": "-luLiVgn3pCF",
        "colab_type": "code",
        "colab": {}
      },
      "source": [
        "from sklearn.preprocessing import StandardScaler \n",
        "sc=StandardScaler()\n",
        "X_train=sc.fit_transform(X_train)\n",
        "X_test=sc.fit_transform(X_test)"
      ],
      "execution_count": 0,
      "outputs": []
    },
    {
      "cell_type": "code",
      "metadata": {
        "id": "WDS5UKo2jyql",
        "colab_type": "code",
        "colab": {
          "base_uri": "https://localhost:8080/",
          "height": 238
        },
        "outputId": "eb6d316c-ad7c-4147-99d0-b2bd46f689a9"
      },
      "source": [
        "print(X_train)"
      ],
      "execution_count": 11,
      "outputs": [
        {
          "output_type": "stream",
          "text": [
            "[[-0.85135507 -1.05642747 -0.82674004 ... -0.76881064  0.31079384\n",
            "  -0.79216928]\n",
            " [ 0.35657564  0.14439907  0.47777235 ... -0.41684116 -0.11643851\n",
            "   0.56103382]\n",
            " [-0.5493724  -0.55608308 -1.15286813 ...  0.36042477 -0.76486207\n",
            "  -0.70759409]\n",
            " ...\n",
            " [-0.85135507 -0.82293342 -0.17448384 ...  0.82971741 -0.78607218\n",
            "  -0.28471812]\n",
            " [ 1.86648903 -0.35594533 -0.17448384 ... -0.72481445 -1.01938346\n",
            "   0.56103382]\n",
            " [ 0.05459296  0.74481233 -1.15286813 ... -0.43150656 -0.57700104\n",
            "   0.30730824]]\n"
          ],
          "name": "stdout"
        }
      ]
    },
    {
      "cell_type": "markdown",
      "metadata": {
        "id": "Us9gXeWFjfPs",
        "colab_type": "text"
      },
      "source": [
        "Now we are ready to use the KNN algorithm"
      ]
    },
    {
      "cell_type": "code",
      "metadata": {
        "id": "z3xFeWn9ita9",
        "colab_type": "code",
        "colab": {}
      },
      "source": [
        "from sklearn.neighbors import KNeighborsClassifier # we import the K-Nearest Neighbor Classifier\n",
        "neighbors=np.arange(1,20) #we will try different k - default step size is 1 - returns evenly spaced values within a given interval excl 20\n",
        "\n",
        "train_accuracy=np.empty(len(neighbors)) # creates an array that will be used for storing training accuracy\n",
        "test_accuracy=np.empty(len(neighbors))  # creates an array that will be used for storing testing accuracy"
      ],
      "execution_count": 0,
      "outputs": []
    },
    {
      "cell_type": "code",
      "metadata": {
        "id": "ZslhhH96wKH7",
        "colab_type": "code",
        "colab": {
          "base_uri": "https://localhost:8080/",
          "height": 34
        },
        "outputId": "f47c4fd7-acb8-46ac-e82d-e55a729547b2"
      },
      "source": [
        "print(neighbors)"
      ],
      "execution_count": 13,
      "outputs": [
        {
          "output_type": "stream",
          "text": [
            "[ 1  2  3  4  5  6  7  8  9 10 11 12 13 14 15 16 17 18 19]\n"
          ],
          "name": "stdout"
        }
      ]
    },
    {
      "cell_type": "markdown",
      "metadata": {
        "id": "FnllYiudpcWh",
        "colab_type": "text"
      },
      "source": [
        "A lot of times when dealing with iterators, we also get a need to keep a count of iterations. Python eases the programmers’ task by providing a built-in function enumerate() for this task.\n",
        "Enumerate() method adds a counter to an iterable and returns it in a form of enumerate object. This enumerate object can then be used directly in 'for loops' or be converted into a list of tuples using list() method."
      ]
    },
    {
      "cell_type": "code",
      "metadata": {
        "id": "nu3ZgTLKncfT",
        "colab_type": "code",
        "colab": {}
      },
      "source": [
        "for i,k in enumerate(neighbors): #k goes from 1 to 19 en i is de counter\n",
        "  knn=KNeighborsClassifier(n_neighbors=k)\n",
        "  knn.fit(X_train, y_train)\n",
        "  train_accuracy[i]=knn.score(X_train, y_train)\n",
        "  test_accuracy[i]=knn.score(X_test, y_test)"
      ],
      "execution_count": 0,
      "outputs": []
    },
    {
      "cell_type": "code",
      "metadata": {
        "id": "ICEHsvgpq99p",
        "colab_type": "code",
        "colab": {
          "base_uri": "https://localhost:8080/",
          "height": 295
        },
        "outputId": "13b7d4f4-30b0-40be-8b9f-3b7110ce12d7"
      },
      "source": [
        "plt.title('k-NN Varying number of neighbors')\n",
        "plt.plot(neighbors, test_accuracy, label='Testing Accuracy')\n",
        "plt.plot(neighbors, train_accuracy, label='Training Accuracy')\n",
        "plt.legend()\n",
        "plt.xlabel('Number of neighbors')\n",
        "plt.ylabel('Accuracy')\n",
        "plt.show()"
      ],
      "execution_count": 15,
      "outputs": [
        {
          "output_type": "display_data",
          "data": {
            "image/png": "[encoded data removed]",
            "text/plain": [
              "<Figure size 432x288 with 1 Axes>"
            ]
          },
          "metadata": {
            "tags": []
          }
        }
      ]
    },
    {
      "cell_type": "markdown",
      "metadata": {
        "id": "3Fx4gY5RxJwc",
        "colab_type": "text"
      },
      "source": [
        "We get maximum testing accuracy for k=8, so we will setup a KNN classifier with hyperparameter k=8 (we will look at 8 neighbors in order to decide on the label of a test point)"
      ]
    },
    {
      "cell_type": "code",
      "metadata": {
        "id": "jeo2O7verV_O",
        "colab_type": "code",
        "colab": {
          "base_uri": "https://localhost:8080/",
          "height": 34
        },
        "outputId": "d9057f8b-defd-401e-8b69-4ebdb7cf5697"
      },
      "source": [
        "knn=KNeighborsClassifier(n_neighbors=8)\n",
        "knn.fit(X_train, y_train)\n",
        "knn.score(X_test, y_test) #score method represents accuracy"
      ],
      "execution_count": 16,
      "outputs": [
        {
          "output_type": "execute_result",
          "data": {
            "text/plain": [
              "0.7662337662337663"
            ]
          },
          "metadata": {
            "tags": []
          },
          "execution_count": 16
        }
      ]
    },
    {
      "cell_type": "markdown",
      "metadata": {
        "id": "2y5mNoH4kSdi",
        "colab_type": "text"
      },
      "source": [
        "Now we will look at other classification KPIs that we discussed in our lessons: Confusion Matrix, ROC, AUC, F1-Score"
      ]
    },
    {
      "cell_type": "code",
      "metadata": {
        "id": "ELAj9mqAlnxx",
        "colab_type": "code",
        "colab": {
          "base_uri": "https://localhost:8080/",
          "height": 51
        },
        "outputId": "0b5e41c7-d843-4927-da3e-1ce0ef78c0e1"
      },
      "source": [
        "from sklearn.metrics import confusion_matrix\n",
        "y_pred=knn.predict(X_test)\n",
        "confusion_matrix(y_test,y_pred)"
      ],
      "execution_count": 17,
      "outputs": [
        {
          "output_type": "execute_result",
          "data": {
            "text/plain": [
              "array([[92,  8],\n",
              "       [28, 26]])"
            ]
          },
          "metadata": {
            "tags": []
          },
          "execution_count": 17
        }
      ]
    },
    {
      "cell_type": "markdown",
      "metadata": {
        "id": "9nih5l6A0oOh",
        "colab_type": "text"
      },
      "source": [
        "Classifier not so good: true positives=26, true negatives=92, false positives=8 and false negatives=28. We cannot accept the numerous False Negatives (FNs) in this case as we would tell a women that she is not diabetic whereas she actually is diabetic. One option to reduce the FNs is to change the threshold of the classifier but this will increase the amount of False Positives (FPs) as we have seen in lesson 3. Recall in our case is TP/(TP+FN) = 48% and this is too high. Precission is TP/(TP+FP)=77%"
      ]
    },
    {
      "cell_type": "markdown",
      "metadata": {
        "id": "X1soJdcC5b1m",
        "colab_type": "text"
      },
      "source": [
        "ROC (Receiver Operating Characteristic) curve\n",
        "\n",
        "It is a plot of Recall vs. False Positive Rate (FPR) for the different possible thresholds of the classifier. It shows the tradeoff between Recall and Precision. The closer the curve follows the left-hand border and then the top border of the ROC space, the more accurate the test. The closer the curve comes to the 45-degree diagonal of the ROC space, the less accurate the test. The area under the curve is a measure of test accuracy."
      ]
    },
    {
      "cell_type": "code",
      "metadata": {
        "id": "Mlme9B2b6lyk",
        "colab_type": "code",
        "colab": {}
      },
      "source": [
        "from sklearn.metrics import roc_curve\n",
        "y_pred_proba=knn.predict_proba(X_test)[:,1]\n",
        "fpr, tpr, thresholds=roc_curve(y_test, y_pred_proba)"
      ],
      "execution_count": 0,
      "outputs": []
    },
    {
      "cell_type": "code",
      "metadata": {
        "id": "4oDPlCsC-5uj",
        "colab_type": "code",
        "colab": {
          "base_uri": "https://localhost:8080/",
          "height": 295
        },
        "outputId": "6512a49d-6aa0-49cf-f145-12c592f0b395"
      },
      "source": [
        "plt.plot([0,1], [0,1], 'k--')\n",
        "plt.plot(fpr, tpr, label='knn')\n",
        "plt.xlabel('fpr')\n",
        "plt.ylabel('tpr')\n",
        "plt.title('knn(Neighbors=8) ROC curve')\n",
        "plt.show()"
      ],
      "execution_count": 19,
      "outputs": [
        {
          "output_type": "display_data",
          "data": {
            "image/png": "[encoded data removed]",
            "text/plain": [
              "<Figure size 432x288 with 1 Axes>"
            ]
          },
          "metadata": {
            "tags": []
          }
        }
      ]
    },
    {
      "cell_type": "code",
      "metadata": {
        "id": "L1d0y9Ko_09S",
        "colab_type": "code",
        "colab": {
          "base_uri": "https://localhost:8080/",
          "height": 34
        },
        "outputId": "5a428b02-05d4-40b1-f186-cc405a1c2707"
      },
      "source": [
        "from sklearn.metrics import roc_auc_score #area under the ROC curve\n",
        "roc_auc_score(y_test, y_pred_proba)"
      ],
      "execution_count": 20,
      "outputs": [
        {
          "output_type": "execute_result",
          "data": {
            "text/plain": [
              "0.7887037037037038"
            ]
          },
          "metadata": {
            "tags": []
          },
          "execution_count": 20
        }
      ]
    },
    {
      "cell_type": "markdown",
      "metadata": {
        "id": "S0XyEGQgqt3R",
        "colab_type": "text"
      },
      "source": [
        "We build a KNN classifier with 19 blocks of code!"
      ]
    }
  ]
}
