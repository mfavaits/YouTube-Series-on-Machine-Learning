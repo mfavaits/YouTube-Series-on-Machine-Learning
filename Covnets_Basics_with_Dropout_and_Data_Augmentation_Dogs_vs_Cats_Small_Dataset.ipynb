{
  "nbformat": 4,
  "nbformat_minor": 0,
  "metadata": {
    "colab": {
      "name": "Covnets Basics with Dropout and Data Augmentation - Dogs vs. Cats - Small Dataset.ipynb",
      "provenance": [],
      "collapsed_sections": [],
      "include_colab_link": true
    },
    "kernelspec": {
      "name": "python3",
      "display_name": "Python 3"
    },
    "accelerator": "TPU"
  },
  "cells": [
    {
      "cell_type": "markdown",
      "metadata": {
        "id": "view-in-github",
        "colab_type": "text"
      },
      "source": [
        "<a href=\"https://colab.research.google.com/github/mfavaits/YouTube-Series-on-Machine-Learning/blob/master/Covnets_Basics_with_Dropout_and_Data_Augmentation_Dogs_vs_Cats_Small_Dataset.ipynb\" target=\"_parent\"><img src=\"https://colab.research.google.com/assets/colab-badge.svg\" alt=\"Open In Colab\"/></a>"
      ]
    },
    {
      "cell_type": "code",
      "metadata": {
        "id": "wCv4aeLxA1Xr",
        "colab_type": "code",
        "colab": {}
      },
      "source": [
        "import numpy as np\n",
        "import matplotlib.pyplot as plt\n",
        "\n",
        "import os\n",
        "import shutil"
      ],
      "execution_count": 0,
      "outputs": []
    },
    {
      "cell_type": "code",
      "metadata": {
        "id": "JD7vGwSixv_w",
        "colab_type": "code",
        "outputId": "02f79a89-9372-42ae-e1a1-2749dd0dd3e1",
        "colab": {
          "base_uri": "https://localhost:8080/",
          "height": 54
        }
      },
      "source": [
        "from google.colab import drive\n",
        "drive.mount('/content/drive')"
      ],
      "execution_count": 4,
      "outputs": [
        {
          "output_type": "stream",
          "text": [
            "Drive already mounted at /content/drive; to attempt to forcibly remount, call drive.mount(\"/content/drive\", force_remount=True).\n"
          ],
          "name": "stdout"
        }
      ]
    },
    {
      "cell_type": "markdown",
      "metadata": {
        "id": "-lpnwgqWqDHf",
        "colab_type": "text"
      },
      "source": [
        "We will split cat and dog images and give them their own directories training_set_cats and training_set_dogs. We will do this by looping through the directory and look for files that start with dog. This process will take a few hours as we need to process 25000 files"
      ]
    },
    {
      "cell_type": "markdown",
      "metadata": {
        "id": "SMYDHmjw9DON",
        "colab_type": "text"
      },
      "source": [
        "Data augmentation is a way to generate more training examples via a few datatransformations so that algorithm does not see the same image twice. Universally used for computer vision "
      ]
    },
    {
      "cell_type": "code",
      "metadata": {
        "id": "ESfSC_eno5Bj",
        "colab_type": "code",
        "outputId": "d78c3219-1561-4066-9def-881f3892d00b",
        "colab": {
          "base_uri": "https://localhost:8080/",
          "height": 275
        }
      },
      "source": [
        "from keras import models\n",
        "from keras import layers\n",
        "\n",
        "model=models.Sequential()\n",
        "model.add(layers.Conv2D(32, (3,3), activation='relu', input_shape=(150, 150, 3)))\n",
        "model.add(layers.MaxPooling2D(2,2))\n",
        "model.add(layers.Conv2D(64, (3,3), activation='relu'))\n",
        "model.add(layers.MaxPooling2D(2,2))\n",
        "model.add(layers.Conv2D(128, (3,3), activation='relu'))\n",
        "model.add(layers.MaxPooling2D(2,2))\n",
        "model.add(layers.Conv2D(128, (3,3), activation='relu'))\n",
        "model.add(layers.MaxPooling2D(2,2))\n",
        "model.add(layers.Flatten())\n",
        "model.add(layers.Dropout(0.5))\n",
        "model.add(layers.Dense(512, activation='relu'))\n",
        "model.add(layers.Dense(1, activation='sigmoid'))"
      ],
      "execution_count": 5,
      "outputs": [
        {
          "output_type": "stream",
          "text": [
            "Using TensorFlow backend.\n"
          ],
          "name": "stderr"
        },
        {
          "output_type": "stream",
          "text": [
            "WARNING:tensorflow:From /usr/local/lib/python3.6/dist-packages/keras/backend/tensorflow_backend.py:66: The name tf.get_default_graph is deprecated. Please use tf.compat.v1.get_default_graph instead.\n",
            "\n",
            "WARNING:tensorflow:From /usr/local/lib/python3.6/dist-packages/keras/backend/tensorflow_backend.py:541: The name tf.placeholder is deprecated. Please use tf.compat.v1.placeholder instead.\n",
            "\n",
            "WARNING:tensorflow:From /usr/local/lib/python3.6/dist-packages/keras/backend/tensorflow_backend.py:4432: The name tf.random_uniform is deprecated. Please use tf.random.uniform instead.\n",
            "\n",
            "WARNING:tensorflow:From /usr/local/lib/python3.6/dist-packages/keras/backend/tensorflow_backend.py:4267: The name tf.nn.max_pool is deprecated. Please use tf.nn.max_pool2d instead.\n",
            "\n",
            "WARNING:tensorflow:From /usr/local/lib/python3.6/dist-packages/keras/backend/tensorflow_backend.py:148: The name tf.placeholder_with_default is deprecated. Please use tf.compat.v1.placeholder_with_default instead.\n",
            "\n",
            "WARNING:tensorflow:From /usr/local/lib/python3.6/dist-packages/keras/backend/tensorflow_backend.py:3733: calling dropout (from tensorflow.python.ops.nn_ops) with keep_prob is deprecated and will be removed in a future version.\n",
            "Instructions for updating:\n",
            "Please use `rate` instead of `keep_prob`. Rate should be set to `rate = 1 - keep_prob`.\n"
          ],
          "name": "stdout"
        }
      ]
    },
    {
      "cell_type": "code",
      "metadata": {
        "id": "4uX4o0-To-k2",
        "colab_type": "code",
        "outputId": "32533538-c90e-439e-a60c-4fcbe942320f",
        "colab": {
          "base_uri": "https://localhost:8080/",
          "height": 156
        }
      },
      "source": [
        "from keras import optimizers\n",
        "\n",
        "model.compile(loss='binary_crossentropy', optimizer=optimizers.RMSprop(lr=1e-4), metrics=['acc'])"
      ],
      "execution_count": 6,
      "outputs": [
        {
          "output_type": "stream",
          "text": [
            "WARNING:tensorflow:From /usr/local/lib/python3.6/dist-packages/keras/optimizers.py:793: The name tf.train.Optimizer is deprecated. Please use tf.compat.v1.train.Optimizer instead.\n",
            "\n",
            "WARNING:tensorflow:From /usr/local/lib/python3.6/dist-packages/keras/backend/tensorflow_backend.py:3657: The name tf.log is deprecated. Please use tf.math.log instead.\n",
            "\n",
            "WARNING:tensorflow:From /usr/local/lib/python3.6/dist-packages/tensorflow_core/python/ops/nn_impl.py:183: where (from tensorflow.python.ops.array_ops) is deprecated and will be removed in a future version.\n",
            "Instructions for updating:\n",
            "Use tf.where in 2.0, which has the same broadcast rule as np.where\n"
          ],
          "name": "stdout"
        }
      ]
    },
    {
      "cell_type": "code",
      "metadata": {
        "id": "rsOA0XcXpIb_",
        "colab_type": "code",
        "colab": {}
      },
      "source": [
        "from keras.preprocessing.image import ImageDataGenerator"
      ],
      "execution_count": 0,
      "outputs": []
    },
    {
      "cell_type": "code",
      "metadata": {
        "id": "ZgWx3JWqXQ8r",
        "colab_type": "code",
        "colab": {}
      },
      "source": [
        "train_datagen=ImageDataGenerator(rescale=1./255, rotation_range=40, width_shift_range=0.2, height_shift_range=0.2, shear_range=0.2, zoom_range=0.2, horizontal_flip=True, fill_mode='nearest')\n",
        "validation_datagen=ImageDataGenerator(rescale=1./255)"
      ],
      "execution_count": 0,
      "outputs": []
    },
    {
      "cell_type": "code",
      "metadata": {
        "id": "kZOkDoE4XQo_",
        "colab_type": "code",
        "outputId": "519b3f6f-45cb-419c-ab7d-3a2a10c71848",
        "colab": {
          "base_uri": "https://localhost:8080/",
          "height": 51
        }
      },
      "source": [
        "train_generator=train_datagen.flow_from_directory('/content/drive/My Drive/Colab Notebooks/training_2000', target_size=(150,150), batch_size=20, class_mode='binary')\n",
        "validation_generator=validation_datagen.flow_from_directory('/content/drive/My Drive/Colab Notebooks/val_1000', target_size=(150,150), batch_size=20, class_mode='binary')"
      ],
      "execution_count": 9,
      "outputs": [
        {
          "output_type": "stream",
          "text": [
            "Found 2000 images belonging to 2 classes.\n",
            "Found 1000 images belonging to 2 classes.\n"
          ],
          "name": "stdout"
        }
      ]
    },
    {
      "cell_type": "code",
      "metadata": {
        "id": "xVz_bzx6Jm1O",
        "colab_type": "code",
        "colab": {}
      },
      "source": [
        "from keras import models\n",
        "from keras import layers\n",
        "\n",
        "model=models.Sequential()\n",
        "model.add(layers.Conv2D(32, (3,3), activation='relu', input_shape=(150, 150, 3)))\n",
        "model.add(layers.MaxPooling2D(2,2))\n",
        "model.add(layers.Conv2D(64, (3,3), activation='relu'))\n",
        "model.add(layers.MaxPooling2D(2,2))\n",
        "model.add(layers.Conv2D(128, (3,3), activation='relu'))\n",
        "model.add(layers.MaxPooling2D(2,2))\n",
        "model.add(layers.Conv2D(128, (3,3), activation='relu'))\n",
        "model.add(layers.MaxPooling2D(2,2))\n",
        "model.add(layers.Flatten())\n",
        "#model.add(layers.Dropout(0.5))\n",
        "model.add(layers.Dense(512, activation='relu'))\n",
        "model.add(layers.Dense(1, activation='sigmoid'))"
      ],
      "execution_count": 0,
      "outputs": []
    },
    {
      "cell_type": "code",
      "metadata": {
        "id": "OJ5pPJezJmx7",
        "colab_type": "code",
        "colab": {}
      },
      "source": [
        "from keras import optimizers\n",
        "model.compile(loss='binary_crossentropy', optimizer=optimizers.RMSprop(lr=1e-4), metrics=['acc'])"
      ],
      "execution_count": 0,
      "outputs": []
    },
    {
      "cell_type": "code",
      "metadata": {
        "id": "72XdpiJJJmte",
        "colab_type": "code",
        "outputId": "ff938328-e714-4e39-a75c-4f4daecda5e9",
        "colab": {
          "base_uri": "https://localhost:8080/",
          "height": 1000
        }
      },
      "source": [
        "history=model.fit_generator(train_generator, steps_per_epoch=100, epochs=30, validation_data=validation_generator, validation_steps=20)"
      ],
      "execution_count": 12,
      "outputs": [
        {
          "output_type": "stream",
          "text": [
            "WARNING:tensorflow:From /usr/local/lib/python3.6/dist-packages/keras/backend/tensorflow_backend.py:1033: The name tf.assign_add is deprecated. Please use tf.compat.v1.assign_add instead.\n",
            "\n",
            "WARNING:tensorflow:From /usr/local/lib/python3.6/dist-packages/keras/backend/tensorflow_backend.py:1020: The name tf.assign is deprecated. Please use tf.compat.v1.assign instead.\n",
            "\n",
            "WARNING:tensorflow:From /usr/local/lib/python3.6/dist-packages/keras/backend/tensorflow_backend.py:3005: The name tf.Session is deprecated. Please use tf.compat.v1.Session instead.\n",
            "\n",
            "Epoch 1/30\n",
            "WARNING:tensorflow:From /usr/local/lib/python3.6/dist-packages/keras/backend/tensorflow_backend.py:190: The name tf.get_default_session is deprecated. Please use tf.compat.v1.get_default_session instead.\n",
            "\n",
            "WARNING:tensorflow:From /usr/local/lib/python3.6/dist-packages/keras/backend/tensorflow_backend.py:197: The name tf.ConfigProto is deprecated. Please use tf.compat.v1.ConfigProto instead.\n",
            "\n",
            "WARNING:tensorflow:From /usr/local/lib/python3.6/dist-packages/keras/backend/tensorflow_backend.py:207: The name tf.global_variables is deprecated. Please use tf.compat.v1.global_variables instead.\n",
            "\n",
            "WARNING:tensorflow:From /usr/local/lib/python3.6/dist-packages/keras/backend/tensorflow_backend.py:216: The name tf.is_variable_initialized is deprecated. Please use tf.compat.v1.is_variable_initialized instead.\n",
            "\n",
            "WARNING:tensorflow:From /usr/local/lib/python3.6/dist-packages/keras/backend/tensorflow_backend.py:223: The name tf.variables_initializer is deprecated. Please use tf.compat.v1.variables_initializer instead.\n",
            "\n",
            "100/100 [==============================] - 572s 6s/step - loss: 0.6946 - acc: 0.5170 - val_loss: 0.6917 - val_acc: 0.5200\n",
            "Epoch 2/30\n",
            "100/100 [==============================] - 151s 2s/step - loss: 0.6883 - acc: 0.5350 - val_loss: 0.7461 - val_acc: 0.4900\n",
            "Epoch 3/30\n",
            "100/100 [==============================] - 115s 1s/step - loss: 0.6807 - acc: 0.5590 - val_loss: 0.6610 - val_acc: 0.6000\n",
            "Epoch 4/30\n",
            "100/100 [==============================] - 114s 1s/step - loss: 0.6684 - acc: 0.5910 - val_loss: 0.6588 - val_acc: 0.5725\n",
            "Epoch 5/30\n",
            "100/100 [==============================] - 114s 1s/step - loss: 0.6599 - acc: 0.6100 - val_loss: 0.6248 - val_acc: 0.6600\n",
            "Epoch 6/30\n",
            "100/100 [==============================] - 114s 1s/step - loss: 0.6435 - acc: 0.6220 - val_loss: 0.6561 - val_acc: 0.6050\n",
            "Epoch 7/30\n",
            "100/100 [==============================] - 115s 1s/step - loss: 0.6434 - acc: 0.6300 - val_loss: 0.6396 - val_acc: 0.6050\n",
            "Epoch 8/30\n",
            "100/100 [==============================] - 115s 1s/step - loss: 0.6264 - acc: 0.6370 - val_loss: 0.6724 - val_acc: 0.5725\n",
            "Epoch 9/30\n",
            "100/100 [==============================] - 114s 1s/step - loss: 0.6233 - acc: 0.6450 - val_loss: 0.6272 - val_acc: 0.6300\n",
            "Epoch 10/30\n",
            "100/100 [==============================] - 114s 1s/step - loss: 0.6251 - acc: 0.6465 - val_loss: 0.6216 - val_acc: 0.6400\n",
            "Epoch 11/30\n",
            "100/100 [==============================] - 114s 1s/step - loss: 0.6220 - acc: 0.6485 - val_loss: 0.6252 - val_acc: 0.6800\n",
            "Epoch 12/30\n",
            "100/100 [==============================] - 114s 1s/step - loss: 0.6132 - acc: 0.6570 - val_loss: 0.5673 - val_acc: 0.7275\n",
            "Epoch 13/30\n",
            "100/100 [==============================] - 114s 1s/step - loss: 0.6050 - acc: 0.6645 - val_loss: 0.5909 - val_acc: 0.6875\n",
            "Epoch 14/30\n",
            "100/100 [==============================] - 114s 1s/step - loss: 0.6126 - acc: 0.6670 - val_loss: 0.5936 - val_acc: 0.6825\n",
            "Epoch 15/30\n",
            "100/100 [==============================] - 114s 1s/step - loss: 0.5983 - acc: 0.6765 - val_loss: 0.6491 - val_acc: 0.6375\n",
            "Epoch 16/30\n",
            "100/100 [==============================] - 115s 1s/step - loss: 0.6023 - acc: 0.6820 - val_loss: 0.5755 - val_acc: 0.7075\n",
            "Epoch 17/30\n",
            "100/100 [==============================] - 114s 1s/step - loss: 0.5859 - acc: 0.6835 - val_loss: 0.5891 - val_acc: 0.6875\n",
            "Epoch 18/30\n",
            "100/100 [==============================] - 115s 1s/step - loss: 0.5774 - acc: 0.7005 - val_loss: 0.5594 - val_acc: 0.7175\n",
            "Epoch 19/30\n",
            "100/100 [==============================] - 115s 1s/step - loss: 0.5913 - acc: 0.6860 - val_loss: 0.5519 - val_acc: 0.7150\n",
            "Epoch 20/30\n",
            "100/100 [==============================] - 114s 1s/step - loss: 0.5850 - acc: 0.6935 - val_loss: 0.6081 - val_acc: 0.6975\n",
            "Epoch 21/30\n",
            "100/100 [==============================] - 115s 1s/step - loss: 0.5826 - acc: 0.6905 - val_loss: 0.5135 - val_acc: 0.7550\n",
            "Epoch 22/30\n",
            "100/100 [==============================] - 115s 1s/step - loss: 0.5786 - acc: 0.6955 - val_loss: 0.5470 - val_acc: 0.7250\n",
            "Epoch 23/30\n",
            "100/100 [==============================] - 115s 1s/step - loss: 0.5731 - acc: 0.6975 - val_loss: 0.5559 - val_acc: 0.7200\n",
            "Epoch 24/30\n",
            "100/100 [==============================] - 116s 1s/step - loss: 0.5673 - acc: 0.7025 - val_loss: 0.5327 - val_acc: 0.7325\n",
            "Epoch 25/30\n",
            "100/100 [==============================] - 116s 1s/step - loss: 0.5564 - acc: 0.7185 - val_loss: 0.5011 - val_acc: 0.7675\n",
            "Epoch 26/30\n",
            "100/100 [==============================] - 118s 1s/step - loss: 0.5612 - acc: 0.7025 - val_loss: 0.4798 - val_acc: 0.7850\n",
            "Epoch 27/30\n",
            "100/100 [==============================] - 116s 1s/step - loss: 0.5452 - acc: 0.7190 - val_loss: 0.5465 - val_acc: 0.7500\n",
            "Epoch 28/30\n",
            "100/100 [==============================] - 115s 1s/step - loss: 0.5579 - acc: 0.7140 - val_loss: 0.5188 - val_acc: 0.7350\n",
            "Epoch 29/30\n",
            "100/100 [==============================] - 115s 1s/step - loss: 0.5537 - acc: 0.7160 - val_loss: 0.5149 - val_acc: 0.7625\n",
            "Epoch 30/30\n",
            "100/100 [==============================] - 115s 1s/step - loss: 0.5615 - acc: 0.7090 - val_loss: 0.4749 - val_acc: 0.7675\n"
          ],
          "name": "stdout"
        }
      ]
    },
    {
      "cell_type": "code",
      "metadata": {
        "id": "P16LG6H3jy35",
        "colab_type": "code",
        "colab": {}
      },
      "source": [
        "acc=history.history['acc']\n",
        "val_acc=history.history['val_acc']\n",
        "loss=history.history['loss']\n",
        "val_loss=history.history['val_loss']"
      ],
      "execution_count": 0,
      "outputs": []
    },
    {
      "cell_type": "code",
      "metadata": {
        "id": "jbZiYFQvj7rr",
        "colab_type": "code",
        "colab": {}
      },
      "source": [
        "epochs=range(1, len(acc)+1)"
      ],
      "execution_count": 0,
      "outputs": []
    },
    {
      "cell_type": "code",
      "metadata": {
        "id": "8_A2bLRIj8gW",
        "colab_type": "code",
        "colab": {
          "base_uri": "https://localhost:8080/",
          "height": 545
        },
        "outputId": "585007fb-8e9b-4140-ffd6-285fb637b2a4"
      },
      "source": [
        "plt.plot(epochs, acc, 'bo', label='training acc')\n",
        "plt.plot(epochs, val_acc, 'b', label='validation acc')\n",
        "plt.title('training and validation accuracy')\n",
        "plt.legend()\n",
        "plt.figure()\n",
        "\n",
        "plt.plot(epochs, loss, 'bo', label='training loss')\n",
        "plt.plot(epochs, val_loss, 'b', label='validation loss')\n",
        "plt.title('training and validation loss')\n",
        "plt.legend()\n",
        "plt.show()"
      ],
      "execution_count": 15,
      "outputs": [
        {
          "output_type": "display_data",
          "data": {
            "image/png": "[encoded data removed]",
            "text/plain": [
              "<Figure size 432x288 with 1 Axes>"
            ]
          },
          "metadata": {
            "tags": []
          }
        },
        {
          "output_type": "display_data",
          "data": {
            "image/png": "[encoded data removed]",
            "text/plain": [
              "<Figure size 432x288 with 1 Axes>"
            ]
          },
          "metadata": {
            "tags": []
          }
        }
      ]
    }
  ]
}