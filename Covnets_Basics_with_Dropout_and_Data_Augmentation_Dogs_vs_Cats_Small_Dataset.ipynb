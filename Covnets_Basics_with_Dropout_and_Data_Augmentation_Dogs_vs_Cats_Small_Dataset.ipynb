{
  "nbformat": 4,
  "nbformat_minor": 0,
  "metadata": {
    "colab": {
      "name": "Covnets Basics with Dropout and Data Augmentation - Dogs vs. Cats - Small Dataset.ipynb",
      "provenance": [],
      "collapsed_sections": [],
      "include_colab_link": true
    },
    "kernelspec": {
      "name": "python3",
      "display_name": "Python 3"
    },
    "accelerator": "TPU"
  },
  "cells": [
    {
      "cell_type": "markdown",
      "metadata": {
        "id": "view-in-github",
        "colab_type": "text"
      },
      "source": [
        "<a href=\"https://colab.research.google.com/github/mfavaits/YouTube-Series-on-Machine-Learning/blob/master/Covnets_Basics_with_Dropout_and_Data_Augmentation_Dogs_vs_Cats_Small_Dataset.ipynb\" target=\"_parent\"><img src=\"https://colab.research.google.com/assets/colab-badge.svg\" alt=\"Open In Colab\"/></a>"
      ]
    },
    {
      "cell_type": "code",
      "metadata": {
        "id": "wCv4aeLxA1Xr",
        "colab_type": "code",
        "colab": {}
      },
      "source": [
        "import numpy as np\n",
        "import matplotlib.pyplot as plt\n",
        "\n",
        "import os\n",
        "import shutil"
      ],
      "execution_count": 0,
      "outputs": []
    },
    {
      "cell_type": "code",
      "metadata": {
        "id": "JD7vGwSixv_w",
        "colab_type": "code",
        "outputId": "a103bbf7-7bc6-4f55-84e6-509b00467f97",
        "colab": {
          "base_uri": "https://localhost:8080/",
          "height": 122
        }
      },
      "source": [
        "from google.colab import drive\n",
        "drive.mount('/content/drive')"
      ],
      "execution_count": 1,
      "outputs": [
        {
          "output_type": "stream",
          "text": [
            "Go to this URL in a browser: https://accounts.google.com/o/oauth2/auth?client_id=947318989803-6bn6qk8qdgf4n4g3pfee6491hc0brc4i.apps.googleusercontent.com&redirect_uri=urn%3Aietf%3Awg%3Aoauth%3A2.0%3Aoob&scope=email%20https%3A%2F%2Fwww.googleapis.com%2Fauth%2Fdocs.test%20https%3A%2F%2Fwww.googleapis.com%2Fauth%2Fdrive%20https%3A%2F%2Fwww.googleapis.com%2Fauth%2Fdrive.photos.readonly%20https%3A%2F%2Fwww.googleapis.com%2Fauth%2Fpeopleapi.readonly&response_type=code\n",
            "\n",
            "Enter your authorization code:\n",
            "··········\n",
            "Mounted at /content/drive\n"
          ],
          "name": "stdout"
        }
      ]
    },
    {
      "cell_type": "code",
      "metadata": {
        "id": "rsOA0XcXpIb_",
        "colab_type": "code",
        "colab": {
          "base_uri": "https://localhost:8080/",
          "height": 34
        },
        "outputId": "12722c88-8858-408c-cea7-42b41c22bf47"
      },
      "source": [
        "from keras.preprocessing.image import ImageDataGenerator"
      ],
      "execution_count": 2,
      "outputs": [
        {
          "output_type": "stream",
          "text": [
            "Using TensorFlow backend.\n"
          ],
          "name": "stderr"
        }
      ]
    },
    {
      "cell_type": "code",
      "metadata": {
        "id": "ZgWx3JWqXQ8r",
        "colab_type": "code",
        "colab": {}
      },
      "source": [
        "train_datagen=ImageDataGenerator(rescale=1./255, rotation_range=40, width_shift_range=0.2, height_shift_range=0.2, shear_range=0.2, zoom_range=0.2, horizontal_flip=True, fill_mode='nearest')\n",
        "validation_datagen=ImageDataGenerator(rescale=1./255)"
      ],
      "execution_count": 0,
      "outputs": []
    },
    {
      "cell_type": "code",
      "metadata": {
        "id": "kZOkDoE4XQo_",
        "colab_type": "code",
        "outputId": "18e959dd-24bf-43ca-dc73-15f0ba61770f",
        "colab": {
          "base_uri": "https://localhost:8080/",
          "height": 51
        }
      },
      "source": [
        "train_generator=train_datagen.flow_from_directory('/content/drive/My Drive/Colab Notebooks/training_2000', target_size=(150,150), batch_size=20, class_mode='binary')\n",
        "validation_generator=validation_datagen.flow_from_directory('/content/drive/My Drive/Colab Notebooks/val_1000', target_size=(150,150), batch_size=20, class_mode='binary')"
      ],
      "execution_count": 4,
      "outputs": [
        {
          "output_type": "stream",
          "text": [
            "Found 2000 images belonging to 2 classes.\n",
            "Found 1000 images belonging to 2 classes.\n"
          ],
          "name": "stdout"
        }
      ]
    },
    {
      "cell_type": "code",
      "metadata": {
        "id": "xVz_bzx6Jm1O",
        "colab_type": "code",
        "colab": {
          "base_uri": "https://localhost:8080/",
          "height": 173
        },
        "outputId": "6ed7860f-fe05-4576-b246-0a43f44b9a5b"
      },
      "source": [
        "from keras import models\n",
        "from keras import layers\n",
        "\n",
        "model=models.Sequential()\n",
        "model.add(layers.Conv2D(32, (3,3), activation='relu', input_shape=(150, 150, 3)))\n",
        "model.add(layers.MaxPooling2D(2,2))\n",
        "model.add(layers.Conv2D(64, (3,3), activation='relu'))\n",
        "model.add(layers.MaxPooling2D(2,2))\n",
        "model.add(layers.Conv2D(128, (3,3), activation='relu'))\n",
        "model.add(layers.MaxPooling2D(2,2))\n",
        "model.add(layers.Conv2D(128, (3,3), activation='relu'))\n",
        "model.add(layers.MaxPooling2D(2,2))\n",
        "model.add(layers.Flatten())\n",
        "#model.add(layers.Dropout(0.5))\n",
        "model.add(layers.Dense(512, activation='relu'))\n",
        "model.add(layers.Dense(1, activation='sigmoid'))"
      ],
      "execution_count": 5,
      "outputs": [
        {
          "output_type": "stream",
          "text": [
            "WARNING:tensorflow:From /usr/local/lib/python3.6/dist-packages/keras/backend/tensorflow_backend.py:66: The name tf.get_default_graph is deprecated. Please use tf.compat.v1.get_default_graph instead.\n",
            "\n",
            "WARNING:tensorflow:From /usr/local/lib/python3.6/dist-packages/keras/backend/tensorflow_backend.py:541: The name tf.placeholder is deprecated. Please use tf.compat.v1.placeholder instead.\n",
            "\n",
            "WARNING:tensorflow:From /usr/local/lib/python3.6/dist-packages/keras/backend/tensorflow_backend.py:4432: The name tf.random_uniform is deprecated. Please use tf.random.uniform instead.\n",
            "\n",
            "WARNING:tensorflow:From /usr/local/lib/python3.6/dist-packages/keras/backend/tensorflow_backend.py:4267: The name tf.nn.max_pool is deprecated. Please use tf.nn.max_pool2d instead.\n",
            "\n"
          ],
          "name": "stdout"
        }
      ]
    },
    {
      "cell_type": "code",
      "metadata": {
        "id": "OJ5pPJezJmx7",
        "colab_type": "code",
        "colab": {
          "base_uri": "https://localhost:8080/",
          "height": 156
        },
        "outputId": "d31e83ec-12bc-4ffd-a161-7d1e836790c6"
      },
      "source": [
        "from keras import optimizers\n",
        "model.compile(loss='binary_crossentropy', optimizer=optimizers.RMSprop(lr=1e-4), metrics=['acc'])"
      ],
      "execution_count": 6,
      "outputs": [
        {
          "output_type": "stream",
          "text": [
            "WARNING:tensorflow:From /usr/local/lib/python3.6/dist-packages/keras/optimizers.py:793: The name tf.train.Optimizer is deprecated. Please use tf.compat.v1.train.Optimizer instead.\n",
            "\n",
            "WARNING:tensorflow:From /usr/local/lib/python3.6/dist-packages/keras/backend/tensorflow_backend.py:3657: The name tf.log is deprecated. Please use tf.math.log instead.\n",
            "\n",
            "WARNING:tensorflow:From /usr/local/lib/python3.6/dist-packages/tensorflow_core/python/ops/nn_impl.py:183: where (from tensorflow.python.ops.array_ops) is deprecated and will be removed in a future version.\n",
            "Instructions for updating:\n",
            "Use tf.where in 2.0, which has the same broadcast rule as np.where\n"
          ],
          "name": "stdout"
        }
      ]
    },
    {
      "cell_type": "code",
      "metadata": {
        "id": "72XdpiJJJmte",
        "colab_type": "code",
        "outputId": "3a50972f-108f-48a3-dc0f-fd7d56a236b1",
        "colab": {
          "base_uri": "https://localhost:8080/",
          "height": 1000
        }
      },
      "source": [
        "history=model.fit_generator(train_generator, steps_per_epoch=100, epochs=100, validation_data=validation_generator, validation_steps=20)"
      ],
      "execution_count": 7,
      "outputs": [
        {
          "output_type": "stream",
          "text": [
            "WARNING:tensorflow:From /usr/local/lib/python3.6/dist-packages/keras/backend/tensorflow_backend.py:1033: The name tf.assign_add is deprecated. Please use tf.compat.v1.assign_add instead.\n",
            "\n",
            "WARNING:tensorflow:From /usr/local/lib/python3.6/dist-packages/keras/backend/tensorflow_backend.py:1020: The name tf.assign is deprecated. Please use tf.compat.v1.assign instead.\n",
            "\n",
            "WARNING:tensorflow:From /usr/local/lib/python3.6/dist-packages/keras/backend/tensorflow_backend.py:3005: The name tf.Session is deprecated. Please use tf.compat.v1.Session instead.\n",
            "\n",
            "Epoch 1/100\n",
            "WARNING:tensorflow:From /usr/local/lib/python3.6/dist-packages/keras/backend/tensorflow_backend.py:190: The name tf.get_default_session is deprecated. Please use tf.compat.v1.get_default_session instead.\n",
            "\n",
            "WARNING:tensorflow:From /usr/local/lib/python3.6/dist-packages/keras/backend/tensorflow_backend.py:197: The name tf.ConfigProto is deprecated. Please use tf.compat.v1.ConfigProto instead.\n",
            "\n",
            "WARNING:tensorflow:From /usr/local/lib/python3.6/dist-packages/keras/backend/tensorflow_backend.py:207: The name tf.global_variables is deprecated. Please use tf.compat.v1.global_variables instead.\n",
            "\n",
            "WARNING:tensorflow:From /usr/local/lib/python3.6/dist-packages/keras/backend/tensorflow_backend.py:216: The name tf.is_variable_initialized is deprecated. Please use tf.compat.v1.is_variable_initialized instead.\n",
            "\n",
            "WARNING:tensorflow:From /usr/local/lib/python3.6/dist-packages/keras/backend/tensorflow_backend.py:223: The name tf.variables_initializer is deprecated. Please use tf.compat.v1.variables_initializer instead.\n",
            "\n",
            "100/100 [==============================] - 488s 5s/step - loss: 0.6931 - acc: 0.5180 - val_loss: 0.6871 - val_acc: 0.5175\n",
            "Epoch 2/100\n",
            "100/100 [==============================] - 150s 2s/step - loss: 0.6778 - acc: 0.5600 - val_loss: 0.6703 - val_acc: 0.5775\n",
            "Epoch 3/100\n",
            "100/100 [==============================] - 117s 1s/step - loss: 0.6707 - acc: 0.5870 - val_loss: 0.6779 - val_acc: 0.5900\n",
            "Epoch 4/100\n",
            "100/100 [==============================] - 117s 1s/step - loss: 0.6579 - acc: 0.6045 - val_loss: 0.6444 - val_acc: 0.5975\n",
            "Epoch 5/100\n",
            "100/100 [==============================] - 115s 1s/step - loss: 0.6479 - acc: 0.6140 - val_loss: 0.6561 - val_acc: 0.5975\n",
            "Epoch 6/100\n",
            "100/100 [==============================] - 117s 1s/step - loss: 0.6445 - acc: 0.6295 - val_loss: 0.6174 - val_acc: 0.6325\n",
            "Epoch 7/100\n",
            "100/100 [==============================] - 116s 1s/step - loss: 0.6380 - acc: 0.6305 - val_loss: 0.6083 - val_acc: 0.6600\n",
            "Epoch 8/100\n",
            "100/100 [==============================] - 115s 1s/step - loss: 0.6280 - acc: 0.6520 - val_loss: 0.5918 - val_acc: 0.6675\n",
            "Epoch 9/100\n",
            "100/100 [==============================] - 115s 1s/step - loss: 0.6115 - acc: 0.6485 - val_loss: 0.5908 - val_acc: 0.6600\n",
            "Epoch 10/100\n",
            "100/100 [==============================] - 115s 1s/step - loss: 0.6132 - acc: 0.6660 - val_loss: 0.6762 - val_acc: 0.6275\n",
            "Epoch 11/100\n",
            "100/100 [==============================] - 117s 1s/step - loss: 0.6127 - acc: 0.6645 - val_loss: 0.6039 - val_acc: 0.6575\n",
            "Epoch 12/100\n",
            "100/100 [==============================] - 117s 1s/step - loss: 0.5973 - acc: 0.6850 - val_loss: 0.5510 - val_acc: 0.7250\n",
            "Epoch 13/100\n",
            "100/100 [==============================] - 116s 1s/step - loss: 0.5959 - acc: 0.6940 - val_loss: 0.5408 - val_acc: 0.7225\n",
            "Epoch 14/100\n",
            "100/100 [==============================] - 117s 1s/step - loss: 0.5967 - acc: 0.6845 - val_loss: 0.5622 - val_acc: 0.7050\n",
            "Epoch 15/100\n",
            "100/100 [==============================] - 117s 1s/step - loss: 0.5819 - acc: 0.6865 - val_loss: 0.5659 - val_acc: 0.6800\n",
            "Epoch 16/100\n",
            "100/100 [==============================] - 116s 1s/step - loss: 0.5660 - acc: 0.7110 - val_loss: 0.5718 - val_acc: 0.6750\n",
            "Epoch 17/100\n",
            "100/100 [==============================] - 115s 1s/step - loss: 0.5743 - acc: 0.6970 - val_loss: 0.5474 - val_acc: 0.7075\n",
            "Epoch 18/100\n",
            "100/100 [==============================] - 118s 1s/step - loss: 0.5680 - acc: 0.7075 - val_loss: 0.5061 - val_acc: 0.7675\n",
            "Epoch 19/100\n",
            "100/100 [==============================] - 115s 1s/step - loss: 0.5671 - acc: 0.7045 - val_loss: 0.4979 - val_acc: 0.7650\n",
            "Epoch 20/100\n",
            "100/100 [==============================] - 118s 1s/step - loss: 0.5553 - acc: 0.7030 - val_loss: 0.6249 - val_acc: 0.6525\n",
            "Epoch 21/100\n",
            "100/100 [==============================] - 119s 1s/step - loss: 0.5653 - acc: 0.7150 - val_loss: 0.5798 - val_acc: 0.7200\n",
            "Epoch 22/100\n",
            "100/100 [==============================] - 121s 1s/step - loss: 0.5532 - acc: 0.7190 - val_loss: 0.4916 - val_acc: 0.7575\n",
            "Epoch 23/100\n",
            "100/100 [==============================] - 116s 1s/step - loss: 0.5616 - acc: 0.7080 - val_loss: 0.4927 - val_acc: 0.7525\n",
            "Epoch 24/100\n",
            "100/100 [==============================] - 117s 1s/step - loss: 0.5450 - acc: 0.7265 - val_loss: 0.5695 - val_acc: 0.7025\n",
            "Epoch 25/100\n",
            "100/100 [==============================] - 119s 1s/step - loss: 0.5453 - acc: 0.7265 - val_loss: 0.5339 - val_acc: 0.7375\n",
            "Epoch 26/100\n",
            "100/100 [==============================] - 119s 1s/step - loss: 0.5455 - acc: 0.7255 - val_loss: 0.5022 - val_acc: 0.7600\n",
            "Epoch 27/100\n",
            "100/100 [==============================] - 118s 1s/step - loss: 0.5399 - acc: 0.7200 - val_loss: 0.5067 - val_acc: 0.7525\n",
            "Epoch 28/100\n",
            "100/100 [==============================] - 117s 1s/step - loss: 0.5357 - acc: 0.7255 - val_loss: 0.5965 - val_acc: 0.6950\n",
            "Epoch 29/100\n",
            "100/100 [==============================] - 118s 1s/step - loss: 0.5444 - acc: 0.7325 - val_loss: 0.4839 - val_acc: 0.7550\n",
            "Epoch 30/100\n",
            "100/100 [==============================] - 121s 1s/step - loss: 0.5278 - acc: 0.7445 - val_loss: 0.5286 - val_acc: 0.7375\n",
            "Epoch 31/100\n",
            "100/100 [==============================] - 119s 1s/step - loss: 0.5217 - acc: 0.7530 - val_loss: 0.5004 - val_acc: 0.7500\n",
            "Epoch 32/100\n",
            "100/100 [==============================] - 120s 1s/step - loss: 0.5197 - acc: 0.7415 - val_loss: 0.4541 - val_acc: 0.7875\n",
            "Epoch 33/100\n",
            "100/100 [==============================] - 116s 1s/step - loss: 0.5186 - acc: 0.7460 - val_loss: 0.5188 - val_acc: 0.7600\n",
            "Epoch 34/100\n",
            "100/100 [==============================] - 117s 1s/step - loss: 0.5208 - acc: 0.7355 - val_loss: 0.4806 - val_acc: 0.7800\n",
            "Epoch 35/100\n",
            "100/100 [==============================] - 118s 1s/step - loss: 0.5163 - acc: 0.7445 - val_loss: 0.4614 - val_acc: 0.7875\n",
            "Epoch 36/100\n",
            "100/100 [==============================] - 118s 1s/step - loss: 0.5109 - acc: 0.7595 - val_loss: 0.5053 - val_acc: 0.7250\n",
            "Epoch 37/100\n",
            "100/100 [==============================] - 120s 1s/step - loss: 0.5145 - acc: 0.7480 - val_loss: 0.4836 - val_acc: 0.7800\n",
            "Epoch 38/100\n",
            "100/100 [==============================] - 119s 1s/step - loss: 0.5165 - acc: 0.7535 - val_loss: 0.5216 - val_acc: 0.7425\n",
            "Epoch 39/100\n",
            "100/100 [==============================] - 118s 1s/step - loss: 0.4926 - acc: 0.7585 - val_loss: 0.4744 - val_acc: 0.7700\n",
            "Epoch 40/100\n",
            "100/100 [==============================] - 119s 1s/step - loss: 0.5017 - acc: 0.7540 - val_loss: 0.5180 - val_acc: 0.7400\n",
            "Epoch 41/100\n",
            "100/100 [==============================] - 116s 1s/step - loss: 0.5180 - acc: 0.7485 - val_loss: 0.4670 - val_acc: 0.7550\n",
            "Epoch 42/100\n",
            "100/100 [==============================] - 118s 1s/step - loss: 0.5099 - acc: 0.7585 - val_loss: 0.5206 - val_acc: 0.7550\n",
            "Epoch 43/100\n",
            "100/100 [==============================] - 117s 1s/step - loss: 0.4898 - acc: 0.7645 - val_loss: 0.5748 - val_acc: 0.6975\n",
            "Epoch 44/100\n",
            "100/100 [==============================] - 116s 1s/step - loss: 0.4895 - acc: 0.7645 - val_loss: 0.5525 - val_acc: 0.7100\n",
            "Epoch 45/100\n",
            "100/100 [==============================] - 114s 1s/step - loss: 0.5008 - acc: 0.7575 - val_loss: 0.4939 - val_acc: 0.7800\n",
            "Epoch 46/100\n",
            "100/100 [==============================] - 115s 1s/step - loss: 0.4861 - acc: 0.7730 - val_loss: 0.6330 - val_acc: 0.6750\n",
            "Epoch 47/100\n",
            "100/100 [==============================] - 115s 1s/step - loss: 0.4856 - acc: 0.7765 - val_loss: 0.5466 - val_acc: 0.7250\n",
            "Epoch 48/100\n",
            "100/100 [==============================] - 115s 1s/step - loss: 0.4881 - acc: 0.7735 - val_loss: 0.4570 - val_acc: 0.7975\n",
            "Epoch 49/100\n",
            "100/100 [==============================] - 115s 1s/step - loss: 0.4678 - acc: 0.7835 - val_loss: 0.4336 - val_acc: 0.8050\n",
            "Epoch 50/100\n",
            "100/100 [==============================] - 113s 1s/step - loss: 0.4821 - acc: 0.7790 - val_loss: 0.5521 - val_acc: 0.7325\n",
            "Epoch 51/100\n",
            "100/100 [==============================] - 115s 1s/step - loss: 0.4794 - acc: 0.7785 - val_loss: 0.5104 - val_acc: 0.7300\n",
            "Epoch 52/100\n",
            "100/100 [==============================] - 114s 1s/step - loss: 0.4903 - acc: 0.7745 - val_loss: 0.4640 - val_acc: 0.8025\n",
            "Epoch 53/100\n",
            "100/100 [==============================] - 113s 1s/step - loss: 0.4756 - acc: 0.7750 - val_loss: 0.4640 - val_acc: 0.7775\n",
            "Epoch 54/100\n",
            "100/100 [==============================] - 114s 1s/step - loss: 0.4723 - acc: 0.7785 - val_loss: 0.6602 - val_acc: 0.6950\n",
            "Epoch 55/100\n",
            "100/100 [==============================] - 113s 1s/step - loss: 0.4695 - acc: 0.7760 - val_loss: 0.4664 - val_acc: 0.7725\n",
            "Epoch 56/100\n",
            "100/100 [==============================] - 114s 1s/step - loss: 0.4578 - acc: 0.7825 - val_loss: 0.4212 - val_acc: 0.8025\n",
            "Epoch 57/100\n",
            "100/100 [==============================] - 114s 1s/step - loss: 0.4702 - acc: 0.7810 - val_loss: 0.5616 - val_acc: 0.7625\n",
            "Epoch 58/100\n",
            "100/100 [==============================] - 116s 1s/step - loss: 0.4541 - acc: 0.7855 - val_loss: 0.4349 - val_acc: 0.8075\n",
            "Epoch 59/100\n",
            "100/100 [==============================] - 115s 1s/step - loss: 0.4648 - acc: 0.7760 - val_loss: 0.4888 - val_acc: 0.7625\n",
            "Epoch 60/100\n",
            "100/100 [==============================] - 114s 1s/step - loss: 0.4571 - acc: 0.7770 - val_loss: 0.4744 - val_acc: 0.7675\n",
            "Epoch 61/100\n",
            "100/100 [==============================] - 115s 1s/step - loss: 0.4670 - acc: 0.7820 - val_loss: 0.4591 - val_acc: 0.7875\n",
            "Epoch 62/100\n",
            "100/100 [==============================] - 115s 1s/step - loss: 0.4524 - acc: 0.7820 - val_loss: 0.4304 - val_acc: 0.8175\n",
            "Epoch 63/100\n",
            "100/100 [==============================] - 115s 1s/step - loss: 0.4587 - acc: 0.7965 - val_loss: 0.4807 - val_acc: 0.7800\n",
            "Epoch 64/100\n",
            "100/100 [==============================] - 116s 1s/step - loss: 0.4508 - acc: 0.7845 - val_loss: 0.5084 - val_acc: 0.7900\n",
            "Epoch 65/100\n",
            "100/100 [==============================] - 115s 1s/step - loss: 0.4484 - acc: 0.7895 - val_loss: 0.4537 - val_acc: 0.7950\n",
            "Epoch 66/100\n",
            "100/100 [==============================] - 116s 1s/step - loss: 0.4507 - acc: 0.8020 - val_loss: 0.4959 - val_acc: 0.7625\n",
            "Epoch 67/100\n",
            "100/100 [==============================] - 116s 1s/step - loss: 0.4442 - acc: 0.7860 - val_loss: 0.4212 - val_acc: 0.8200\n",
            "Epoch 68/100\n",
            "100/100 [==============================] - 116s 1s/step - loss: 0.4264 - acc: 0.8065 - val_loss: 0.4531 - val_acc: 0.8025\n",
            "Epoch 69/100\n",
            "100/100 [==============================] - 115s 1s/step - loss: 0.4400 - acc: 0.7885 - val_loss: 0.4744 - val_acc: 0.7525\n",
            "Epoch 70/100\n",
            "100/100 [==============================] - 116s 1s/step - loss: 0.4492 - acc: 0.7895 - val_loss: 0.4496 - val_acc: 0.8025\n",
            "Epoch 71/100\n",
            "100/100 [==============================] - 116s 1s/step - loss: 0.4579 - acc: 0.7915 - val_loss: 0.5623 - val_acc: 0.7600\n",
            "Epoch 72/100\n",
            "100/100 [==============================] - 116s 1s/step - loss: 0.4477 - acc: 0.7850 - val_loss: 0.4034 - val_acc: 0.8175\n",
            "Epoch 73/100\n",
            "100/100 [==============================] - 116s 1s/step - loss: 0.4354 - acc: 0.8030 - val_loss: 0.4855 - val_acc: 0.7900\n",
            "Epoch 74/100\n",
            "100/100 [==============================] - 112s 1s/step - loss: 0.4290 - acc: 0.8080 - val_loss: 0.4509 - val_acc: 0.8000\n",
            "Epoch 75/100\n",
            "100/100 [==============================] - 112s 1s/step - loss: 0.4361 - acc: 0.7980 - val_loss: 0.4412 - val_acc: 0.7775\n",
            "Epoch 76/100\n",
            "100/100 [==============================] - 113s 1s/step - loss: 0.4289 - acc: 0.8015 - val_loss: 0.4914 - val_acc: 0.8125\n",
            "Epoch 77/100\n",
            "100/100 [==============================] - 113s 1s/step - loss: 0.4266 - acc: 0.8065 - val_loss: 0.4482 - val_acc: 0.7825\n",
            "Epoch 78/100\n",
            "100/100 [==============================] - 113s 1s/step - loss: 0.4103 - acc: 0.8170 - val_loss: 0.6301 - val_acc: 0.7475\n",
            "Epoch 79/100\n",
            "100/100 [==============================] - 113s 1s/step - loss: 0.4308 - acc: 0.7970 - val_loss: 0.5193 - val_acc: 0.7925\n",
            "Epoch 80/100\n",
            "100/100 [==============================] - 111s 1s/step - loss: 0.4174 - acc: 0.8020 - val_loss: 0.5084 - val_acc: 0.7875\n",
            "Epoch 81/100\n",
            "100/100 [==============================] - 112s 1s/step - loss: 0.4255 - acc: 0.8095 - val_loss: 0.4609 - val_acc: 0.7900\n",
            "Epoch 82/100\n",
            "100/100 [==============================] - 112s 1s/step - loss: 0.4094 - acc: 0.8135 - val_loss: 0.3824 - val_acc: 0.8275\n",
            "Epoch 83/100\n",
            "100/100 [==============================] - 111s 1s/step - loss: 0.4086 - acc: 0.8080 - val_loss: 0.4907 - val_acc: 0.7925\n",
            "Epoch 84/100\n",
            "100/100 [==============================] - 112s 1s/step - loss: 0.4122 - acc: 0.8150 - val_loss: 0.4574 - val_acc: 0.8100\n",
            "Epoch 85/100\n",
            "100/100 [==============================] - 111s 1s/step - loss: 0.4186 - acc: 0.8160 - val_loss: 0.4807 - val_acc: 0.7825\n",
            "Epoch 86/100\n",
            "100/100 [==============================] - 112s 1s/step - loss: 0.4135 - acc: 0.8135 - val_loss: 0.4236 - val_acc: 0.8100\n",
            "Epoch 87/100\n",
            "100/100 [==============================] - 111s 1s/step - loss: 0.4112 - acc: 0.8065 - val_loss: 0.4272 - val_acc: 0.8300\n",
            "Epoch 88/100\n",
            "100/100 [==============================] - 112s 1s/step - loss: 0.4129 - acc: 0.8085 - val_loss: 0.4353 - val_acc: 0.8175\n",
            "Epoch 89/100\n",
            "100/100 [==============================] - 112s 1s/step - loss: 0.3941 - acc: 0.8210 - val_loss: 0.4306 - val_acc: 0.8025\n",
            "Epoch 90/100\n",
            "100/100 [==============================] - 111s 1s/step - loss: 0.4187 - acc: 0.8170 - val_loss: 0.6553 - val_acc: 0.7600\n",
            "Epoch 91/100\n",
            "100/100 [==============================] - 112s 1s/step - loss: 0.3977 - acc: 0.8185 - val_loss: 0.4642 - val_acc: 0.8175\n",
            "Epoch 92/100\n",
            "100/100 [==============================] - 112s 1s/step - loss: 0.3946 - acc: 0.8185 - val_loss: 0.5773 - val_acc: 0.7900\n",
            "Epoch 93/100\n",
            "100/100 [==============================] - 112s 1s/step - loss: 0.4100 - acc: 0.8105 - val_loss: 0.4371 - val_acc: 0.7800\n",
            "Epoch 94/100\n",
            "100/100 [==============================] - 112s 1s/step - loss: 0.3971 - acc: 0.8250 - val_loss: 0.4392 - val_acc: 0.7925\n",
            "Epoch 95/100\n",
            "100/100 [==============================] - 112s 1s/step - loss: 0.3941 - acc: 0.8200 - val_loss: 0.5016 - val_acc: 0.8075\n",
            "Epoch 96/100\n",
            "100/100 [==============================] - 114s 1s/step - loss: 0.4091 - acc: 0.8240 - val_loss: 0.4858 - val_acc: 0.7950\n",
            "Epoch 97/100\n",
            "100/100 [==============================] - 113s 1s/step - loss: 0.3900 - acc: 0.8275 - val_loss: 0.4822 - val_acc: 0.7800\n",
            "Epoch 98/100\n",
            "100/100 [==============================] - 112s 1s/step - loss: 0.3797 - acc: 0.8280 - val_loss: 0.4054 - val_acc: 0.8250\n",
            "Epoch 99/100\n",
            "100/100 [==============================] - 112s 1s/step - loss: 0.3911 - acc: 0.8250 - val_loss: 0.5487 - val_acc: 0.7825\n",
            "Epoch 100/100\n",
            "100/100 [==============================] - 112s 1s/step - loss: 0.4105 - acc: 0.8205 - val_loss: 0.4337 - val_acc: 0.8250\n"
          ],
          "name": "stdout"
        }
      ]
    },
    {
      "cell_type": "code",
      "metadata": {
        "id": "P16LG6H3jy35",
        "colab_type": "code",
        "colab": {}
      },
      "source": [
        "acc=history.history['acc']\n",
        "val_acc=history.history['val_acc']\n",
        "loss=history.history['loss']\n",
        "val_loss=history.history['val_loss']"
      ],
      "execution_count": 0,
      "outputs": []
    },
    {
      "cell_type": "code",
      "metadata": {
        "id": "jbZiYFQvj7rr",
        "colab_type": "code",
        "colab": {}
      },
      "source": [
        "epochs=range(1, len(acc)+1)"
      ],
      "execution_count": 0,
      "outputs": []
    },
    {
      "cell_type": "code",
      "metadata": {
        "id": "8_A2bLRIj8gW",
        "colab_type": "code",
        "colab": {
          "base_uri": "https://localhost:8080/",
          "height": 545
        },
        "outputId": "806c1706-6684-4204-c831-8bcd1ca547e9"
      },
      "source": [
        "plt.plot(epochs, acc, 'bo', label='training acc')\n",
        "plt.plot(epochs, val_acc, 'b', label='validation acc')\n",
        "plt.title('training and validation accuracy')\n",
        "plt.legend()\n",
        "plt.figure()\n",
        "\n",
        "plt.plot(epochs, loss, 'bo', label='training loss')\n",
        "plt.plot(epochs, val_loss, 'b', label='validation loss')\n",
        "plt.title('training and validation loss')\n",
        "plt.legend()\n",
        "plt.show()"
      ],
      "execution_count": 12,
      "outputs": [
        {
          "output_type": "display_data",
          "data": {
            "image/png": "[encoded data removed]",
            "text/plain": [
              "<Figure size 432x288 with 1 Axes>"
            ]
          },
          "metadata": {
            "tags": []
          }
        },
        {
          "output_type": "display_data",
          "data": {
            "image/png": "[encoded data removed]",
            "text/plain": [
              "<Figure size 432x288 with 1 Axes>"
            ]
          },
          "metadata": {
            "tags": []
          }
        }
      ]
    }
  ]
}