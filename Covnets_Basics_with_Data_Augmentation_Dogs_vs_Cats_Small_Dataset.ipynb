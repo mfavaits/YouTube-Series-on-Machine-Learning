{
  "nbformat": 4,
  "nbformat_minor": 0,
  "metadata": {
    "colab": {
      "name": "Covnets Basics with Data Augmentation - Dogs vs. Cats - Small Dataset.ipynb",
      "provenance": [],
      "collapsed_sections": [],
      "include_colab_link": true
    },
    "kernelspec": {
      "name": "python3",
      "display_name": "Python 3"
    },
    "accelerator": "TPU"
  },
  "cells": [
    {
      "cell_type": "markdown",
      "metadata": {
        "id": "view-in-github",
        "colab_type": "text"
      },
      "source": [
        "<a href=\"https://colab.research.google.com/github/mfavaits/YouTube-Series-on-Machine-Learning/blob/master/Covnets_Basics_with_Data_Augmentation_Dogs_vs_Cats_Small_Dataset.ipynb\" target=\"_parent\"><img src=\"https://colab.research.google.com/assets/colab-badge.svg\" alt=\"Open In Colab\"/></a>"
      ]
    },
    {
      "cell_type": "code",
      "metadata": {
        "id": "wCv4aeLxA1Xr",
        "colab_type": "code",
        "colab": {}
      },
      "source": [
        "import numpy as np\n",
        "import matplotlib.pyplot as plt\n",
        "\n",
        "import os\n",
        "import shutil"
      ],
      "execution_count": 0,
      "outputs": []
    },
    {
      "cell_type": "code",
      "metadata": {
        "id": "JD7vGwSixv_w",
        "colab_type": "code",
        "outputId": "f0cf292a-09c2-431d-f133-f5c5fbe56703",
        "colab": {
          "base_uri": "https://localhost:8080/",
          "height": 34
        }
      },
      "source": [
        "from google.colab import drive\n",
        "drive.mount('/content/drive')"
      ],
      "execution_count": 4,
      "outputs": [
        {
          "output_type": "stream",
          "text": [
            "Drive already mounted at /content/drive; to attempt to forcibly remount, call drive.mount(\"/content/drive\", force_remount=True).\n"
          ],
          "name": "stdout"
        }
      ]
    },
    {
      "cell_type": "code",
      "metadata": {
        "id": "rsOA0XcXpIb_",
        "colab_type": "code",
        "outputId": "506614c0-7753-4dbe-fd7c-c2e69f778955",
        "colab": {
          "base_uri": "https://localhost:8080/",
          "height": 34
        }
      },
      "source": [
        "from keras.preprocessing.image import ImageDataGenerator"
      ],
      "execution_count": 5,
      "outputs": [
        {
          "output_type": "stream",
          "text": [
            "Using TensorFlow backend.\n"
          ],
          "name": "stderr"
        }
      ]
    },
    {
      "cell_type": "code",
      "metadata": {
        "id": "ZgWx3JWqXQ8r",
        "colab_type": "code",
        "colab": {}
      },
      "source": [
        "train_datagen=ImageDataGenerator(rescale=1./255, rotation_range=40, width_shift_range=0.2, height_shift_range=0.2, shear_range=0.2, zoom_range=0.2, horizontal_flip=True, fill_mode='nearest')\n",
        "validation_datagen=ImageDataGenerator(rescale=1./255)"
      ],
      "execution_count": 0,
      "outputs": []
    },
    {
      "cell_type": "code",
      "metadata": {
        "id": "kZOkDoE4XQo_",
        "colab_type": "code",
        "outputId": "d136ade5-0d3f-4ec4-a66a-99b80340a5cd",
        "colab": {
          "base_uri": "https://localhost:8080/",
          "height": 51
        }
      },
      "source": [
        "train_generator=train_datagen.flow_from_directory('/content/drive/My Drive/Colab Notebooks/training_2000', target_size=(150,150), batch_size=20, class_mode='binary')\n",
        "validation_generator=validation_datagen.flow_from_directory('/content/drive/My Drive/Colab Notebooks/val_1000', target_size=(150,150), batch_size=20, class_mode='binary')"
      ],
      "execution_count": 7,
      "outputs": [
        {
          "output_type": "stream",
          "text": [
            "Found 2000 images belonging to 2 classes.\n",
            "Found 1000 images belonging to 2 classes.\n"
          ],
          "name": "stdout"
        }
      ]
    },
    {
      "cell_type": "code",
      "metadata": {
        "id": "xVz_bzx6Jm1O",
        "colab_type": "code",
        "outputId": "03bb9e58-da75-4444-ba80-53189a2275ce",
        "colab": {
          "base_uri": "https://localhost:8080/",
          "height": 173
        }
      },
      "source": [
        "from keras import models\n",
        "from keras import layers\n",
        "\n",
        "model=models.Sequential()\n",
        "model.add(layers.Conv2D(32, (3,3), activation='relu', input_shape=(150, 150, 3)))\n",
        "model.add(layers.MaxPooling2D(2,2))\n",
        "model.add(layers.Conv2D(64, (3,3), activation='relu'))\n",
        "model.add(layers.MaxPooling2D(2,2))\n",
        "model.add(layers.Conv2D(128, (3,3), activation='relu'))\n",
        "model.add(layers.MaxPooling2D(2,2))\n",
        "model.add(layers.Conv2D(128, (3,3), activation='relu'))\n",
        "model.add(layers.MaxPooling2D(2,2))\n",
        "model.add(layers.Flatten())\n",
        "#model.add(layers.Dropout(0.5))\n",
        "model.add(layers.Dense(512, activation='relu'))\n",
        "model.add(layers.Dense(1, activation='sigmoid'))"
      ],
      "execution_count": 8,
      "outputs": [
        {
          "output_type": "stream",
          "text": [
            "WARNING:tensorflow:From /usr/local/lib/python3.6/dist-packages/keras/backend/tensorflow_backend.py:66: The name tf.get_default_graph is deprecated. Please use tf.compat.v1.get_default_graph instead.\n",
            "\n",
            "WARNING:tensorflow:From /usr/local/lib/python3.6/dist-packages/keras/backend/tensorflow_backend.py:541: The name tf.placeholder is deprecated. Please use tf.compat.v1.placeholder instead.\n",
            "\n",
            "WARNING:tensorflow:From /usr/local/lib/python3.6/dist-packages/keras/backend/tensorflow_backend.py:4432: The name tf.random_uniform is deprecated. Please use tf.random.uniform instead.\n",
            "\n",
            "WARNING:tensorflow:From /usr/local/lib/python3.6/dist-packages/keras/backend/tensorflow_backend.py:4267: The name tf.nn.max_pool is deprecated. Please use tf.nn.max_pool2d instead.\n",
            "\n"
          ],
          "name": "stdout"
        }
      ]
    },
    {
      "cell_type": "code",
      "metadata": {
        "id": "OJ5pPJezJmx7",
        "colab_type": "code",
        "outputId": "2122ed2f-8def-4872-bbd6-3ce287b9a9bf",
        "colab": {
          "base_uri": "https://localhost:8080/",
          "height": 156
        }
      },
      "source": [
        "from keras import optimizers\n",
        "model.compile(loss='binary_crossentropy', optimizer=optimizers.RMSprop(lr=1e-4), metrics=['acc'])"
      ],
      "execution_count": 9,
      "outputs": [
        {
          "output_type": "stream",
          "text": [
            "WARNING:tensorflow:From /usr/local/lib/python3.6/dist-packages/keras/optimizers.py:793: The name tf.train.Optimizer is deprecated. Please use tf.compat.v1.train.Optimizer instead.\n",
            "\n",
            "WARNING:tensorflow:From /usr/local/lib/python3.6/dist-packages/keras/backend/tensorflow_backend.py:3657: The name tf.log is deprecated. Please use tf.math.log instead.\n",
            "\n",
            "WARNING:tensorflow:From /usr/local/lib/python3.6/dist-packages/tensorflow_core/python/ops/nn_impl.py:183: where (from tensorflow.python.ops.array_ops) is deprecated and will be removed in a future version.\n",
            "Instructions for updating:\n",
            "Use tf.where in 2.0, which has the same broadcast rule as np.where\n"
          ],
          "name": "stdout"
        }
      ]
    },
    {
      "cell_type": "code",
      "metadata": {
        "id": "72XdpiJJJmte",
        "colab_type": "code",
        "outputId": "78129eef-34cf-47ee-a940-922da12154db",
        "colab": {
          "base_uri": "https://localhost:8080/",
          "height": 1000
        }
      },
      "source": [
        "history=model.fit_generator(train_generator, steps_per_epoch=100, epochs=30, validation_data=validation_generator, validation_steps=20)"
      ],
      "execution_count": 10,
      "outputs": [
        {
          "output_type": "stream",
          "text": [
            "WARNING:tensorflow:From /usr/local/lib/python3.6/dist-packages/keras/backend/tensorflow_backend.py:1033: The name tf.assign_add is deprecated. Please use tf.compat.v1.assign_add instead.\n",
            "\n",
            "WARNING:tensorflow:From /usr/local/lib/python3.6/dist-packages/keras/backend/tensorflow_backend.py:1020: The name tf.assign is deprecated. Please use tf.compat.v1.assign instead.\n",
            "\n",
            "WARNING:tensorflow:From /usr/local/lib/python3.6/dist-packages/keras/backend/tensorflow_backend.py:3005: The name tf.Session is deprecated. Please use tf.compat.v1.Session instead.\n",
            "\n",
            "Epoch 1/30\n",
            "WARNING:tensorflow:From /usr/local/lib/python3.6/dist-packages/keras/backend/tensorflow_backend.py:190: The name tf.get_default_session is deprecated. Please use tf.compat.v1.get_default_session instead.\n",
            "\n",
            "WARNING:tensorflow:From /usr/local/lib/python3.6/dist-packages/keras/backend/tensorflow_backend.py:197: The name tf.ConfigProto is deprecated. Please use tf.compat.v1.ConfigProto instead.\n",
            "\n",
            "WARNING:tensorflow:From /usr/local/lib/python3.6/dist-packages/keras/backend/tensorflow_backend.py:207: The name tf.global_variables is deprecated. Please use tf.compat.v1.global_variables instead.\n",
            "\n",
            "WARNING:tensorflow:From /usr/local/lib/python3.6/dist-packages/keras/backend/tensorflow_backend.py:216: The name tf.is_variable_initialized is deprecated. Please use tf.compat.v1.is_variable_initialized instead.\n",
            "\n",
            "WARNING:tensorflow:From /usr/local/lib/python3.6/dist-packages/keras/backend/tensorflow_backend.py:223: The name tf.variables_initializer is deprecated. Please use tf.compat.v1.variables_initializer instead.\n",
            "\n",
            "100/100 [==============================] - 563s 6s/step - loss: 0.6953 - acc: 0.5115 - val_loss: 0.6903 - val_acc: 0.5025\n",
            "Epoch 2/30\n",
            "100/100 [==============================] - 148s 1s/step - loss: 0.6858 - acc: 0.5460 - val_loss: 0.6611 - val_acc: 0.6200\n",
            "Epoch 3/30\n",
            "100/100 [==============================] - 114s 1s/step - loss: 0.6737 - acc: 0.5805 - val_loss: 0.6942 - val_acc: 0.5325\n",
            "Epoch 4/30\n",
            "100/100 [==============================] - 113s 1s/step - loss: 0.6619 - acc: 0.5990 - val_loss: 0.6269 - val_acc: 0.6400\n",
            "Epoch 5/30\n",
            "100/100 [==============================] - 112s 1s/step - loss: 0.6520 - acc: 0.5920 - val_loss: 0.6638 - val_acc: 0.6000\n",
            "Epoch 6/30\n",
            "100/100 [==============================] - 113s 1s/step - loss: 0.6471 - acc: 0.6250 - val_loss: 0.6523 - val_acc: 0.6125\n",
            "Epoch 7/30\n",
            "100/100 [==============================] - 113s 1s/step - loss: 0.6374 - acc: 0.6360 - val_loss: 0.6104 - val_acc: 0.6775\n",
            "Epoch 8/30\n",
            "100/100 [==============================] - 113s 1s/step - loss: 0.6295 - acc: 0.6460 - val_loss: 0.5827 - val_acc: 0.6775\n",
            "Epoch 9/30\n",
            "100/100 [==============================] - 113s 1s/step - loss: 0.6253 - acc: 0.6415 - val_loss: 0.6460 - val_acc: 0.6150\n",
            "Epoch 10/30\n",
            "100/100 [==============================] - 112s 1s/step - loss: 0.6224 - acc: 0.6530 - val_loss: 0.6596 - val_acc: 0.6400\n",
            "Epoch 11/30\n",
            "100/100 [==============================] - 114s 1s/step - loss: 0.6048 - acc: 0.6670 - val_loss: 0.5522 - val_acc: 0.7150\n",
            "Epoch 12/30\n",
            "100/100 [==============================] - 113s 1s/step - loss: 0.6020 - acc: 0.6625 - val_loss: 0.5767 - val_acc: 0.7000\n",
            "Epoch 13/30\n",
            "100/100 [==============================] - 113s 1s/step - loss: 0.5929 - acc: 0.6855 - val_loss: 0.5810 - val_acc: 0.7025\n",
            "Epoch 14/30\n",
            "100/100 [==============================] - 113s 1s/step - loss: 0.5912 - acc: 0.6820 - val_loss: 0.5639 - val_acc: 0.6750\n",
            "Epoch 15/30\n",
            "100/100 [==============================] - 113s 1s/step - loss: 0.5837 - acc: 0.6875 - val_loss: 0.5409 - val_acc: 0.7200\n",
            "Epoch 16/30\n",
            "100/100 [==============================] - 114s 1s/step - loss: 0.5920 - acc: 0.6880 - val_loss: 0.6136 - val_acc: 0.6700\n",
            "Epoch 17/30\n",
            "100/100 [==============================] - 114s 1s/step - loss: 0.5830 - acc: 0.6850 - val_loss: 0.5428 - val_acc: 0.7175\n",
            "Epoch 18/30\n",
            "100/100 [==============================] - 115s 1s/step - loss: 0.5774 - acc: 0.6950 - val_loss: 0.5430 - val_acc: 0.7625\n",
            "Epoch 19/30\n",
            "100/100 [==============================] - 115s 1s/step - loss: 0.5716 - acc: 0.7010 - val_loss: 0.5191 - val_acc: 0.7425\n",
            "Epoch 20/30\n",
            "100/100 [==============================] - 114s 1s/step - loss: 0.5633 - acc: 0.7090 - val_loss: 0.5685 - val_acc: 0.6875\n",
            "Epoch 21/30\n",
            "100/100 [==============================] - 115s 1s/step - loss: 0.5629 - acc: 0.7060 - val_loss: 0.5461 - val_acc: 0.7125\n",
            "Epoch 22/30\n",
            "100/100 [==============================] - 115s 1s/step - loss: 0.5622 - acc: 0.7025 - val_loss: 0.5985 - val_acc: 0.6425\n",
            "Epoch 23/30\n",
            "100/100 [==============================] - 115s 1s/step - loss: 0.5579 - acc: 0.7250 - val_loss: 0.5232 - val_acc: 0.7550\n",
            "Epoch 24/30\n",
            "100/100 [==============================] - 115s 1s/step - loss: 0.5579 - acc: 0.7135 - val_loss: 0.5480 - val_acc: 0.7325\n",
            "Epoch 25/30\n",
            "100/100 [==============================] - 115s 1s/step - loss: 0.5609 - acc: 0.7175 - val_loss: 0.4812 - val_acc: 0.7500\n",
            "Epoch 26/30\n",
            "100/100 [==============================] - 115s 1s/step - loss: 0.5574 - acc: 0.7070 - val_loss: 0.5877 - val_acc: 0.6775\n",
            "Epoch 27/30\n",
            "100/100 [==============================] - 114s 1s/step - loss: 0.5442 - acc: 0.7165 - val_loss: 0.5179 - val_acc: 0.7425\n",
            "Epoch 28/30\n",
            "100/100 [==============================] - 114s 1s/step - loss: 0.5536 - acc: 0.7195 - val_loss: 0.5392 - val_acc: 0.7675\n",
            "Epoch 29/30\n",
            "100/100 [==============================] - 113s 1s/step - loss: 0.5434 - acc: 0.7270 - val_loss: 0.4765 - val_acc: 0.7600\n",
            "Epoch 30/30\n",
            "100/100 [==============================] - 113s 1s/step - loss: 0.5401 - acc: 0.7275 - val_loss: 0.4993 - val_acc: 0.7625\n"
          ],
          "name": "stdout"
        }
      ]
    },
    {
      "cell_type": "code",
      "metadata": {
        "id": "P16LG6H3jy35",
        "colab_type": "code",
        "colab": {}
      },
      "source": [
        "acc=history.history['acc']\n",
        "val_acc=history.history['val_acc']\n",
        "loss=history.history['loss']\n",
        "val_loss=history.history['val_loss']"
      ],
      "execution_count": 0,
      "outputs": []
    },
    {
      "cell_type": "code",
      "metadata": {
        "id": "jbZiYFQvj7rr",
        "colab_type": "code",
        "colab": {}
      },
      "source": [
        "epochs=range(1, len(acc)+1)"
      ],
      "execution_count": 0,
      "outputs": []
    },
    {
      "cell_type": "code",
      "metadata": {
        "id": "8_A2bLRIj8gW",
        "colab_type": "code",
        "outputId": "9360e24e-ecc6-4f6c-bfa3-4909824f88da",
        "colab": {
          "base_uri": "https://localhost:8080/",
          "height": 545
        }
      },
      "source": [
        "plt.plot(epochs, acc, 'bo', label='training acc')\n",
        "plt.plot(epochs, val_acc, 'b', label='validation acc')\n",
        "plt.title('training and validation accuracy')\n",
        "plt.legend()\n",
        "plt.figure()\n",
        "\n",
        "plt.plot(epochs, loss, 'bo', label='training loss')\n",
        "plt.plot(epochs, val_loss, 'b', label='validation loss')\n",
        "plt.title('training and validation loss')\n",
        "plt.legend()\n",
        "plt.show()"
      ],
      "execution_count": 13,
      "outputs": [
        {
          "output_type": "display_data",
          "data": {
            "image/png": "[encoded data removed]",
            "text/plain": [
              "<Figure size 432x288 with 1 Axes>"
            ]
          },
          "metadata": {
            "tags": []
          }
        },
        {
          "output_type": "display_data",
          "data": {
            "image/png": "[encoded data removed]",
            "text/plain": [
              "<Figure size 432x288 with 1 Axes>"
            ]
          },
          "metadata": {
            "tags": []
          }
        }
      ]
    }
  ]
}