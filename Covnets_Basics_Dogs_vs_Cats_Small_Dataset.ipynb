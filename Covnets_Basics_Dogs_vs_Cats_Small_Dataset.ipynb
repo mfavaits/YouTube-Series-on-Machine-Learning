{
  "nbformat": 4,
  "nbformat_minor": 0,
  "metadata": {
    "colab": {
      "name": "Covnets Basics - Dogs vs. Cats - Small Dataset.ipynb",
      "provenance": [],
      "collapsed_sections": [],
      "include_colab_link": true
    },
    "kernelspec": {
      "name": "python3",
      "display_name": "Python 3"
    },
    "accelerator": "TPU"
  },
  "cells": [
    {
      "cell_type": "markdown",
      "metadata": {
        "id": "view-in-github",
        "colab_type": "text"
      },
      "source": [
        "<a href=\"https://colab.research.google.com/github/mfavaits/YouTube-Series-on-Machine-Learning/blob/master/Covnets_Basics_Dogs_vs_Cats_Small_Dataset.ipynb\" target=\"_parent\"><img src=\"https://colab.research.google.com/assets/colab-badge.svg\" alt=\"Open In Colab\"/></a>"
      ]
    },
    {
      "cell_type": "code",
      "metadata": {
        "id": "wCv4aeLxA1Xr",
        "colab_type": "code",
        "colab": {}
      },
      "source": [
        "import numpy as np\n",
        "import matplotlib.pyplot as plt\n",
        "\n",
        "import os\n",
        "import shutil"
      ],
      "execution_count": 0,
      "outputs": []
    },
    {
      "cell_type": "code",
      "metadata": {
        "id": "JD7vGwSixv_w",
        "colab_type": "code",
        "outputId": "8f4d26c2-3f5a-4278-b09a-642e7f366229",
        "colab": {
          "base_uri": "https://localhost:8080/",
          "height": 34
        }
      },
      "source": [
        "from google.colab import drive\n",
        "drive.mount('/content/drive')"
      ],
      "execution_count": 41,
      "outputs": [
        {
          "output_type": "stream",
          "text": [
            "Drive already mounted at /content/drive; to attempt to forcibly remount, call drive.mount(\"/content/drive\", force_remount=True).\n"
          ],
          "name": "stdout"
        }
      ]
    },
    {
      "cell_type": "markdown",
      "metadata": {
        "id": "-lpnwgqWqDHf",
        "colab_type": "text"
      },
      "source": [
        "We will split cat and dog images and give them their own directories training_set_cats and training_set_dogs. We will do this by looping through the directory and look for files that start with dog. This process will take a few hours as we need to process 25000 files"
      ]
    },
    {
      "cell_type": "code",
      "metadata": {
        "id": "RKfCTjv5pEd6",
        "colab_type": "code",
        "colab": {}
      },
      "source": [
        "source = os.listdir('/content/drive/My Drive/Colab Notebooks/train/')\n",
        "\n",
        "dst_1='/content/drive/My Drive/Colab Notebooks/training_dogs/'\n",
        "dst_2='/content/drive/My Drive/Colab Notebooks/training_cats/'"
      ],
      "execution_count": 0,
      "outputs": []
    },
    {
      "cell_type": "code",
      "metadata": {
        "id": "i2rhYffEpEbf",
        "colab_type": "code",
        "colab": {}
      },
      "source": [
        "os.chdir('/content/drive/My Drive/Colab Notebooks/train')"
      ],
      "execution_count": 0,
      "outputs": []
    },
    {
      "cell_type": "code",
      "metadata": {
        "id": "F-FMshs4pEZF",
        "colab_type": "code",
        "colab": {}
      },
      "source": [
        "for file in source:\n",
        "  if file.startswith('dog.'):\n",
        "    shutil.copy(file, dst_1)\n",
        "  else:\n",
        "    shutil.copy(file, dst_2)"
      ],
      "execution_count": 0,
      "outputs": []
    },
    {
      "cell_type": "code",
      "metadata": {
        "id": "lIaHolsqpEWo",
        "colab_type": "code",
        "outputId": "7d807193-3df9-44d9-a0c6-cb28cd1ef145",
        "colab": {
          "base_uri": "https://localhost:8080/",
          "height": 34
        }
      },
      "source": [
        "list = os.listdir('/content/drive/My Drive/Colab Notebooks/training_cats') # dir is your directory path\n",
        "number_files = len(list)\n",
        "print(number_files)"
      ],
      "execution_count": 113,
      "outputs": [
        {
          "output_type": "stream",
          "text": [
            "12514\n"
          ],
          "name": "stdout"
        }
      ]
    },
    {
      "cell_type": "markdown",
      "metadata": {
        "id": "OefI2MS7x4EH",
        "colab_type": "text"
      },
      "source": [
        "No we will set aside our training set of 1000 dogs and 1000 cats and store them in training_dogs_1000 and training_cats_1000"
      ]
    },
    {
      "cell_type": "code",
      "metadata": {
        "id": "_LsFQ49tyCik",
        "colab_type": "code",
        "colab": {}
      },
      "source": [
        "source_2 = os.listdir('/content/drive/My Drive/Colab Notebooks/training_dogs/')[:1000]\n",
        "source_3 = os.listdir('/content/drive/My Drive/Colab Notebooks/training_cats/')[:1000]  \n",
        "dst_3='/content/drive/My Drive/Colab Notebooks/training_2000/training_dogs_1000'\n",
        "dst_4='/content/drive/My Drive/Colab Notebooks/training_2000/training_cats_1000'"
      ],
      "execution_count": 0,
      "outputs": []
    },
    {
      "cell_type": "code",
      "metadata": {
        "id": "4XFGu11VyUyK",
        "colab_type": "code",
        "colab": {}
      },
      "source": [
        "os.chdir('/content/drive/My Drive/Colab Notebooks/training_dogs')"
      ],
      "execution_count": 0,
      "outputs": []
    },
    {
      "cell_type": "code",
      "metadata": {
        "id": "TUDZE7S3yVkn",
        "colab_type": "code",
        "colab": {}
      },
      "source": [
        "for file in source_2:\n",
        "  shutil.copy(file, dst_3)"
      ],
      "execution_count": 0,
      "outputs": []
    },
    {
      "cell_type": "code",
      "metadata": {
        "id": "nhkWCIVyyhvY",
        "colab_type": "code",
        "colab": {}
      },
      "source": [
        "os.chdir('/content/drive/My Drive/Colab Notebooks/training_cats')"
      ],
      "execution_count": 0,
      "outputs": []
    },
    {
      "cell_type": "code",
      "metadata": {
        "id": "9FJ3zfDfykwt",
        "colab_type": "code",
        "colab": {}
      },
      "source": [
        "for file in source_3:\n",
        "  shutil.copy(file, dst_4)"
      ],
      "execution_count": 0,
      "outputs": []
    },
    {
      "cell_type": "markdown",
      "metadata": {
        "id": "VKMfb_f7tfTJ",
        "colab_type": "text"
      },
      "source": [
        "No we will set aside our validation set of 500 dogs and 500 cats and store them in val_set_dogs_500 and val_set_cats_500"
      ]
    },
    {
      "cell_type": "code",
      "metadata": {
        "id": "0r76YON5pEEy",
        "colab_type": "code",
        "colab": {}
      },
      "source": [
        "source_4 = os.listdir('/content/drive/My Drive/Colab Notebooks/training_dogs/')[1000:1500]\n",
        "source_5 = os.listdir('/content/drive/My Drive/Colab Notebooks/training_cats/')[1000:1500]  \n",
        "dst_5='/content/drive/My Drive/Colab Notebooks/val_1000/val_dogs_500/'\n",
        "dst_6='/content/drive/My Drive/Colab Notebooks/val_1000/val_cats_500/'"
      ],
      "execution_count": 0,
      "outputs": []
    },
    {
      "cell_type": "code",
      "metadata": {
        "id": "-p_GnVLjpECk",
        "colab_type": "code",
        "colab": {}
      },
      "source": [
        "os.chdir('/content/drive/My Drive/Colab Notebooks/training_dogs')"
      ],
      "execution_count": 0,
      "outputs": []
    },
    {
      "cell_type": "code",
      "metadata": {
        "id": "63gJq9o_pEAR",
        "colab_type": "code",
        "colab": {}
      },
      "source": [
        "for file in source_4:\n",
        "  shutil.copy(file, dst_5)"
      ],
      "execution_count": 0,
      "outputs": []
    },
    {
      "cell_type": "code",
      "metadata": {
        "id": "TRY6aBTxpD9l",
        "colab_type": "code",
        "colab": {}
      },
      "source": [
        "os.chdir('/content/drive/My Drive/Colab Notebooks/training_cats')"
      ],
      "execution_count": 0,
      "outputs": []
    },
    {
      "cell_type": "code",
      "metadata": {
        "id": "qJBdB6_spD5k",
        "colab_type": "code",
        "colab": {}
      },
      "source": [
        "for file in source_5:\n",
        "  shutil.copy(file, dst_6)  "
      ],
      "execution_count": 0,
      "outputs": []
    },
    {
      "cell_type": "code",
      "metadata": {
        "id": "BRu723feueNB",
        "colab_type": "code",
        "colab": {
          "base_uri": "https://localhost:8080/",
          "height": 34
        },
        "outputId": "1918bdf5-2480-4a43-b88e-d2e6d93d74ad"
      },
      "source": [
        "list = os.listdir('/content/drive/My Drive/Colab Notebooks/training_2000/training_dogs_1000') # dir is your directory path\n",
        "number_files = len(list)\n",
        "print(number_files)"
      ],
      "execution_count": 124,
      "outputs": [
        {
          "output_type": "stream",
          "text": [
            "1000\n"
          ],
          "name": "stdout"
        }
      ]
    },
    {
      "cell_type": "markdown",
      "metadata": {
        "id": "7pSL_lajugUO",
        "colab_type": "text"
      },
      "source": [
        "No we will set aside our test set of 500 dogs and 500 cats in test_set_dogs_500 and test_set_cats_500"
      ]
    },
    {
      "cell_type": "code",
      "metadata": {
        "id": "DLxu9mWMpDx6",
        "colab_type": "code",
        "colab": {}
      },
      "source": [
        "source_6 = os.listdir('/content/drive/My Drive/Colab Notebooks/training_dogs')[1500:2000] # 500 items\n",
        "source_7 = os.listdir('/content/drive/My Drive/Colab Notebooks/training_cats')[1500:2000]\n",
        "dst_7='/content/drive/My Drive/Colab Notebooks/test_1000/test_dogs_500'\n",
        "dst_8='/content/drive/My Drive/Colab Notebooks/test_1000/test_cats_500'"
      ],
      "execution_count": 0,
      "outputs": []
    },
    {
      "cell_type": "code",
      "metadata": {
        "id": "xHNV9HX8pDvY",
        "colab_type": "code",
        "colab": {}
      },
      "source": [
        "os.chdir('/content/drive/My Drive/Colab Notebooks/training_dogs/')"
      ],
      "execution_count": 0,
      "outputs": []
    },
    {
      "cell_type": "code",
      "metadata": {
        "id": "JUkCRpdspDr1",
        "colab_type": "code",
        "colab": {}
      },
      "source": [
        "for file in source_6:\n",
        "  shutil.copy(file, dst_7)"
      ],
      "execution_count": 0,
      "outputs": []
    },
    {
      "cell_type": "code",
      "metadata": {
        "id": "j3p65o8IuOY_",
        "colab_type": "code",
        "colab": {}
      },
      "source": [
        "os.chdir('/content/drive/My Drive/Colab Notebooks/training_cats/')"
      ],
      "execution_count": 0,
      "outputs": []
    },
    {
      "cell_type": "code",
      "metadata": {
        "id": "tP-W2xsavGrE",
        "colab_type": "code",
        "colab": {}
      },
      "source": [
        "for file in source_7:\n",
        "  shutil.copy(file, dst_8)"
      ],
      "execution_count": 0,
      "outputs": []
    },
    {
      "cell_type": "code",
      "metadata": {
        "id": "-8KOzF2WvGoQ",
        "colab_type": "code",
        "outputId": "e6e91471-acd2-434c-f8b0-71a48176a663",
        "colab": {
          "base_uri": "https://localhost:8080/",
          "height": 34
        }
      },
      "source": [
        "list = os.listdir('/content/drive/My Drive/Colab Notebooks/training_2000/training_dogs_1000') # dir is your directory path\n",
        "number_files = len(list)\n",
        "print(number_files)"
      ],
      "execution_count": 130,
      "outputs": [
        {
          "output_type": "stream",
          "text": [
            "1000\n"
          ],
          "name": "stdout"
        }
      ]
    },
    {
      "cell_type": "code",
      "metadata": {
        "id": "10mhjDGSPQee",
        "colab_type": "code",
        "colab": {}
      },
      "source": [
        "from keras import models\n",
        "from keras import layers\n",
        "\n",
        "model=models.Sequential()\n",
        "model.add(layers.Conv2D(32, (3,3), activation='relu', input_shape=(150, 150, 3)))\n",
        "model.add(layers.MaxPooling2D(2,2))\n",
        "model.add(layers.Conv2D(64, (3,3), activation='relu'))\n",
        "model.add(layers.MaxPooling2D(2,2))\n",
        "model.add(layers.Conv2D(128, (3,3), activation='relu'))\n",
        "model.add(layers.MaxPooling2D(2,2))\n",
        "model.add(layers.Conv2D(128, (3,3), activation='relu'))\n",
        "model.add(layers.MaxPooling2D(2,2))\n",
        "model.add(layers.Flatten())\n",
        "#model.add(layers.Dropout(0.5))\n",
        "model.add(layers.Dense(512, activation='relu'))\n",
        "model.add(layers.Dense(1, activation='sigmoid'))"
      ],
      "execution_count": 0,
      "outputs": []
    },
    {
      "cell_type": "code",
      "metadata": {
        "id": "8fS9kmK0PQZh",
        "colab_type": "code",
        "colab": {}
      },
      "source": [
        "from keras import optimizers\n",
        "\n",
        "model.compile(loss='binary_crossentropy', optimizer=optimizers.RMSprop(lr=1e-4), metrics=['acc'])"
      ],
      "execution_count": 0,
      "outputs": []
    },
    {
      "cell_type": "markdown",
      "metadata": {
        "id": "iuZUilpqWMZd",
        "colab_type": "text"
      },
      "source": [
        "Generator allows you to loop over the training data in pieces(batches), avoiding large memory consumption when you load the entire training set at once"
      ]
    },
    {
      "cell_type": "code",
      "metadata": {
        "id": "SlfETQT_XRzG",
        "colab_type": "code",
        "outputId": "c2c919ff-8b62-49ff-f0b3-2e2b9fdf3cb2",
        "colab": {
          "base_uri": "https://localhost:8080/",
          "height": 51
        }
      },
      "source": [
        "from keras.preprocessing.image import ImageDataGenerator\n",
        "\n",
        "train_datagen=ImageDataGenerator(rescale=1./255)\n",
        "validation_datagen=ImageDataGenerator(rescale=1./255)\n",
        "\n",
        "train_generator=train_datagen.flow_from_directory('/content/drive/My Drive/Colab Notebooks/training_2000', target_size=(150,150), batch_size=20, class_mode='binary')\n",
        "validation_generator=validation_datagen.flow_from_directory('/content/drive/My Drive/Colab Notebooks/val_1000', target_size=(150,150), batch_size=20, class_mode='binary')"
      ],
      "execution_count": 133,
      "outputs": [
        {
          "output_type": "stream",
          "text": [
            "Found 2000 images belonging to 2 classes.\n",
            "Found 1000 images belonging to 2 classes.\n"
          ],
          "name": "stdout"
        }
      ]
    },
    {
      "cell_type": "markdown",
      "metadata": {
        "id": "O6__8aH0ZbPv",
        "colab_type": "text"
      },
      "source": [
        "Generators are objects that act as an iterator (for loop). However the generator yields batches indefinitely and we need to break the loop at some point. In our case the train and val generators will yield batches of inputs and targets indefinitely. However we need to know how many samples to draw from the dataset before declaring the epoch is over. The steps_per_epoch argument takes care of this. In our case we have 2000 inputs and it will take 100 x 20 steps to finish 1 epoch."
      ]
    },
    {
      "cell_type": "code",
      "metadata": {
        "id": "Lu-KKjHzXRix",
        "colab_type": "code",
        "outputId": "c93fb476-f9fa-46a4-c085-05723e05432d",
        "colab": {
          "base_uri": "https://localhost:8080/",
          "height": 1000
        }
      },
      "source": [
        "history = model.fit_generator(train_generator, steps_per_epoch=100, epochs=30, validation_data=validation_generator, validation_steps=20)"
      ],
      "execution_count": 134,
      "outputs": [
        {
          "output_type": "stream",
          "text": [
            "Epoch 1/30\n",
            "100/100 [==============================] - 109s 1s/step - loss: 0.6932 - acc: 0.5385 - val_loss: 0.6758 - val_acc: 0.5775\n",
            "Epoch 2/30\n",
            "100/100 [==============================] - 108s 1s/step - loss: 0.6648 - acc: 0.5960 - val_loss: 0.6573 - val_acc: 0.6050\n",
            "Epoch 3/30\n",
            "100/100 [==============================] - 111s 1s/step - loss: 0.6260 - acc: 0.6485 - val_loss: 0.6688 - val_acc: 0.6050\n",
            "Epoch 4/30\n",
            "100/100 [==============================] - 110s 1s/step - loss: 0.5928 - acc: 0.6785 - val_loss: 0.6057 - val_acc: 0.6800\n",
            "Epoch 5/30\n",
            "100/100 [==============================] - 109s 1s/step - loss: 0.5560 - acc: 0.7170 - val_loss: 0.6067 - val_acc: 0.6775\n",
            "Epoch 6/30\n",
            "100/100 [==============================] - 111s 1s/step - loss: 0.5324 - acc: 0.7400 - val_loss: 0.5551 - val_acc: 0.6950\n",
            "Epoch 7/30\n",
            "100/100 [==============================] - 110s 1s/step - loss: 0.4974 - acc: 0.7525 - val_loss: 0.5703 - val_acc: 0.7025\n",
            "Epoch 8/30\n",
            "100/100 [==============================] - 109s 1s/step - loss: 0.4617 - acc: 0.7865 - val_loss: 0.5626 - val_acc: 0.7075\n",
            "Epoch 9/30\n",
            "100/100 [==============================] - 110s 1s/step - loss: 0.4382 - acc: 0.7895 - val_loss: 0.5424 - val_acc: 0.7250\n",
            "Epoch 10/30\n",
            "100/100 [==============================] - 109s 1s/step - loss: 0.4078 - acc: 0.8185 - val_loss: 0.6401 - val_acc: 0.7025\n",
            "Epoch 11/30\n",
            "100/100 [==============================] - 114s 1s/step - loss: 0.3726 - acc: 0.8360 - val_loss: 0.7414 - val_acc: 0.6675\n",
            "Epoch 12/30\n",
            "100/100 [==============================] - 113s 1s/step - loss: 0.3597 - acc: 0.8345 - val_loss: 0.5326 - val_acc: 0.7400\n",
            "Epoch 13/30\n",
            "100/100 [==============================] - 113s 1s/step - loss: 0.3297 - acc: 0.8590 - val_loss: 0.6221 - val_acc: 0.7300\n",
            "Epoch 14/30\n",
            "100/100 [==============================] - 110s 1s/step - loss: 0.3000 - acc: 0.8735 - val_loss: 0.6511 - val_acc: 0.7300\n",
            "Epoch 15/30\n",
            "100/100 [==============================] - 112s 1s/step - loss: 0.2864 - acc: 0.8775 - val_loss: 0.5476 - val_acc: 0.7650\n",
            "Epoch 16/30\n",
            "100/100 [==============================] - 114s 1s/step - loss: 0.2547 - acc: 0.8905 - val_loss: 0.5487 - val_acc: 0.7700\n",
            "Epoch 17/30\n",
            "100/100 [==============================] - 112s 1s/step - loss: 0.2250 - acc: 0.9110 - val_loss: 0.7523 - val_acc: 0.7100\n",
            "Epoch 18/30\n",
            "100/100 [==============================] - 112s 1s/step - loss: 0.2074 - acc: 0.9225 - val_loss: 0.6052 - val_acc: 0.7600\n",
            "Epoch 19/30\n",
            "100/100 [==============================] - 112s 1s/step - loss: 0.1905 - acc: 0.9250 - val_loss: 0.5778 - val_acc: 0.7625\n",
            "Epoch 20/30\n",
            "100/100 [==============================] - 108s 1s/step - loss: 0.1658 - acc: 0.9440 - val_loss: 0.7133 - val_acc: 0.7525\n",
            "Epoch 21/30\n",
            "100/100 [==============================] - 109s 1s/step - loss: 0.1496 - acc: 0.9430 - val_loss: 0.7838 - val_acc: 0.7125\n",
            "Epoch 22/30\n",
            "100/100 [==============================] - 108s 1s/step - loss: 0.1263 - acc: 0.9560 - val_loss: 0.6167 - val_acc: 0.7900\n",
            "Epoch 23/30\n",
            "100/100 [==============================] - 109s 1s/step - loss: 0.1070 - acc: 0.9645 - val_loss: 0.8946 - val_acc: 0.7175\n",
            "Epoch 24/30\n",
            "100/100 [==============================] - 108s 1s/step - loss: 0.1011 - acc: 0.9640 - val_loss: 0.8655 - val_acc: 0.7225\n",
            "Epoch 25/30\n",
            "100/100 [==============================] - 108s 1s/step - loss: 0.0818 - acc: 0.9750 - val_loss: 0.8810 - val_acc: 0.7250\n",
            "Epoch 26/30\n",
            "100/100 [==============================] - 109s 1s/step - loss: 0.0665 - acc: 0.9845 - val_loss: 0.9510 - val_acc: 0.7350\n",
            "Epoch 27/30\n",
            "100/100 [==============================] - 108s 1s/step - loss: 0.0576 - acc: 0.9825 - val_loss: 0.8721 - val_acc: 0.7475\n",
            "Epoch 28/30\n",
            "100/100 [==============================] - 108s 1s/step - loss: 0.0557 - acc: 0.9830 - val_loss: 0.9728 - val_acc: 0.7575\n",
            "Epoch 29/30\n",
            "100/100 [==============================] - 107s 1s/step - loss: 0.0469 - acc: 0.9895 - val_loss: 0.9982 - val_acc: 0.7175\n",
            "Epoch 30/30\n",
            "100/100 [==============================] - 106s 1s/step - loss: 0.0447 - acc: 0.9820 - val_loss: 1.1167 - val_acc: 0.7250\n"
          ],
          "name": "stdout"
        }
      ]
    },
    {
      "cell_type": "code",
      "metadata": {
        "id": "uxBFfQjwXRVG",
        "colab_type": "code",
        "colab": {}
      },
      "source": [
        "acc=history.history['acc']\n",
        "val_acc=history.history['val_acc']\n",
        "loss=history.history['loss']\n",
        "val_loss=history.history['val_loss']"
      ],
      "execution_count": 0,
      "outputs": []
    },
    {
      "cell_type": "code",
      "metadata": {
        "id": "N7MVm5FeXRLR",
        "colab_type": "code",
        "colab": {}
      },
      "source": [
        "epochs=range(1, len(acc)+1)"
      ],
      "execution_count": 0,
      "outputs": []
    },
    {
      "cell_type": "code",
      "metadata": {
        "id": "3sAK6k2LXRDm",
        "colab_type": "code",
        "outputId": "60664113-c6df-43ee-be14-4cbceb114390",
        "colab": {
          "base_uri": "https://localhost:8080/",
          "height": 545
        }
      },
      "source": [
        "plt.plot(epochs, acc, 'bo', label='training acc')\n",
        "plt.plot(epochs, val_acc, 'b', label='validation acc')\n",
        "plt.title('training and validation accuracy')\n",
        "plt.legend()\n",
        "plt.figure()\n",
        "\n",
        "plt.plot(epochs, loss, 'bo', label='training loss')\n",
        "plt.plot(epochs, val_loss, 'b', label='validation loss')\n",
        "plt.title('training and validation loss')\n",
        "plt.legend()\n",
        "plt.show()"
      ],
      "execution_count": 137,
      "outputs": [
        {
          "output_type": "display_data",
          "data": {
            "image/png": "[encoded data removed]",
            "text/plain": [
              "<Figure size 432x288 with 1 Axes>"
            ]
          },
          "metadata": {
            "tags": []
          }
        },
        {
          "output_type": "display_data",
          "data": {
            "image/png": "[encoded data removed]",
            "text/plain": [
              "<Figure size 432x288 with 1 Axes>"
            ]
          },
          "metadata": {
            "tags": []
          }
        }
      ]
    }
  ]
}