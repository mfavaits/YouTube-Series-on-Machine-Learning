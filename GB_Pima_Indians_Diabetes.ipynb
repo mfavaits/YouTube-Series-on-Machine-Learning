{
  "nbformat": 4,
  "nbformat_minor": 0,
  "metadata": {
    "colab": {
      "name": "GB Pima Indians Diabetes.ipynb",
      "version": "0.3.2",
      "provenance": [],
      "collapsed_sections": [],
      "include_colab_link": true
    },
    "kernelspec": {
      "name": "python3",
      "display_name": "Python 3"
    },
    "accelerator": "TPU"
  },
  "cells": [
    {
      "cell_type": "markdown",
      "metadata": {
        "id": "view-in-github",
        "colab_type": "text"
      },
      "source": [
        "<a href=\"https://colab.research.google.com/github/mfavaits/YouTube-Series-on-Machine-Learning/blob/master/GB_Pima_Indians_Diabetes.ipynb\" target=\"_parent\"><img src=\"https://colab.research.google.com/assets/colab-badge.svg\" alt=\"Open In Colab\"/></a>"
      ]
    },
    {
      "cell_type": "code",
      "metadata": {
        "id": "yeHM1o2KVaG4",
        "colab_type": "code",
        "colab": {}
      },
      "source": [
        "import numpy as np #linear algebra library of Python\n",
        "import pandas as pd # build on top of numpy for data analysis, data manipulation and data visualization\n",
        "import matplotlib.pyplot as plt #plotting library of Python"
      ],
      "execution_count": 0,
      "outputs": []
    },
    {
      "cell_type": "markdown",
      "metadata": {
        "id": "h9VDKOcHxjiS",
        "colab_type": "text"
      },
      "source": [
        "Now let's mount Google drive so that we can upload the diabetes.csv file. You can find the code in the 'Code snippets' tab of Colab"
      ]
    },
    {
      "cell_type": "code",
      "metadata": {
        "id": "rZAb8UyBZOyk",
        "colab_type": "code",
        "outputId": "2bb6fd28-4350-46a4-9ff1-568b3a931464",
        "colab": {
          "base_uri": "https://localhost:8080/",
          "height": 34
        }
      },
      "source": [
        "from google.colab import drive\n",
        "drive.mount('/content/gdrive')"
      ],
      "execution_count": 0,
      "outputs": [
        {
          "output_type": "stream",
          "text": [
            "Drive already mounted at /content/gdrive; to attempt to forcibly remount, call drive.mount(\"/content/gdrive\", force_remount=True).\n"
          ],
          "name": "stdout"
        }
      ]
    },
    {
      "cell_type": "markdown",
      "metadata": {
        "id": "NJBkAU_OyxNG",
        "colab_type": "text"
      },
      "source": [
        "First thing that we do is take a look at the shape of the dataframe (df.shape) and take a look at first 5 lines through df.head()"
      ]
    },
    {
      "cell_type": "code",
      "metadata": {
        "id": "TPjSc1H1XGhq",
        "colab_type": "code",
        "outputId": "25925a96-36a5-4eab-bb08-640ca7b86eb2",
        "colab": {
          "base_uri": "https://localhost:8080/",
          "height": 204
        }
      },
      "source": [
        "df=pd.read_csv('/content/gdrive/My Drive/Colab Notebooks/diabetes.csv') #import file from Google Drive and create a pandas dataframe df\n",
        "df.head() #shows first 5 lines including column namesdf.shape # number of rows and columns of dataframe"
      ],
      "execution_count": 0,
      "outputs": [
        {
          "output_type": "execute_result",
          "data": {
            "text/html": [
              "<div>\n",
              "<style scoped>\n",
              "    .dataframe tbody tr th:only-of-type {\n",
              "        vertical-align: middle;\n",
              "    }\n",
              "\n",
              "    .dataframe tbody tr th {\n",
              "        vertical-align: top;\n",
              "    }\n",
              "\n",
              "    .dataframe thead th {\n",
              "        text-align: right;\n",
              "    }\n",
              "</style>\n",
              "<table border=\"1\" class=\"dataframe\">\n",
              "  <thead>\n",
              "    <tr style=\"text-align: right;\">\n",
              "      <th></th>\n",
              "      <th>Pregnancies</th>\n",
              "      <th>Glucose</th>\n",
              "      <th>BloodPressure</th>\n",
              "      <th>SkinThickness</th>\n",
              "      <th>Insulin</th>\n",
              "      <th>BMI</th>\n",
              "      <th>DiabetesPedigreeFunction</th>\n",
              "      <th>Age</th>\n",
              "      <th>Outcome</th>\n",
              "    </tr>\n",
              "  </thead>\n",
              "  <tbody>\n",
              "    <tr>\n",
              "      <th>0</th>\n",
              "      <td>6</td>\n",
              "      <td>148</td>\n",
              "      <td>72</td>\n",
              "      <td>35</td>\n",
              "      <td>0</td>\n",
              "      <td>33.6</td>\n",
              "      <td>0.627</td>\n",
              "      <td>50</td>\n",
              "      <td>1</td>\n",
              "    </tr>\n",
              "    <tr>\n",
              "      <th>1</th>\n",
              "      <td>1</td>\n",
              "      <td>85</td>\n",
              "      <td>66</td>\n",
              "      <td>29</td>\n",
              "      <td>0</td>\n",
              "      <td>26.6</td>\n",
              "      <td>0.351</td>\n",
              "      <td>31</td>\n",
              "      <td>0</td>\n",
              "    </tr>\n",
              "    <tr>\n",
              "      <th>2</th>\n",
              "      <td>8</td>\n",
              "      <td>183</td>\n",
              "      <td>64</td>\n",
              "      <td>0</td>\n",
              "      <td>0</td>\n",
              "      <td>23.3</td>\n",
              "      <td>0.672</td>\n",
              "      <td>32</td>\n",
              "      <td>1</td>\n",
              "    </tr>\n",
              "    <tr>\n",
              "      <th>3</th>\n",
              "      <td>1</td>\n",
              "      <td>89</td>\n",
              "      <td>66</td>\n",
              "      <td>23</td>\n",
              "      <td>94</td>\n",
              "      <td>28.1</td>\n",
              "      <td>0.167</td>\n",
              "      <td>21</td>\n",
              "      <td>0</td>\n",
              "    </tr>\n",
              "    <tr>\n",
              "      <th>4</th>\n",
              "      <td>0</td>\n",
              "      <td>137</td>\n",
              "      <td>40</td>\n",
              "      <td>35</td>\n",
              "      <td>168</td>\n",
              "      <td>43.1</td>\n",
              "      <td>2.288</td>\n",
              "      <td>33</td>\n",
              "      <td>1</td>\n",
              "    </tr>\n",
              "  </tbody>\n",
              "</table>\n",
              "</div>"
            ],
            "text/plain": [
              "   Pregnancies  Glucose  BloodPressure  ...  DiabetesPedigreeFunction  Age  Outcome\n",
              "0            6      148             72  ...                     0.627   50        1\n",
              "1            1       85             66  ...                     0.351   31        0\n",
              "2            8      183             64  ...                     0.672   32        1\n",
              "3            1       89             66  ...                     0.167   21        0\n",
              "4            0      137             40  ...                     2.288   33        1\n",
              "\n",
              "[5 rows x 9 columns]"
            ]
          },
          "metadata": {
            "tags": []
          },
          "execution_count": 14
        }
      ]
    },
    {
      "cell_type": "code",
      "metadata": {
        "id": "moM92WI71Y7J",
        "colab_type": "code",
        "outputId": "cb8adc27-8766-44d1-b95a-c31fc024758f",
        "colab": {
          "base_uri": "https://localhost:8080/",
          "height": 34
        }
      },
      "source": [
        "df.shape # provides # rows and # columns of the dataframe df - 768 rows and 9 columns"
      ],
      "execution_count": 0,
      "outputs": [
        {
          "output_type": "execute_result",
          "data": {
            "text/plain": [
              "(768, 9)"
            ]
          },
          "metadata": {
            "tags": []
          },
          "execution_count": 15
        }
      ]
    },
    {
      "cell_type": "markdown",
      "metadata": {
        "id": "yLVfErfLcx1s",
        "colab_type": "text"
      },
      "source": [
        "Now we will assess if the dataset has the same proportion of diabetes vs. non-diabetes cases.\n",
        "At the same time we will look if there are missing values. In our dataset we note that woman #2 has a skin thickness of zero and this is not realistic. It leads us to believe that there are a few zero entries that signal that no data was available. This does not apply to columns columns 1 and 9 for obvious reasons.\n",
        "\n",
        "We use a trick to count the non-zero values of the columns. We convert the data type of the dataframe df to to Boolean using df.astype(bool) coverting all zero values to false=0 and all other entries to true=1 . We subsequently add up all True entries per column."
      ]
    },
    {
      "cell_type": "code",
      "metadata": {
        "id": "rqAIFwa6QoJG",
        "colab_type": "code",
        "outputId": "f2f3a2dc-3392-4013-f559-0686e7166044",
        "colab": {
          "base_uri": "https://localhost:8080/",
          "height": 187
        }
      },
      "source": [
        "df.astype(bool).sum(axis=0) # counts the number of non-zeros for each column while acting on all rows - default value is True(1) so all 1s are added per column"
      ],
      "execution_count": 0,
      "outputs": [
        {
          "output_type": "execute_result",
          "data": {
            "text/plain": [
              "Pregnancies                 657\n",
              "Glucose                     763\n",
              "BloodPressure               733\n",
              "SkinThickness               541\n",
              "Insulin                     394\n",
              "BMI                         757\n",
              "DiabetesPedigreeFunction    768\n",
              "Age                         768\n",
              "Outcome                     268\n",
              "dtype: int64"
            ]
          },
          "metadata": {
            "tags": []
          },
          "execution_count": 16
        }
      ]
    },
    {
      "cell_type": "markdown",
      "metadata": {
        "id": "B1XMcuxORy4F",
        "colab_type": "text"
      },
      "source": [
        "The dataframe is unbalanced as we have 268 ones (diabetes) and thus 500 zeros (no diabetes). \n",
        "\n",
        "The easiest option could be to eliminate all those patients with zero values, but in this way we would eliminate a lot of important data.\n",
        "\n",
        "Another option is to calculate the median value for a specific column and substitute the zero values for the columns by that median value."
      ]
    },
    {
      "cell_type": "code",
      "metadata": {
        "id": "bneQ8C3OZFvZ",
        "colab_type": "code",
        "colab": {}
      },
      "source": [
        "median_BMI=df['BMI'].median()\n",
        "df['BMI']=df['BMI'].replace(to_replace=0, value=median_BMI)\n",
        "\n",
        "median_BloodPressure=df['BloodPressure'].median()\n",
        "df['BloodPressure']=df['BloodPressure'].replace(to_replace=0, value=median_BloodPressure)\n",
        "\n",
        "median_Glucose=df['Glucose'].median()\n",
        "df['Glucose']=df['Glucose'].replace(to_replace=0, value=median_Glucose)\n",
        "\n",
        "median_SkinThickness=df['SkinThickness'].median()\n",
        "df['SkinThickness']=df['SkinThickness'].replace(to_replace=0, value=median_SkinThickness)\n",
        "\n",
        "median_Insulin=df['Insulin'].median()\n",
        "df['Insulin']=df['Insulin'].replace(to_replace=0, value=median_Insulin)"
      ],
      "execution_count": 0,
      "outputs": []
    },
    {
      "cell_type": "code",
      "metadata": {
        "id": "cU7TvqKEpPCc",
        "colab_type": "code",
        "outputId": "8d80b66e-d4fd-4f36-c29e-604e996ba7a6",
        "colab": {
          "base_uri": "https://localhost:8080/",
          "height": 204
        }
      },
      "source": [
        "df.head() #shows first 5 lines including column names"
      ],
      "execution_count": 0,
      "outputs": [
        {
          "output_type": "execute_result",
          "data": {
            "text/html": [
              "<div>\n",
              "<style scoped>\n",
              "    .dataframe tbody tr th:only-of-type {\n",
              "        vertical-align: middle;\n",
              "    }\n",
              "\n",
              "    .dataframe tbody tr th {\n",
              "        vertical-align: top;\n",
              "    }\n",
              "\n",
              "    .dataframe thead th {\n",
              "        text-align: right;\n",
              "    }\n",
              "</style>\n",
              "<table border=\"1\" class=\"dataframe\">\n",
              "  <thead>\n",
              "    <tr style=\"text-align: right;\">\n",
              "      <th></th>\n",
              "      <th>Pregnancies</th>\n",
              "      <th>Glucose</th>\n",
              "      <th>BloodPressure</th>\n",
              "      <th>SkinThickness</th>\n",
              "      <th>Insulin</th>\n",
              "      <th>BMI</th>\n",
              "      <th>DiabetesPedigreeFunction</th>\n",
              "      <th>Age</th>\n",
              "      <th>Outcome</th>\n",
              "    </tr>\n",
              "  </thead>\n",
              "  <tbody>\n",
              "    <tr>\n",
              "      <th>0</th>\n",
              "      <td>6</td>\n",
              "      <td>148</td>\n",
              "      <td>72</td>\n",
              "      <td>35</td>\n",
              "      <td>30.5</td>\n",
              "      <td>33.6</td>\n",
              "      <td>0.627</td>\n",
              "      <td>50</td>\n",
              "      <td>1</td>\n",
              "    </tr>\n",
              "    <tr>\n",
              "      <th>1</th>\n",
              "      <td>1</td>\n",
              "      <td>85</td>\n",
              "      <td>66</td>\n",
              "      <td>29</td>\n",
              "      <td>30.5</td>\n",
              "      <td>26.6</td>\n",
              "      <td>0.351</td>\n",
              "      <td>31</td>\n",
              "      <td>0</td>\n",
              "    </tr>\n",
              "    <tr>\n",
              "      <th>2</th>\n",
              "      <td>8</td>\n",
              "      <td>183</td>\n",
              "      <td>64</td>\n",
              "      <td>23</td>\n",
              "      <td>30.5</td>\n",
              "      <td>23.3</td>\n",
              "      <td>0.672</td>\n",
              "      <td>32</td>\n",
              "      <td>1</td>\n",
              "    </tr>\n",
              "    <tr>\n",
              "      <th>3</th>\n",
              "      <td>1</td>\n",
              "      <td>89</td>\n",
              "      <td>66</td>\n",
              "      <td>23</td>\n",
              "      <td>94.0</td>\n",
              "      <td>28.1</td>\n",
              "      <td>0.167</td>\n",
              "      <td>21</td>\n",
              "      <td>0</td>\n",
              "    </tr>\n",
              "    <tr>\n",
              "      <th>4</th>\n",
              "      <td>0</td>\n",
              "      <td>137</td>\n",
              "      <td>40</td>\n",
              "      <td>35</td>\n",
              "      <td>168.0</td>\n",
              "      <td>43.1</td>\n",
              "      <td>2.288</td>\n",
              "      <td>33</td>\n",
              "      <td>1</td>\n",
              "    </tr>\n",
              "  </tbody>\n",
              "</table>\n",
              "</div>"
            ],
            "text/plain": [
              "   Pregnancies  Glucose  BloodPressure  ...  DiabetesPedigreeFunction  Age  Outcome\n",
              "0            6      148             72  ...                     0.627   50        1\n",
              "1            1       85             66  ...                     0.351   31        0\n",
              "2            8      183             64  ...                     0.672   32        1\n",
              "3            1       89             66  ...                     0.167   21        0\n",
              "4            0      137             40  ...                     2.288   33        1\n",
              "\n",
              "[5 rows x 9 columns]"
            ]
          },
          "metadata": {
            "tags": []
          },
          "execution_count": 18
        }
      ]
    },
    {
      "cell_type": "markdown",
      "metadata": {
        "id": "aFB37VWzpf5y",
        "colab_type": "text"
      },
      "source": [
        "The skin thickness of woman #2 is now 23 (median of that column)"
      ]
    },
    {
      "cell_type": "markdown",
      "metadata": {
        "id": "YxB7h1y7bSNP",
        "colab_type": "text"
      },
      "source": [
        "Let's create numpy arrays, one for the features (X) and one for the label (y)\n",
        "\n"
      ]
    },
    {
      "cell_type": "code",
      "metadata": {
        "id": "qUygFiYQaw3N",
        "colab_type": "code",
        "colab": {}
      },
      "source": [
        "X=df.drop('Outcome', 1).values #drop 'Outcome' column but you keep the index column\n",
        "y=df['Outcome'].values"
      ],
      "execution_count": 0,
      "outputs": []
    },
    {
      "cell_type": "markdown",
      "metadata": {
        "id": "10WLT2xwiB67",
        "colab_type": "text"
      },
      "source": [
        "We import the train_test_split function from sklearn to split the arrays or matrices into random train and test subsets>\n",
        "\n",
        "Parameters:\t\n",
        "test_size : in our case 20% (default=0.25)\n",
        "\n",
        "random_state: is basically used for reproducing your problem the same every time it is run. If you do not use a random_state in train_test_split, every time you make the split you might get a different set of train and test data points and will not help you in debugging in case you get an issue. We used random_state=42 but number does not matter\n",
        "\n",
        "stratify : array-like or None (default=None)\n",
        "If the number of values belonging to each class are unbalanced, using stratified sampling is a good thing. You are basically asking the model to take the training and test set such that the class proportion is same as of the whole dataset, which is the right thing to do."
      ]
    },
    {
      "cell_type": "code",
      "metadata": {
        "id": "12_ydvVxekDA",
        "colab_type": "code",
        "colab": {}
      },
      "source": [
        "from sklearn.model_selection import train_test_split #method to split training and testing data sets\n",
        "X_train, X_test, y_train, y_test=train_test_split(X, y, test_size=0.2, random_state=42, stratify=y)"
      ],
      "execution_count": 0,
      "outputs": []
    },
    {
      "cell_type": "markdown",
      "metadata": {
        "id": "uJ4tahSOx4ZH",
        "colab_type": "text"
      },
      "source": [
        "No feature scaling needed when working with Trees"
      ]
    },
    {
      "cell_type": "code",
      "metadata": {
        "id": "-luLiVgn3pCF",
        "colab_type": "code",
        "colab": {}
      },
      "source": [
        "#from sklearn.preprocessing import StandardScaler \n",
        "#sc=StandardScaler()\n",
        "#X_train=sc.fit_transform(X_train)\n",
        "#X_test=sc.transform(X_test)"
      ],
      "execution_count": 0,
      "outputs": []
    },
    {
      "cell_type": "markdown",
      "metadata": {
        "id": "Us9gXeWFjfPs",
        "colab_type": "text"
      },
      "source": [
        "Now we are ready to use the GBM algorithm and import de XGBClassifier from the xgboost library from sklearn"
      ]
    },
    {
      "cell_type": "code",
      "metadata": {
        "id": "msnJmtjM8BDo",
        "colab_type": "code",
        "outputId": "df78fda2-64dc-49e8-c30b-f2798109b978",
        "colab": {
          "base_uri": "https://localhost:8080/",
          "height": 327
        }
      },
      "source": [
        "pip install bayesian-optimization"
      ],
      "execution_count": 0,
      "outputs": [
        {
          "output_type": "stream",
          "text": [
            "Collecting bayesian-optimization\n",
            "  Downloading https://files.pythonhosted.org/packages/72/0c/173ac467d0a53e33e41b521e4ceba74a8ac7c7873d7b857a8fbdca88302d/bayesian-optimization-1.0.1.tar.gz\n",
            "Requirement already satisfied: numpy>=1.9.0 in /usr/local/lib/python3.6/dist-packages (from bayesian-optimization) (1.16.4)\n",
            "Requirement already satisfied: scipy>=0.14.0 in /usr/local/lib/python3.6/dist-packages (from bayesian-optimization) (1.3.1)\n",
            "Requirement already satisfied: scikit-learn>=0.18.0 in /usr/local/lib/python3.6/dist-packages (from bayesian-optimization) (0.21.3)\n",
            "Requirement already satisfied: joblib>=0.11 in /usr/local/lib/python3.6/dist-packages (from scikit-learn>=0.18.0->bayesian-optimization) (0.13.2)\n",
            "Building wheels for collected packages: bayesian-optimization\n",
            "  Building wheel for bayesian-optimization (setup.py) ... \u001b[?25l\u001b[?25hdone\n",
            "  Created wheel for bayesian-optimization: filename=bayesian_optimization-1.0.1-cp36-none-any.whl size=10031 sha256=b2a76fe0651fd27a0ed155c2c49ebff0d5367d2f6f09fce21aefd3fbc902d9b5\n",
            "  Stored in directory: /root/.cache/pip/wheels/1d/0d/3b/6b9d4477a34b3905f246ff4e7acf6aafd4cc9b77d473629b77\n",
            "Successfully built bayesian-optimization\n",
            "Installing collected packages: bayesian-optimization\n",
            "Successfully installed bayesian-optimization-1.0.1\n"
          ],
          "name": "stdout"
        }
      ]
    },
    {
      "cell_type": "code",
      "metadata": {
        "id": "j5UIIMTzU8hv",
        "colab_type": "code",
        "colab": {}
      },
      "source": [
        "import xgboost as xgb\n",
        "from xgboost.sklearn import XGBClassifier\n",
        "import bayes_opt\n",
        "from bayes_opt import BayesianOptimization\n",
        "from sklearn.model_selection import cross_val_score"
      ],
      "execution_count": 0,
      "outputs": []
    },
    {
      "cell_type": "markdown",
      "metadata": {
        "id": "nK2ugxZnpNna",
        "colab_type": "text"
      },
      "source": [
        "'subsample' introduces a parameter that has an analogy with bagging. You dont use the whole dataset for every round. In this way you take care of outliers and reduce variance. \n",
        "'colsample_bytree' parameter has an analogy with Random Forests as we do not use all features for a tree. We can do this at column level or tree level"
      ]
    },
    {
      "cell_type": "code",
      "metadata": {
        "id": "dE3yzTBentee",
        "colab_type": "code",
        "colab": {}
      },
      "source": [
        "pbounds = {'n_estimators': (50, 1000), 'eta': (0.01, 3), 'max_depth': (1,32), 'gamma':(0,5), 'subsample':(0.5,1), 'colsample_bytree':(0.5,1), 'min_child_weight': (1,20)}\n",
        "model_tune = XGBClassifier(n_jobs=-1) #n_jobs=-1 means that all CPUs are used\n",
        "def xgboostcv(eta, n_estimators, max_depth, min_child_weight, gamma, subsample, colsample_bytree):\n",
        "    return np.mean(cross_val_score(model_tune, X_train, y_train, cv=5, scoring='accuracy'))\n",
        "  \n",
        "optimizer = BayesianOptimization(\n",
        "    f=xgboostcv,\n",
        "    pbounds=pbounds,\n",
        "    random_state=1)\n",
        "\n",
        "optimizer.maximize(\n",
        "    init_points=2,\n",
        "    n_iter=5)\n",
        "print(optimizer.max)"
      ],
      "execution_count": 0,
      "outputs": []
    },
    {
      "cell_type": "code",
      "metadata": {
        "id": "FA2FGn5aNGdw",
        "colab_type": "code",
        "colab": {}
      },
      "source": [
        "model = XGBClassifier(eta=2.16, n_estimators=138, max_depth=10, min_child_weight=4, gamma=0, subsample=0.6, colsample_bytree=0.7 )"
      ],
      "execution_count": 0,
      "outputs": []
    },
    {
      "cell_type": "code",
      "metadata": {
        "id": "yS2nJTjwuSWW",
        "colab_type": "code",
        "outputId": "94394761-ac65-42f7-ad55-5553864b28cf",
        "colab": {
          "base_uri": "https://localhost:8080/",
          "height": 136
        }
      },
      "source": [
        "model.fit(X_train, y_train)"
      ],
      "execution_count": 0,
      "outputs": [
        {
          "output_type": "execute_result",
          "data": {
            "text/plain": [
              "XGBClassifier(base_score=0.5, booster='gbtree', colsample_bylevel=1,\n",
              "              colsample_bynode=1, colsample_bytree=0.7, eta=2.16, gamma=0,\n",
              "              learning_rate=0.1, max_delta_step=0, max_depth=10,\n",
              "              min_child_weight=4, missing=None, n_estimators=138, n_jobs=1,\n",
              "              nthread=None, objective='binary:logistic', random_state=0,\n",
              "              reg_alpha=0, reg_lambda=1, scale_pos_weight=1, seed=None,\n",
              "              silent=None, subsample=0.6, verbosity=1)"
            ]
          },
          "metadata": {
            "tags": []
          },
          "execution_count": 37
        }
      ]
    },
    {
      "cell_type": "code",
      "metadata": {
        "id": "BMbh_kTpueAZ",
        "colab_type": "code",
        "outputId": "30b4f728-d9db-43ea-fd41-2e12afcb0dd5",
        "colab": {
          "base_uri": "https://localhost:8080/",
          "height": 34
        }
      },
      "source": [
        "y_pred = model.predict(X_test)\n",
        "from sklearn import metrics\n",
        "print(\"Accuracy:\",metrics.accuracy_score(y_test, y_pred))"
      ],
      "execution_count": 0,
      "outputs": [
        {
          "output_type": "stream",
          "text": [
            "Accuracy: 0.7402597402597403\n"
          ],
          "name": "stdout"
        }
      ]
    },
    {
      "cell_type": "markdown",
      "metadata": {
        "id": "2y5mNoH4kSdi",
        "colab_type": "text"
      },
      "source": [
        "Now we will look at other classification KPIs that we discussed in our lessons: Confusion Matrix, ROC, AUC, F1-Score"
      ]
    },
    {
      "cell_type": "code",
      "metadata": {
        "id": "ELAj9mqAlnxx",
        "colab_type": "code",
        "outputId": "3b5434eb-750e-4ef4-b923-761b66a773a3",
        "colab": {
          "base_uri": "https://localhost:8080/",
          "height": 51
        }
      },
      "source": [
        "from sklearn.metrics import confusion_matrix\n",
        "y_pred=model.predict(X_test)\n",
        "confusion_matrix(y_test,y_pred)"
      ],
      "execution_count": 0,
      "outputs": [
        {
          "output_type": "execute_result",
          "data": {
            "text/plain": [
              "array([[79, 21],\n",
              "       [19, 35]])"
            ]
          },
          "metadata": {
            "tags": []
          },
          "execution_count": 39
        }
      ]
    },
    {
      "cell_type": "markdown",
      "metadata": {
        "id": "9nih5l6A0oOh",
        "colab_type": "text"
      },
      "source": [
        "Classifier not better compared to other classifiers that we tried on same dataset. Using Gridsearch the result was slightly better (75.3)."
      ]
    }
  ]
}