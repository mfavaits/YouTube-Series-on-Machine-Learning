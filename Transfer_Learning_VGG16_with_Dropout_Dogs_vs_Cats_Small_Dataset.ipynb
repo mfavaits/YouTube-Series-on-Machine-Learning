{
  "nbformat": 4,
  "nbformat_minor": 0,
  "metadata": {
    "colab": {
      "name": "Transfer Learning - VGG16 with Dropout - Dogs vs. Cats - Small Dataset.ipynb",
      "provenance": [],
      "collapsed_sections": [],
      "include_colab_link": true
    },
    "kernelspec": {
      "name": "python3",
      "display_name": "Python 3"
    },
    "accelerator": "TPU"
  },
  "cells": [
    {
      "cell_type": "markdown",
      "metadata": {
        "id": "view-in-github",
        "colab_type": "text"
      },
      "source": [
        "<a href=\"https://colab.research.google.com/github/mfavaits/YouTube-Series-on-Machine-Learning/blob/master/Transfer_Learning_VGG16_with_Dropout_Dogs_vs_Cats_Small_Dataset.ipynb\" target=\"_parent\"><img src=\"https://colab.research.google.com/assets/colab-badge.svg\" alt=\"Open In Colab\"/></a>"
      ]
    },
    {
      "cell_type": "code",
      "metadata": {
        "id": "wCv4aeLxA1Xr",
        "colab_type": "code",
        "colab": {}
      },
      "source": [
        "import numpy as np\n",
        "import matplotlib.pyplot as plt\n",
        "\n",
        "import os\n",
        "import shutil"
      ],
      "execution_count": 0,
      "outputs": []
    },
    {
      "cell_type": "code",
      "metadata": {
        "id": "JD7vGwSixv_w",
        "colab_type": "code",
        "outputId": "646d3bcf-c608-4ec3-c962-3b95a97f4f01",
        "colab": {
          "base_uri": "https://localhost:8080/",
          "height": 34
        }
      },
      "source": [
        "from google.colab import drive\n",
        "drive.mount('/content/drive')"
      ],
      "execution_count": 64,
      "outputs": [
        {
          "output_type": "stream",
          "text": [
            "Drive already mounted at /content/drive; to attempt to forcibly remount, call drive.mount(\"/content/drive\", force_remount=True).\n"
          ],
          "name": "stdout"
        }
      ]
    },
    {
      "cell_type": "code",
      "metadata": {
        "id": "nwHsoXL-F0g2",
        "colab_type": "code",
        "colab": {
          "base_uri": "https://localhost:8080/",
          "height": 799
        },
        "outputId": "428a459e-2363-4cbf-ffec-9cc01a644e30"
      },
      "source": [
        "from keras.applications import VGG16\n",
        "from keras.preprocessing.image import ImageDataGenerator\n",
        "conv_base = VGG16(weights= 'imagenet', include_top=False, input_shape=(150,150,3))\n",
        "conv_base.summary ()"
      ],
      "execution_count": 65,
      "outputs": [
        {
          "output_type": "stream",
          "text": [
            "Model: \"vgg16\"\n",
            "_________________________________________________________________\n",
            "Layer (type)                 Output Shape              Param #   \n",
            "=================================================================\n",
            "input_6 (InputLayer)         (None, 150, 150, 3)       0         \n",
            "_________________________________________________________________\n",
            "block1_conv1 (Conv2D)        (None, 150, 150, 64)      1792      \n",
            "_________________________________________________________________\n",
            "block1_conv2 (Conv2D)        (None, 150, 150, 64)      36928     \n",
            "_________________________________________________________________\n",
            "block1_pool (MaxPooling2D)   (None, 75, 75, 64)        0         \n",
            "_________________________________________________________________\n",
            "block2_conv1 (Conv2D)        (None, 75, 75, 128)       73856     \n",
            "_________________________________________________________________\n",
            "block2_conv2 (Conv2D)        (None, 75, 75, 128)       147584    \n",
            "_________________________________________________________________\n",
            "block2_pool (MaxPooling2D)   (None, 37, 37, 128)       0         \n",
            "_________________________________________________________________\n",
            "block3_conv1 (Conv2D)        (None, 37, 37, 256)       295168    \n",
            "_________________________________________________________________\n",
            "block3_conv2 (Conv2D)        (None, 37, 37, 256)       590080    \n",
            "_________________________________________________________________\n",
            "block3_conv3 (Conv2D)        (None, 37, 37, 256)       590080    \n",
            "_________________________________________________________________\n",
            "block3_pool (MaxPooling2D)   (None, 18, 18, 256)       0         \n",
            "_________________________________________________________________\n",
            "block4_conv1 (Conv2D)        (None, 18, 18, 512)       1180160   \n",
            "_________________________________________________________________\n",
            "block4_conv2 (Conv2D)        (None, 18, 18, 512)       2359808   \n",
            "_________________________________________________________________\n",
            "block4_conv3 (Conv2D)        (None, 18, 18, 512)       2359808   \n",
            "_________________________________________________________________\n",
            "block4_pool (MaxPooling2D)   (None, 9, 9, 512)         0         \n",
            "_________________________________________________________________\n",
            "block5_conv1 (Conv2D)        (None, 9, 9, 512)         2359808   \n",
            "_________________________________________________________________\n",
            "block5_conv2 (Conv2D)        (None, 9, 9, 512)         2359808   \n",
            "_________________________________________________________________\n",
            "block5_conv3 (Conv2D)        (None, 9, 9, 512)         2359808   \n",
            "_________________________________________________________________\n",
            "block5_pool (MaxPooling2D)   (None, 4, 4, 512)         0         \n",
            "=================================================================\n",
            "Total params: 14,714,688\n",
            "Trainable params: 14,714,688\n",
            "Non-trainable params: 0\n",
            "_________________________________________________________________\n"
          ],
          "name": "stdout"
        }
      ]
    },
    {
      "cell_type": "markdown",
      "metadata": {
        "id": "e9qcaRMhIV7c",
        "colab_type": "text"
      },
      "source": [
        "The final feature map has shape (4, 4, 512).\n",
        "We extract features from by calling the predict method on the conv_base model"
      ]
    },
    {
      "cell_type": "code",
      "metadata": {
        "id": "BY2SBTzqGgPR",
        "colab_type": "code",
        "colab": {}
      },
      "source": [
        "datagen=ImageDataGenerator(rescale=1./255)"
      ],
      "execution_count": 0,
      "outputs": []
    },
    {
      "cell_type": "code",
      "metadata": {
        "id": "Hvmu7oI-Go7R",
        "colab_type": "code",
        "colab": {}
      },
      "source": [
        "def extract_features(directory, sample_count): #extract features from a directory with JPEG files and sample_count is # files in dir\n",
        "    features=np.zeros(shape=(sample_count, 4, 4, 512)) # empty array\n",
        "    labels=np.zeros(shape=(sample_count)) # empty array\n",
        "    generator=datagen.flow_from_directory(directory, target_size=(150, 150), batch_size=20, class_mode='binary')\n",
        "    \n",
        "    i=0\n",
        "    for inputs_batch, labels_batch in generator: \n",
        "      features_batch=conv_base.predict(inputs_batch) # extract features from conv_base\n",
        "      features[i*batch_size:(i+1)*batch_size]=features_batch # for i=0 we have features[0:20], for i=2 features[20:40]\n",
        "      labels[i*batch_size:(i+1)*batch_size]=labels_batch\n",
        "      i+=1\n",
        "      if i*batch_size>=sample_count:\n",
        "        break #break when every image has been seen once\n",
        "    return features, labels"
      ],
      "execution_count": 0,
      "outputs": []
    },
    {
      "cell_type": "code",
      "metadata": {
        "id": "HOTxZTTYHiK1",
        "colab_type": "code",
        "colab": {
          "base_uri": "https://localhost:8080/",
          "height": 51
        },
        "outputId": "c2876a66-1ead-4d42-850b-6ccbddd750e4"
      },
      "source": [
        "train_features, train_labels = extract_features('/content/drive/My Drive/Colab Notebooks/training_2000', 2000)\n",
        "validation_features, validation_labels = extract_features('/content/drive/My Drive/Colab Notebooks/val_1000', 1000)"
      ],
      "execution_count": 68,
      "outputs": [
        {
          "output_type": "stream",
          "text": [
            "Found 2000 images belonging to 2 classes.\n",
            "Found 1000 images belonging to 2 classes.\n"
          ],
          "name": "stdout"
        }
      ]
    },
    {
      "cell_type": "markdown",
      "metadata": {
        "id": "fI5IINhnI-ct",
        "colab_type": "text"
      },
      "source": [
        "The extracted features are currently of shape (samples, 4 , 4, 512) and we need to flatten before pushing them through a densely connected layer"
      ]
    },
    {
      "cell_type": "code",
      "metadata": {
        "id": "dOHY1sQpIQHq",
        "colab_type": "code",
        "colab": {}
      },
      "source": [
        "train_features=np.reshape(train_features, (2000, 4*4*512))\n",
        "validation_features=np.reshape(validation_features, (1000, 4*4*512))"
      ],
      "execution_count": 0,
      "outputs": []
    },
    {
      "cell_type": "code",
      "metadata": {
        "id": "10mhjDGSPQee",
        "colab_type": "code",
        "colab": {
          "base_uri": "https://localhost:8080/",
          "height": 122
        },
        "outputId": "30a75a2a-e936-4101-8f26-cd2aac1c1282"
      },
      "source": [
        "from keras import models\n",
        "from keras import layers\n",
        "from keras import optimizers\n",
        "\n",
        "model=models.Sequential()\n",
        "model.add(layers.Dense(256, activation='relu', input_dim=4*4*512))\n",
        "model.add(layers.Dropout(0.5))\n",
        "model.add(layers.Dense(1, activation='sigmoid'))"
      ],
      "execution_count": 70,
      "outputs": [
        {
          "output_type": "stream",
          "text": [
            "WARNING:tensorflow:From /usr/local/lib/python3.6/dist-packages/keras/backend/tensorflow_backend.py:148: The name tf.placeholder_with_default is deprecated. Please use tf.compat.v1.placeholder_with_default instead.\n",
            "\n",
            "WARNING:tensorflow:From /usr/local/lib/python3.6/dist-packages/keras/backend/tensorflow_backend.py:3733: calling dropout (from tensorflow.python.ops.nn_ops) with keep_prob is deprecated and will be removed in a future version.\n",
            "Instructions for updating:\n",
            "Please use `rate` instead of `keep_prob`. Rate should be set to `rate = 1 - keep_prob`.\n"
          ],
          "name": "stdout"
        }
      ]
    },
    {
      "cell_type": "code",
      "metadata": {
        "id": "8fS9kmK0PQZh",
        "colab_type": "code",
        "colab": {}
      },
      "source": [
        "model.compile(loss='binary_crossentropy', optimizer=optimizers.RMSprop(lr=2e-5), metrics=['acc'])"
      ],
      "execution_count": 0,
      "outputs": []
    },
    {
      "cell_type": "code",
      "metadata": {
        "id": "Lu-KKjHzXRix",
        "colab_type": "code",
        "outputId": "c8d59b69-ad11-4fdb-fc40-b248a552ecbf",
        "colab": {
          "base_uri": "https://localhost:8080/",
          "height": 1000
        }
      },
      "source": [
        "history = model.fit(train_features, train_labels, epochs=30, batch_size=20, validation_data=(validation_features, validation_labels))"
      ],
      "execution_count": 72,
      "outputs": [
        {
          "output_type": "stream",
          "text": [
            "Train on 2000 samples, validate on 1000 samples\n",
            "Epoch 1/30\n",
            "2000/2000 [==============================] - 4s 2ms/step - loss: 0.6258 - acc: 0.6470 - val_loss: 0.4399 - val_acc: 0.8330\n",
            "Epoch 2/30\n",
            "2000/2000 [==============================] - 3s 1ms/step - loss: 0.4483 - acc: 0.7875 - val_loss: 0.3688 - val_acc: 0.8490\n",
            "Epoch 3/30\n",
            "2000/2000 [==============================] - 3s 2ms/step - loss: 0.3725 - acc: 0.8460 - val_loss: 0.3297 - val_acc: 0.8630\n",
            "Epoch 4/30\n",
            "2000/2000 [==============================] - 3s 2ms/step - loss: 0.3330 - acc: 0.8505 - val_loss: 0.3187 - val_acc: 0.8620\n",
            "Epoch 5/30\n",
            "2000/2000 [==============================] - 3s 2ms/step - loss: 0.2967 - acc: 0.8785 - val_loss: 0.2943 - val_acc: 0.8760\n",
            "Epoch 6/30\n",
            "2000/2000 [==============================] - 3s 2ms/step - loss: 0.2773 - acc: 0.8900 - val_loss: 0.2836 - val_acc: 0.8810\n",
            "Epoch 7/30\n",
            "2000/2000 [==============================] - 3s 2ms/step - loss: 0.2576 - acc: 0.8910 - val_loss: 0.2840 - val_acc: 0.8660\n",
            "Epoch 8/30\n",
            "2000/2000 [==============================] - 3s 2ms/step - loss: 0.2405 - acc: 0.9040 - val_loss: 0.2870 - val_acc: 0.8750\n",
            "Epoch 9/30\n",
            "2000/2000 [==============================] - 3s 2ms/step - loss: 0.2379 - acc: 0.9000 - val_loss: 0.2670 - val_acc: 0.8860\n",
            "Epoch 10/30\n",
            "2000/2000 [==============================] - 3s 2ms/step - loss: 0.2206 - acc: 0.9180 - val_loss: 0.2666 - val_acc: 0.8840\n",
            "Epoch 11/30\n",
            "2000/2000 [==============================] - 3s 2ms/step - loss: 0.2100 - acc: 0.9220 - val_loss: 0.2704 - val_acc: 0.8860\n",
            "Epoch 12/30\n",
            "2000/2000 [==============================] - 3s 2ms/step - loss: 0.1961 - acc: 0.9285 - val_loss: 0.2624 - val_acc: 0.8830\n",
            "Epoch 13/30\n",
            "2000/2000 [==============================] - 3s 2ms/step - loss: 0.1970 - acc: 0.9280 - val_loss: 0.2563 - val_acc: 0.8930\n",
            "Epoch 14/30\n",
            "2000/2000 [==============================] - 3s 2ms/step - loss: 0.1791 - acc: 0.9320 - val_loss: 0.2561 - val_acc: 0.8910\n",
            "Epoch 15/30\n",
            "2000/2000 [==============================] - 3s 2ms/step - loss: 0.1682 - acc: 0.9375 - val_loss: 0.2510 - val_acc: 0.8920\n",
            "Epoch 16/30\n",
            "2000/2000 [==============================] - 3s 2ms/step - loss: 0.1702 - acc: 0.9365 - val_loss: 0.2522 - val_acc: 0.8970\n",
            "Epoch 17/30\n",
            "2000/2000 [==============================] - 3s 2ms/step - loss: 0.1617 - acc: 0.9400 - val_loss: 0.2539 - val_acc: 0.8910\n",
            "Epoch 18/30\n",
            "2000/2000 [==============================] - 3s 2ms/step - loss: 0.1578 - acc: 0.9410 - val_loss: 0.2490 - val_acc: 0.8960\n",
            "Epoch 19/30\n",
            "2000/2000 [==============================] - 3s 2ms/step - loss: 0.1447 - acc: 0.9505 - val_loss: 0.2497 - val_acc: 0.8930\n",
            "Epoch 20/30\n",
            "2000/2000 [==============================] - 3s 1ms/step - loss: 0.1378 - acc: 0.9515 - val_loss: 0.2470 - val_acc: 0.8960\n",
            "Epoch 21/30\n",
            "2000/2000 [==============================] - 3s 2ms/step - loss: 0.1353 - acc: 0.9575 - val_loss: 0.2470 - val_acc: 0.9020\n",
            "Epoch 22/30\n",
            "2000/2000 [==============================] - 3s 1ms/step - loss: 0.1251 - acc: 0.9575 - val_loss: 0.2507 - val_acc: 0.9010\n",
            "Epoch 23/30\n",
            "2000/2000 [==============================] - 3s 2ms/step - loss: 0.1256 - acc: 0.9610 - val_loss: 0.2515 - val_acc: 0.9000\n",
            "Epoch 24/30\n",
            "2000/2000 [==============================] - 3s 2ms/step - loss: 0.1215 - acc: 0.9585 - val_loss: 0.2533 - val_acc: 0.8880\n",
            "Epoch 25/30\n",
            "2000/2000 [==============================] - 3s 1ms/step - loss: 0.1138 - acc: 0.9665 - val_loss: 0.2469 - val_acc: 0.9010\n",
            "Epoch 26/30\n",
            "2000/2000 [==============================] - 3s 1ms/step - loss: 0.1061 - acc: 0.9705 - val_loss: 0.2478 - val_acc: 0.9040\n",
            "Epoch 27/30\n",
            "2000/2000 [==============================] - 3s 1ms/step - loss: 0.1074 - acc: 0.9680 - val_loss: 0.2525 - val_acc: 0.8980\n",
            "Epoch 28/30\n",
            "2000/2000 [==============================] - 3s 2ms/step - loss: 0.0979 - acc: 0.9740 - val_loss: 0.2510 - val_acc: 0.9010\n",
            "Epoch 29/30\n",
            "2000/2000 [==============================] - 3s 2ms/step - loss: 0.0980 - acc: 0.9700 - val_loss: 0.2525 - val_acc: 0.8990\n",
            "Epoch 30/30\n",
            "2000/2000 [==============================] - 3s 2ms/step - loss: 0.0942 - acc: 0.9740 - val_loss: 0.2500 - val_acc: 0.9000\n"
          ],
          "name": "stdout"
        }
      ]
    },
    {
      "cell_type": "code",
      "metadata": {
        "id": "uxBFfQjwXRVG",
        "colab_type": "code",
        "colab": {}
      },
      "source": [
        "acc=history.history['acc']\n",
        "val_acc=history.history['val_acc']\n",
        "loss=history.history['loss']\n",
        "val_loss=history.history['val_loss']"
      ],
      "execution_count": 0,
      "outputs": []
    },
    {
      "cell_type": "code",
      "metadata": {
        "id": "N7MVm5FeXRLR",
        "colab_type": "code",
        "colab": {}
      },
      "source": [
        "epochs=range(1, len(acc)+1)"
      ],
      "execution_count": 0,
      "outputs": []
    },
    {
      "cell_type": "code",
      "metadata": {
        "id": "3sAK6k2LXRDm",
        "colab_type": "code",
        "outputId": "fd5068fa-9d49-462a-ff79-79c6f0dd7448",
        "colab": {
          "base_uri": "https://localhost:8080/",
          "height": 545
        }
      },
      "source": [
        "plt.plot(epochs, acc, 'bo', label='training acc')\n",
        "plt.plot(epochs, val_acc, 'b', label='validation acc')\n",
        "plt.title('training and validation accuracy')\n",
        "plt.legend()\n",
        "plt.figure()\n",
        "\n",
        "plt.plot(epochs, loss, 'bo', label='training loss')\n",
        "plt.plot(epochs, val_loss, 'b', label='validation loss')\n",
        "plt.title('training and validation loss')\n",
        "plt.legend()\n",
        "plt.show()"
      ],
      "execution_count": 75,
      "outputs": [
        {
          "output_type": "display_data",
          "data": {
            "image/png": "[encoded data removed]",
            "text/plain": [
              "<Figure size 432x288 with 1 Axes>"
            ]
          },
          "metadata": {
            "tags": []
          }
        },
        {
          "output_type": "display_data",
          "data": {
            "image/png": "[encoded data removed]",
            "text/plain": [
              "<Figure size 432x288 with 1 Axes>"
            ]
          },
          "metadata": {
            "tags": []
          }
        }
      ]
    }
  ]
}