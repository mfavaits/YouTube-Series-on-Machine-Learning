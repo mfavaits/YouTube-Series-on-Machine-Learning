{
  "nbformat": 4,
  "nbformat_minor": 0,
  "metadata": {
    "colab": {
      "name": "GB - Breast Cancer Coding.ipynb",
      "version": "0.3.2",
      "provenance": [],
      "collapsed_sections": [],
      "include_colab_link": true
    },
    "kernelspec": {
      "name": "python3",
      "display_name": "Python 3"
    },
    "accelerator": "TPU"
  },
  "cells": [
    {
      "cell_type": "markdown",
      "metadata": {
        "id": "view-in-github",
        "colab_type": "text"
      },
      "source": [
        "<a href=\"https://colab.research.google.com/github/mfavaits/YouTube-Series-on-Machine-Learning/blob/master/GB_Breast_Cancer_Coding.ipynb\" target=\"_parent\"><img src=\"https://colab.research.google.com/assets/colab-badge.svg\" alt=\"Open In Colab\"/></a>"
      ]
    },
    {
      "cell_type": "markdown",
      "metadata": {
        "id": "Iv8yBQ_7ZpRA",
        "colab_type": "text"
      },
      "source": [
        "In the model the building part, you can use the cancer dataset, which is a very famous multi-class classification problem. This dataset is computed from a digitized image of a fine needle aspirate (FNA) of a breast mass. They describe characteristics of the cell nuclei present in the image.\n",
        "\n",
        "The dataset comprises 30 features (mean radius, mean texture, mean perimeter, mean area, mean smoothness, mean compactness, mean concavity, mean concave points, mean symmetry, mean fractal dimension, radius error, texture error, perimeter error, area error, smoothness error, compactness error, concavity error, concave points error, symmetry error, fractal dimension error, worst radius, worst texture, worst perimeter, worst area, worst smoothness, worst compactness, worst concavity, worst concave points, worst symmetry, and worst fractal dimension) and a target (type of cancer).\n",
        "This data has two types of cancer classes: malignant (harmful) and benign (not harmful). Here, you can build a model to classify the type of cancer. The dataset is available in the scikit-learn library or you can also download it from the UCI Machine Learning Library.\n"
      ]
    },
    {
      "cell_type": "code",
      "metadata": {
        "id": "yeHM1o2KVaG4",
        "colab_type": "code",
        "colab": {}
      },
      "source": [
        "import numpy as np #linear algebra library of Python\n",
        "from sklearn import datasets\n"
      ],
      "execution_count": 0,
      "outputs": []
    },
    {
      "cell_type": "code",
      "metadata": {
        "id": "w4s84GNyoPvN",
        "colab_type": "code",
        "colab": {}
      },
      "source": [
        "cancer = datasets.load_breast_cancer()"
      ],
      "execution_count": 0,
      "outputs": []
    },
    {
      "cell_type": "code",
      "metadata": {
        "id": "5OsII0xuy0Mf",
        "colab_type": "code",
        "outputId": "8e93cee9-9320-4eba-f909-857e476f611d",
        "colab": {
          "base_uri": "https://localhost:8080/",
          "height": 34
        }
      },
      "source": [
        "cancer.data.shape"
      ],
      "execution_count": 0,
      "outputs": [
        {
          "output_type": "execute_result",
          "data": {
            "text/plain": [
              "(569, 30)"
            ]
          },
          "metadata": {
            "tags": []
          },
          "execution_count": 9
        }
      ]
    },
    {
      "cell_type": "code",
      "metadata": {
        "id": "DJac6meJy7cY",
        "colab_type": "code",
        "colab": {}
      },
      "source": [
        "print(cancer.data[0:5])"
      ],
      "execution_count": 0,
      "outputs": []
    },
    {
      "cell_type": "code",
      "metadata": {
        "id": "6KeFG-VczEOs",
        "colab_type": "code",
        "colab": {}
      },
      "source": [
        "from sklearn.model_selection import train_test_split #method to split training and testing data sets\n",
        "X_train, X_test, y_train, y_test=train_test_split(cancer.data, cancer.target, test_size=0.3, random_state=109)"
      ],
      "execution_count": 0,
      "outputs": []
    },
    {
      "cell_type": "code",
      "metadata": {
        "id": "ThlEKppBRr5N",
        "colab_type": "code",
        "colab": {}
      },
      "source": [
        "import xgboost as xgb\n",
        "from xgboost.sklearn import XGBClassifier\n",
        "import matplotlib.pyplot as plt"
      ],
      "execution_count": 0,
      "outputs": []
    },
    {
      "cell_type": "code",
      "metadata": {
        "id": "O67IikNRd2qT",
        "colab_type": "code",
        "colab": {}
      },
      "source": [
        "pip install bayesian-optimization"
      ],
      "execution_count": 0,
      "outputs": []
    },
    {
      "cell_type": "code",
      "metadata": {
        "id": "rROOpud1d3oK",
        "colab_type": "code",
        "colab": {}
      },
      "source": [
        "import xgboost as xgb\n",
        "from xgboost.sklearn import XGBClassifier\n",
        "import bayes_opt\n",
        "from bayes_opt import BayesianOptimization\n",
        "from sklearn.model_selection import cross_val_score"
      ],
      "execution_count": 0,
      "outputs": []
    },
    {
      "cell_type": "code",
      "metadata": {
        "id": "s36msiuieAMR",
        "colab_type": "code",
        "colab": {}
      },
      "source": [
        "pbounds = {'n_estimators': (50, 1000), 'eta': (0.01, 3), 'max_depth': (1,32), 'gamma':(0,5), 'min_child_weight': (2,20), 'subsample':(0.5,1), 'colsample_bytree':(0.5,1)}"
      ],
      "execution_count": 0,
      "outputs": []
    },
    {
      "cell_type": "code",
      "metadata": {
        "id": "iHueul_SeEnz",
        "colab_type": "code",
        "colab": {}
      },
      "source": [
        "model_tuning = XGBClassifier(n_jobs=-1)"
      ],
      "execution_count": 0,
      "outputs": []
    },
    {
      "cell_type": "code",
      "metadata": {
        "id": "p36_aGCUeFZt",
        "colab_type": "code",
        "colab": {}
      },
      "source": [
        "def xgboostcv(eta, n_estimators, max_depth, gamma, min_child_weight, subsample, colsample_bytree):\n",
        "    return np.mean(cross_val_score(model_tuning, X_train, y_train, cv=5, scoring='accuracy'))"
      ],
      "execution_count": 0,
      "outputs": []
    },
    {
      "cell_type": "code",
      "metadata": {
        "id": "r6E_2y-TeI2t",
        "colab_type": "code",
        "colab": {}
      },
      "source": [
        "optimizer = BayesianOptimization(\n",
        "    f=xgboostcv,\n",
        "    pbounds=pbounds,\n",
        "    random_state=1)"
      ],
      "execution_count": 0,
      "outputs": []
    },
    {
      "cell_type": "code",
      "metadata": {
        "id": "WTf2E1ejeLYP",
        "colab_type": "code",
        "outputId": "64bc432b-949d-4ed0-a110-3ce48a0f2196",
        "colab": {
          "base_uri": "https://localhost:8080/",
          "height": 210
        }
      },
      "source": [
        "optimizer.maximize(\n",
        "    init_points=2,\n",
        "    n_iter=3)\n",
        "print(optimizer.max)"
      ],
      "execution_count": 0,
      "outputs": [
        {
          "output_type": "stream",
          "text": [
            "|   iter    |  target   | colsam... |    eta    |   gamma   | max_depth | min_ch... | n_esti... | subsample |\n",
            "-------------------------------------------------------------------------------------------------------------\n",
            "| \u001b[0m 1       \u001b[0m | \u001b[0m 0.9622  \u001b[0m | \u001b[0m 0.7085  \u001b[0m | \u001b[0m 2.164   \u001b[0m | \u001b[0m 0.000571\u001b[0m | \u001b[0m 10.37   \u001b[0m | \u001b[0m 4.642   \u001b[0m | \u001b[0m 137.7   \u001b[0m | \u001b[0m 0.5931  \u001b[0m |\n",
            "| \u001b[0m 2       \u001b[0m | \u001b[0m 0.9622  \u001b[0m | \u001b[0m 0.6728  \u001b[0m | \u001b[0m 1.196   \u001b[0m | \u001b[0m 2.694   \u001b[0m | \u001b[0m 14.0    \u001b[0m | \u001b[0m 14.33   \u001b[0m | \u001b[0m 244.2   \u001b[0m | \u001b[0m 0.9391  \u001b[0m |\n",
            "| \u001b[0m 3       \u001b[0m | \u001b[0m 0.9622  \u001b[0m | \u001b[0m 0.824   \u001b[0m | \u001b[0m 1.385   \u001b[0m | \u001b[0m 1.402   \u001b[0m | \u001b[0m 9.156   \u001b[0m | \u001b[0m 2.095   \u001b[0m | \u001b[0m 999.8   \u001b[0m | \u001b[0m 0.8966  \u001b[0m |\n",
            "| \u001b[0m 4       \u001b[0m | \u001b[0m 0.9622  \u001b[0m | \u001b[0m 0.51    \u001b[0m | \u001b[0m 1.916   \u001b[0m | \u001b[0m 1.044   \u001b[0m | \u001b[0m 31.53   \u001b[0m | \u001b[0m 19.96   \u001b[0m | \u001b[0m 998.3   \u001b[0m | \u001b[0m 0.5124  \u001b[0m |\n",
            "| \u001b[0m 5       \u001b[0m | \u001b[0m 0.9622  \u001b[0m | \u001b[0m 0.609   \u001b[0m | \u001b[0m 1.018   \u001b[0m | \u001b[0m 1.902   \u001b[0m | \u001b[0m 31.91   \u001b[0m | \u001b[0m 16.89   \u001b[0m | \u001b[0m 50.26   \u001b[0m | \u001b[0m 0.5056  \u001b[0m |\n",
            "=============================================================================================================\n",
            "{'target': 0.9622435897435897, 'params': {'colsample_bytree': 0.7085110023512871, 'eta': 2.1637702353920525, 'gamma': 0.0005718740867244332, 'max_depth': 10.372309751587032, 'min_child_weight': 4.641606034708035, 'n_estimators': 137.7216650303579, 'subsample': 0.5931301056888354}}\n"
          ],
          "name": "stdout"
        }
      ]
    },
    {
      "cell_type": "code",
      "metadata": {
        "id": "Ni5tCBKxS_do",
        "colab_type": "code",
        "outputId": "37e3c3bd-5e33-4a37-ebb1-55adaacaf2a5",
        "colab": {
          "base_uri": "https://localhost:8080/",
          "height": 136
        }
      },
      "source": [
        "model = XGBClassifier(eta=2, n_estimators=137, max_depth=10, min_child_weight=5, gamma=0, subsample=0.6, colsample_bytree=0.7 )\n",
        "model.fit(X_train, y_train)"
      ],
      "execution_count": 0,
      "outputs": [
        {
          "output_type": "execute_result",
          "data": {
            "text/plain": [
              "XGBClassifier(base_score=0.5, booster='gbtree', colsample_bylevel=1,\n",
              "              colsample_bynode=1, colsample_bytree=0.7, eta=2, gamma=0,\n",
              "              learning_rate=0.1, max_delta_step=0, max_depth=10,\n",
              "              min_child_weight=5, missing=None, n_estimators=137, n_jobs=1,\n",
              "              nthread=None, objective='binary:logistic', random_state=0,\n",
              "              reg_alpha=0, reg_lambda=1, scale_pos_weight=1, seed=None,\n",
              "              silent=None, subsample=0.6, verbosity=1)"
            ]
          },
          "metadata": {
            "tags": []
          },
          "execution_count": 16
        }
      ]
    },
    {
      "cell_type": "code",
      "metadata": {
        "id": "5TIAJi1iTIx4",
        "colab_type": "code",
        "outputId": "e26027fd-cb68-4bb7-ee28-aed8b25d6e0f",
        "colab": {
          "base_uri": "https://localhost:8080/",
          "height": 34
        }
      },
      "source": [
        "y_pred = model.predict(X_test)\n",
        "from sklearn import metrics\n",
        "print(\"Accuracy:\",metrics.accuracy_score(y_test, y_pred))"
      ],
      "execution_count": 0,
      "outputs": [
        {
          "output_type": "stream",
          "text": [
            "Accuracy: 0.9824561403508771\n"
          ],
          "name": "stdout"
        }
      ]
    },
    {
      "cell_type": "code",
      "metadata": {
        "id": "KOCy9NPoTNFV",
        "colab_type": "code",
        "outputId": "4526ffc5-a933-4cb3-f211-dcf9bd2fb465",
        "colab": {
          "base_uri": "https://localhost:8080/",
          "height": 51
        }
      },
      "source": [
        "from sklearn.metrics import confusion_matrix\n",
        "y_pred=model.predict(X_test)\n",
        "confusion_matrix(y_test,y_pred)"
      ],
      "execution_count": 0,
      "outputs": [
        {
          "output_type": "execute_result",
          "data": {
            "text/plain": [
              "array([[ 60,   3],\n",
              "       [  0, 108]])"
            ]
          },
          "metadata": {
            "tags": []
          },
          "execution_count": 18
        }
      ]
    }
  ]
}