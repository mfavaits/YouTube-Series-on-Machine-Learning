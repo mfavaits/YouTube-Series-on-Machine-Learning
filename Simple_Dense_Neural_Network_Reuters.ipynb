{
  "nbformat": 4,
  "nbformat_minor": 0,
  "metadata": {
    "colab": {
      "name": "Simple Dense Neural Network - Reuters.ipynb",
      "version": "0.3.2",
      "provenance": [],
      "collapsed_sections": [],
      "include_colab_link": true
    },
    "kernelspec": {
      "name": "python3",
      "display_name": "Python 3"
    },
    "accelerator": "TPU"
  },
  "cells": [
    {
      "cell_type": "markdown",
      "metadata": {
        "id": "view-in-github",
        "colab_type": "text"
      },
      "source": [
        "<a href=\"https://colab.research.google.com/github/mfavaits/YouTube-Series-on-Machine-Learning/blob/master/Simple_Dense_Neural_Network_Reuters.ipynb\" target=\"_parent\"><img src=\"https://colab.research.google.com/assets/colab-badge.svg\" alt=\"Open In Colab\"/></a>"
      ]
    },
    {
      "cell_type": "code",
      "metadata": {
        "id": "de3MGD6O72TY",
        "colab_type": "code",
        "colab": {
          "base_uri": "https://localhost:8080/",
          "height": 34
        },
        "outputId": "c07b45f3-e8ee-4008-e3f7-5123aa94c9c4"
      },
      "source": [
        "import numpy as np\n",
        "from keras.datasets import reuters"
      ],
      "execution_count": 1,
      "outputs": [
        {
          "output_type": "stream",
          "text": [
            "Using TensorFlow backend.\n"
          ],
          "name": "stderr"
        }
      ]
    },
    {
      "cell_type": "code",
      "metadata": {
        "id": "cOhLB6msAMlx",
        "colab_type": "code",
        "colab": {}
      },
      "source": [
        "vocabulary=7500 # we will only use the 7500 most frequently used words"
      ],
      "execution_count": 0,
      "outputs": []
    },
    {
      "cell_type": "markdown",
      "metadata": {
        "id": "Jh095fN7RVV9",
        "colab_type": "text"
      },
      "source": [
        "Next block of code block has been commented out because it does not work anymore"
      ]
    },
    {
      "cell_type": "code",
      "metadata": {
        "id": "shqvBezp-M7R",
        "colab_type": "code",
        "colab": {}
      },
      "source": [
        "# save np.load\n",
        "#np_load_old = np.load\n",
        "\n",
        "# modify the default parameters of np.load\n",
        "#np.load = lambda *a,**k: np_load_old(*a, allow_pickle=True, **k)\n",
        "\n",
        "# call load_data with allow_pickle implicitly set to true\n",
        "#(train_data, train_labels), (test_data, test_labels) = imdb.load_data(num_words=vocabulary)\n",
        "\n",
        "# restore np.load for future normal usage\n",
        "#np.load = np_load_old"
      ],
      "execution_count": 0,
      "outputs": []
    },
    {
      "cell_type": "code",
      "metadata": {
        "id": "XIPxi_2jSlCe",
        "colab_type": "code",
        "outputId": "0c152a6b-fa79-4a3d-bcf6-a98a0cc38d73",
        "colab": {
          "base_uri": "https://localhost:8080/",
          "height": 51
        }
      },
      "source": [
        "np.load.__defaults__=(None, True, True, 'ASCII')\n",
        "(train_data, train_labels), (test_data, test_labels) = reuters.load_data(num_words=vocabulary)\n",
        "np.load.__defaults__=(None, False, True, 'ASCII')"
      ],
      "execution_count": 4,
      "outputs": [
        {
          "output_type": "stream",
          "text": [
            "Downloading data from https://s3.amazonaws.com/text-datasets/reuters.npz\n",
            "2113536/2110848 [==============================] - 0s 0us/step\n"
          ],
          "name": "stdout"
        }
      ]
    },
    {
      "cell_type": "markdown",
      "metadata": {
        "id": "iG560c2_CYN6",
        "colab_type": "text"
      },
      "source": [
        "In the next line of code we will print the lists that contain sequences of words represented by a word index. If the text has not been converted to a sequence of indices we would need to add one pre-processing step using Tokenizer"
      ]
    },
    {
      "cell_type": "code",
      "metadata": {
        "id": "o5qZFmD4Wx6l",
        "colab_type": "code",
        "outputId": "03997871-6a34-4e43-aead-ec5147756d46",
        "colab": {
          "base_uri": "https://localhost:8080/",
          "height": 74
        }
      },
      "source": [
        "print(train_data[1]) # train_data is a list of word sequences"
      ],
      "execution_count": 5,
      "outputs": [
        {
          "output_type": "stream",
          "text": [
            "[1, 3267, 699, 3434, 2295, 56, 2, 2, 9, 56, 3906, 1073, 81, 5, 1198, 57, 366, 737, 132, 20, 4093, 7, 2, 49, 2295, 2, 1037, 3267, 699, 3434, 8, 7, 10, 241, 16, 855, 129, 231, 783, 5, 4, 587, 2295, 2, 2, 775, 7, 48, 34, 191, 44, 35, 1795, 505, 17, 12]\n"
          ],
          "name": "stdout"
        }
      ]
    },
    {
      "cell_type": "markdown",
      "metadata": {
        "id": "lwgfRMAj2Hip",
        "colab_type": "text"
      },
      "source": [
        "Now we will vectorize the training and test data. Basically we will create a matrix where the rows are the reviews and where the columns represent the vocabulary (7500 columns). We will set a 1 in the correct column if the word of the review matches a word of the vocabulary. This means that matrix will be rather sparse."
      ]
    },
    {
      "cell_type": "code",
      "metadata": {
        "id": "QELAzmk-03TM",
        "colab_type": "code",
        "colab": {}
      },
      "source": [
        "def vectorize_sequences(sequences, dimension=vocabulary):\n",
        "    results=np.zeros((len(sequences), dimension))\n",
        "    for i, sequence in enumerate(sequences):\n",
        "        results[i, sequence]=1\n",
        "    return results"
      ],
      "execution_count": 0,
      "outputs": []
    },
    {
      "cell_type": "markdown",
      "metadata": {
        "id": "J-YwrSZEoyOs",
        "colab_type": "text"
      },
      "source": [
        "Now we apply the function to our training and test data as well as the labels. "
      ]
    },
    {
      "cell_type": "code",
      "metadata": {
        "id": "ZRbl4N4d13te",
        "colab_type": "code",
        "colab": {}
      },
      "source": [
        "x_train=vectorize_sequences(train_data)\n",
        "x_test=vectorize_sequences(test_data)\n",
        "\n",
        "from keras.utils.np_utils import to_categorical\n",
        "one_hot_train_labels=to_categorical(train_labels)\n",
        "one_hot_test_labels=to_categorical(test_labels)"
      ],
      "execution_count": 0,
      "outputs": []
    },
    {
      "cell_type": "code",
      "metadata": {
        "id": "8pc4wDYTZAm4",
        "colab_type": "code",
        "colab": {
          "base_uri": "https://localhost:8080/",
          "height": 139
        },
        "outputId": "09babe3a-8754-4fab-ae40-c88a27bcbd2b"
      },
      "source": [
        "from keras import models\n",
        "from keras import layers\n",
        "from keras import optimizers\n",
        "from keras import losses\n",
        "from keras import metrics\n",
        "\n",
        "model=models.Sequential()\n",
        "model.add(layers.Dense(64, activation='relu', input_shape=(vocabulary,)))\n",
        "model.add(layers.Dense(64, activation='relu'))\n",
        "model.add(layers.Dense(46, activation='softmax'))"
      ],
      "execution_count": 8,
      "outputs": [
        {
          "output_type": "stream",
          "text": [
            "WARNING:tensorflow:From /usr/local/lib/python3.6/dist-packages/keras/backend/tensorflow_backend.py:66: The name tf.get_default_graph is deprecated. Please use tf.compat.v1.get_default_graph instead.\n",
            "\n",
            "WARNING:tensorflow:From /usr/local/lib/python3.6/dist-packages/keras/backend/tensorflow_backend.py:541: The name tf.placeholder is deprecated. Please use tf.compat.v1.placeholder instead.\n",
            "\n",
            "WARNING:tensorflow:From /usr/local/lib/python3.6/dist-packages/keras/backend/tensorflow_backend.py:4432: The name tf.random_uniform is deprecated. Please use tf.random.uniform instead.\n",
            "\n"
          ],
          "name": "stdout"
        }
      ]
    },
    {
      "cell_type": "markdown",
      "metadata": {
        "id": "EcFfGPZ9cPnq",
        "colab_type": "text"
      },
      "source": [
        "Validation Set"
      ]
    },
    {
      "cell_type": "code",
      "metadata": {
        "id": "D3wjF9cgcSPN",
        "colab_type": "code",
        "colab": {}
      },
      "source": [
        "x_val=x_train[:1000]\n",
        "partial_x_train=x_train[1000:]\n",
        "\n",
        "y_val=one_hot_train_labels[:1000]\n",
        "partial_y_train=one_hot_train_labels[1000:]"
      ],
      "execution_count": 0,
      "outputs": []
    },
    {
      "cell_type": "code",
      "metadata": {
        "id": "_Lc3MI-kfxqV",
        "colab_type": "code",
        "colab": {
          "base_uri": "https://localhost:8080/",
          "height": 105
        },
        "outputId": "8cfb5c04-4b18-41b4-b2d7-f344e916eefd"
      },
      "source": [
        "model.compile(optimizer='rmsprop', loss='categorical_crossentropy', metrics=['acc'])"
      ],
      "execution_count": 10,
      "outputs": [
        {
          "output_type": "stream",
          "text": [
            "WARNING:tensorflow:From /usr/local/lib/python3.6/dist-packages/keras/optimizers.py:793: The name tf.train.Optimizer is deprecated. Please use tf.compat.v1.train.Optimizer instead.\n",
            "\n",
            "WARNING:tensorflow:From /usr/local/lib/python3.6/dist-packages/keras/backend/tensorflow_backend.py:3576: The name tf.log is deprecated. Please use tf.math.log instead.\n",
            "\n"
          ],
          "name": "stdout"
        }
      ]
    },
    {
      "cell_type": "code",
      "metadata": {
        "id": "aIyH1Xxpn9hO",
        "colab_type": "code",
        "outputId": "da62fb78-dd69-4e18-8891-7733290806ef",
        "colab": {
          "base_uri": "https://localhost:8080/",
          "height": 1000
        }
      },
      "source": [
        "history = model.fit(partial_x_train, partial_y_train, epochs=20, batch_size=512, validation_data=(x_val, y_val)) #history object contains training details - object has a member dictionary"
      ],
      "execution_count": 11,
      "outputs": [
        {
          "output_type": "stream",
          "text": [
            "WARNING:tensorflow:From /usr/local/lib/python3.6/dist-packages/tensorflow/python/ops/math_grad.py:1250: add_dispatch_support.<locals>.wrapper (from tensorflow.python.ops.array_ops) is deprecated and will be removed in a future version.\n",
            "Instructions for updating:\n",
            "Use tf.where in 2.0, which has the same broadcast rule as np.where\n",
            "WARNING:tensorflow:From /usr/local/lib/python3.6/dist-packages/keras/backend/tensorflow_backend.py:1033: The name tf.assign_add is deprecated. Please use tf.compat.v1.assign_add instead.\n",
            "\n",
            "Train on 7982 samples, validate on 1000 samples\n",
            "Epoch 1/20\n",
            "7982/7982 [==============================] - 2s 238us/step - loss: 2.7237 - acc: 0.4463 - val_loss: 1.8616 - val_acc: 0.6340\n",
            "Epoch 2/20\n",
            "7982/7982 [==============================] - 1s 123us/step - loss: 1.5158 - acc: 0.7028 - val_loss: 1.3580 - val_acc: 0.7130\n",
            "Epoch 3/20\n",
            "7982/7982 [==============================] - 1s 125us/step - loss: 1.1100 - acc: 0.7701 - val_loss: 1.1708 - val_acc: 0.7450\n",
            "Epoch 4/20\n",
            "7982/7982 [==============================] - 1s 124us/step - loss: 0.8789 - acc: 0.8161 - val_loss: 1.0690 - val_acc: 0.7670\n",
            "Epoch 5/20\n",
            "7982/7982 [==============================] - 1s 123us/step - loss: 0.7131 - acc: 0.8497 - val_loss: 0.9755 - val_acc: 0.8010\n",
            "Epoch 6/20\n",
            "7982/7982 [==============================] - 1s 126us/step - loss: 0.5782 - acc: 0.8826 - val_loss: 0.9397 - val_acc: 0.7990\n",
            "Epoch 7/20\n",
            "7982/7982 [==============================] - 1s 124us/step - loss: 0.4737 - acc: 0.9014 - val_loss: 0.9024 - val_acc: 0.8130\n",
            "Epoch 8/20\n",
            "7982/7982 [==============================] - 1s 129us/step - loss: 0.3904 - acc: 0.9199 - val_loss: 0.8901 - val_acc: 0.8140\n",
            "Epoch 9/20\n",
            "7982/7982 [==============================] - 1s 126us/step - loss: 0.3236 - acc: 0.9316 - val_loss: 0.9182 - val_acc: 0.8070\n",
            "Epoch 10/20\n",
            "7982/7982 [==============================] - 1s 127us/step - loss: 0.2733 - acc: 0.9414 - val_loss: 0.8849 - val_acc: 0.8170\n",
            "Epoch 11/20\n",
            "7982/7982 [==============================] - 1s 126us/step - loss: 0.2336 - acc: 0.9456 - val_loss: 0.9147 - val_acc: 0.8120\n",
            "Epoch 12/20\n",
            "7982/7982 [==============================] - 1s 129us/step - loss: 0.2063 - acc: 0.9483 - val_loss: 0.9094 - val_acc: 0.8110\n",
            "Epoch 13/20\n",
            "7982/7982 [==============================] - 1s 129us/step - loss: 0.1809 - acc: 0.9525 - val_loss: 0.9347 - val_acc: 0.8140\n",
            "Epoch 14/20\n",
            "7982/7982 [==============================] - 1s 128us/step - loss: 0.1660 - acc: 0.9534 - val_loss: 0.9451 - val_acc: 0.8140\n",
            "Epoch 15/20\n",
            "7982/7982 [==============================] - 1s 126us/step - loss: 0.1490 - acc: 0.9529 - val_loss: 1.0538 - val_acc: 0.7860\n",
            "Epoch 16/20\n",
            "7982/7982 [==============================] - 1s 128us/step - loss: 0.1393 - acc: 0.9563 - val_loss: 0.9667 - val_acc: 0.8100\n",
            "Epoch 17/20\n",
            "7982/7982 [==============================] - 1s 126us/step - loss: 0.1315 - acc: 0.9573 - val_loss: 0.9851 - val_acc: 0.8090\n",
            "Epoch 18/20\n",
            "7982/7982 [==============================] - 1s 123us/step - loss: 0.1266 - acc: 0.9572 - val_loss: 1.0242 - val_acc: 0.8050\n",
            "Epoch 19/20\n",
            "7982/7982 [==============================] - 1s 125us/step - loss: 0.1236 - acc: 0.9579 - val_loss: 1.0331 - val_acc: 0.8020\n",
            "Epoch 20/20\n",
            "7982/7982 [==============================] - 1s 126us/step - loss: 0.1145 - acc: 0.9572 - val_loss: 1.0213 - val_acc: 0.8070\n"
          ],
          "name": "stdout"
        }
      ]
    },
    {
      "cell_type": "code",
      "metadata": {
        "id": "PMeo8lUNoyid",
        "colab_type": "code",
        "colab": {}
      },
      "source": [
        "import matplotlib.pyplot as plt\n",
        "history_dict=history.history\n",
        "loss_values=history_dict['loss']\n",
        "val_loss_values=history_dict['val_loss']\n",
        "epochs=range(1, 21)"
      ],
      "execution_count": 0,
      "outputs": []
    },
    {
      "cell_type": "code",
      "metadata": {
        "id": "RysfGkRrqGoG",
        "colab_type": "code",
        "outputId": "7f450b16-f1f0-4755-d3f5-e0cda31cec6d",
        "colab": {
          "base_uri": "https://localhost:8080/",
          "height": 312
        }
      },
      "source": [
        "plt.plot(epochs, loss_values, 'bo', label='Training Loss') #bo is for blue dotted line\n",
        "plt.plot(epochs, val_loss_values, 'b', label='Validation Loss') #b is for blue line\n",
        "plt.title('Training and Validation Loss')\n",
        "plt.xlabel('Epochs')\n",
        "plt.ylabel('Loss')\n",
        "plt.legend()\n",
        "plt.show"
      ],
      "execution_count": 13,
      "outputs": [
        {
          "output_type": "execute_result",
          "data": {
            "text/plain": [
              "<function matplotlib.pyplot.show>"
            ]
          },
          "metadata": {
            "tags": []
          },
          "execution_count": 13
        },
        {
          "output_type": "display_data",
          "data": {
            "image/png": "[encoded data removed]",
            "text/plain": [
              "<Figure size 432x288 with 1 Axes>"
            ]
          },
          "metadata": {
            "tags": []
          }
        }
      ]
    },
    {
      "cell_type": "code",
      "metadata": {
        "id": "5U8qL2GgtfeC",
        "colab_type": "code",
        "outputId": "dd3498d5-0b1a-4f0b-8473-bc27399e15b8",
        "colab": {
          "base_uri": "https://localhost:8080/",
          "height": 391
        }
      },
      "source": [
        "model=models.Sequential()\n",
        "model.add(layers.Dense(64, activation='relu', input_shape=(vocabulary,)))\n",
        "model.add(layers.Dense(64, activation='relu'))\n",
        "model.add(layers.Dense(46, activation='softmax'))\n",
        "\n",
        "model.compile(optimizer='rmsprop', loss='categorical_crossentropy', metrics=['acc'])\n",
        "model.fit(partial_x_train, partial_y_train, epochs=10, batch_size=512, validation_data=(x_val, y_val))\n",
        "results=model.evaluate(x_test, one_hot_test_labels)"
      ],
      "execution_count": 16,
      "outputs": [
        {
          "output_type": "stream",
          "text": [
            "Train on 7982 samples, validate on 1000 samples\n",
            "Epoch 1/10\n",
            "7982/7982 [==============================] - 1s 166us/step - loss: 2.4783 - acc: 0.5447 - val_loss: 1.6462 - val_acc: 0.6490\n",
            "Epoch 2/10\n",
            "7982/7982 [==============================] - 1s 131us/step - loss: 1.3752 - acc: 0.7086 - val_loss: 1.2815 - val_acc: 0.7190\n",
            "Epoch 3/10\n",
            "7982/7982 [==============================] - 1s 125us/step - loss: 1.0482 - acc: 0.7740 - val_loss: 1.1377 - val_acc: 0.7480\n",
            "Epoch 4/10\n",
            "7982/7982 [==============================] - 1s 126us/step - loss: 0.8336 - acc: 0.8259 - val_loss: 1.0391 - val_acc: 0.7810\n",
            "Epoch 5/10\n",
            "7982/7982 [==============================] - 1s 126us/step - loss: 0.6799 - acc: 0.8578 - val_loss: 0.9792 - val_acc: 0.7940\n",
            "Epoch 6/10\n",
            "7982/7982 [==============================] - 1s 127us/step - loss: 0.5475 - acc: 0.8857 - val_loss: 0.9310 - val_acc: 0.8060\n",
            "Epoch 7/10\n",
            "7982/7982 [==============================] - 1s 128us/step - loss: 0.4470 - acc: 0.9085 - val_loss: 0.9114 - val_acc: 0.8070\n",
            "Epoch 8/10\n",
            "7982/7982 [==============================] - 1s 129us/step - loss: 0.3732 - acc: 0.9213 - val_loss: 0.8980 - val_acc: 0.8110\n",
            "Epoch 9/10\n",
            "7982/7982 [==============================] - 1s 130us/step - loss: 0.3059 - acc: 0.9349 - val_loss: 0.9046 - val_acc: 0.8080\n",
            "Epoch 10/10\n",
            "7982/7982 [==============================] - 1s 129us/step - loss: 0.2590 - acc: 0.9412 - val_loss: 0.8987 - val_acc: 0.8120\n",
            "2246/2246 [==============================] - 0s 97us/step\n"
          ],
          "name": "stdout"
        }
      ]
    },
    {
      "cell_type": "code",
      "metadata": {
        "id": "nEkxKnNWHj8b",
        "colab_type": "code",
        "outputId": "f0f8ed40-4060-4794-946b-7f9aef5dd411",
        "colab": {
          "base_uri": "https://localhost:8080/",
          "height": 34
        }
      },
      "source": [
        "print(results)"
      ],
      "execution_count": 17,
      "outputs": [
        {
          "output_type": "stream",
          "text": [
            "[1.0000779106483222, 0.790293855743544]\n"
          ],
          "name": "stdout"
        }
      ]
    }
  ]
}