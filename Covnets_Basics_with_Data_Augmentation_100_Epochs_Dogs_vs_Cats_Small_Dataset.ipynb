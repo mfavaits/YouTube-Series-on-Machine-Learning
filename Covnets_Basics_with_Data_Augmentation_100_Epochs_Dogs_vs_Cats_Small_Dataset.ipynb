{
  "nbformat": 4,
  "nbformat_minor": 0,
  "metadata": {
    "colab": {
      "name": "Covnets Basics with Data Augmentation - 100 Epochs - Dogs vs. Cats - Small Dataset.ipynb",
      "provenance": [],
      "collapsed_sections": [],
      "include_colab_link": true
    },
    "kernelspec": {
      "name": "python3",
      "display_name": "Python 3"
    },
    "accelerator": "TPU"
  },
  "cells": [
    {
      "cell_type": "markdown",
      "metadata": {
        "id": "view-in-github",
        "colab_type": "text"
      },
      "source": [
        "<a href=\"https://colab.research.google.com/github/mfavaits/YouTube-Series-on-Machine-Learning/blob/master/Covnets_Basics_with_Data_Augmentation_100_Epochs_Dogs_vs_Cats_Small_Dataset.ipynb\" target=\"_parent\"><img src=\"https://colab.research.google.com/assets/colab-badge.svg\" alt=\"Open In Colab\"/></a>"
      ]
    },
    {
      "cell_type": "code",
      "metadata": {
        "id": "wCv4aeLxA1Xr",
        "colab_type": "code",
        "colab": {}
      },
      "source": [
        "import numpy as np\n",
        "import matplotlib.pyplot as plt\n",
        "\n",
        "import os\n",
        "import shutil"
      ],
      "execution_count": 0,
      "outputs": []
    },
    {
      "cell_type": "code",
      "metadata": {
        "id": "JD7vGwSixv_w",
        "colab_type": "code",
        "outputId": "5d9c63d1-da1c-4ae3-fdcf-3ee35c4d9d97",
        "colab": {
          "base_uri": "https://localhost:8080/",
          "height": 54
        }
      },
      "source": [
        "from google.colab import drive\n",
        "drive.mount('/content/drive')"
      ],
      "execution_count": 5,
      "outputs": [
        {
          "output_type": "stream",
          "text": [
            "Drive already mounted at /content/drive; to attempt to forcibly remount, call drive.mount(\"/content/drive\", force_remount=True).\n"
          ],
          "name": "stdout"
        }
      ]
    },
    {
      "cell_type": "code",
      "metadata": {
        "id": "rsOA0XcXpIb_",
        "colab_type": "code",
        "colab": {
          "base_uri": "https://localhost:8080/",
          "height": 34
        },
        "outputId": "57c27f7f-7211-4cd2-88f1-d47a6b0cb2bf"
      },
      "source": [
        "from keras.preprocessing.image import ImageDataGenerator"
      ],
      "execution_count": 6,
      "outputs": [
        {
          "output_type": "stream",
          "text": [
            "Using TensorFlow backend.\n"
          ],
          "name": "stderr"
        }
      ]
    },
    {
      "cell_type": "code",
      "metadata": {
        "id": "ZgWx3JWqXQ8r",
        "colab_type": "code",
        "colab": {}
      },
      "source": [
        "train_datagen=ImageDataGenerator(rescale=1./255, rotation_range=40, width_shift_range=0.2, height_shift_range=0.2, shear_range=0.2, zoom_range=0.2, horizontal_flip=True, fill_mode='nearest')\n",
        "validation_datagen=ImageDataGenerator(rescale=1./255)"
      ],
      "execution_count": 0,
      "outputs": []
    },
    {
      "cell_type": "code",
      "metadata": {
        "id": "kZOkDoE4XQo_",
        "colab_type": "code",
        "outputId": "f3717567-7cc7-43f3-f7dc-de25042f6234",
        "colab": {
          "base_uri": "https://localhost:8080/",
          "height": 51
        }
      },
      "source": [
        "train_generator=train_datagen.flow_from_directory('/content/drive/My Drive/Colab Notebooks/training_2000', target_size=(150,150), batch_size=20, class_mode='binary')\n",
        "validation_generator=validation_datagen.flow_from_directory('/content/drive/My Drive/Colab Notebooks/val_1000', target_size=(150,150), batch_size=20, class_mode='binary')"
      ],
      "execution_count": 8,
      "outputs": [
        {
          "output_type": "stream",
          "text": [
            "Found 2000 images belonging to 2 classes.\n",
            "Found 1000 images belonging to 2 classes.\n"
          ],
          "name": "stdout"
        }
      ]
    },
    {
      "cell_type": "code",
      "metadata": {
        "id": "xVz_bzx6Jm1O",
        "colab_type": "code",
        "colab": {
          "base_uri": "https://localhost:8080/",
          "height": 173
        },
        "outputId": "0743dc7e-0b59-4032-9d2f-b97f55bd732b"
      },
      "source": [
        "from keras import models\n",
        "from keras import layers\n",
        "\n",
        "model=models.Sequential()\n",
        "model.add(layers.Conv2D(32, (3,3), activation='relu', input_shape=(150, 150, 3)))\n",
        "model.add(layers.MaxPooling2D(2,2))\n",
        "model.add(layers.Conv2D(64, (3,3), activation='relu'))\n",
        "model.add(layers.MaxPooling2D(2,2))\n",
        "model.add(layers.Conv2D(128, (3,3), activation='relu'))\n",
        "model.add(layers.MaxPooling2D(2,2))\n",
        "model.add(layers.Conv2D(128, (3,3), activation='relu'))\n",
        "model.add(layers.MaxPooling2D(2,2))\n",
        "model.add(layers.Flatten())\n",
        "#model.add(layers.Dropout(0.5))\n",
        "model.add(layers.Dense(512, activation='relu'))\n",
        "model.add(layers.Dense(1, activation='sigmoid'))"
      ],
      "execution_count": 9,
      "outputs": [
        {
          "output_type": "stream",
          "text": [
            "WARNING:tensorflow:From /usr/local/lib/python3.6/dist-packages/keras/backend/tensorflow_backend.py:66: The name tf.get_default_graph is deprecated. Please use tf.compat.v1.get_default_graph instead.\n",
            "\n",
            "WARNING:tensorflow:From /usr/local/lib/python3.6/dist-packages/keras/backend/tensorflow_backend.py:541: The name tf.placeholder is deprecated. Please use tf.compat.v1.placeholder instead.\n",
            "\n",
            "WARNING:tensorflow:From /usr/local/lib/python3.6/dist-packages/keras/backend/tensorflow_backend.py:4432: The name tf.random_uniform is deprecated. Please use tf.random.uniform instead.\n",
            "\n",
            "WARNING:tensorflow:From /usr/local/lib/python3.6/dist-packages/keras/backend/tensorflow_backend.py:4267: The name tf.nn.max_pool is deprecated. Please use tf.nn.max_pool2d instead.\n",
            "\n"
          ],
          "name": "stdout"
        }
      ]
    },
    {
      "cell_type": "code",
      "metadata": {
        "id": "OJ5pPJezJmx7",
        "colab_type": "code",
        "colab": {
          "base_uri": "https://localhost:8080/",
          "height": 156
        },
        "outputId": "30eecb32-6bdb-4a2d-9fbb-d21b1a34a10e"
      },
      "source": [
        "from keras import optimizers\n",
        "model.compile(loss='binary_crossentropy', optimizer=optimizers.RMSprop(lr=1e-4), metrics=['acc'])"
      ],
      "execution_count": 10,
      "outputs": [
        {
          "output_type": "stream",
          "text": [
            "WARNING:tensorflow:From /usr/local/lib/python3.6/dist-packages/keras/optimizers.py:793: The name tf.train.Optimizer is deprecated. Please use tf.compat.v1.train.Optimizer instead.\n",
            "\n",
            "WARNING:tensorflow:From /usr/local/lib/python3.6/dist-packages/keras/backend/tensorflow_backend.py:3657: The name tf.log is deprecated. Please use tf.math.log instead.\n",
            "\n",
            "WARNING:tensorflow:From /usr/local/lib/python3.6/dist-packages/tensorflow_core/python/ops/nn_impl.py:183: where (from tensorflow.python.ops.array_ops) is deprecated and will be removed in a future version.\n",
            "Instructions for updating:\n",
            "Use tf.where in 2.0, which has the same broadcast rule as np.where\n"
          ],
          "name": "stdout"
        }
      ]
    },
    {
      "cell_type": "code",
      "metadata": {
        "id": "72XdpiJJJmte",
        "colab_type": "code",
        "outputId": "2d9808cd-d70c-4892-f255-29e66628190f",
        "colab": {
          "base_uri": "https://localhost:8080/",
          "height": 1000
        }
      },
      "source": [
        "history=model.fit_generator(train_generator, steps_per_epoch=100, epochs=100, validation_data=validation_generator, validation_steps=20)"
      ],
      "execution_count": 11,
      "outputs": [
        {
          "output_type": "stream",
          "text": [
            "WARNING:tensorflow:From /usr/local/lib/python3.6/dist-packages/keras/backend/tensorflow_backend.py:1033: The name tf.assign_add is deprecated. Please use tf.compat.v1.assign_add instead.\n",
            "\n",
            "WARNING:tensorflow:From /usr/local/lib/python3.6/dist-packages/keras/backend/tensorflow_backend.py:1020: The name tf.assign is deprecated. Please use tf.compat.v1.assign instead.\n",
            "\n",
            "WARNING:tensorflow:From /usr/local/lib/python3.6/dist-packages/keras/backend/tensorflow_backend.py:3005: The name tf.Session is deprecated. Please use tf.compat.v1.Session instead.\n",
            "\n",
            "Epoch 1/100\n",
            "WARNING:tensorflow:From /usr/local/lib/python3.6/dist-packages/keras/backend/tensorflow_backend.py:190: The name tf.get_default_session is deprecated. Please use tf.compat.v1.get_default_session instead.\n",
            "\n",
            "WARNING:tensorflow:From /usr/local/lib/python3.6/dist-packages/keras/backend/tensorflow_backend.py:197: The name tf.ConfigProto is deprecated. Please use tf.compat.v1.ConfigProto instead.\n",
            "\n",
            "WARNING:tensorflow:From /usr/local/lib/python3.6/dist-packages/keras/backend/tensorflow_backend.py:207: The name tf.global_variables is deprecated. Please use tf.compat.v1.global_variables instead.\n",
            "\n",
            "WARNING:tensorflow:From /usr/local/lib/python3.6/dist-packages/keras/backend/tensorflow_backend.py:216: The name tf.is_variable_initialized is deprecated. Please use tf.compat.v1.is_variable_initialized instead.\n",
            "\n",
            "WARNING:tensorflow:From /usr/local/lib/python3.6/dist-packages/keras/backend/tensorflow_backend.py:223: The name tf.variables_initializer is deprecated. Please use tf.compat.v1.variables_initializer instead.\n",
            "\n",
            "100/100 [==============================] - 478s 5s/step - loss: 0.6949 - acc: 0.4925 - val_loss: 0.6886 - val_acc: 0.5175\n",
            "Epoch 2/100\n",
            "100/100 [==============================] - 144s 1s/step - loss: 0.6852 - acc: 0.5500 - val_loss: 0.6798 - val_acc: 0.5650\n",
            "Epoch 3/100\n",
            "100/100 [==============================] - 116s 1s/step - loss: 0.6697 - acc: 0.5905 - val_loss: 0.6521 - val_acc: 0.6125\n",
            "Epoch 4/100\n",
            "100/100 [==============================] - 115s 1s/step - loss: 0.6658 - acc: 0.5925 - val_loss: 0.6803 - val_acc: 0.5475\n",
            "Epoch 5/100\n",
            "100/100 [==============================] - 115s 1s/step - loss: 0.6615 - acc: 0.6000 - val_loss: 0.6477 - val_acc: 0.6100\n",
            "Epoch 6/100\n",
            "100/100 [==============================] - 116s 1s/step - loss: 0.6411 - acc: 0.6280 - val_loss: 0.6332 - val_acc: 0.6400\n",
            "Epoch 7/100\n",
            "100/100 [==============================] - 115s 1s/step - loss: 0.6371 - acc: 0.6315 - val_loss: 0.7172 - val_acc: 0.5525\n",
            "Epoch 8/100\n",
            "100/100 [==============================] - 115s 1s/step - loss: 0.6239 - acc: 0.6385 - val_loss: 0.5746 - val_acc: 0.7325\n",
            "Epoch 9/100\n",
            "100/100 [==============================] - 114s 1s/step - loss: 0.6216 - acc: 0.6540 - val_loss: 0.6084 - val_acc: 0.6950\n",
            "Epoch 10/100\n",
            "100/100 [==============================] - 114s 1s/step - loss: 0.6105 - acc: 0.6635 - val_loss: 0.5714 - val_acc: 0.6875\n",
            "Epoch 11/100\n",
            "100/100 [==============================] - 115s 1s/step - loss: 0.6031 - acc: 0.6605 - val_loss: 0.6436 - val_acc: 0.6275\n",
            "Epoch 12/100\n",
            "100/100 [==============================] - 115s 1s/step - loss: 0.6034 - acc: 0.6690 - val_loss: 0.5837 - val_acc: 0.6825\n",
            "Epoch 13/100\n",
            "100/100 [==============================] - 116s 1s/step - loss: 0.6041 - acc: 0.6725 - val_loss: 0.5809 - val_acc: 0.7100\n",
            "Epoch 14/100\n",
            "100/100 [==============================] - 115s 1s/step - loss: 0.6012 - acc: 0.6810 - val_loss: 0.5498 - val_acc: 0.7200\n",
            "Epoch 15/100\n",
            "100/100 [==============================] - 115s 1s/step - loss: 0.5821 - acc: 0.6960 - val_loss: 0.5586 - val_acc: 0.6900\n",
            "Epoch 16/100\n",
            "100/100 [==============================] - 116s 1s/step - loss: 0.5770 - acc: 0.6975 - val_loss: 0.5494 - val_acc: 0.7200\n",
            "Epoch 17/100\n",
            "100/100 [==============================] - 115s 1s/step - loss: 0.5785 - acc: 0.6940 - val_loss: 0.5317 - val_acc: 0.7175\n",
            "Epoch 18/100\n",
            "100/100 [==============================] - 115s 1s/step - loss: 0.5779 - acc: 0.6885 - val_loss: 0.5484 - val_acc: 0.7050\n",
            "Epoch 19/100\n",
            "100/100 [==============================] - 115s 1s/step - loss: 0.5726 - acc: 0.7060 - val_loss: 0.4851 - val_acc: 0.7650\n",
            "Epoch 20/100\n",
            "100/100 [==============================] - 114s 1s/step - loss: 0.5745 - acc: 0.6965 - val_loss: 0.5704 - val_acc: 0.7200\n",
            "Epoch 21/100\n",
            "100/100 [==============================] - 116s 1s/step - loss: 0.5669 - acc: 0.7030 - val_loss: 0.6531 - val_acc: 0.6325\n",
            "Epoch 22/100\n",
            "100/100 [==============================] - 117s 1s/step - loss: 0.5653 - acc: 0.7105 - val_loss: 0.4973 - val_acc: 0.7675\n",
            "Epoch 23/100\n",
            "100/100 [==============================] - 116s 1s/step - loss: 0.5640 - acc: 0.7095 - val_loss: 0.5298 - val_acc: 0.7325\n",
            "Epoch 24/100\n",
            "100/100 [==============================] - 116s 1s/step - loss: 0.5520 - acc: 0.7090 - val_loss: 0.5309 - val_acc: 0.7425\n",
            "Epoch 25/100\n",
            "100/100 [==============================] - 116s 1s/step - loss: 0.5512 - acc: 0.7140 - val_loss: 0.5220 - val_acc: 0.7275\n",
            "Epoch 26/100\n",
            "100/100 [==============================] - 116s 1s/step - loss: 0.5475 - acc: 0.7255 - val_loss: 0.5144 - val_acc: 0.7475\n",
            "Epoch 27/100\n",
            "100/100 [==============================] - 116s 1s/step - loss: 0.5476 - acc: 0.7160 - val_loss: 0.5119 - val_acc: 0.7250\n",
            "Epoch 28/100\n",
            "100/100 [==============================] - 116s 1s/step - loss: 0.5502 - acc: 0.7210 - val_loss: 0.4615 - val_acc: 0.7925\n",
            "Epoch 29/100\n",
            "100/100 [==============================] - 115s 1s/step - loss: 0.5484 - acc: 0.7175 - val_loss: 0.5722 - val_acc: 0.7050\n",
            "Epoch 30/100\n",
            "100/100 [==============================] - 115s 1s/step - loss: 0.5466 - acc: 0.7210 - val_loss: 0.4930 - val_acc: 0.7250\n",
            "Epoch 31/100\n",
            "100/100 [==============================] - 116s 1s/step - loss: 0.5494 - acc: 0.7280 - val_loss: 0.5051 - val_acc: 0.7550\n",
            "Epoch 32/100\n",
            "100/100 [==============================] - 114s 1s/step - loss: 0.5338 - acc: 0.7365 - val_loss: 0.4712 - val_acc: 0.7675\n",
            "Epoch 33/100\n",
            "100/100 [==============================] - 114s 1s/step - loss: 0.5211 - acc: 0.7485 - val_loss: 0.4629 - val_acc: 0.7975\n",
            "Epoch 34/100\n",
            "100/100 [==============================] - 114s 1s/step - loss: 0.5245 - acc: 0.7460 - val_loss: 0.4835 - val_acc: 0.7650\n",
            "Epoch 35/100\n",
            "100/100 [==============================] - 113s 1s/step - loss: 0.5238 - acc: 0.7400 - val_loss: 0.5021 - val_acc: 0.7550\n",
            "Epoch 36/100\n",
            "100/100 [==============================] - 115s 1s/step - loss: 0.5222 - acc: 0.7335 - val_loss: 0.4530 - val_acc: 0.7825\n",
            "Epoch 37/100\n",
            "100/100 [==============================] - 115s 1s/step - loss: 0.5071 - acc: 0.7505 - val_loss: 0.5024 - val_acc: 0.7550\n",
            "Epoch 38/100\n",
            "100/100 [==============================] - 114s 1s/step - loss: 0.5211 - acc: 0.7480 - val_loss: 0.5224 - val_acc: 0.7325\n",
            "Epoch 39/100\n",
            "100/100 [==============================] - 114s 1s/step - loss: 0.5168 - acc: 0.7505 - val_loss: 0.4755 - val_acc: 0.7800\n",
            "Epoch 40/100\n",
            "100/100 [==============================] - 114s 1s/step - loss: 0.5109 - acc: 0.7550 - val_loss: 0.4496 - val_acc: 0.7800\n",
            "Epoch 41/100\n",
            "100/100 [==============================] - 114s 1s/step - loss: 0.5138 - acc: 0.7465 - val_loss: 0.4761 - val_acc: 0.7600\n",
            "Epoch 42/100\n",
            "100/100 [==============================] - 113s 1s/step - loss: 0.4965 - acc: 0.7655 - val_loss: 0.4731 - val_acc: 0.7775\n",
            "Epoch 43/100\n",
            "100/100 [==============================] - 114s 1s/step - loss: 0.5036 - acc: 0.7530 - val_loss: 0.4532 - val_acc: 0.7950\n",
            "Epoch 44/100\n",
            "100/100 [==============================] - 113s 1s/step - loss: 0.4954 - acc: 0.7655 - val_loss: 0.5254 - val_acc: 0.7475\n",
            "Epoch 45/100\n",
            "100/100 [==============================] - 112s 1s/step - loss: 0.4898 - acc: 0.7690 - val_loss: 0.4715 - val_acc: 0.7775\n",
            "Epoch 46/100\n",
            "100/100 [==============================] - 113s 1s/step - loss: 0.4936 - acc: 0.7550 - val_loss: 0.6281 - val_acc: 0.7150\n",
            "Epoch 47/100\n",
            "100/100 [==============================] - 114s 1s/step - loss: 0.4877 - acc: 0.7675 - val_loss: 0.4857 - val_acc: 0.7775\n",
            "Epoch 48/100\n",
            "100/100 [==============================] - 115s 1s/step - loss: 0.4899 - acc: 0.7715 - val_loss: 0.4348 - val_acc: 0.7875\n",
            "Epoch 49/100\n",
            "100/100 [==============================] - 114s 1s/step - loss: 0.4871 - acc: 0.7730 - val_loss: 0.5217 - val_acc: 0.7550\n",
            "Epoch 50/100\n",
            "100/100 [==============================] - 113s 1s/step - loss: 0.4905 - acc: 0.7640 - val_loss: 0.4509 - val_acc: 0.7875\n",
            "Epoch 51/100\n",
            "100/100 [==============================] - 115s 1s/step - loss: 0.4781 - acc: 0.7830 - val_loss: 0.4209 - val_acc: 0.7925\n",
            "Epoch 52/100\n",
            "100/100 [==============================] - 114s 1s/step - loss: 0.4717 - acc: 0.7805 - val_loss: 0.5472 - val_acc: 0.7450\n",
            "Epoch 53/100\n",
            "100/100 [==============================] - 114s 1s/step - loss: 0.4838 - acc: 0.7755 - val_loss: 0.4590 - val_acc: 0.8125\n",
            "Epoch 54/100\n",
            "100/100 [==============================] - 115s 1s/step - loss: 0.4808 - acc: 0.7745 - val_loss: 0.3983 - val_acc: 0.8100\n",
            "Epoch 55/100\n",
            "100/100 [==============================] - 114s 1s/step - loss: 0.4570 - acc: 0.7905 - val_loss: 0.5770 - val_acc: 0.7425\n",
            "Epoch 56/100\n",
            "100/100 [==============================] - 115s 1s/step - loss: 0.4687 - acc: 0.7675 - val_loss: 0.4642 - val_acc: 0.7700\n",
            "Epoch 57/100\n",
            "100/100 [==============================] - 114s 1s/step - loss: 0.4890 - acc: 0.7735 - val_loss: 0.5245 - val_acc: 0.7725\n",
            "Epoch 58/100\n",
            "100/100 [==============================] - 116s 1s/step - loss: 0.4643 - acc: 0.7870 - val_loss: 0.4401 - val_acc: 0.8000\n",
            "Epoch 59/100\n",
            "100/100 [==============================] - 116s 1s/step - loss: 0.4700 - acc: 0.7810 - val_loss: 0.4462 - val_acc: 0.8050\n",
            "Epoch 60/100\n",
            "100/100 [==============================] - 115s 1s/step - loss: 0.4564 - acc: 0.7870 - val_loss: 0.5484 - val_acc: 0.7250\n",
            "Epoch 61/100\n",
            "100/100 [==============================] - 116s 1s/step - loss: 0.4494 - acc: 0.8000 - val_loss: 0.4892 - val_acc: 0.7750\n",
            "Epoch 62/100\n",
            "100/100 [==============================] - 116s 1s/step - loss: 0.4574 - acc: 0.7870 - val_loss: 0.5405 - val_acc: 0.7725\n",
            "Epoch 63/100\n",
            "100/100 [==============================] - 116s 1s/step - loss: 0.4615 - acc: 0.7780 - val_loss: 0.4884 - val_acc: 0.7725\n",
            "Epoch 64/100\n",
            "100/100 [==============================] - 116s 1s/step - loss: 0.4546 - acc: 0.7820 - val_loss: 0.4676 - val_acc: 0.8025\n",
            "Epoch 65/100\n",
            "100/100 [==============================] - 115s 1s/step - loss: 0.4357 - acc: 0.7980 - val_loss: 0.4138 - val_acc: 0.8000\n",
            "Epoch 66/100\n",
            "100/100 [==============================] - 116s 1s/step - loss: 0.4567 - acc: 0.7965 - val_loss: 0.4003 - val_acc: 0.8300\n",
            "Epoch 67/100\n",
            "100/100 [==============================] - 115s 1s/step - loss: 0.4452 - acc: 0.7940 - val_loss: 0.5419 - val_acc: 0.7600\n",
            "Epoch 68/100\n",
            "100/100 [==============================] - 116s 1s/step - loss: 0.4604 - acc: 0.7855 - val_loss: 0.4959 - val_acc: 0.7725\n",
            "Epoch 69/100\n",
            "100/100 [==============================] - 116s 1s/step - loss: 0.4487 - acc: 0.7960 - val_loss: 0.4024 - val_acc: 0.8100\n",
            "Epoch 70/100\n",
            "100/100 [==============================] - 115s 1s/step - loss: 0.4479 - acc: 0.8020 - val_loss: 0.4844 - val_acc: 0.8000\n",
            "Epoch 71/100\n",
            "100/100 [==============================] - 116s 1s/step - loss: 0.4366 - acc: 0.8020 - val_loss: 0.4404 - val_acc: 0.7875\n",
            "Epoch 72/100\n",
            "100/100 [==============================] - 116s 1s/step - loss: 0.4243 - acc: 0.8115 - val_loss: 0.4145 - val_acc: 0.8025\n",
            "Epoch 73/100\n",
            "100/100 [==============================] - 116s 1s/step - loss: 0.4512 - acc: 0.7965 - val_loss: 0.4938 - val_acc: 0.7875\n",
            "Epoch 74/100\n",
            "100/100 [==============================] - 116s 1s/step - loss: 0.4241 - acc: 0.8140 - val_loss: 0.5287 - val_acc: 0.7550\n",
            "Epoch 75/100\n",
            "100/100 [==============================] - 116s 1s/step - loss: 0.4269 - acc: 0.7925 - val_loss: 0.4663 - val_acc: 0.8050\n",
            "Epoch 76/100\n",
            "100/100 [==============================] - 117s 1s/step - loss: 0.4303 - acc: 0.8055 - val_loss: 0.5034 - val_acc: 0.7550\n",
            "Epoch 77/100\n",
            "100/100 [==============================] - 117s 1s/step - loss: 0.4420 - acc: 0.7970 - val_loss: 0.4309 - val_acc: 0.8225\n",
            "Epoch 78/100\n",
            "100/100 [==============================] - 116s 1s/step - loss: 0.4398 - acc: 0.8000 - val_loss: 0.4630 - val_acc: 0.7875\n",
            "Epoch 79/100\n",
            "100/100 [==============================] - 116s 1s/step - loss: 0.4346 - acc: 0.7965 - val_loss: 0.4871 - val_acc: 0.7925\n",
            "Epoch 80/100\n",
            "100/100 [==============================] - 115s 1s/step - loss: 0.4264 - acc: 0.8035 - val_loss: 0.4531 - val_acc: 0.7950\n",
            "Epoch 81/100\n",
            "100/100 [==============================] - 116s 1s/step - loss: 0.4277 - acc: 0.8105 - val_loss: 0.4055 - val_acc: 0.8075\n",
            "Epoch 82/100\n",
            "100/100 [==============================] - 115s 1s/step - loss: 0.4196 - acc: 0.8015 - val_loss: 0.5673 - val_acc: 0.7675\n",
            "Epoch 83/100\n",
            "100/100 [==============================] - 114s 1s/step - loss: 0.4060 - acc: 0.8155 - val_loss: 0.4457 - val_acc: 0.7925\n",
            "Epoch 84/100\n",
            "100/100 [==============================] - 114s 1s/step - loss: 0.4437 - acc: 0.7985 - val_loss: 0.3934 - val_acc: 0.8300\n",
            "Epoch 85/100\n",
            "100/100 [==============================] - 114s 1s/step - loss: 0.4253 - acc: 0.8060 - val_loss: 0.4894 - val_acc: 0.8000\n",
            "Epoch 86/100\n",
            "100/100 [==============================] - 115s 1s/step - loss: 0.4156 - acc: 0.8160 - val_loss: 0.4847 - val_acc: 0.7925\n",
            "Epoch 87/100\n",
            "100/100 [==============================] - 114s 1s/step - loss: 0.4357 - acc: 0.8010 - val_loss: 0.4834 - val_acc: 0.8100\n",
            "Epoch 88/100\n",
            "100/100 [==============================] - 114s 1s/step - loss: 0.4096 - acc: 0.8115 - val_loss: 0.3980 - val_acc: 0.8150\n",
            "Epoch 89/100\n",
            "100/100 [==============================] - 114s 1s/step - loss: 0.4293 - acc: 0.8045 - val_loss: 0.4656 - val_acc: 0.7975\n",
            "Epoch 90/100\n",
            "100/100 [==============================] - 114s 1s/step - loss: 0.4273 - acc: 0.8005 - val_loss: 0.4661 - val_acc: 0.7750\n",
            "Epoch 91/100\n",
            "100/100 [==============================] - 115s 1s/step - loss: 0.4028 - acc: 0.8165 - val_loss: 0.5001 - val_acc: 0.7950\n",
            "Epoch 92/100\n",
            "100/100 [==============================] - 114s 1s/step - loss: 0.4085 - acc: 0.8130 - val_loss: 0.5870 - val_acc: 0.7350\n",
            "Epoch 93/100\n",
            "100/100 [==============================] - 114s 1s/step - loss: 0.4008 - acc: 0.8250 - val_loss: 0.4480 - val_acc: 0.8125\n",
            "Epoch 94/100\n",
            "100/100 [==============================] - 114s 1s/step - loss: 0.3836 - acc: 0.8255 - val_loss: 0.5399 - val_acc: 0.7825\n",
            "Epoch 95/100\n",
            "100/100 [==============================] - 114s 1s/step - loss: 0.4101 - acc: 0.8195 - val_loss: 0.4344 - val_acc: 0.8225\n",
            "Epoch 96/100\n",
            "100/100 [==============================] - 118s 1s/step - loss: 0.4031 - acc: 0.8140 - val_loss: 0.4050 - val_acc: 0.8150\n",
            "Epoch 97/100\n",
            "100/100 [==============================] - 114s 1s/step - loss: 0.3977 - acc: 0.8205 - val_loss: 0.5490 - val_acc: 0.7850\n",
            "Epoch 98/100\n",
            "100/100 [==============================] - 114s 1s/step - loss: 0.4140 - acc: 0.8205 - val_loss: 0.5189 - val_acc: 0.7975\n",
            "Epoch 99/100\n",
            "100/100 [==============================] - 114s 1s/step - loss: 0.4097 - acc: 0.8230 - val_loss: 0.4500 - val_acc: 0.8150\n",
            "Epoch 100/100\n",
            "100/100 [==============================] - 114s 1s/step - loss: 0.3918 - acc: 0.8305 - val_loss: 0.4265 - val_acc: 0.8100\n"
          ],
          "name": "stdout"
        }
      ]
    },
    {
      "cell_type": "code",
      "metadata": {
        "id": "P16LG6H3jy35",
        "colab_type": "code",
        "colab": {}
      },
      "source": [
        "acc=history.history['acc']\n",
        "val_acc=history.history['val_acc']\n",
        "loss=history.history['loss']\n",
        "val_loss=history.history['val_loss']"
      ],
      "execution_count": 0,
      "outputs": []
    },
    {
      "cell_type": "code",
      "metadata": {
        "id": "jbZiYFQvj7rr",
        "colab_type": "code",
        "colab": {}
      },
      "source": [
        "epochs=range(1, len(acc)+1)"
      ],
      "execution_count": 0,
      "outputs": []
    },
    {
      "cell_type": "code",
      "metadata": {
        "id": "8_A2bLRIj8gW",
        "colab_type": "code",
        "outputId": "f3371c80-b503-4f12-d5b4-180e4bcfb7a8",
        "colab": {
          "base_uri": "https://localhost:8080/",
          "height": 545
        }
      },
      "source": [
        "plt.plot(epochs, acc, 'bo', label='training acc')\n",
        "plt.plot(epochs, val_acc, 'b', label='validation acc')\n",
        "plt.title('training and validation accuracy')\n",
        "plt.legend()\n",
        "plt.figure()\n",
        "\n",
        "plt.plot(epochs, loss, 'bo', label='training loss')\n",
        "plt.plot(epochs, val_loss, 'b', label='validation loss')\n",
        "plt.title('training and validation loss')\n",
        "plt.legend()\n",
        "plt.show()"
      ],
      "execution_count": 14,
      "outputs": [
        {
          "output_type": "display_data",
          "data": {
            "image/png": "[encoded data removed]",
            "text/plain": [
              "<Figure size 432x288 with 1 Axes>"
            ]
          },
          "metadata": {
            "tags": []
          }
        },
        {
          "output_type": "display_data",
          "data": {
            "image/png": "[encoded data removed]",
            "text/plain": [
              "<Figure size 432x288 with 1 Axes>"
            ]
          },
          "metadata": {
            "tags": []
          }
        }
      ]
    }
  ]
}