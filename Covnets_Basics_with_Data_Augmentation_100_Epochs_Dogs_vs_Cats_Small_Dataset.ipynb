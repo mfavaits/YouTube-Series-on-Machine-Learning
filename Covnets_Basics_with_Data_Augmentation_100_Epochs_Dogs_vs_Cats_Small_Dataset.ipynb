{
  "nbformat": 4,
  "nbformat_minor": 0,
  "metadata": {
    "colab": {
      "name": "Covnets Basics with Data Augmentation - 100 Epochs - Dogs vs. Cats - Small Dataset.ipynb",
      "provenance": [],
      "collapsed_sections": [],
      "include_colab_link": true
    },
    "kernelspec": {
      "name": "python3",
      "display_name": "Python 3"
    },
    "accelerator": "TPU"
  },
  "cells": [
    {
      "cell_type": "markdown",
      "metadata": {
        "id": "view-in-github",
        "colab_type": "text"
      },
      "source": [
        "<a href=\"https://colab.research.google.com/github/mfavaits/YouTube-Series-on-Machine-Learning/blob/master/Covnets_Basics_with_Data_Augmentation_100_Epochs_Dogs_vs_Cats_Small_Dataset.ipynb\" target=\"_parent\"><img src=\"https://colab.research.google.com/assets/colab-badge.svg\" alt=\"Open In Colab\"/></a>"
      ]
    },
    {
      "cell_type": "code",
      "metadata": {
        "id": "wCv4aeLxA1Xr",
        "colab_type": "code",
        "colab": {}
      },
      "source": [
        "import numpy as np\n",
        "import matplotlib.pyplot as plt\n",
        "\n",
        "import os\n",
        "import shutil"
      ],
      "execution_count": 0,
      "outputs": []
    },
    {
      "cell_type": "code",
      "metadata": {
        "id": "JD7vGwSixv_w",
        "colab_type": "code",
        "outputId": "155af114-b911-4804-9ea8-5ad926e54966",
        "colab": {
          "base_uri": "https://localhost:8080/",
          "height": 54
        }
      },
      "source": [
        "from google.colab import drive\n",
        "drive.mount('/content/drive')"
      ],
      "execution_count": 4,
      "outputs": [
        {
          "output_type": "stream",
          "text": [
            "Drive already mounted at /content/drive; to attempt to forcibly remount, call drive.mount(\"/content/drive\", force_remount=True).\n"
          ],
          "name": "stdout"
        }
      ]
    },
    {
      "cell_type": "markdown",
      "metadata": {
        "id": "-lpnwgqWqDHf",
        "colab_type": "text"
      },
      "source": [
        "We will split cat and dog images and give them their own directories training_set_cats and training_set_dogs. We will do this by looping through the directory and look for files that start with dog. This process will take a few hours as we need to process 25000 files"
      ]
    },
    {
      "cell_type": "markdown",
      "metadata": {
        "id": "SMYDHmjw9DON",
        "colab_type": "text"
      },
      "source": [
        "Data augmentation is a way to generate more training examples via a few datatransformations so that algorithm does not see the same image twice. Universally used for computer vision "
      ]
    },
    {
      "cell_type": "code",
      "metadata": {
        "id": "ESfSC_eno5Bj",
        "colab_type": "code",
        "outputId": "795d6cb1-d8fa-489e-a928-929b6d2f5f21",
        "colab": {
          "base_uri": "https://localhost:8080/",
          "height": 190
        }
      },
      "source": [
        "from keras import models\n",
        "from keras import layers\n",
        "\n",
        "model=models.Sequential()\n",
        "model.add(layers.Conv2D(32, (3,3), activation='relu', input_shape=(150, 150, 3)))\n",
        "model.add(layers.MaxPooling2D(2,2))\n",
        "model.add(layers.Conv2D(64, (3,3), activation='relu'))\n",
        "model.add(layers.MaxPooling2D(2,2))\n",
        "model.add(layers.Conv2D(128, (3,3), activation='relu'))\n",
        "model.add(layers.MaxPooling2D(2,2))\n",
        "model.add(layers.Conv2D(128, (3,3), activation='relu'))\n",
        "model.add(layers.MaxPooling2D(2,2))\n",
        "model.add(layers.Flatten())\n",
        "#model.add(layers.Dropout(0.5))\n",
        "model.add(layers.Dense(512, activation='relu'))\n",
        "model.add(layers.Dense(1, activation='sigmoid'))"
      ],
      "execution_count": 5,
      "outputs": [
        {
          "output_type": "stream",
          "text": [
            "Using TensorFlow backend.\n"
          ],
          "name": "stderr"
        },
        {
          "output_type": "stream",
          "text": [
            "WARNING:tensorflow:From /usr/local/lib/python3.6/dist-packages/keras/backend/tensorflow_backend.py:66: The name tf.get_default_graph is deprecated. Please use tf.compat.v1.get_default_graph instead.\n",
            "\n",
            "WARNING:tensorflow:From /usr/local/lib/python3.6/dist-packages/keras/backend/tensorflow_backend.py:541: The name tf.placeholder is deprecated. Please use tf.compat.v1.placeholder instead.\n",
            "\n",
            "WARNING:tensorflow:From /usr/local/lib/python3.6/dist-packages/keras/backend/tensorflow_backend.py:4432: The name tf.random_uniform is deprecated. Please use tf.random.uniform instead.\n",
            "\n",
            "WARNING:tensorflow:From /usr/local/lib/python3.6/dist-packages/keras/backend/tensorflow_backend.py:4267: The name tf.nn.max_pool is deprecated. Please use tf.nn.max_pool2d instead.\n",
            "\n"
          ],
          "name": "stdout"
        }
      ]
    },
    {
      "cell_type": "code",
      "metadata": {
        "id": "4uX4o0-To-k2",
        "colab_type": "code",
        "outputId": "ef97628a-6fa5-4a00-8e51-c487219e73ce",
        "colab": {
          "base_uri": "https://localhost:8080/",
          "height": 156
        }
      },
      "source": [
        "from keras import optimizers\n",
        "\n",
        "model.compile(loss='binary_crossentropy', optimizer=optimizers.RMSprop(lr=1e-4), metrics=['acc'])"
      ],
      "execution_count": 6,
      "outputs": [
        {
          "output_type": "stream",
          "text": [
            "WARNING:tensorflow:From /usr/local/lib/python3.6/dist-packages/keras/optimizers.py:793: The name tf.train.Optimizer is deprecated. Please use tf.compat.v1.train.Optimizer instead.\n",
            "\n",
            "WARNING:tensorflow:From /usr/local/lib/python3.6/dist-packages/keras/backend/tensorflow_backend.py:3657: The name tf.log is deprecated. Please use tf.math.log instead.\n",
            "\n",
            "WARNING:tensorflow:From /usr/local/lib/python3.6/dist-packages/tensorflow_core/python/ops/nn_impl.py:183: where (from tensorflow.python.ops.array_ops) is deprecated and will be removed in a future version.\n",
            "Instructions for updating:\n",
            "Use tf.where in 2.0, which has the same broadcast rule as np.where\n"
          ],
          "name": "stdout"
        }
      ]
    },
    {
      "cell_type": "code",
      "metadata": {
        "id": "rsOA0XcXpIb_",
        "colab_type": "code",
        "colab": {}
      },
      "source": [
        "from keras.preprocessing.image import ImageDataGenerator"
      ],
      "execution_count": 0,
      "outputs": []
    },
    {
      "cell_type": "code",
      "metadata": {
        "id": "ZgWx3JWqXQ8r",
        "colab_type": "code",
        "colab": {}
      },
      "source": [
        "train_datagen=ImageDataGenerator(rescale=1./255, rotation_range=40, width_shift_range=0.2, height_shift_range=0.2, shear_range=0.2, zoom_range=0.2, horizontal_flip=True, fill_mode='nearest')\n",
        "validation_datagen=ImageDataGenerator(rescale=1./255)"
      ],
      "execution_count": 0,
      "outputs": []
    },
    {
      "cell_type": "code",
      "metadata": {
        "id": "kZOkDoE4XQo_",
        "colab_type": "code",
        "outputId": "bd861333-2975-4c47-a346-362f83105340",
        "colab": {
          "base_uri": "https://localhost:8080/",
          "height": 51
        }
      },
      "source": [
        "train_generator=train_datagen.flow_from_directory('/content/drive/My Drive/Colab Notebooks/training_2000', target_size=(150,150), batch_size=20, class_mode='binary')\n",
        "validation_generator=validation_datagen.flow_from_directory('/content/drive/My Drive/Colab Notebooks/val_1000', target_size=(150,150), batch_size=20, class_mode='binary')"
      ],
      "execution_count": 9,
      "outputs": [
        {
          "output_type": "stream",
          "text": [
            "Found 2000 images belonging to 2 classes.\n",
            "Found 1000 images belonging to 2 classes.\n"
          ],
          "name": "stdout"
        }
      ]
    },
    {
      "cell_type": "code",
      "metadata": {
        "id": "xVz_bzx6Jm1O",
        "colab_type": "code",
        "colab": {}
      },
      "source": [
        "from keras import models\n",
        "from keras import layers\n",
        "\n",
        "model=models.Sequential()\n",
        "model.add(layers.Conv2D(32, (3,3), activation='relu', input_shape=(150, 150, 3)))\n",
        "model.add(layers.MaxPooling2D(2,2))\n",
        "model.add(layers.Conv2D(64, (3,3), activation='relu'))\n",
        "model.add(layers.MaxPooling2D(2,2))\n",
        "model.add(layers.Conv2D(128, (3,3), activation='relu'))\n",
        "model.add(layers.MaxPooling2D(2,2))\n",
        "model.add(layers.Conv2D(128, (3,3), activation='relu'))\n",
        "model.add(layers.MaxPooling2D(2,2))\n",
        "model.add(layers.Flatten())\n",
        "#model.add(layers.Dropout(0.5))\n",
        "model.add(layers.Dense(512, activation='relu'))\n",
        "model.add(layers.Dense(1, activation='sigmoid'))"
      ],
      "execution_count": 0,
      "outputs": []
    },
    {
      "cell_type": "code",
      "metadata": {
        "id": "OJ5pPJezJmx7",
        "colab_type": "code",
        "colab": {}
      },
      "source": [
        "from keras import optimizers\n",
        "model.compile(loss='binary_crossentropy', optimizer=optimizers.RMSprop(lr=1e-4), metrics=['acc'])"
      ],
      "execution_count": 0,
      "outputs": []
    },
    {
      "cell_type": "code",
      "metadata": {
        "id": "72XdpiJJJmte",
        "colab_type": "code",
        "outputId": "8028729f-2ef1-4916-d04e-00a8db9c507f",
        "colab": {
          "base_uri": "https://localhost:8080/",
          "height": 1000
        }
      },
      "source": [
        "history=model.fit_generator(train_generator, steps_per_epoch=100, epochs=100, validation_data=validation_generator, validation_steps=20)"
      ],
      "execution_count": 12,
      "outputs": [
        {
          "output_type": "stream",
          "text": [
            "WARNING:tensorflow:From /usr/local/lib/python3.6/dist-packages/keras/backend/tensorflow_backend.py:1033: The name tf.assign_add is deprecated. Please use tf.compat.v1.assign_add instead.\n",
            "\n",
            "WARNING:tensorflow:From /usr/local/lib/python3.6/dist-packages/keras/backend/tensorflow_backend.py:1020: The name tf.assign is deprecated. Please use tf.compat.v1.assign instead.\n",
            "\n",
            "WARNING:tensorflow:From /usr/local/lib/python3.6/dist-packages/keras/backend/tensorflow_backend.py:3005: The name tf.Session is deprecated. Please use tf.compat.v1.Session instead.\n",
            "\n",
            "Epoch 1/100\n",
            "WARNING:tensorflow:From /usr/local/lib/python3.6/dist-packages/keras/backend/tensorflow_backend.py:190: The name tf.get_default_session is deprecated. Please use tf.compat.v1.get_default_session instead.\n",
            "\n",
            "WARNING:tensorflow:From /usr/local/lib/python3.6/dist-packages/keras/backend/tensorflow_backend.py:197: The name tf.ConfigProto is deprecated. Please use tf.compat.v1.ConfigProto instead.\n",
            "\n",
            "WARNING:tensorflow:From /usr/local/lib/python3.6/dist-packages/keras/backend/tensorflow_backend.py:207: The name tf.global_variables is deprecated. Please use tf.compat.v1.global_variables instead.\n",
            "\n",
            "WARNING:tensorflow:From /usr/local/lib/python3.6/dist-packages/keras/backend/tensorflow_backend.py:216: The name tf.is_variable_initialized is deprecated. Please use tf.compat.v1.is_variable_initialized instead.\n",
            "\n",
            "WARNING:tensorflow:From /usr/local/lib/python3.6/dist-packages/keras/backend/tensorflow_backend.py:223: The name tf.variables_initializer is deprecated. Please use tf.compat.v1.variables_initializer instead.\n",
            "\n",
            "100/100 [==============================] - 572s 6s/step - loss: 0.6952 - acc: 0.5150 - val_loss: 0.6836 - val_acc: 0.5175\n",
            "Epoch 2/100\n",
            "100/100 [==============================] - 153s 2s/step - loss: 0.6863 - acc: 0.5380 - val_loss: 0.6667 - val_acc: 0.6100\n",
            "Epoch 3/100\n",
            "100/100 [==============================] - 114s 1s/step - loss: 0.6712 - acc: 0.5780 - val_loss: 0.6445 - val_acc: 0.6400\n",
            "Epoch 4/100\n",
            "100/100 [==============================] - 113s 1s/step - loss: 0.6554 - acc: 0.5970 - val_loss: 0.6742 - val_acc: 0.5950\n",
            "Epoch 5/100\n",
            "100/100 [==============================] - 112s 1s/step - loss: 0.6511 - acc: 0.6185 - val_loss: 0.6095 - val_acc: 0.6650\n",
            "Epoch 6/100\n",
            "100/100 [==============================] - 113s 1s/step - loss: 0.6408 - acc: 0.6390 - val_loss: 0.6005 - val_acc: 0.6675\n",
            "Epoch 7/100\n",
            "100/100 [==============================] - 112s 1s/step - loss: 0.6292 - acc: 0.6410 - val_loss: 0.6417 - val_acc: 0.6000\n",
            "Epoch 8/100\n",
            "100/100 [==============================] - 113s 1s/step - loss: 0.6189 - acc: 0.6580 - val_loss: 0.6615 - val_acc: 0.6000\n",
            "Epoch 9/100\n",
            "100/100 [==============================] - 113s 1s/step - loss: 0.6149 - acc: 0.6615 - val_loss: 0.6176 - val_acc: 0.6225\n",
            "Epoch 10/100\n",
            "100/100 [==============================] - 112s 1s/step - loss: 0.6194 - acc: 0.6550 - val_loss: 0.5770 - val_acc: 0.6875\n",
            "Epoch 11/100\n",
            "100/100 [==============================] - 114s 1s/step - loss: 0.6090 - acc: 0.6625 - val_loss: 0.5469 - val_acc: 0.7425\n",
            "Epoch 12/100\n",
            "100/100 [==============================] - 113s 1s/step - loss: 0.6148 - acc: 0.6605 - val_loss: 0.5822 - val_acc: 0.6875\n",
            "Epoch 13/100\n",
            "100/100 [==============================] - 113s 1s/step - loss: 0.5959 - acc: 0.6925 - val_loss: 0.5572 - val_acc: 0.7300\n",
            "Epoch 14/100\n",
            "100/100 [==============================] - 113s 1s/step - loss: 0.5896 - acc: 0.6800 - val_loss: 0.5840 - val_acc: 0.6800\n",
            "Epoch 15/100\n",
            "100/100 [==============================] - 112s 1s/step - loss: 0.5840 - acc: 0.6925 - val_loss: 0.5570 - val_acc: 0.6725\n",
            "Epoch 16/100\n",
            "100/100 [==============================] - 113s 1s/step - loss: 0.5720 - acc: 0.6920 - val_loss: 0.5602 - val_acc: 0.7025\n",
            "Epoch 17/100\n",
            "100/100 [==============================] - 113s 1s/step - loss: 0.5783 - acc: 0.7000 - val_loss: 0.5754 - val_acc: 0.6875\n",
            "Epoch 18/100\n",
            "100/100 [==============================] - 113s 1s/step - loss: 0.5775 - acc: 0.7070 - val_loss: 0.6054 - val_acc: 0.6600\n",
            "Epoch 19/100\n",
            "100/100 [==============================] - 113s 1s/step - loss: 0.5708 - acc: 0.7095 - val_loss: 0.5398 - val_acc: 0.7500\n",
            "Epoch 20/100\n",
            "100/100 [==============================] - 112s 1s/step - loss: 0.5690 - acc: 0.7045 - val_loss: 0.5252 - val_acc: 0.7550\n",
            "Epoch 21/100\n",
            "100/100 [==============================] - 113s 1s/step - loss: 0.5677 - acc: 0.6985 - val_loss: 0.5760 - val_acc: 0.6875\n",
            "Epoch 22/100\n",
            "100/100 [==============================] - 113s 1s/step - loss: 0.5666 - acc: 0.7050 - val_loss: 0.5288 - val_acc: 0.7400\n",
            "Epoch 23/100\n",
            "100/100 [==============================] - 114s 1s/step - loss: 0.5578 - acc: 0.7190 - val_loss: 0.5112 - val_acc: 0.7500\n",
            "Epoch 24/100\n",
            "100/100 [==============================] - 113s 1s/step - loss: 0.5567 - acc: 0.7165 - val_loss: 0.4919 - val_acc: 0.7575\n",
            "Epoch 25/100\n",
            "100/100 [==============================] - 112s 1s/step - loss: 0.5438 - acc: 0.7230 - val_loss: 0.5181 - val_acc: 0.7500\n",
            "Epoch 26/100\n",
            "100/100 [==============================] - 114s 1s/step - loss: 0.5427 - acc: 0.7265 - val_loss: 0.6766 - val_acc: 0.6875\n",
            "Epoch 27/100\n",
            "100/100 [==============================] - 113s 1s/step - loss: 0.5518 - acc: 0.7160 - val_loss: 0.4902 - val_acc: 0.7425\n",
            "Epoch 28/100\n",
            "100/100 [==============================] - 115s 1s/step - loss: 0.5349 - acc: 0.7350 - val_loss: 0.5018 - val_acc: 0.7575\n",
            "Epoch 29/100\n",
            "100/100 [==============================] - 112s 1s/step - loss: 0.5407 - acc: 0.7230 - val_loss: 0.5012 - val_acc: 0.7450\n",
            "Epoch 30/100\n",
            "100/100 [==============================] - 114s 1s/step - loss: 0.5289 - acc: 0.7375 - val_loss: 0.5004 - val_acc: 0.7700\n",
            "Epoch 31/100\n",
            "100/100 [==============================] - 114s 1s/step - loss: 0.5212 - acc: 0.7450 - val_loss: 0.5301 - val_acc: 0.7300\n",
            "Epoch 32/100\n",
            "100/100 [==============================] - 113s 1s/step - loss: 0.5242 - acc: 0.7400 - val_loss: 0.4923 - val_acc: 0.7500\n",
            "Epoch 33/100\n",
            "100/100 [==============================] - 116s 1s/step - loss: 0.5128 - acc: 0.7555 - val_loss: 0.5803 - val_acc: 0.7350\n",
            "Epoch 34/100\n",
            "100/100 [==============================] - 117s 1s/step - loss: 0.5206 - acc: 0.7435 - val_loss: 0.5257 - val_acc: 0.7375\n",
            "Epoch 35/100\n",
            "100/100 [==============================] - 113s 1s/step - loss: 0.5164 - acc: 0.7480 - val_loss: 0.4955 - val_acc: 0.7850\n",
            "Epoch 36/100\n",
            "100/100 [==============================] - 115s 1s/step - loss: 0.5071 - acc: 0.7605 - val_loss: 0.5111 - val_acc: 0.7550\n",
            "Epoch 37/100\n",
            "100/100 [==============================] - 114s 1s/step - loss: 0.5052 - acc: 0.7580 - val_loss: 0.5118 - val_acc: 0.7500\n",
            "Epoch 38/100\n",
            "100/100 [==============================] - 114s 1s/step - loss: 0.5121 - acc: 0.7485 - val_loss: 0.4894 - val_acc: 0.7725\n",
            "Epoch 39/100\n",
            "100/100 [==============================] - 115s 1s/step - loss: 0.5200 - acc: 0.7410 - val_loss: 0.4675 - val_acc: 0.7725\n",
            "Epoch 40/100\n",
            "100/100 [==============================] - 114s 1s/step - loss: 0.5004 - acc: 0.7580 - val_loss: 0.5052 - val_acc: 0.7425\n",
            "Epoch 41/100\n",
            "100/100 [==============================] - 115s 1s/step - loss: 0.4892 - acc: 0.7675 - val_loss: 0.4922 - val_acc: 0.7750\n",
            "Epoch 42/100\n",
            "100/100 [==============================] - 114s 1s/step - loss: 0.5021 - acc: 0.7515 - val_loss: 0.5389 - val_acc: 0.7475\n",
            "Epoch 43/100\n",
            "100/100 [==============================] - 115s 1s/step - loss: 0.5037 - acc: 0.7640 - val_loss: 0.4672 - val_acc: 0.7850\n",
            "Epoch 44/100\n",
            "100/100 [==============================] - 114s 1s/step - loss: 0.5004 - acc: 0.7695 - val_loss: 0.4739 - val_acc: 0.7900\n",
            "Epoch 45/100\n",
            "100/100 [==============================] - 114s 1s/step - loss: 0.4802 - acc: 0.7705 - val_loss: 0.5441 - val_acc: 0.7575\n",
            "Epoch 46/100\n",
            "100/100 [==============================] - 116s 1s/step - loss: 0.4902 - acc: 0.7650 - val_loss: 0.4302 - val_acc: 0.8000\n",
            "Epoch 47/100\n",
            "100/100 [==============================] - 115s 1s/step - loss: 0.4907 - acc: 0.7660 - val_loss: 0.5164 - val_acc: 0.7500\n",
            "Epoch 48/100\n",
            "100/100 [==============================] - 115s 1s/step - loss: 0.4909 - acc: 0.7670 - val_loss: 0.4566 - val_acc: 0.7950\n",
            "Epoch 49/100\n",
            "100/100 [==============================] - 115s 1s/step - loss: 0.4942 - acc: 0.7625 - val_loss: 0.4767 - val_acc: 0.7750\n",
            "Epoch 50/100\n",
            "100/100 [==============================] - 115s 1s/step - loss: 0.4779 - acc: 0.7805 - val_loss: 0.4370 - val_acc: 0.7675\n",
            "Epoch 51/100\n",
            "100/100 [==============================] - 115s 1s/step - loss: 0.4801 - acc: 0.7685 - val_loss: 0.4605 - val_acc: 0.8025\n",
            "Epoch 52/100\n",
            "100/100 [==============================] - 115s 1s/step - loss: 0.4836 - acc: 0.7700 - val_loss: 0.4327 - val_acc: 0.8275\n",
            "Epoch 53/100\n",
            "100/100 [==============================] - 115s 1s/step - loss: 0.4831 - acc: 0.7720 - val_loss: 0.4153 - val_acc: 0.8125\n",
            "Epoch 54/100\n",
            "100/100 [==============================] - 114s 1s/step - loss: 0.4688 - acc: 0.7690 - val_loss: 0.5332 - val_acc: 0.7725\n",
            "Epoch 55/100\n",
            "100/100 [==============================] - 113s 1s/step - loss: 0.4666 - acc: 0.7795 - val_loss: 0.4587 - val_acc: 0.7800\n",
            "Epoch 56/100\n",
            "100/100 [==============================] - 115s 1s/step - loss: 0.4648 - acc: 0.7875 - val_loss: 0.4277 - val_acc: 0.8150\n",
            "Epoch 57/100\n",
            "100/100 [==============================] - 114s 1s/step - loss: 0.4541 - acc: 0.7865 - val_loss: 0.4395 - val_acc: 0.7900\n",
            "Epoch 58/100\n",
            "100/100 [==============================] - 114s 1s/step - loss: 0.4466 - acc: 0.7990 - val_loss: 0.6008 - val_acc: 0.7400\n",
            "Epoch 59/100\n",
            "100/100 [==============================] - 118s 1s/step - loss: 0.4435 - acc: 0.7980 - val_loss: 0.4182 - val_acc: 0.8200\n",
            "Epoch 60/100\n",
            "100/100 [==============================] - 114s 1s/step - loss: 0.4464 - acc: 0.7910 - val_loss: 0.4869 - val_acc: 0.7750\n",
            "Epoch 61/100\n",
            "100/100 [==============================] - 115s 1s/step - loss: 0.4509 - acc: 0.7925 - val_loss: 0.5288 - val_acc: 0.7825\n",
            "Epoch 62/100\n",
            "100/100 [==============================] - 116s 1s/step - loss: 0.4557 - acc: 0.7835 - val_loss: 0.5407 - val_acc: 0.7525\n",
            "Epoch 63/100\n",
            "100/100 [==============================] - 114s 1s/step - loss: 0.4569 - acc: 0.7860 - val_loss: 0.5100 - val_acc: 0.7525\n",
            "Epoch 64/100\n",
            "100/100 [==============================] - 114s 1s/step - loss: 0.4531 - acc: 0.7860 - val_loss: 0.4367 - val_acc: 0.8000\n",
            "Epoch 65/100\n",
            "100/100 [==============================] - 113s 1s/step - loss: 0.4569 - acc: 0.7910 - val_loss: 0.4561 - val_acc: 0.7950\n",
            "Epoch 66/100\n",
            "100/100 [==============================] - 114s 1s/step - loss: 0.4348 - acc: 0.8095 - val_loss: 0.4520 - val_acc: 0.7925\n",
            "Epoch 67/100\n",
            "100/100 [==============================] - 114s 1s/step - loss: 0.4528 - acc: 0.7935 - val_loss: 0.4158 - val_acc: 0.8050\n",
            "Epoch 68/100\n",
            "100/100 [==============================] - 114s 1s/step - loss: 0.4402 - acc: 0.8005 - val_loss: 0.4490 - val_acc: 0.8125\n",
            "Epoch 69/100\n",
            "100/100 [==============================] - 114s 1s/step - loss: 0.4477 - acc: 0.8000 - val_loss: 0.4513 - val_acc: 0.7925\n",
            "Epoch 70/100\n",
            "100/100 [==============================] - 113s 1s/step - loss: 0.4404 - acc: 0.7980 - val_loss: 0.4815 - val_acc: 0.8100\n",
            "Epoch 71/100\n",
            "100/100 [==============================] - 115s 1s/step - loss: 0.4269 - acc: 0.8185 - val_loss: 0.4174 - val_acc: 0.8175\n",
            "Epoch 72/100\n",
            "100/100 [==============================] - 114s 1s/step - loss: 0.4370 - acc: 0.8070 - val_loss: 0.5728 - val_acc: 0.7825\n",
            "Epoch 73/100\n",
            "100/100 [==============================] - 115s 1s/step - loss: 0.4273 - acc: 0.8065 - val_loss: 0.4999 - val_acc: 0.7500\n",
            "Epoch 74/100\n",
            "100/100 [==============================] - 114s 1s/step - loss: 0.4321 - acc: 0.7975 - val_loss: 0.4357 - val_acc: 0.8100\n",
            "Epoch 75/100\n",
            "100/100 [==============================] - 113s 1s/step - loss: 0.4238 - acc: 0.8120 - val_loss: 0.4893 - val_acc: 0.8000\n",
            "Epoch 76/100\n",
            "100/100 [==============================] - 115s 1s/step - loss: 0.4137 - acc: 0.8075 - val_loss: 0.4939 - val_acc: 0.7925\n",
            "Epoch 77/100\n",
            "100/100 [==============================] - 114s 1s/step - loss: 0.4255 - acc: 0.7980 - val_loss: 0.4852 - val_acc: 0.8050\n",
            "Epoch 78/100\n",
            "100/100 [==============================] - 114s 1s/step - loss: 0.4273 - acc: 0.7980 - val_loss: 0.5373 - val_acc: 0.7475\n",
            "Epoch 79/100\n",
            "100/100 [==============================] - 116s 1s/step - loss: 0.4246 - acc: 0.8140 - val_loss: 0.5283 - val_acc: 0.7675\n",
            "Epoch 80/100\n",
            "100/100 [==============================] - 114s 1s/step - loss: 0.4195 - acc: 0.8160 - val_loss: 0.4325 - val_acc: 0.8150\n",
            "Epoch 81/100\n",
            "100/100 [==============================] - 115s 1s/step - loss: 0.4143 - acc: 0.8060 - val_loss: 0.4284 - val_acc: 0.8250\n",
            "Epoch 82/100\n",
            "100/100 [==============================] - 115s 1s/step - loss: 0.4206 - acc: 0.8050 - val_loss: 0.5103 - val_acc: 0.7975\n",
            "Epoch 83/100\n",
            "100/100 [==============================] - 115s 1s/step - loss: 0.4298 - acc: 0.8000 - val_loss: 0.4521 - val_acc: 0.8100\n",
            "Epoch 84/100\n",
            "100/100 [==============================] - 118s 1s/step - loss: 0.4182 - acc: 0.8050 - val_loss: 0.4440 - val_acc: 0.8025\n",
            "Epoch 85/100\n",
            "100/100 [==============================] - 115s 1s/step - loss: 0.4157 - acc: 0.8060 - val_loss: 0.4144 - val_acc: 0.8275\n",
            "Epoch 86/100\n",
            "100/100 [==============================] - 115s 1s/step - loss: 0.4118 - acc: 0.8190 - val_loss: 0.4385 - val_acc: 0.8275\n",
            "Epoch 87/100\n",
            "100/100 [==============================] - 114s 1s/step - loss: 0.4036 - acc: 0.8315 - val_loss: 0.4717 - val_acc: 0.8100\n",
            "Epoch 88/100\n",
            "100/100 [==============================] - 115s 1s/step - loss: 0.3972 - acc: 0.8225 - val_loss: 0.5221 - val_acc: 0.7800\n",
            "Epoch 89/100\n",
            "100/100 [==============================] - 115s 1s/step - loss: 0.4174 - acc: 0.8080 - val_loss: 0.5135 - val_acc: 0.7975\n",
            "Epoch 90/100\n",
            "100/100 [==============================] - 114s 1s/step - loss: 0.4145 - acc: 0.8150 - val_loss: 0.5023 - val_acc: 0.7475\n",
            "Epoch 91/100\n",
            "100/100 [==============================] - 115s 1s/step - loss: 0.4234 - acc: 0.8105 - val_loss: 0.4421 - val_acc: 0.7950\n",
            "Epoch 92/100\n",
            "100/100 [==============================] - 115s 1s/step - loss: 0.4194 - acc: 0.8115 - val_loss: 0.5294 - val_acc: 0.7900\n",
            "Epoch 93/100\n",
            "100/100 [==============================] - 118s 1s/step - loss: 0.4060 - acc: 0.8190 - val_loss: 0.4904 - val_acc: 0.7700\n",
            "Epoch 94/100\n",
            "100/100 [==============================] - 114s 1s/step - loss: 0.3807 - acc: 0.8295 - val_loss: 0.4595 - val_acc: 0.8075\n",
            "Epoch 95/100\n",
            "100/100 [==============================] - 113s 1s/step - loss: 0.4007 - acc: 0.8240 - val_loss: 0.5222 - val_acc: 0.7725\n",
            "Epoch 96/100\n",
            "100/100 [==============================] - 115s 1s/step - loss: 0.3965 - acc: 0.8335 - val_loss: 0.4831 - val_acc: 0.8025\n",
            "Epoch 97/100\n",
            "100/100 [==============================] - 114s 1s/step - loss: 0.4175 - acc: 0.8120 - val_loss: 0.4863 - val_acc: 0.7775\n",
            "Epoch 98/100\n",
            "100/100 [==============================] - 115s 1s/step - loss: 0.3871 - acc: 0.8285 - val_loss: 0.4560 - val_acc: 0.8075\n",
            "Epoch 99/100\n",
            "100/100 [==============================] - 115s 1s/step - loss: 0.3909 - acc: 0.8260 - val_loss: 0.4574 - val_acc: 0.8325\n",
            "Epoch 100/100\n",
            "100/100 [==============================] - 113s 1s/step - loss: 0.3950 - acc: 0.8255 - val_loss: 0.4761 - val_acc: 0.8000\n"
          ],
          "name": "stdout"
        }
      ]
    },
    {
      "cell_type": "code",
      "metadata": {
        "id": "P16LG6H3jy35",
        "colab_type": "code",
        "colab": {}
      },
      "source": [
        "acc=history.history['acc']\n",
        "val_acc=history.history['val_acc']\n",
        "loss=history.history['loss']\n",
        "val_loss=history.history['val_loss']"
      ],
      "execution_count": 0,
      "outputs": []
    },
    {
      "cell_type": "code",
      "metadata": {
        "id": "jbZiYFQvj7rr",
        "colab_type": "code",
        "colab": {}
      },
      "source": [
        "epochs=range(1, len(acc)+1)"
      ],
      "execution_count": 0,
      "outputs": []
    },
    {
      "cell_type": "code",
      "metadata": {
        "id": "8_A2bLRIj8gW",
        "colab_type": "code",
        "outputId": "44fd2c9b-63b0-448c-eb82-e22f2fefbff1",
        "colab": {
          "base_uri": "https://localhost:8080/",
          "height": 545
        }
      },
      "source": [
        "plt.plot(epochs, acc, 'bo', label='training acc')\n",
        "plt.plot(epochs, val_acc, 'b', label='validation acc')\n",
        "plt.title('training and validation accuracy')\n",
        "plt.legend()\n",
        "plt.figure()\n",
        "\n",
        "plt.plot(epochs, loss, 'bo', label='training loss')\n",
        "plt.plot(epochs, val_loss, 'b', label='validation loss')\n",
        "plt.title('training and validation loss')\n",
        "plt.legend()\n",
        "plt.show()"
      ],
      "execution_count": 15,
      "outputs": [
        {
          "output_type": "display_data",
          "data": {
            "image/png": "[encoded data removed]",
            "text/plain": [
              "<Figure size 432x288 with 1 Axes>"
            ]
          },
          "metadata": {
            "tags": []
          }
        },
        {
          "output_type": "display_data",
          "data": {
            "image/png": "[encoded data removed]",
            "text/plain": [
              "<Figure size 432x288 with 1 Axes>"
            ]
          },
          "metadata": {
            "tags": []
          }
        }
      ]
    }
  ]
}