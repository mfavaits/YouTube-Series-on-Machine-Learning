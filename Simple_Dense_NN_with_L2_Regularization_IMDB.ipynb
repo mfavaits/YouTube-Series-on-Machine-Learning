{
  "nbformat": 4,
  "nbformat_minor": 0,
  "metadata": {
    "colab": {
      "name": "Simple Dense NN with L2 Regularization - IMDB.ipynb",
      "version": "0.3.2",
      "provenance": [],
      "collapsed_sections": [],
      "include_colab_link": true
    },
    "kernelspec": {
      "name": "python3",
      "display_name": "Python 3"
    },
    "accelerator": "TPU"
  },
  "cells": [
    {
      "cell_type": "markdown",
      "metadata": {
        "id": "view-in-github",
        "colab_type": "text"
      },
      "source": [
        "<a href=\"https://colab.research.google.com/github/mfavaits/YouTube-Series-on-Machine-Learning/blob/master/Simple_Dense_NN_with_L2_Regularization_IMDB.ipynb\" target=\"_parent\"><img src=\"https://colab.research.google.com/assets/colab-badge.svg\" alt=\"Open In Colab\"/></a>"
      ]
    },
    {
      "cell_type": "markdown",
      "metadata": {
        "id": "4Aoe_p0AaYhO",
        "colab_type": "text"
      },
      "source": [
        "The IMDB dataset actually comes packaged with keras and its allready tokenized, menaing the text is allready converted in a sequence of unique word indices. The IMDB dataset contains 50,000 movie reviews (25,000 for training and 25,000 for testing). Each set contains of 50% positive and 50% negative reviews (12,500 x 2). "
      ]
    },
    {
      "cell_type": "code",
      "metadata": {
        "id": "de3MGD6O72TY",
        "colab_type": "code",
        "colab": {}
      },
      "source": [
        "import numpy as np\n",
        "from keras.datasets import imdb"
      ],
      "execution_count": 0,
      "outputs": []
    },
    {
      "cell_type": "code",
      "metadata": {
        "id": "cOhLB6msAMlx",
        "colab_type": "code",
        "colab": {}
      },
      "source": [
        "vocabulary=7500 # we will only use the 7500 most frequently used words"
      ],
      "execution_count": 0,
      "outputs": []
    },
    {
      "cell_type": "markdown",
      "metadata": {
        "id": "Jh095fN7RVV9",
        "colab_type": "text"
      },
      "source": [
        "Next block of code block has been commented out because it does not work anymore"
      ]
    },
    {
      "cell_type": "code",
      "metadata": {
        "id": "shqvBezp-M7R",
        "colab_type": "code",
        "colab": {}
      },
      "source": [
        "# save np.load\n",
        "#np_load_old = np.load\n",
        "\n",
        "# modify the default parameters of np.load\n",
        "#np.load = lambda *a,**k: np_load_old(*a, allow_pickle=True, **k)\n",
        "\n",
        "# call load_data with allow_pickle implicitly set to true\n",
        "#(train_data, train_labels), (test_data, test_labels) = imdb.load_data(num_words=vocabulary)\n",
        "\n",
        "# restore np.load for future normal usage\n",
        "#np.load = np_load_old"
      ],
      "execution_count": 0,
      "outputs": []
    },
    {
      "cell_type": "code",
      "metadata": {
        "id": "XIPxi_2jSlCe",
        "colab_type": "code",
        "colab": {}
      },
      "source": [
        "np.load.__defaults__=(None, True, True, 'ASCII')\n",
        "(train_data, train_labels), (test_data, test_labels) = imdb.load_data(num_words=vocabulary)\n",
        "np.load.__defaults__=(None, False, True, 'ASCII')"
      ],
      "execution_count": 0,
      "outputs": []
    },
    {
      "cell_type": "markdown",
      "metadata": {
        "id": "iG560c2_CYN6",
        "colab_type": "text"
      },
      "source": [
        "In the next line of code we will print the lists that contain sequences of words represented by a word index. If the text has not been converted to a sequence of indices we would need to add one pre-processing step using Tokenizer"
      ]
    },
    {
      "cell_type": "code",
      "metadata": {
        "id": "o5qZFmD4Wx6l",
        "colab_type": "code",
        "outputId": "1338340a-bdb4-4e4e-c11e-9e5b8218886e",
        "colab": {
          "base_uri": "https://localhost:8080/",
          "height": 74
        }
      },
      "source": [
        "print(train_data[1]) # train_data is a list of word sequences"
      ],
      "execution_count": 76,
      "outputs": [
        {
          "output_type": "stream",
          "text": [
            "[1, 194, 1153, 194, 2, 78, 228, 5, 6, 1463, 4369, 5012, 134, 26, 4, 715, 8, 118, 1634, 14, 394, 20, 13, 119, 954, 189, 102, 5, 207, 110, 3103, 21, 14, 69, 188, 8, 30, 23, 7, 4, 249, 126, 93, 4, 114, 9, 2300, 1523, 5, 647, 4, 116, 9, 35, 2, 4, 229, 9, 340, 1322, 4, 118, 9, 4, 130, 4901, 19, 4, 1002, 5, 89, 29, 952, 46, 37, 4, 455, 9, 45, 43, 38, 1543, 1905, 398, 4, 1649, 26, 6853, 5, 163, 11, 3215, 2, 4, 1153, 9, 194, 775, 7, 2, 2, 349, 2637, 148, 605, 2, 2, 15, 123, 125, 68, 2, 6853, 15, 349, 165, 4362, 98, 5, 4, 228, 9, 43, 2, 1157, 15, 299, 120, 5, 120, 174, 11, 220, 175, 136, 50, 9, 4373, 228, 2, 5, 2, 656, 245, 2350, 5, 4, 2, 131, 152, 491, 18, 2, 32, 7464, 1212, 14, 9, 6, 371, 78, 22, 625, 64, 1382, 9, 8, 168, 145, 23, 4, 1690, 15, 16, 4, 1355, 5, 28, 6, 52, 154, 462, 33, 89, 78, 285, 16, 145, 95]\n"
          ],
          "name": "stdout"
        }
      ]
    },
    {
      "cell_type": "markdown",
      "metadata": {
        "id": "lwgfRMAj2Hip",
        "colab_type": "text"
      },
      "source": [
        "Now we will vectorize the training and test data. Basically we will create a matrix where the rows are the reviews and where the columns represent the vocabulary (7500 columns). We will set a 1 in the correct column if the word of the review matches a word of the vocabulary. This means that matrix will be rather sparse."
      ]
    },
    {
      "cell_type": "code",
      "metadata": {
        "id": "QELAzmk-03TM",
        "colab_type": "code",
        "colab": {}
      },
      "source": [
        "def vectorize_sequences(sequences, dimension=vocabulary):\n",
        "    results=np.zeros((len(sequences), dimension))\n",
        "    for i, sequence in enumerate(sequences):\n",
        "        results[i, sequence]=1\n",
        "    return results"
      ],
      "execution_count": 0,
      "outputs": []
    },
    {
      "cell_type": "markdown",
      "metadata": {
        "id": "J-YwrSZEoyOs",
        "colab_type": "text"
      },
      "source": [
        "Now we apply the function to our training and test data as well as the labels. For the labels we use a different method. We simply use the asarray function to convert the list to an array and we assign the items in the array to float32 "
      ]
    },
    {
      "cell_type": "code",
      "metadata": {
        "id": "ZRbl4N4d13te",
        "colab_type": "code",
        "colab": {}
      },
      "source": [
        "x_train=vectorize_sequences(train_data)\n",
        "x_test=vectorize_sequences(test_data)\n",
        "\n",
        "y_train=np.asarray(train_labels).astype('float32')\n",
        "y_test=np.asarray(test_labels).astype('float32')"
      ],
      "execution_count": 0,
      "outputs": []
    },
    {
      "cell_type": "code",
      "metadata": {
        "id": "8pc4wDYTZAm4",
        "colab_type": "code",
        "colab": {}
      },
      "source": [
        "from keras import models\n",
        "from keras import layers\n",
        "from keras import optimizers\n",
        "from keras import losses\n",
        "from keras import metrics\n",
        "from keras import regularizers\n",
        "\n",
        "model=models.Sequential()\n",
        "model.add(layers.Dense(16, kernel_regularizer=regularizers .l2(0.001), activation='relu', input_shape=(vocabulary,)))\n",
        "model.add(layers.Dense(16, kernel_regularizer=regularizers .l2(0.001), activation='relu'))\n",
        "model.add(layers.Dense(1, activation='sigmoid'))"
      ],
      "execution_count": 0,
      "outputs": []
    },
    {
      "cell_type": "markdown",
      "metadata": {
        "id": "EcFfGPZ9cPnq",
        "colab_type": "text"
      },
      "source": [
        "Validation Set"
      ]
    },
    {
      "cell_type": "code",
      "metadata": {
        "id": "D3wjF9cgcSPN",
        "colab_type": "code",
        "colab": {}
      },
      "source": [
        "x_val=x_train[:10000]\n",
        "partial_x_train=x_train[10000:]\n",
        "\n",
        "y_val=y_train[:10000]\n",
        "partial_y_train=y_train[10000:]"
      ],
      "execution_count": 0,
      "outputs": []
    },
    {
      "cell_type": "code",
      "metadata": {
        "id": "_Lc3MI-kfxqV",
        "colab_type": "code",
        "colab": {}
      },
      "source": [
        "model.compile(optimizer='rmsprop', loss='binary_crossentropy', metrics=['acc'])"
      ],
      "execution_count": 0,
      "outputs": []
    },
    {
      "cell_type": "code",
      "metadata": {
        "id": "aIyH1Xxpn9hO",
        "colab_type": "code",
        "outputId": "848d9c3c-8fe3-4c56-a4b6-ac00ba40839b",
        "colab": {
          "base_uri": "https://localhost:8080/",
          "height": 714
        }
      },
      "source": [
        "history=model.fit(partial_x_train, partial_y_train, epochs=20, batch_size=512, validation_data=(x_val, y_val)) #history object contains training details - object has a member dictionary"
      ],
      "execution_count": 82,
      "outputs": [
        {
          "output_type": "stream",
          "text": [
            "Train on 15000 samples, validate on 10000 samples\n",
            "Epoch 1/20\n",
            "15000/15000 [==============================] - 3s 184us/step - loss: 0.5852 - acc: 0.7693 - val_loss: 0.4742 - val_acc: 0.8309\n",
            "Epoch 2/20\n",
            "15000/15000 [==============================] - 2s 131us/step - loss: 0.3819 - acc: 0.8935 - val_loss: 0.3663 - val_acc: 0.8802\n",
            "Epoch 3/20\n",
            "15000/15000 [==============================] - 2s 131us/step - loss: 0.3065 - acc: 0.9129 - val_loss: 0.3526 - val_acc: 0.8799\n",
            "Epoch 4/20\n",
            "15000/15000 [==============================] - 2s 130us/step - loss: 0.2680 - acc: 0.9260 - val_loss: 0.3323 - val_acc: 0.8866\n",
            "Epoch 5/20\n",
            "15000/15000 [==============================] - 2s 130us/step - loss: 0.2472 - acc: 0.9311 - val_loss: 0.3320 - val_acc: 0.8870\n",
            "Epoch 6/20\n",
            "15000/15000 [==============================] - 2s 129us/step - loss: 0.2280 - acc: 0.9419 - val_loss: 0.3435 - val_acc: 0.8847\n",
            "Epoch 7/20\n",
            "15000/15000 [==============================] - 2s 130us/step - loss: 0.2159 - acc: 0.9457 - val_loss: 0.3387 - val_acc: 0.8853\n",
            "Epoch 8/20\n",
            "15000/15000 [==============================] - 2s 130us/step - loss: 0.2079 - acc: 0.9472 - val_loss: 0.3462 - val_acc: 0.8832\n",
            "Epoch 9/20\n",
            "15000/15000 [==============================] - 2s 127us/step - loss: 0.1970 - acc: 0.9531 - val_loss: 0.3559 - val_acc: 0.8826\n",
            "Epoch 10/20\n",
            "15000/15000 [==============================] - 2s 129us/step - loss: 0.1933 - acc: 0.9540 - val_loss: 0.3661 - val_acc: 0.8772\n",
            "Epoch 11/20\n",
            "15000/15000 [==============================] - 2s 129us/step - loss: 0.1885 - acc: 0.9573 - val_loss: 0.3721 - val_acc: 0.8765\n",
            "Epoch 12/20\n",
            "15000/15000 [==============================] - 2s 129us/step - loss: 0.1819 - acc: 0.9576 - val_loss: 0.4454 - val_acc: 0.8561\n",
            "Epoch 13/20\n",
            "15000/15000 [==============================] - 2s 129us/step - loss: 0.1782 - acc: 0.9605 - val_loss: 0.4207 - val_acc: 0.8638\n",
            "Epoch 14/20\n",
            "15000/15000 [==============================] - 2s 129us/step - loss: 0.1708 - acc: 0.9660 - val_loss: 0.3930 - val_acc: 0.8768\n",
            "Epoch 15/20\n",
            "15000/15000 [==============================] - 2s 130us/step - loss: 0.1747 - acc: 0.9621 - val_loss: 0.4015 - val_acc: 0.8731\n",
            "Epoch 16/20\n",
            "15000/15000 [==============================] - 2s 130us/step - loss: 0.1626 - acc: 0.9677 - val_loss: 0.4434 - val_acc: 0.8680\n",
            "Epoch 17/20\n",
            "15000/15000 [==============================] - 2s 128us/step - loss: 0.1656 - acc: 0.9659 - val_loss: 0.4336 - val_acc: 0.8659\n",
            "Epoch 18/20\n",
            "15000/15000 [==============================] - 2s 130us/step - loss: 0.1631 - acc: 0.9669 - val_loss: 0.4209 - val_acc: 0.8710\n",
            "Epoch 19/20\n",
            "15000/15000 [==============================] - 2s 130us/step - loss: 0.1568 - acc: 0.9692 - val_loss: 0.4828 - val_acc: 0.8547\n",
            "Epoch 20/20\n",
            "15000/15000 [==============================] - 2s 129us/step - loss: 0.1540 - acc: 0.9705 - val_loss: 0.4879 - val_acc: 0.8547\n"
          ],
          "name": "stdout"
        }
      ]
    },
    {
      "cell_type": "code",
      "metadata": {
        "id": "PMeo8lUNoyid",
        "colab_type": "code",
        "colab": {}
      },
      "source": [
        "import matplotlib.pyplot as plt\n",
        "history_dict=history.history\n",
        "loss_values=history_dict['loss']\n",
        "val_loss_values=history_dict['val_loss']\n",
        "epochs=range(1, 21)"
      ],
      "execution_count": 0,
      "outputs": []
    },
    {
      "cell_type": "code",
      "metadata": {
        "id": "RysfGkRrqGoG",
        "colab_type": "code",
        "outputId": "4984188c-b745-4d00-ab4e-b7b570875ef7",
        "colab": {
          "base_uri": "https://localhost:8080/",
          "height": 312
        }
      },
      "source": [
        "plt.plot(epochs, loss_values, 'bo', label='Training Loss') #bo is for blue dotted line\n",
        "plt.plot(epochs, val_loss_values, 'b', label='Validation Loss') #b is for blue line\n",
        "plt.title('Training and Validation Loss')\n",
        "plt.xlabel('Epochs')\n",
        "plt.ylabel('Loss')\n",
        "plt.legend()\n",
        "plt.show"
      ],
      "execution_count": 84,
      "outputs": [
        {
          "output_type": "execute_result",
          "data": {
            "text/plain": [
              "<function matplotlib.pyplot.show>"
            ]
          },
          "metadata": {
            "tags": []
          },
          "execution_count": 84
        },
        {
          "output_type": "display_data",
          "data": {
            "image/png": "[encoded data removed]",
            "text/plain": [
              "<Figure size 432x288 with 1 Axes>"
            ]
          },
          "metadata": {
            "tags": []
          }
        }
      ]
    },
    {
      "cell_type": "code",
      "metadata": {
        "id": "5U8qL2GgtfeC",
        "colab_type": "code",
        "outputId": "c9912f9d-e7ad-49dc-866a-692ccf87f579",
        "colab": {
          "base_uri": "https://localhost:8080/",
          "height": 170
        }
      },
      "source": [
        "model=models.Sequential()\n",
        "model.add(layers.Dense(16, kernel_regularizer=regularizers .l2(0.001), activation='relu', input_shape=(vocabulary,)))\n",
        "model.add(layers.Dense(16, kernel_regularizer=regularizers .l2(0.001), activation='relu'))\n",
        "model.add(layers.Dense(1, activation='sigmoid'))\n",
        "\n",
        "model.compile(optimizer='rmsprop', loss='binary_crossentropy', metrics=['acc'])\n",
        "model.fit(x_train, y_train, epochs=4, batch_size=512)\n",
        "results=model.evaluate(x_test, y_test)"
      ],
      "execution_count": 85,
      "outputs": [
        {
          "output_type": "stream",
          "text": [
            "Epoch 1/4\n",
            "25000/25000 [==============================] - 3s 123us/step - loss: 0.4794 - acc: 0.8182\n",
            "Epoch 2/4\n",
            "25000/25000 [==============================] - 2s 94us/step - loss: 0.3140 - acc: 0.9027\n",
            "Epoch 3/4\n",
            "25000/25000 [==============================] - 2s 94us/step - loss: 0.2720 - acc: 0.9178\n",
            "Epoch 4/4\n",
            "25000/25000 [==============================] - 2s 93us/step - loss: 0.2552 - acc: 0.9225\n",
            "25000/25000 [==============================] - 2s 78us/step\n"
          ],
          "name": "stdout"
        }
      ]
    },
    {
      "cell_type": "code",
      "metadata": {
        "id": "8cJHmfFH1y_x",
        "colab_type": "code",
        "outputId": "84bf7342-fe58-4235-f837-9f220cb6f46d",
        "colab": {
          "base_uri": "https://localhost:8080/",
          "height": 34
        }
      },
      "source": [
        "print(results)"
      ],
      "execution_count": 86,
      "outputs": [
        {
          "output_type": "stream",
          "text": [
            "[0.3485207630825043, 0.881]\n"
          ],
          "name": "stdout"
        }
      ]
    }
  ]
}