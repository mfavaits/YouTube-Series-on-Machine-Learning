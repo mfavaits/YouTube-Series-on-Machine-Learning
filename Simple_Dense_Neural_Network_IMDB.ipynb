{
  "nbformat": 4,
  "nbformat_minor": 0,
  "metadata": {
    "colab": {
      "name": "Simple Dense Neural Network - IMDB.ipynb",
      "version": "0.3.2",
      "provenance": [],
      "collapsed_sections": [],
      "include_colab_link": true
    },
    "kernelspec": {
      "name": "python3",
      "display_name": "Python 3"
    },
    "accelerator": "TPU"
  },
  "cells": [
    {
      "cell_type": "markdown",
      "metadata": {
        "id": "view-in-github",
        "colab_type": "text"
      },
      "source": [
        "<a href=\"https://colab.research.google.com/github/mfavaits/YouTube-Series-on-Machine-Learning/blob/master/Simple_Dense_Neural_Network_IMDB.ipynb\" target=\"_parent\"><img src=\"https://colab.research.google.com/assets/colab-badge.svg\" alt=\"Open In Colab\"/></a>"
      ]
    },
    {
      "cell_type": "markdown",
      "metadata": {
        "id": "4Aoe_p0AaYhO",
        "colab_type": "text"
      },
      "source": [
        "The IMDB dataset actually comes packaged with keras and its allready tokenized, menaing the text is allready converted in a sequence of unique word indices. The IMDB dataset contains 50,000 movie reviews (25,000 for training and 25,000 for testing). Each set contains of 50% positive and 50% negative reviews (12,500 x 2). In lesson 6 I mentioned that we would try KNN on the IMDB dataset but it is not a good idea because of the high dimenions. Even when we use PCA (2 components) we only get an accuracy of 50%."
      ]
    },
    {
      "cell_type": "code",
      "metadata": {
        "id": "de3MGD6O72TY",
        "colab_type": "code",
        "colab": {}
      },
      "source": [
        "import numpy as np\n",
        "from keras import preprocessing\n",
        "from keras.datasets import imdb"
      ],
      "execution_count": 0,
      "outputs": []
    },
    {
      "cell_type": "code",
      "metadata": {
        "id": "cOhLB6msAMlx",
        "colab_type": "code",
        "colab": {}
      },
      "source": [
        "vocabulary=7500 # we will only use the 7500 most frequently used words"
      ],
      "execution_count": 0,
      "outputs": []
    },
    {
      "cell_type": "markdown",
      "metadata": {
        "id": "Jh2qyX4pAaqe",
        "colab_type": "text"
      },
      "source": [
        "Next block of code block has been commented out because it does not work anymore"
      ]
    },
    {
      "cell_type": "code",
      "metadata": {
        "id": "jm9b4vzSQhKQ",
        "colab_type": "code",
        "colab": {}
      },
      "source": [
        "# save np.load\n",
        "#np_load_old = np.load\n",
        "\n",
        "# modify the default parameters of np.load\n",
        "#np.load = lambda *a,**k: np_load_old(*a, allow_pickle=True, **k)\n",
        "\n",
        "# call load_data with allow_pickle implicitly set to true\n",
        "#(train_data, train_labels), (test_data, test_labels) = imdb.load_data(num_words=vocabulary)\n",
        "\n",
        "# restore np.load for future normal usage\n",
        "#np.load = np_load_old"
      ],
      "execution_count": 0,
      "outputs": []
    },
    {
      "cell_type": "code",
      "metadata": {
        "id": "ciw8TQ31Knzf",
        "colab_type": "code",
        "colab": {}
      },
      "source": [
        "np.load.__defaults__=(None, True, True, 'ASCII')\n",
        "(train_data, train_labels), (test_data, test_labels) = imdb.load_data(num_words=vocabulary)\n",
        "np.load.__defaults__=(None, False, True, 'ASCII')"
      ],
      "execution_count": 0,
      "outputs": []
    },
    {
      "cell_type": "markdown",
      "metadata": {
        "id": "iG560c2_CYN6",
        "colab_type": "text"
      },
      "source": [
        "In the next line of code we will print the lists that contain sequences of words represented by a word index. "
      ]
    },
    {
      "cell_type": "code",
      "metadata": {
        "id": "o5qZFmD4Wx6l",
        "colab_type": "code",
        "outputId": "3fb34064-5f2d-4e7b-dbd7-bfe4df68beb1",
        "colab": {
          "base_uri": "https://localhost:8080/",
          "height": 74
        }
      },
      "source": [
        "print(train_data[1]) # train_data is a list of word sequences"
      ],
      "execution_count": 0,
      "outputs": [
        {
          "output_type": "stream",
          "text": [
            "[1, 194, 1153, 194, 2, 78, 228, 5, 6, 1463, 4369, 5012, 134, 26, 4, 715, 8, 118, 1634, 14, 394, 20, 13, 119, 954, 189, 102, 5, 207, 110, 3103, 21, 14, 69, 188, 8, 30, 23, 7, 4, 249, 126, 93, 4, 114, 9, 2300, 1523, 5, 647, 4, 116, 9, 35, 2, 4, 229, 9, 340, 1322, 4, 118, 9, 4, 130, 4901, 19, 4, 1002, 5, 89, 29, 952, 46, 37, 4, 455, 9, 45, 43, 38, 1543, 1905, 398, 4, 1649, 26, 6853, 5, 163, 11, 3215, 2, 4, 1153, 9, 194, 775, 7, 2, 2, 349, 2637, 148, 605, 2, 2, 15, 123, 125, 68, 2, 6853, 15, 349, 165, 4362, 98, 5, 4, 228, 9, 43, 2, 1157, 15, 299, 120, 5, 120, 174, 11, 220, 175, 136, 50, 9, 4373, 228, 2, 5, 2, 656, 245, 2350, 5, 4, 2, 131, 152, 491, 18, 2, 32, 7464, 1212, 14, 9, 6, 371, 78, 22, 625, 64, 1382, 9, 8, 168, 145, 23, 4, 1690, 15, 16, 4, 1355, 5, 28, 6, 52, 154, 462, 33, 89, 78, 285, 16, 145, 95]\n"
          ],
          "name": "stdout"
        }
      ]
    },
    {
      "cell_type": "markdown",
      "metadata": {
        "id": "lwgfRMAj2Hip",
        "colab_type": "text"
      },
      "source": [
        "Now we will vectorize the training and test data. Basically we will create a matrix where the rows are the reviews and where the columns represent the vocabulary (7500 columns). We will set a 1 in the correct column if the word of the review matches a word of the vocabulary. As we limit the reviews to 150 words there will be 7350 places where we will have a zero. This means that matrix will be rather sparse."
      ]
    },
    {
      "cell_type": "code",
      "metadata": {
        "id": "QELAzmk-03TM",
        "colab_type": "code",
        "colab": {}
      },
      "source": [
        "def vectorize_sequences(sequences, dimension=vocabulary):\n",
        "    results=np.zeros((len(sequences), dimension))\n",
        "    for i, sequence in enumerate(sequences):\n",
        "        results[i, sequence]=1\n",
        "    return results"
      ],
      "execution_count": 0,
      "outputs": []
    },
    {
      "cell_type": "code",
      "metadata": {
        "id": "ZRbl4N4d13te",
        "colab_type": "code",
        "colab": {}
      },
      "source": [
        "x_train=vectorize_sequences(train_data)\n",
        "x_test=vectorize_sequences(test_data)"
      ],
      "execution_count": 0,
      "outputs": []
    },
    {
      "cell_type": "code",
      "metadata": {
        "id": "8l65R0kE4FWu",
        "colab_type": "code",
        "colab": {}
      },
      "source": [
        "y_train=np.asarray(train_labels).astype('float32')\n",
        "y_test=np.asarray(test_labels).astype('float32')"
      ],
      "execution_count": 0,
      "outputs": []
    },
    {
      "cell_type": "markdown",
      "metadata": {
        "id": "RTPkTl0jx__V",
        "colab_type": "text"
      },
      "source": [
        "Now we are ready to develop our neural network"
      ]
    },
    {
      "cell_type": "code",
      "metadata": {
        "id": "1pwDoryy41qj",
        "colab_type": "code",
        "colab": {}
      },
      "source": [
        "from keras import models\n",
        "from keras import layers\n",
        "from keras import optimizers\n",
        "from keras import losses\n",
        "from keras import metrics\n",
        "\n",
        "model=models.Sequential()\n",
        "model.add(layers.Dense(16, activation='relu', input_shape=(vocabulary,)))\n",
        "model.add(layers.Dense(16, activation='relu'))\n",
        "model.add(layers.Dense(1, activation='sigmoid'))"
      ],
      "execution_count": 0,
      "outputs": []
    },
    {
      "cell_type": "code",
      "metadata": {
        "id": "UampUcsn5ecv",
        "colab_type": "code",
        "colab": {}
      },
      "source": [
        "#model.compile(optimizer='rmsprop', loss='binary_crossentropy', metrics=['accuracy'])"
      ],
      "execution_count": 0,
      "outputs": []
    },
    {
      "cell_type": "code",
      "metadata": {
        "id": "Fut0D1ct5zap",
        "colab_type": "code",
        "colab": {}
      },
      "source": [
        "#model.compile(optimizer=optimizers.RMSprop(lr=0.001), loss='binary_crossentropy', metrics=['accuracy'])"
      ],
      "execution_count": 0,
      "outputs": []
    },
    {
      "cell_type": "code",
      "metadata": {
        "id": "wNpAfrWq79QS",
        "colab_type": "code",
        "colab": {}
      },
      "source": [
        "#model.compile(optimizer=optimizers.RMSprop(lr=0.001), loss=losses.binary_crossentropy, metrics=[metrics.binary_accuracy])"
      ],
      "execution_count": 0,
      "outputs": []
    },
    {
      "cell_type": "markdown",
      "metadata": {
        "id": "DRFk73tn-A_A",
        "colab_type": "text"
      },
      "source": [
        "No we will set aside a validation set"
      ]
    },
    {
      "cell_type": "code",
      "metadata": {
        "id": "53XZF_NJ-LfY",
        "colab_type": "code",
        "colab": {}
      },
      "source": [
        "x_val=x_train[:10000]\n",
        "partial_x_train=x_train[10000:]\n",
        "\n",
        "y_val=y_train[:10000]\n",
        "partial_y_train=y_train[10000:]"
      ],
      "execution_count": 0,
      "outputs": []
    },
    {
      "cell_type": "code",
      "metadata": {
        "id": "rg_tRKnQ-uuV",
        "colab_type": "code",
        "colab": {}
      },
      "source": [
        "model.compile(optimizer='rmsprop', loss='binary_crossentropy', metrics=['acc'])"
      ],
      "execution_count": 0,
      "outputs": []
    },
    {
      "cell_type": "code",
      "metadata": {
        "id": "K0WHSn6V-5tk",
        "colab_type": "code",
        "outputId": "8e2c40ec-f749-4ea7-d760-78d404c689b6",
        "colab": {
          "base_uri": "https://localhost:8080/",
          "height": 714
        }
      },
      "source": [
        "history=model.fit(partial_x_train, partial_y_train, epochs=20, batch_size=512, validation_data=(x_val, y_val)) #history object contains training details - object has a member dictionary"
      ],
      "execution_count": 0,
      "outputs": [
        {
          "output_type": "stream",
          "text": [
            "Train on 15000 samples, validate on 10000 samples\n",
            "Epoch 1/20\n",
            "15000/15000 [==============================] - 3s 179us/step - loss: 0.5248 - acc: 0.7833 - val_loss: 0.3978 - val_acc: 0.8668\n",
            "Epoch 2/20\n",
            "15000/15000 [==============================] - 2s 143us/step - loss: 0.3265 - acc: 0.8933 - val_loss: 0.3158 - val_acc: 0.8865\n",
            "Epoch 3/20\n",
            "15000/15000 [==============================] - 2s 141us/step - loss: 0.2480 - acc: 0.9187 - val_loss: 0.2862 - val_acc: 0.8892\n",
            "Epoch 4/20\n",
            "15000/15000 [==============================] - 2s 141us/step - loss: 0.2002 - acc: 0.9349 - val_loss: 0.2744 - val_acc: 0.8916\n",
            "Epoch 5/20\n",
            "15000/15000 [==============================] - 2s 144us/step - loss: 0.1690 - acc: 0.9455 - val_loss: 0.2838 - val_acc: 0.8857\n",
            "Epoch 6/20\n",
            "15000/15000 [==============================] - 2s 142us/step - loss: 0.1469 - acc: 0.9517 - val_loss: 0.2851 - val_acc: 0.8882\n",
            "Epoch 7/20\n",
            "15000/15000 [==============================] - 2s 139us/step - loss: 0.1272 - acc: 0.9575 - val_loss: 0.2966 - val_acc: 0.8823\n",
            "Epoch 8/20\n",
            "15000/15000 [==============================] - 2s 140us/step - loss: 0.1123 - acc: 0.9640 - val_loss: 0.3200 - val_acc: 0.8757\n",
            "Epoch 9/20\n",
            "15000/15000 [==============================] - 2s 144us/step - loss: 0.0981 - acc: 0.9704 - val_loss: 0.3265 - val_acc: 0.8817\n",
            "Epoch 10/20\n",
            "15000/15000 [==============================] - 2s 144us/step - loss: 0.0881 - acc: 0.9731 - val_loss: 0.3430 - val_acc: 0.8771\n",
            "Epoch 11/20\n",
            "15000/15000 [==============================] - 2s 142us/step - loss: 0.0762 - acc: 0.9777 - val_loss: 0.3849 - val_acc: 0.8679\n",
            "Epoch 12/20\n",
            "15000/15000 [==============================] - 2s 144us/step - loss: 0.0679 - acc: 0.9805 - val_loss: 0.3958 - val_acc: 0.8697\n",
            "Epoch 13/20\n",
            "15000/15000 [==============================] - 2s 142us/step - loss: 0.0570 - acc: 0.9851 - val_loss: 0.4140 - val_acc: 0.8702\n",
            "Epoch 14/20\n",
            "15000/15000 [==============================] - 2s 141us/step - loss: 0.0520 - acc: 0.9862 - val_loss: 0.4706 - val_acc: 0.8671\n",
            "Epoch 15/20\n",
            "15000/15000 [==============================] - 2s 140us/step - loss: 0.0442 - acc: 0.9896 - val_loss: 0.4573 - val_acc: 0.8691\n",
            "Epoch 16/20\n",
            "15000/15000 [==============================] - 2s 141us/step - loss: 0.0387 - acc: 0.9911 - val_loss: 0.4981 - val_acc: 0.8664\n",
            "Epoch 17/20\n",
            "15000/15000 [==============================] - 2s 142us/step - loss: 0.0336 - acc: 0.9929 - val_loss: 0.5146 - val_acc: 0.8628\n",
            "Epoch 18/20\n",
            "15000/15000 [==============================] - 2s 140us/step - loss: 0.0301 - acc: 0.9932 - val_loss: 0.5359 - val_acc: 0.8661\n",
            "Epoch 19/20\n",
            "15000/15000 [==============================] - 2s 140us/step - loss: 0.0257 - acc: 0.9945 - val_loss: 0.5617 - val_acc: 0.8644\n",
            "Epoch 20/20\n",
            "15000/15000 [==============================] - 2s 139us/step - loss: 0.0211 - acc: 0.9973 - val_loss: 0.5904 - val_acc: 0.8631\n"
          ],
          "name": "stdout"
        }
      ]
    },
    {
      "cell_type": "code",
      "metadata": {
        "id": "jCQev6vujDBH",
        "colab_type": "code",
        "colab": {}
      },
      "source": [
        "import matplotlib.pyplot as plt\n",
        "history_dict=history.history\n",
        "loss_values=history_dict['loss']\n",
        "val_loss_values=history_dict['val_loss']\n",
        "epochs=range(1, 21)"
      ],
      "execution_count": 0,
      "outputs": []
    },
    {
      "cell_type": "code",
      "metadata": {
        "id": "NDhyIjnrj03h",
        "colab_type": "code",
        "colab": {
          "base_uri": "https://localhost:8080/",
          "height": 312
        },
        "outputId": "0b4efa94-e714-4766-bd20-f17e0fec36bc"
      },
      "source": [
        "plt.plot(epochs, loss_values, 'bo', label='Training Loss') #bo is for blue dotted line\n",
        "plt.plot(epochs, val_loss_values, 'b', label='Training Loss') #b is for blue line\n",
        "plt.title('Training and Validation Loss')\n",
        "plt.xlabel('Epochs')\n",
        "plt.ylabel('Loss')\n",
        "plt.legend()\n",
        "plt.show"
      ],
      "execution_count": 78,
      "outputs": [
        {
          "output_type": "execute_result",
          "data": {
            "text/plain": [
              "<function matplotlib.pyplot.show>"
            ]
          },
          "metadata": {
            "tags": []
          },
          "execution_count": 78
        },
        {
          "output_type": "display_data",
          "data": {
            "image/png": "[encoded data removed]",
            "text/plain": [
              "<Figure size 432x288 with 1 Axes>"
            ]
          },
          "metadata": {
            "tags": []
          }
        }
      ]
    },
    {
      "cell_type": "code",
      "metadata": {
        "id": "0eiB2clprc1D",
        "colab_type": "code",
        "colab": {
          "base_uri": "https://localhost:8080/",
          "height": 170
        },
        "outputId": "0e9d5bb7-712f-4fd0-8776-ee706ffdee6f"
      },
      "source": [
        "model=models.Sequential()\n",
        "model.add(layers.Dense(16, activation='relu', input_shape=(vocabulary,)))\n",
        "model.add(layers.Dense(16, activation='relu'))\n",
        "model.add(layers.Dense(1, activation='sigmoid'))\n",
        "\n",
        "model.compile(optimizer='rmsprop', loss='binary_crossentropy', metrics=['accuracy'])\n",
        "model.fit(x_train, y_train, epochs=4, batch_size=512)\n",
        "results=model.evaluate(x_test, y_test)"
      ],
      "execution_count": 81,
      "outputs": [
        {
          "output_type": "stream",
          "text": [
            "Epoch 1/4\n",
            "25000/25000 [==============================] - 6s 223us/step - loss: 0.4412 - acc: 0.8229\n",
            "Epoch 2/4\n",
            "25000/25000 [==============================] - 2s 96us/step - loss: 0.2657 - acc: 0.9053\n",
            "Epoch 3/4\n",
            "25000/25000 [==============================] - 2s 92us/step - loss: 0.2147 - acc: 0.9222\n",
            "Epoch 4/4\n",
            "25000/25000 [==============================] - 2s 89us/step - loss: 0.1853 - acc: 0.9324\n",
            "25000/25000 [==============================] - 2s 87us/step\n"
          ],
          "name": "stdout"
        }
      ]
    }
  ]
}