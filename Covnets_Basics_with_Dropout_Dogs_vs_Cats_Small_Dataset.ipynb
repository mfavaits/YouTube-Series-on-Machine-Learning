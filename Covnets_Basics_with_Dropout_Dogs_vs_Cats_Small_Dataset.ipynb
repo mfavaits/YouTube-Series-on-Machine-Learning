{
  "nbformat": 4,
  "nbformat_minor": 0,
  "metadata": {
    "colab": {
      "name": "Covnets Basics with Dropout- Dogs vs. Cats - Small Dataset.ipynb",
      "provenance": [],
      "collapsed_sections": [],
      "include_colab_link": true
    },
    "kernelspec": {
      "name": "python3",
      "display_name": "Python 3"
    },
    "accelerator": "TPU"
  },
  "cells": [
    {
      "cell_type": "markdown",
      "metadata": {
        "id": "view-in-github",
        "colab_type": "text"
      },
      "source": [
        "<a href=\"https://colab.research.google.com/github/mfavaits/YouTube-Series-on-Machine-Learning/blob/master/Covnets_Basics_with_Dropout_Dogs_vs_Cats_Small_Dataset.ipynb\" target=\"_parent\"><img src=\"https://colab.research.google.com/assets/colab-badge.svg\" alt=\"Open In Colab\"/></a>"
      ]
    },
    {
      "cell_type": "code",
      "metadata": {
        "id": "wCv4aeLxA1Xr",
        "colab_type": "code",
        "colab": {}
      },
      "source": [
        "import numpy as np\n",
        "import matplotlib.pyplot as plt\n",
        "\n",
        "import os\n",
        "import shutil"
      ],
      "execution_count": 0,
      "outputs": []
    },
    {
      "cell_type": "code",
      "metadata": {
        "id": "JD7vGwSixv_w",
        "colab_type": "code",
        "outputId": "5bde3059-ae54-4b44-f531-ae08a9bd7a5e",
        "colab": {
          "base_uri": "https://localhost:8080/",
          "height": 122
        }
      },
      "source": [
        "from google.colab import drive\n",
        "drive.mount('/content/drive')"
      ],
      "execution_count": 4,
      "outputs": [
        {
          "output_type": "stream",
          "text": [
            "Go to this URL in a browser: https://accounts.google.com/o/oauth2/auth?client_id=947318989803-6bn6qk8qdgf4n4g3pfee6491hc0brc4i.apps.googleusercontent.com&redirect_uri=urn%3Aietf%3Awg%3Aoauth%3A2.0%3Aoob&scope=email%20https%3A%2F%2Fwww.googleapis.com%2Fauth%2Fdocs.test%20https%3A%2F%2Fwww.googleapis.com%2Fauth%2Fdrive%20https%3A%2F%2Fwww.googleapis.com%2Fauth%2Fdrive.photos.readonly%20https%3A%2F%2Fwww.googleapis.com%2Fauth%2Fpeopleapi.readonly&response_type=code\n",
            "\n",
            "Enter your authorization code:\n",
            "··········\n",
            "Mounted at /content/drive\n"
          ],
          "name": "stdout"
        }
      ]
    },
    {
      "cell_type": "code",
      "metadata": {
        "id": "10mhjDGSPQee",
        "colab_type": "code",
        "colab": {
          "base_uri": "https://localhost:8080/",
          "height": 275
        },
        "outputId": "a3e2d13f-2c89-4e94-e785-760eec3257af"
      },
      "source": [
        "from keras import models\n",
        "from keras import layers\n",
        "\n",
        "model=models.Sequential()\n",
        "model.add(layers.Conv2D(32, (3,3), activation='relu', input_shape=(150, 150, 3)))\n",
        "model.add(layers.MaxPooling2D(2,2))\n",
        "model.add(layers.Conv2D(64, (3,3), activation='relu'))\n",
        "model.add(layers.MaxPooling2D(2,2))\n",
        "model.add(layers.Conv2D(128, (3,3), activation='relu'))\n",
        "model.add(layers.MaxPooling2D(2,2))\n",
        "model.add(layers.Conv2D(128, (3,3), activation='relu'))\n",
        "model.add(layers.MaxPooling2D(2,2))\n",
        "model.add(layers.Flatten())\n",
        "model.add(layers.Dropout(0.5))\n",
        "model.add(layers.Dense(512, activation='relu'))\n",
        "model.add(layers.Dense(1, activation='sigmoid'))"
      ],
      "execution_count": 5,
      "outputs": [
        {
          "output_type": "stream",
          "text": [
            "Using TensorFlow backend.\n"
          ],
          "name": "stderr"
        },
        {
          "output_type": "stream",
          "text": [
            "WARNING:tensorflow:From /usr/local/lib/python3.6/dist-packages/keras/backend/tensorflow_backend.py:66: The name tf.get_default_graph is deprecated. Please use tf.compat.v1.get_default_graph instead.\n",
            "\n",
            "WARNING:tensorflow:From /usr/local/lib/python3.6/dist-packages/keras/backend/tensorflow_backend.py:541: The name tf.placeholder is deprecated. Please use tf.compat.v1.placeholder instead.\n",
            "\n",
            "WARNING:tensorflow:From /usr/local/lib/python3.6/dist-packages/keras/backend/tensorflow_backend.py:4432: The name tf.random_uniform is deprecated. Please use tf.random.uniform instead.\n",
            "\n",
            "WARNING:tensorflow:From /usr/local/lib/python3.6/dist-packages/keras/backend/tensorflow_backend.py:4267: The name tf.nn.max_pool is deprecated. Please use tf.nn.max_pool2d instead.\n",
            "\n",
            "WARNING:tensorflow:From /usr/local/lib/python3.6/dist-packages/keras/backend/tensorflow_backend.py:148: The name tf.placeholder_with_default is deprecated. Please use tf.compat.v1.placeholder_with_default instead.\n",
            "\n",
            "WARNING:tensorflow:From /usr/local/lib/python3.6/dist-packages/keras/backend/tensorflow_backend.py:3733: calling dropout (from tensorflow.python.ops.nn_ops) with keep_prob is deprecated and will be removed in a future version.\n",
            "Instructions for updating:\n",
            "Please use `rate` instead of `keep_prob`. Rate should be set to `rate = 1 - keep_prob`.\n"
          ],
          "name": "stdout"
        }
      ]
    },
    {
      "cell_type": "code",
      "metadata": {
        "id": "8fS9kmK0PQZh",
        "colab_type": "code",
        "colab": {
          "base_uri": "https://localhost:8080/",
          "height": 156
        },
        "outputId": "b49f252f-c86c-4c20-e8cb-7a156ee941bf"
      },
      "source": [
        "from keras import optimizers\n",
        "\n",
        "model.compile(loss='binary_crossentropy', optimizer=optimizers.RMSprop(lr=1e-4), metrics=['acc'])"
      ],
      "execution_count": 6,
      "outputs": [
        {
          "output_type": "stream",
          "text": [
            "WARNING:tensorflow:From /usr/local/lib/python3.6/dist-packages/keras/optimizers.py:793: The name tf.train.Optimizer is deprecated. Please use tf.compat.v1.train.Optimizer instead.\n",
            "\n",
            "WARNING:tensorflow:From /usr/local/lib/python3.6/dist-packages/keras/backend/tensorflow_backend.py:3657: The name tf.log is deprecated. Please use tf.math.log instead.\n",
            "\n",
            "WARNING:tensorflow:From /usr/local/lib/python3.6/dist-packages/tensorflow_core/python/ops/nn_impl.py:183: where (from tensorflow.python.ops.array_ops) is deprecated and will be removed in a future version.\n",
            "Instructions for updating:\n",
            "Use tf.where in 2.0, which has the same broadcast rule as np.where\n"
          ],
          "name": "stdout"
        }
      ]
    },
    {
      "cell_type": "markdown",
      "metadata": {
        "id": "iuZUilpqWMZd",
        "colab_type": "text"
      },
      "source": [
        "Generator allows you to loop over the training data in pieces(batches), avoiding large memory consumption when you load the entire training set at once"
      ]
    },
    {
      "cell_type": "code",
      "metadata": {
        "id": "SlfETQT_XRzG",
        "colab_type": "code",
        "outputId": "b091a709-6e1d-460c-bf2a-e51746c0d224",
        "colab": {
          "base_uri": "https://localhost:8080/",
          "height": 51
        }
      },
      "source": [
        "from keras.preprocessing.image import ImageDataGenerator\n",
        "\n",
        "train_datagen=ImageDataGenerator(rescale=1./255)\n",
        "validation_datagen=ImageDataGenerator(rescale=1./255)\n",
        "\n",
        "train_generator=train_datagen.flow_from_directory('/content/drive/My Drive/Colab Notebooks/training_2000', target_size=(150,150), batch_size=20, class_mode='binary')\n",
        "validation_generator=validation_datagen.flow_from_directory('/content/drive/My Drive/Colab Notebooks/val_1000', target_size=(150,150), batch_size=20, class_mode='binary')"
      ],
      "execution_count": 7,
      "outputs": [
        {
          "output_type": "stream",
          "text": [
            "Found 2000 images belonging to 2 classes.\n",
            "Found 1000 images belonging to 2 classes.\n"
          ],
          "name": "stdout"
        }
      ]
    },
    {
      "cell_type": "markdown",
      "metadata": {
        "id": "O6__8aH0ZbPv",
        "colab_type": "text"
      },
      "source": [
        "Generators are objects that act as an iterator (for loop). However the generator yields batches indefinitely and we need to break the loop at some point. In our case the train and val generators will yield batches of inputs and targets indefinitely. However we need to know how many samples to draw from the dataset before declaring the epoch is over. The steps_per_epoch argument takes care of this. In our case we have 2000 inputs and it will take 100 x 20 steps to finish 1 epoch."
      ]
    },
    {
      "cell_type": "code",
      "metadata": {
        "id": "Lu-KKjHzXRix",
        "colab_type": "code",
        "outputId": "a68ca224-ae67-4cb1-faa7-e844c8cf22fb",
        "colab": {
          "base_uri": "https://localhost:8080/",
          "height": 1000
        }
      },
      "source": [
        "history = model.fit_generator(train_generator, steps_per_epoch=100, epochs=30, validation_data=validation_generator, validation_steps=20)"
      ],
      "execution_count": 8,
      "outputs": [
        {
          "output_type": "stream",
          "text": [
            "WARNING:tensorflow:From /usr/local/lib/python3.6/dist-packages/keras/backend/tensorflow_backend.py:1033: The name tf.assign_add is deprecated. Please use tf.compat.v1.assign_add instead.\n",
            "\n",
            "WARNING:tensorflow:From /usr/local/lib/python3.6/dist-packages/keras/backend/tensorflow_backend.py:1020: The name tf.assign is deprecated. Please use tf.compat.v1.assign instead.\n",
            "\n",
            "WARNING:tensorflow:From /usr/local/lib/python3.6/dist-packages/keras/backend/tensorflow_backend.py:3005: The name tf.Session is deprecated. Please use tf.compat.v1.Session instead.\n",
            "\n",
            "Epoch 1/30\n",
            "WARNING:tensorflow:From /usr/local/lib/python3.6/dist-packages/keras/backend/tensorflow_backend.py:190: The name tf.get_default_session is deprecated. Please use tf.compat.v1.get_default_session instead.\n",
            "\n",
            "WARNING:tensorflow:From /usr/local/lib/python3.6/dist-packages/keras/backend/tensorflow_backend.py:197: The name tf.ConfigProto is deprecated. Please use tf.compat.v1.ConfigProto instead.\n",
            "\n",
            "WARNING:tensorflow:From /usr/local/lib/python3.6/dist-packages/keras/backend/tensorflow_backend.py:207: The name tf.global_variables is deprecated. Please use tf.compat.v1.global_variables instead.\n",
            "\n",
            "WARNING:tensorflow:From /usr/local/lib/python3.6/dist-packages/keras/backend/tensorflow_backend.py:216: The name tf.is_variable_initialized is deprecated. Please use tf.compat.v1.is_variable_initialized instead.\n",
            "\n",
            "WARNING:tensorflow:From /usr/local/lib/python3.6/dist-packages/keras/backend/tensorflow_backend.py:223: The name tf.variables_initializer is deprecated. Please use tf.compat.v1.variables_initializer instead.\n",
            "\n",
            "100/100 [==============================] - 680s 7s/step - loss: 0.6951 - acc: 0.5220 - val_loss: 0.6852 - val_acc: 0.5075\n",
            "Epoch 2/30\n",
            "100/100 [==============================] - 148s 1s/step - loss: 0.6748 - acc: 0.5760 - val_loss: 0.6698 - val_acc: 0.5750\n",
            "Epoch 3/30\n",
            "100/100 [==============================] - 107s 1s/step - loss: 0.6471 - acc: 0.6195 - val_loss: 0.6365 - val_acc: 0.6450\n",
            "Epoch 4/30\n",
            "100/100 [==============================] - 105s 1s/step - loss: 0.6294 - acc: 0.6450 - val_loss: 0.6298 - val_acc: 0.6475\n",
            "Epoch 5/30\n",
            "100/100 [==============================] - 105s 1s/step - loss: 0.6013 - acc: 0.6705 - val_loss: 0.5929 - val_acc: 0.6600\n",
            "Epoch 6/30\n",
            "100/100 [==============================] - 106s 1s/step - loss: 0.5734 - acc: 0.6975 - val_loss: 0.5966 - val_acc: 0.6650\n",
            "Epoch 7/30\n",
            "100/100 [==============================] - 106s 1s/step - loss: 0.5539 - acc: 0.7160 - val_loss: 0.5722 - val_acc: 0.7025\n",
            "Epoch 8/30\n",
            "100/100 [==============================] - 104s 1s/step - loss: 0.5339 - acc: 0.7360 - val_loss: 0.6153 - val_acc: 0.6825\n",
            "Epoch 9/30\n",
            "100/100 [==============================] - 104s 1s/step - loss: 0.5142 - acc: 0.7425 - val_loss: 0.5617 - val_acc: 0.7300\n",
            "Epoch 10/30\n",
            "100/100 [==============================] - 103s 1s/step - loss: 0.4922 - acc: 0.7665 - val_loss: 0.5735 - val_acc: 0.7025\n",
            "Epoch 11/30\n",
            "100/100 [==============================] - 106s 1s/step - loss: 0.4837 - acc: 0.7715 - val_loss: 0.5708 - val_acc: 0.7125\n",
            "Epoch 12/30\n",
            "100/100 [==============================] - 106s 1s/step - loss: 0.4735 - acc: 0.7805 - val_loss: 0.5545 - val_acc: 0.7400\n",
            "Epoch 13/30\n",
            "100/100 [==============================] - 106s 1s/step - loss: 0.4493 - acc: 0.7905 - val_loss: 0.7530 - val_acc: 0.6325\n",
            "Epoch 14/30\n",
            "100/100 [==============================] - 105s 1s/step - loss: 0.4318 - acc: 0.8015 - val_loss: 0.5805 - val_acc: 0.7150\n",
            "Epoch 15/30\n",
            "100/100 [==============================] - 105s 1s/step - loss: 0.4126 - acc: 0.8115 - val_loss: 0.5233 - val_acc: 0.7475\n",
            "Epoch 16/30\n",
            "100/100 [==============================] - 106s 1s/step - loss: 0.3949 - acc: 0.8205 - val_loss: 0.5047 - val_acc: 0.7450\n",
            "Epoch 17/30\n",
            "100/100 [==============================] - 105s 1s/step - loss: 0.3909 - acc: 0.8310 - val_loss: 0.6041 - val_acc: 0.7200\n",
            "Epoch 18/30\n",
            "100/100 [==============================] - 105s 1s/step - loss: 0.3768 - acc: 0.8355 - val_loss: 0.5272 - val_acc: 0.7750\n",
            "Epoch 19/30\n",
            "100/100 [==============================] - 105s 1s/step - loss: 0.3560 - acc: 0.8440 - val_loss: 0.5562 - val_acc: 0.7350\n",
            "Epoch 20/30\n",
            "100/100 [==============================] - 105s 1s/step - loss: 0.3622 - acc: 0.8310 - val_loss: 0.5617 - val_acc: 0.7325\n",
            "Epoch 21/30\n",
            "100/100 [==============================] - 106s 1s/step - loss: 0.3300 - acc: 0.8665 - val_loss: 0.6233 - val_acc: 0.7150\n",
            "Epoch 22/30\n",
            "100/100 [==============================] - 105s 1s/step - loss: 0.3223 - acc: 0.8550 - val_loss: 0.5004 - val_acc: 0.7600\n",
            "Epoch 23/30\n",
            "100/100 [==============================] - 105s 1s/step - loss: 0.3112 - acc: 0.8750 - val_loss: 0.6171 - val_acc: 0.7425\n",
            "Epoch 24/30\n",
            "100/100 [==============================] - 105s 1s/step - loss: 0.2946 - acc: 0.8755 - val_loss: 0.5419 - val_acc: 0.7450\n",
            "Epoch 25/30\n",
            "100/100 [==============================] - 105s 1s/step - loss: 0.2889 - acc: 0.8830 - val_loss: 0.5373 - val_acc: 0.7650\n",
            "Epoch 26/30\n",
            "100/100 [==============================] - 106s 1s/step - loss: 0.2771 - acc: 0.8820 - val_loss: 0.6393 - val_acc: 0.7450\n",
            "Epoch 27/30\n",
            "100/100 [==============================] - 105s 1s/step - loss: 0.2523 - acc: 0.8965 - val_loss: 0.5322 - val_acc: 0.7700\n",
            "Epoch 28/30\n",
            "100/100 [==============================] - 105s 1s/step - loss: 0.2537 - acc: 0.8985 - val_loss: 0.6306 - val_acc: 0.7475\n",
            "Epoch 29/30\n",
            "100/100 [==============================] - 105s 1s/step - loss: 0.2432 - acc: 0.9045 - val_loss: 0.5533 - val_acc: 0.7725\n",
            "Epoch 30/30\n",
            "100/100 [==============================] - 104s 1s/step - loss: 0.2391 - acc: 0.8980 - val_loss: 0.5447 - val_acc: 0.7675\n"
          ],
          "name": "stdout"
        }
      ]
    },
    {
      "cell_type": "code",
      "metadata": {
        "id": "uxBFfQjwXRVG",
        "colab_type": "code",
        "colab": {}
      },
      "source": [
        "acc=history.history['acc']\n",
        "val_acc=history.history['val_acc']\n",
        "loss=history.history['loss']\n",
        "val_loss=history.history['val_loss']"
      ],
      "execution_count": 0,
      "outputs": []
    },
    {
      "cell_type": "code",
      "metadata": {
        "id": "N7MVm5FeXRLR",
        "colab_type": "code",
        "colab": {}
      },
      "source": [
        "epochs=range(1, len(acc)+1)"
      ],
      "execution_count": 0,
      "outputs": []
    },
    {
      "cell_type": "code",
      "metadata": {
        "id": "3sAK6k2LXRDm",
        "colab_type": "code",
        "outputId": "cef5f7dd-3105-49cb-b208-d3125aebedac",
        "colab": {
          "base_uri": "https://localhost:8080/",
          "height": 545
        }
      },
      "source": [
        "plt.plot(epochs, acc, 'bo', label='training acc')\n",
        "plt.plot(epochs, val_acc, 'b', label='validation acc')\n",
        "plt.title('training and validation accuracy')\n",
        "plt.legend()\n",
        "plt.figure()\n",
        "\n",
        "plt.plot(epochs, loss, 'bo', label='training loss')\n",
        "plt.plot(epochs, val_loss, 'b', label='validation loss')\n",
        "plt.title('training and validation loss')\n",
        "plt.legend()\n",
        "plt.show()"
      ],
      "execution_count": 11,
      "outputs": [
        {
          "output_type": "display_data",
          "data": {
            "image/png": "[encoded data removed]",
            "text/plain": [
              "<Figure size 432x288 with 1 Axes>"
            ]
          },
          "metadata": {
            "tags": []
          }
        },
        {
          "output_type": "display_data",
          "data": {
            "image/png": "[encoded data removed]",
            "text/plain": [
              "<Figure size 432x288 with 1 Axes>"
            ]
          },
          "metadata": {
            "tags": []
          }
        }
      ]
    }
  ]
}