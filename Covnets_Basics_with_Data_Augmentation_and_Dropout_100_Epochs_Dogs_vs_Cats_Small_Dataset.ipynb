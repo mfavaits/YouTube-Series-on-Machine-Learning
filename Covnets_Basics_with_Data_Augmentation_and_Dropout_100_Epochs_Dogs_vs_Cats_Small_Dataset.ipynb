{
  "nbformat": 4,
  "nbformat_minor": 0,
  "metadata": {
    "colab": {
      "name": "Covnets Basics with Data Augmentation and Dropout - 100 Epochs - Dogs vs. Cats - Small Dataset.ipynb",
      "provenance": [],
      "collapsed_sections": [],
      "include_colab_link": true
    },
    "kernelspec": {
      "name": "python3",
      "display_name": "Python 3"
    },
    "accelerator": "TPU"
  },
  "cells": [
    {
      "cell_type": "markdown",
      "metadata": {
        "id": "view-in-github",
        "colab_type": "text"
      },
      "source": [
        "<a href=\"https://colab.research.google.com/github/mfavaits/YouTube-Series-on-Machine-Learning/blob/master/Covnets_Basics_with_Data_Augmentation_and_Dropout_100_Epochs_Dogs_vs_Cats_Small_Dataset.ipynb\" target=\"_parent\"><img src=\"https://colab.research.google.com/assets/colab-badge.svg\" alt=\"Open In Colab\"/></a>"
      ]
    },
    {
      "cell_type": "code",
      "metadata": {
        "id": "wCv4aeLxA1Xr",
        "colab_type": "code",
        "colab": {}
      },
      "source": [
        "import numpy as np\n",
        "import matplotlib.pyplot as plt\n",
        "\n",
        "import os\n",
        "import shutil"
      ],
      "execution_count": 0,
      "outputs": []
    },
    {
      "cell_type": "code",
      "metadata": {
        "id": "JD7vGwSixv_w",
        "colab_type": "code",
        "outputId": "c27b79c0-deca-49dc-9b7a-cbf7ef954314",
        "colab": {
          "base_uri": "https://localhost:8080/",
          "height": 34
        }
      },
      "source": [
        "from google.colab import drive\n",
        "drive.mount('/content/drive')"
      ],
      "execution_count": 5,
      "outputs": [
        {
          "output_type": "stream",
          "text": [
            "Drive already mounted at /content/drive; to attempt to forcibly remount, call drive.mount(\"/content/drive\", force_remount=True).\n"
          ],
          "name": "stdout"
        }
      ]
    },
    {
      "cell_type": "markdown",
      "metadata": {
        "id": "-lpnwgqWqDHf",
        "colab_type": "text"
      },
      "source": [
        "We will split cat and dog images and give them their own directories training_set_cats and training_set_dogs. We will do this by looping through the directory and look for files that start with dog. This process will take a few hours as we need to process 25000 files"
      ]
    },
    {
      "cell_type": "markdown",
      "metadata": {
        "id": "SMYDHmjw9DON",
        "colab_type": "text"
      },
      "source": [
        "Data augmentation is a way to generate more training examples via a few datatransformations so that algorithm does not see the same image twice. Universally used for computer vision "
      ]
    },
    {
      "cell_type": "code",
      "metadata": {
        "id": "rsOA0XcXpIb_",
        "colab_type": "code",
        "colab": {
          "base_uri": "https://localhost:8080/",
          "height": 34
        },
        "outputId": "821c26da-c0d1-4ef1-ba2c-f3fbdc7019da"
      },
      "source": [
        "from keras.preprocessing.image import ImageDataGenerator"
      ],
      "execution_count": 6,
      "outputs": [
        {
          "output_type": "stream",
          "text": [
            "Using TensorFlow backend.\n"
          ],
          "name": "stderr"
        }
      ]
    },
    {
      "cell_type": "code",
      "metadata": {
        "id": "ZgWx3JWqXQ8r",
        "colab_type": "code",
        "colab": {}
      },
      "source": [
        "train_datagen=ImageDataGenerator(rescale=1./255, rotation_range=40, width_shift_range=0.2, height_shift_range=0.2, shear_range=0.2, zoom_range=0.2, horizontal_flip=True, fill_mode='nearest')\n",
        "validation_datagen=ImageDataGenerator(rescale=1./255)"
      ],
      "execution_count": 0,
      "outputs": []
    },
    {
      "cell_type": "code",
      "metadata": {
        "id": "kZOkDoE4XQo_",
        "colab_type": "code",
        "outputId": "e6969d36-0026-4c2b-f530-e21000feb638",
        "colab": {
          "base_uri": "https://localhost:8080/",
          "height": 51
        }
      },
      "source": [
        "train_generator=train_datagen.flow_from_directory('/content/drive/My Drive/Colab Notebooks/training_2000', target_size=(150,150), batch_size=20, class_mode='binary')\n",
        "validation_generator=validation_datagen.flow_from_directory('/content/drive/My Drive/Colab Notebooks/val_1000', target_size=(150,150), batch_size=20, class_mode='binary')"
      ],
      "execution_count": 8,
      "outputs": [
        {
          "output_type": "stream",
          "text": [
            "Found 2000 images belonging to 2 classes.\n",
            "Found 1000 images belonging to 2 classes.\n"
          ],
          "name": "stdout"
        }
      ]
    },
    {
      "cell_type": "code",
      "metadata": {
        "id": "xVz_bzx6Jm1O",
        "colab_type": "code",
        "colab": {
          "base_uri": "https://localhost:8080/",
          "height": 258
        },
        "outputId": "be8a5f43-8052-4da8-9aef-cdb4f6b38d09"
      },
      "source": [
        "from keras import models\n",
        "from keras import layers\n",
        "\n",
        "model=models.Sequential()\n",
        "model.add(layers.Conv2D(32, (3,3), activation='relu', input_shape=(150, 150, 3)))\n",
        "model.add(layers.MaxPooling2D(2,2))\n",
        "model.add(layers.Conv2D(64, (3,3), activation='relu'))\n",
        "model.add(layers.MaxPooling2D(2,2))\n",
        "model.add(layers.Conv2D(128, (3,3), activation='relu'))\n",
        "model.add(layers.MaxPooling2D(2,2))\n",
        "model.add(layers.Conv2D(128, (3,3), activation='relu'))\n",
        "model.add(layers.MaxPooling2D(2,2))\n",
        "model.add(layers.Flatten())\n",
        "model.add(layers.Dropout(0.5))\n",
        "model.add(layers.Dense(512, activation='relu'))\n",
        "model.add(layers.Dense(1, activation='sigmoid'))"
      ],
      "execution_count": 9,
      "outputs": [
        {
          "output_type": "stream",
          "text": [
            "WARNING:tensorflow:From /usr/local/lib/python3.6/dist-packages/keras/backend/tensorflow_backend.py:66: The name tf.get_default_graph is deprecated. Please use tf.compat.v1.get_default_graph instead.\n",
            "\n",
            "WARNING:tensorflow:From /usr/local/lib/python3.6/dist-packages/keras/backend/tensorflow_backend.py:541: The name tf.placeholder is deprecated. Please use tf.compat.v1.placeholder instead.\n",
            "\n",
            "WARNING:tensorflow:From /usr/local/lib/python3.6/dist-packages/keras/backend/tensorflow_backend.py:4432: The name tf.random_uniform is deprecated. Please use tf.random.uniform instead.\n",
            "\n",
            "WARNING:tensorflow:From /usr/local/lib/python3.6/dist-packages/keras/backend/tensorflow_backend.py:4267: The name tf.nn.max_pool is deprecated. Please use tf.nn.max_pool2d instead.\n",
            "\n",
            "WARNING:tensorflow:From /usr/local/lib/python3.6/dist-packages/keras/backend/tensorflow_backend.py:148: The name tf.placeholder_with_default is deprecated. Please use tf.compat.v1.placeholder_with_default instead.\n",
            "\n",
            "WARNING:tensorflow:From /usr/local/lib/python3.6/dist-packages/keras/backend/tensorflow_backend.py:3733: calling dropout (from tensorflow.python.ops.nn_ops) with keep_prob is deprecated and will be removed in a future version.\n",
            "Instructions for updating:\n",
            "Please use `rate` instead of `keep_prob`. Rate should be set to `rate = 1 - keep_prob`.\n"
          ],
          "name": "stdout"
        }
      ]
    },
    {
      "cell_type": "code",
      "metadata": {
        "id": "OJ5pPJezJmx7",
        "colab_type": "code",
        "colab": {
          "base_uri": "https://localhost:8080/",
          "height": 156
        },
        "outputId": "22328577-d8fe-4cbe-8b0f-51cd2e471d19"
      },
      "source": [
        "from keras import optimizers\n",
        "model.compile(loss='binary_crossentropy', optimizer=optimizers.RMSprop(lr=1e-4), metrics=['acc'])"
      ],
      "execution_count": 10,
      "outputs": [
        {
          "output_type": "stream",
          "text": [
            "WARNING:tensorflow:From /usr/local/lib/python3.6/dist-packages/keras/optimizers.py:793: The name tf.train.Optimizer is deprecated. Please use tf.compat.v1.train.Optimizer instead.\n",
            "\n",
            "WARNING:tensorflow:From /usr/local/lib/python3.6/dist-packages/keras/backend/tensorflow_backend.py:3657: The name tf.log is deprecated. Please use tf.math.log instead.\n",
            "\n",
            "WARNING:tensorflow:From /usr/local/lib/python3.6/dist-packages/tensorflow_core/python/ops/nn_impl.py:183: where (from tensorflow.python.ops.array_ops) is deprecated and will be removed in a future version.\n",
            "Instructions for updating:\n",
            "Use tf.where in 2.0, which has the same broadcast rule as np.where\n"
          ],
          "name": "stdout"
        }
      ]
    },
    {
      "cell_type": "code",
      "metadata": {
        "id": "72XdpiJJJmte",
        "colab_type": "code",
        "outputId": "a2086231-0a21-4bc9-cbf4-f02da0584fbd",
        "colab": {
          "base_uri": "https://localhost:8080/",
          "height": 1000
        }
      },
      "source": [
        "history=model.fit_generator(train_generator, steps_per_epoch=100, epochs=100, validation_data=validation_generator, validation_steps=20)"
      ],
      "execution_count": 11,
      "outputs": [
        {
          "output_type": "stream",
          "text": [
            "WARNING:tensorflow:From /usr/local/lib/python3.6/dist-packages/keras/backend/tensorflow_backend.py:1033: The name tf.assign_add is deprecated. Please use tf.compat.v1.assign_add instead.\n",
            "\n",
            "WARNING:tensorflow:From /usr/local/lib/python3.6/dist-packages/keras/backend/tensorflow_backend.py:1020: The name tf.assign is deprecated. Please use tf.compat.v1.assign instead.\n",
            "\n",
            "WARNING:tensorflow:From /usr/local/lib/python3.6/dist-packages/keras/backend/tensorflow_backend.py:3005: The name tf.Session is deprecated. Please use tf.compat.v1.Session instead.\n",
            "\n",
            "Epoch 1/100\n",
            "WARNING:tensorflow:From /usr/local/lib/python3.6/dist-packages/keras/backend/tensorflow_backend.py:190: The name tf.get_default_session is deprecated. Please use tf.compat.v1.get_default_session instead.\n",
            "\n",
            "WARNING:tensorflow:From /usr/local/lib/python3.6/dist-packages/keras/backend/tensorflow_backend.py:197: The name tf.ConfigProto is deprecated. Please use tf.compat.v1.ConfigProto instead.\n",
            "\n",
            "WARNING:tensorflow:From /usr/local/lib/python3.6/dist-packages/keras/backend/tensorflow_backend.py:207: The name tf.global_variables is deprecated. Please use tf.compat.v1.global_variables instead.\n",
            "\n",
            "WARNING:tensorflow:From /usr/local/lib/python3.6/dist-packages/keras/backend/tensorflow_backend.py:216: The name tf.is_variable_initialized is deprecated. Please use tf.compat.v1.is_variable_initialized instead.\n",
            "\n",
            "WARNING:tensorflow:From /usr/local/lib/python3.6/dist-packages/keras/backend/tensorflow_backend.py:223: The name tf.variables_initializer is deprecated. Please use tf.compat.v1.variables_initializer instead.\n",
            "\n",
            "100/100 [==============================] - 462s 5s/step - loss: 0.6960 - acc: 0.4985 - val_loss: 0.6875 - val_acc: 0.5050\n",
            "Epoch 2/100\n",
            "100/100 [==============================] - 148s 1s/step - loss: 0.6885 - acc: 0.5390 - val_loss: 0.6765 - val_acc: 0.5750\n",
            "Epoch 3/100\n",
            "100/100 [==============================] - 124s 1s/step - loss: 0.6827 - acc: 0.5630 - val_loss: 0.6675 - val_acc: 0.6000\n",
            "Epoch 4/100\n",
            "100/100 [==============================] - 125s 1s/step - loss: 0.6693 - acc: 0.5895 - val_loss: 0.6616 - val_acc: 0.5875\n",
            "Epoch 5/100\n",
            "100/100 [==============================] - 119s 1s/step - loss: 0.6617 - acc: 0.6135 - val_loss: 0.6709 - val_acc: 0.6050\n",
            "Epoch 6/100\n",
            "100/100 [==============================] - 120s 1s/step - loss: 0.6609 - acc: 0.5900 - val_loss: 0.6166 - val_acc: 0.6375\n",
            "Epoch 7/100\n",
            "100/100 [==============================] - 117s 1s/step - loss: 0.6484 - acc: 0.6170 - val_loss: 0.6136 - val_acc: 0.6600\n",
            "Epoch 8/100\n",
            "100/100 [==============================] - 115s 1s/step - loss: 0.6345 - acc: 0.6300 - val_loss: 0.6073 - val_acc: 0.6600\n",
            "Epoch 9/100\n",
            "100/100 [==============================] - 114s 1s/step - loss: 0.6328 - acc: 0.6465 - val_loss: 0.6120 - val_acc: 0.6325\n",
            "Epoch 10/100\n",
            "100/100 [==============================] - 112s 1s/step - loss: 0.6216 - acc: 0.6405 - val_loss: 0.5566 - val_acc: 0.7150\n",
            "Epoch 11/100\n",
            "100/100 [==============================] - 112s 1s/step - loss: 0.6265 - acc: 0.6410 - val_loss: 0.5925 - val_acc: 0.6750\n",
            "Epoch 12/100\n",
            "100/100 [==============================] - 112s 1s/step - loss: 0.6149 - acc: 0.6600 - val_loss: 0.5652 - val_acc: 0.7025\n",
            "Epoch 13/100\n",
            "100/100 [==============================] - 114s 1s/step - loss: 0.6171 - acc: 0.6545 - val_loss: 0.5699 - val_acc: 0.7350\n",
            "Epoch 14/100\n",
            "100/100 [==============================] - 114s 1s/step - loss: 0.6126 - acc: 0.6590 - val_loss: 0.5678 - val_acc: 0.7000\n",
            "Epoch 15/100\n",
            "100/100 [==============================] - 112s 1s/step - loss: 0.5995 - acc: 0.6665 - val_loss: 0.5402 - val_acc: 0.7125\n",
            "Epoch 16/100\n",
            "100/100 [==============================] - 114s 1s/step - loss: 0.6055 - acc: 0.6700 - val_loss: 0.6050 - val_acc: 0.6525\n",
            "Epoch 17/100\n",
            "100/100 [==============================] - 113s 1s/step - loss: 0.5925 - acc: 0.6725 - val_loss: 0.6024 - val_acc: 0.6475\n",
            "Epoch 18/100\n",
            "100/100 [==============================] - 113s 1s/step - loss: 0.5917 - acc: 0.6820 - val_loss: 0.5180 - val_acc: 0.7275\n",
            "Epoch 19/100\n",
            "100/100 [==============================] - 113s 1s/step - loss: 0.5897 - acc: 0.6910 - val_loss: 0.5543 - val_acc: 0.7125\n",
            "Epoch 20/100\n",
            "100/100 [==============================] - 114s 1s/step - loss: 0.5878 - acc: 0.6810 - val_loss: 0.5276 - val_acc: 0.7375\n",
            "Epoch 21/100\n",
            "100/100 [==============================] - 116s 1s/step - loss: 0.5850 - acc: 0.6945 - val_loss: 0.6162 - val_acc: 0.6650\n",
            "Epoch 22/100\n",
            "100/100 [==============================] - 114s 1s/step - loss: 0.5868 - acc: 0.6870 - val_loss: 0.5190 - val_acc: 0.7300\n",
            "Epoch 23/100\n",
            "100/100 [==============================] - 115s 1s/step - loss: 0.5770 - acc: 0.7000 - val_loss: 0.5361 - val_acc: 0.7350\n",
            "Epoch 24/100\n",
            "100/100 [==============================] - 116s 1s/step - loss: 0.5711 - acc: 0.7130 - val_loss: 0.5094 - val_acc: 0.7400\n",
            "Epoch 25/100\n",
            "100/100 [==============================] - 116s 1s/step - loss: 0.5712 - acc: 0.7040 - val_loss: 0.5434 - val_acc: 0.7175\n",
            "Epoch 26/100\n",
            "100/100 [==============================] - 116s 1s/step - loss: 0.5722 - acc: 0.7090 - val_loss: 0.5336 - val_acc: 0.7125\n",
            "Epoch 27/100\n",
            "100/100 [==============================] - 115s 1s/step - loss: 0.5706 - acc: 0.6985 - val_loss: 0.5108 - val_acc: 0.7475\n",
            "Epoch 28/100\n",
            "100/100 [==============================] - 116s 1s/step - loss: 0.5628 - acc: 0.7135 - val_loss: 0.5427 - val_acc: 0.7425\n",
            "Epoch 29/100\n",
            "100/100 [==============================] - 116s 1s/step - loss: 0.5555 - acc: 0.7185 - val_loss: 0.4889 - val_acc: 0.7475\n",
            "Epoch 30/100\n",
            "100/100 [==============================] - 115s 1s/step - loss: 0.5474 - acc: 0.7255 - val_loss: 0.5217 - val_acc: 0.7550\n",
            "Epoch 31/100\n",
            "100/100 [==============================] - 115s 1s/step - loss: 0.5530 - acc: 0.7125 - val_loss: 0.4996 - val_acc: 0.7475\n",
            "Epoch 32/100\n",
            "100/100 [==============================] - 115s 1s/step - loss: 0.5547 - acc: 0.7230 - val_loss: 0.8392 - val_acc: 0.5850\n",
            "Epoch 33/100\n",
            "100/100 [==============================] - 116s 1s/step - loss: 0.5473 - acc: 0.7255 - val_loss: 0.5184 - val_acc: 0.7450\n",
            "Epoch 34/100\n",
            "100/100 [==============================] - 119s 1s/step - loss: 0.5381 - acc: 0.7320 - val_loss: 0.4899 - val_acc: 0.7625\n",
            "Epoch 35/100\n",
            "100/100 [==============================] - 118s 1s/step - loss: 0.5314 - acc: 0.7340 - val_loss: 0.5266 - val_acc: 0.7375\n",
            "Epoch 36/100\n",
            "100/100 [==============================] - 117s 1s/step - loss: 0.5456 - acc: 0.7250 - val_loss: 0.4974 - val_acc: 0.7500\n",
            "Epoch 37/100\n",
            "100/100 [==============================] - 115s 1s/step - loss: 0.5362 - acc: 0.7370 - val_loss: 0.5221 - val_acc: 0.7550\n",
            "Epoch 38/100\n",
            "100/100 [==============================] - 113s 1s/step - loss: 0.5391 - acc: 0.7265 - val_loss: 0.5036 - val_acc: 0.7425\n",
            "Epoch 39/100\n",
            "100/100 [==============================] - 114s 1s/step - loss: 0.5340 - acc: 0.7350 - val_loss: 0.5730 - val_acc: 0.7200\n",
            "Epoch 40/100\n",
            "100/100 [==============================] - 112s 1s/step - loss: 0.5272 - acc: 0.7405 - val_loss: 0.4743 - val_acc: 0.7625\n",
            "Epoch 41/100\n",
            "100/100 [==============================] - 113s 1s/step - loss: 0.5350 - acc: 0.7375 - val_loss: 0.4676 - val_acc: 0.7650\n",
            "Epoch 42/100\n",
            "100/100 [==============================] - 114s 1s/step - loss: 0.5218 - acc: 0.7375 - val_loss: 0.5877 - val_acc: 0.7250\n",
            "Epoch 43/100\n",
            "100/100 [==============================] - 113s 1s/step - loss: 0.5358 - acc: 0.7320 - val_loss: 0.4259 - val_acc: 0.8100\n",
            "Epoch 44/100\n",
            "100/100 [==============================] - 113s 1s/step - loss: 0.5270 - acc: 0.7395 - val_loss: 0.5299 - val_acc: 0.7500\n",
            "Epoch 45/100\n",
            "100/100 [==============================] - 114s 1s/step - loss: 0.5191 - acc: 0.7495 - val_loss: 0.5541 - val_acc: 0.7225\n",
            "Epoch 46/100\n",
            "100/100 [==============================] - 115s 1s/step - loss: 0.5308 - acc: 0.7360 - val_loss: 0.5212 - val_acc: 0.7575\n",
            "Epoch 47/100\n",
            "100/100 [==============================] - 115s 1s/step - loss: 0.5113 - acc: 0.7510 - val_loss: 0.4614 - val_acc: 0.7775\n",
            "Epoch 48/100\n",
            "100/100 [==============================] - 114s 1s/step - loss: 0.5253 - acc: 0.7415 - val_loss: 0.4594 - val_acc: 0.7925\n",
            "Epoch 49/100\n",
            "100/100 [==============================] - 113s 1s/step - loss: 0.5106 - acc: 0.7485 - val_loss: 0.4984 - val_acc: 0.7575\n",
            "Epoch 50/100\n",
            "100/100 [==============================] - 112s 1s/step - loss: 0.5088 - acc: 0.7500 - val_loss: 0.5183 - val_acc: 0.7525\n",
            "Epoch 51/100\n",
            "100/100 [==============================] - 113s 1s/step - loss: 0.5193 - acc: 0.7555 - val_loss: 0.4599 - val_acc: 0.8150\n",
            "Epoch 52/100\n",
            "100/100 [==============================] - 112s 1s/step - loss: 0.5161 - acc: 0.7585 - val_loss: 0.5770 - val_acc: 0.7175\n",
            "Epoch 53/100\n",
            "100/100 [==============================] - 113s 1s/step - loss: 0.5020 - acc: 0.7615 - val_loss: 0.4671 - val_acc: 0.7800\n",
            "Epoch 54/100\n",
            "100/100 [==============================] - 112s 1s/step - loss: 0.5162 - acc: 0.7415 - val_loss: 0.5077 - val_acc: 0.7525\n",
            "Epoch 55/100\n",
            "100/100 [==============================] - 112s 1s/step - loss: 0.5076 - acc: 0.7645 - val_loss: 0.4549 - val_acc: 0.7775\n",
            "Epoch 56/100\n",
            "100/100 [==============================] - 113s 1s/step - loss: 0.5035 - acc: 0.7545 - val_loss: 0.4723 - val_acc: 0.7750\n",
            "Epoch 57/100\n",
            "100/100 [==============================] - 114s 1s/step - loss: 0.5083 - acc: 0.7600 - val_loss: 0.4783 - val_acc: 0.7825\n",
            "Epoch 58/100\n",
            "100/100 [==============================] - 114s 1s/step - loss: 0.4905 - acc: 0.7720 - val_loss: 0.3739 - val_acc: 0.8225\n",
            "Epoch 59/100\n",
            "100/100 [==============================] - 113s 1s/step - loss: 0.4810 - acc: 0.7710 - val_loss: 0.5088 - val_acc: 0.7525\n",
            "Epoch 60/100\n",
            "100/100 [==============================] - 113s 1s/step - loss: 0.5015 - acc: 0.7500 - val_loss: 0.4613 - val_acc: 0.7925\n",
            "Epoch 61/100\n",
            "100/100 [==============================] - 115s 1s/step - loss: 0.4966 - acc: 0.7600 - val_loss: 0.4494 - val_acc: 0.7975\n",
            "Epoch 62/100\n",
            "100/100 [==============================] - 114s 1s/step - loss: 0.4911 - acc: 0.7760 - val_loss: 0.4555 - val_acc: 0.7800\n",
            "Epoch 63/100\n",
            "100/100 [==============================] - 114s 1s/step - loss: 0.4934 - acc: 0.7620 - val_loss: 0.4482 - val_acc: 0.8000\n",
            "Epoch 64/100\n",
            "100/100 [==============================] - 114s 1s/step - loss: 0.4961 - acc: 0.7600 - val_loss: 0.5867 - val_acc: 0.7325\n",
            "Epoch 65/100\n",
            "100/100 [==============================] - 115s 1s/step - loss: 0.4815 - acc: 0.7755 - val_loss: 0.4094 - val_acc: 0.8275\n",
            "Epoch 66/100\n",
            "100/100 [==============================] - 115s 1s/step - loss: 0.4802 - acc: 0.7695 - val_loss: 0.4729 - val_acc: 0.7800\n",
            "Epoch 67/100\n",
            "100/100 [==============================] - 116s 1s/step - loss: 0.4830 - acc: 0.7705 - val_loss: 0.4680 - val_acc: 0.7825\n",
            "Epoch 68/100\n",
            "100/100 [==============================] - 116s 1s/step - loss: 0.4802 - acc: 0.7735 - val_loss: 0.4901 - val_acc: 0.8150\n",
            "Epoch 69/100\n",
            "100/100 [==============================] - 117s 1s/step - loss: 0.4821 - acc: 0.7700 - val_loss: 0.4867 - val_acc: 0.7775\n",
            "Epoch 70/100\n",
            "100/100 [==============================] - 116s 1s/step - loss: 0.4705 - acc: 0.7775 - val_loss: 0.4471 - val_acc: 0.7750\n",
            "Epoch 71/100\n",
            "100/100 [==============================] - 118s 1s/step - loss: 0.4647 - acc: 0.7855 - val_loss: 0.5355 - val_acc: 0.7450\n",
            "Epoch 72/100\n",
            "100/100 [==============================] - 118s 1s/step - loss: 0.4823 - acc: 0.7730 - val_loss: 0.4378 - val_acc: 0.8150\n",
            "Epoch 73/100\n",
            "100/100 [==============================] - 116s 1s/step - loss: 0.5000 - acc: 0.7640 - val_loss: 0.4477 - val_acc: 0.7950\n",
            "Epoch 74/100\n",
            "100/100 [==============================] - 119s 1s/step - loss: 0.4709 - acc: 0.7740 - val_loss: 0.5102 - val_acc: 0.7725\n",
            "Epoch 75/100\n",
            "100/100 [==============================] - 120s 1s/step - loss: 0.4641 - acc: 0.7800 - val_loss: 0.4405 - val_acc: 0.8275\n",
            "Epoch 76/100\n",
            "100/100 [==============================] - 118s 1s/step - loss: 0.4732 - acc: 0.7765 - val_loss: 0.4667 - val_acc: 0.7700\n",
            "Epoch 77/100\n",
            "100/100 [==============================] - 117s 1s/step - loss: 0.4746 - acc: 0.7755 - val_loss: 0.4153 - val_acc: 0.8150\n",
            "Epoch 78/100\n",
            "100/100 [==============================] - 116s 1s/step - loss: 0.4752 - acc: 0.7825 - val_loss: 0.5028 - val_acc: 0.7625\n",
            "Epoch 79/100\n",
            "100/100 [==============================] - 115s 1s/step - loss: 0.4606 - acc: 0.7735 - val_loss: 0.4412 - val_acc: 0.8075\n",
            "Epoch 80/100\n",
            "100/100 [==============================] - 116s 1s/step - loss: 0.4664 - acc: 0.7935 - val_loss: 0.4822 - val_acc: 0.7650\n",
            "Epoch 81/100\n",
            "100/100 [==============================] - 114s 1s/step - loss: 0.4702 - acc: 0.7825 - val_loss: 0.4191 - val_acc: 0.8250\n",
            "Epoch 82/100\n",
            "100/100 [==============================] - 113s 1s/step - loss: 0.4674 - acc: 0.7825 - val_loss: 0.5892 - val_acc: 0.7275\n",
            "Epoch 83/100\n",
            "100/100 [==============================] - 114s 1s/step - loss: 0.4524 - acc: 0.7845 - val_loss: 0.4938 - val_acc: 0.8100\n",
            "Epoch 84/100\n",
            "100/100 [==============================] - 114s 1s/step - loss: 0.4540 - acc: 0.7810 - val_loss: 0.4904 - val_acc: 0.8175\n",
            "Epoch 85/100\n",
            "100/100 [==============================] - 113s 1s/step - loss: 0.4642 - acc: 0.7900 - val_loss: 0.5170 - val_acc: 0.7500\n",
            "Epoch 86/100\n",
            "100/100 [==============================] - 115s 1s/step - loss: 0.4546 - acc: 0.7875 - val_loss: 0.4795 - val_acc: 0.7825\n",
            "Epoch 87/100\n",
            "100/100 [==============================] - 115s 1s/step - loss: 0.4679 - acc: 0.7860 - val_loss: 0.3917 - val_acc: 0.8500\n",
            "Epoch 88/100\n",
            "100/100 [==============================] - 114s 1s/step - loss: 0.4584 - acc: 0.7935 - val_loss: 0.4227 - val_acc: 0.7975\n",
            "Epoch 89/100\n",
            "100/100 [==============================] - 113s 1s/step - loss: 0.4653 - acc: 0.7855 - val_loss: 0.5065 - val_acc: 0.7800\n",
            "Epoch 90/100\n",
            "100/100 [==============================] - 113s 1s/step - loss: 0.4411 - acc: 0.7945 - val_loss: 0.4682 - val_acc: 0.8050\n",
            "Epoch 91/100\n",
            "100/100 [==============================] - 115s 1s/step - loss: 0.4463 - acc: 0.8000 - val_loss: 0.4256 - val_acc: 0.8200\n",
            "Epoch 92/100\n",
            "100/100 [==============================] - 114s 1s/step - loss: 0.4546 - acc: 0.7890 - val_loss: 0.5214 - val_acc: 0.7925\n",
            "Epoch 93/100\n",
            "100/100 [==============================] - 113s 1s/step - loss: 0.4577 - acc: 0.7910 - val_loss: 0.4485 - val_acc: 0.8075\n",
            "Epoch 94/100\n",
            "100/100 [==============================] - 114s 1s/step - loss: 0.4489 - acc: 0.7825 - val_loss: 0.4439 - val_acc: 0.7800\n",
            "Epoch 95/100\n",
            "100/100 [==============================] - 115s 1s/step - loss: 0.4512 - acc: 0.7950 - val_loss: 0.4172 - val_acc: 0.8250\n",
            "Epoch 96/100\n",
            "100/100 [==============================] - 115s 1s/step - loss: 0.4406 - acc: 0.7985 - val_loss: 0.4391 - val_acc: 0.8150\n",
            "Epoch 97/100\n",
            "100/100 [==============================] - 114s 1s/step - loss: 0.4394 - acc: 0.7970 - val_loss: 0.5393 - val_acc: 0.7750\n",
            "Epoch 98/100\n",
            "100/100 [==============================] - 114s 1s/step - loss: 0.4327 - acc: 0.8020 - val_loss: 0.5168 - val_acc: 0.7950\n",
            "Epoch 99/100\n",
            "100/100 [==============================] - 114s 1s/step - loss: 0.4331 - acc: 0.7965 - val_loss: 0.4786 - val_acc: 0.7750\n",
            "Epoch 100/100\n",
            "100/100 [==============================] - 113s 1s/step - loss: 0.4469 - acc: 0.7945 - val_loss: 0.4542 - val_acc: 0.7925\n"
          ],
          "name": "stdout"
        }
      ]
    },
    {
      "cell_type": "code",
      "metadata": {
        "id": "P16LG6H3jy35",
        "colab_type": "code",
        "colab": {}
      },
      "source": [
        "acc=history.history['acc']\n",
        "val_acc=history.history['val_acc']\n",
        "loss=history.history['loss']\n",
        "val_loss=history.history['val_loss']"
      ],
      "execution_count": 0,
      "outputs": []
    },
    {
      "cell_type": "code",
      "metadata": {
        "id": "jbZiYFQvj7rr",
        "colab_type": "code",
        "colab": {}
      },
      "source": [
        "epochs=range(1, len(acc)+1)"
      ],
      "execution_count": 0,
      "outputs": []
    },
    {
      "cell_type": "code",
      "metadata": {
        "id": "8_A2bLRIj8gW",
        "colab_type": "code",
        "outputId": "3ad55e91-1c6e-4e33-8833-c2c039c4d1c1",
        "colab": {
          "base_uri": "https://localhost:8080/",
          "height": 545
        }
      },
      "source": [
        "plt.plot(epochs, acc, 'bo', label='training acc')\n",
        "plt.plot(epochs, val_acc, 'b', label='validation acc')\n",
        "plt.title('training and validation accuracy')\n",
        "plt.legend()\n",
        "plt.figure()\n",
        "\n",
        "plt.plot(epochs, loss, 'bo', label='training loss')\n",
        "plt.plot(epochs, val_loss, 'b', label='validation loss')\n",
        "plt.title('training and validation loss')\n",
        "plt.legend()\n",
        "plt.show()"
      ],
      "execution_count": 14,
      "outputs": [
        {
          "output_type": "display_data",
          "data": {
            "image/png": "[encoded data removed]",
            "text/plain": [
              "<Figure size 432x288 with 1 Axes>"
            ]
          },
          "metadata": {
            "tags": []
          }
        },
        {
          "output_type": "display_data",
          "data": {
            "image/png": "[encoded data removed]",
            "text/plain": [
              "<Figure size 432x288 with 1 Axes>"
            ]
          },
          "metadata": {
            "tags": []
          }
        }
      ]
    }
  ]
}